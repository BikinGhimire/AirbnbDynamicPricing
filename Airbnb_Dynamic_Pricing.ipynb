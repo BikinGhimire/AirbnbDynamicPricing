{
 "cells": [
  {
   "cell_type": "markdown",
   "metadata": {
    "id": "sSB07Z_xSp3N"
   },
   "source": [
    "## Data Ingestion and Preprocessing"
   ]
  },
  {
   "cell_type": "code",
   "execution_count": 106,
   "metadata": {
    "ExecuteTime": {
     "end_time": "2024-07-18T22:19:16.782802Z",
     "start_time": "2024-07-18T22:19:16.774604Z"
    },
    "id": "O_5xCJCrV86t"
   },
   "outputs": [],
   "source": [
    "# Importing necessary libraries\n",
    "import pandas as pd\n",
    "import numpy as np\n",
    "import seaborn as sns\n",
    "import matplotlib.pyplot as plt\n",
    "import warnings\n",
    "warnings.filterwarnings('ignore')"
   ]
  },
  {
   "cell_type": "code",
   "execution_count": 107,
   "metadata": {
    "ExecuteTime": {
     "end_time": "2024-07-18T22:19:18.535255Z",
     "start_time": "2024-07-18T22:19:17.064751Z"
    },
    "id": "_fhfALEKQ_km"
   },
   "outputs": [],
   "source": [
    "# Loading airbnb data of 8 cities\n",
    "montreal = pd.read_csv('Dataset/Airbnb/Montreal.csv')\n",
    "newbrunswick = pd.read_csv('Dataset/Airbnb/NewBrunswick.csv')\n",
    "ottawa = pd.read_csv('Dataset/Airbnb/Ottawa.csv')\n",
    "quebeccity = pd.read_csv('Dataset/Airbnb/QuebecCity.csv')\n",
    "toronto = pd.read_csv('Dataset/Airbnb/Toronto.csv')\n",
    "vancouver = pd.read_csv('Dataset/Airbnb/Vancouver.csv')\n",
    "victoria = pd.read_csv('Dataset/Airbnb/Victoria.csv')\n",
    "winnipeg = pd.read_csv('Dataset/Airbnb/Winnipeg.csv')\n",
    "\n",
    "\n",
    "# Adding a City column to each dataframes\n",
    "montreal['City'] = 'Montreal'\n",
    "newbrunswick['City'] = 'New Brunswick'\n",
    "ottawa['City'] = 'Ottawa'\n",
    "quebeccity['City'] = 'Quebec City'\n",
    "toronto['City'] = 'Toronto'\n",
    "vancouver['City'] = 'Vancouver'\n",
    "victoria['City'] = 'Victoria'\n",
    "winnipeg['City'] = 'Winnipeg'\n",
    "\n",
    "# Merging data from different cities to a single dataframe\n",
    "airbnb_df = pd.concat([montreal, newbrunswick, ottawa, quebeccity, toronto, vancouver, victoria, winnipeg], ignore_index=True)"
   ]
  },
  {
   "cell_type": "code",
   "execution_count": 108,
   "metadata": {
    "ExecuteTime": {
     "end_time": "2024-07-18T22:19:18.622918Z",
     "start_time": "2024-07-18T22:19:18.536914Z"
    },
    "colab": {
     "base_uri": "https://localhost:8080/",
     "height": 350
    },
    "id": "g68e2JNTULmr",
    "outputId": "3393d16c-421a-473f-f267-a19fcaaa4232"
   },
   "outputs": [
    {
     "data": {
      "text/html": [
       "<div>\n",
       "<style scoped>\n",
       "    .dataframe tbody tr th:only-of-type {\n",
       "        vertical-align: middle;\n",
       "    }\n",
       "\n",
       "    .dataframe tbody tr th {\n",
       "        vertical-align: top;\n",
       "    }\n",
       "\n",
       "    .dataframe thead th {\n",
       "        text-align: right;\n",
       "    }\n",
       "</style>\n",
       "<table border=\"1\" class=\"dataframe\">\n",
       "  <thead>\n",
       "    <tr style=\"text-align: right;\">\n",
       "      <th></th>\n",
       "      <th>id</th>\n",
       "      <th>scrape_id</th>\n",
       "      <th>host_id</th>\n",
       "      <th>host_listings_count</th>\n",
       "      <th>host_total_listings_count</th>\n",
       "      <th>latitude</th>\n",
       "      <th>longitude</th>\n",
       "      <th>accommodates</th>\n",
       "      <th>bathrooms</th>\n",
       "      <th>bedrooms</th>\n",
       "      <th>...</th>\n",
       "      <th>review_scores_cleanliness</th>\n",
       "      <th>review_scores_checkin</th>\n",
       "      <th>review_scores_communication</th>\n",
       "      <th>review_scores_location</th>\n",
       "      <th>review_scores_value</th>\n",
       "      <th>calculated_host_listings_count</th>\n",
       "      <th>calculated_host_listings_count_entire_homes</th>\n",
       "      <th>calculated_host_listings_count_private_rooms</th>\n",
       "      <th>calculated_host_listings_count_shared_rooms</th>\n",
       "      <th>reviews_per_month</th>\n",
       "    </tr>\n",
       "  </thead>\n",
       "  <tbody>\n",
       "    <tr>\n",
       "      <th>count</th>\n",
       "      <td>4.963600e+04</td>\n",
       "      <td>4.963600e+04</td>\n",
       "      <td>4.963600e+04</td>\n",
       "      <td>49634.000000</td>\n",
       "      <td>49634.000000</td>\n",
       "      <td>49636.000000</td>\n",
       "      <td>49636.000000</td>\n",
       "      <td>49636.000000</td>\n",
       "      <td>41614.000000</td>\n",
       "      <td>47525.000000</td>\n",
       "      <td>...</td>\n",
       "      <td>39411.000000</td>\n",
       "      <td>39409.000000</td>\n",
       "      <td>39410.000000</td>\n",
       "      <td>39408.000000</td>\n",
       "      <td>39408.000000</td>\n",
       "      <td>49636.000000</td>\n",
       "      <td>49636.000000</td>\n",
       "      <td>49636.000000</td>\n",
       "      <td>49636.000000</td>\n",
       "      <td>39455.000000</td>\n",
       "    </tr>\n",
       "    <tr>\n",
       "      <th>mean</th>\n",
       "      <td>4.951017e+17</td>\n",
       "      <td>2.024044e+13</td>\n",
       "      <td>2.105296e+08</td>\n",
       "      <td>11.428295</td>\n",
       "      <td>17.965447</td>\n",
       "      <td>45.707282</td>\n",
       "      <td>-86.409358</td>\n",
       "      <td>3.524438</td>\n",
       "      <td>1.285108</td>\n",
       "      <td>1.579611</td>\n",
       "      <td>...</td>\n",
       "      <td>4.761674</td>\n",
       "      <td>4.858577</td>\n",
       "      <td>4.865958</td>\n",
       "      <td>4.818533</td>\n",
       "      <td>4.702363</td>\n",
       "      <td>7.261181</td>\n",
       "      <td>5.442683</td>\n",
       "      <td>1.745890</td>\n",
       "      <td>0.045350</td>\n",
       "      <td>1.565113</td>\n",
       "    </tr>\n",
       "    <tr>\n",
       "      <th>std</th>\n",
       "      <td>4.590541e+17</td>\n",
       "      <td>8.492157e+07</td>\n",
       "      <td>1.879092e+08</td>\n",
       "      <td>38.390107</td>\n",
       "      <td>62.737442</td>\n",
       "      <td>2.160301</td>\n",
       "      <td>19.477610</td>\n",
       "      <td>2.267403</td>\n",
       "      <td>0.691533</td>\n",
       "      <td>1.035723</td>\n",
       "      <td>...</td>\n",
       "      <td>0.385802</td>\n",
       "      <td>0.313433</td>\n",
       "      <td>0.314090</td>\n",
       "      <td>0.285152</td>\n",
       "      <td>0.393191</td>\n",
       "      <td>16.049818</td>\n",
       "      <td>14.697855</td>\n",
       "      <td>6.346418</td>\n",
       "      <td>0.750822</td>\n",
       "      <td>1.860575</td>\n",
       "    </tr>\n",
       "    <tr>\n",
       "      <th>min</th>\n",
       "      <td>1.419000e+03</td>\n",
       "      <td>2.024032e+13</td>\n",
       "      <td>1.565000e+03</td>\n",
       "      <td>1.000000</td>\n",
       "      <td>1.000000</td>\n",
       "      <td>43.585750</td>\n",
       "      <td>-124.421850</td>\n",
       "      <td>1.000000</td>\n",
       "      <td>0.000000</td>\n",
       "      <td>0.000000</td>\n",
       "      <td>...</td>\n",
       "      <td>0.000000</td>\n",
       "      <td>0.000000</td>\n",
       "      <td>0.000000</td>\n",
       "      <td>0.000000</td>\n",
       "      <td>0.000000</td>\n",
       "      <td>1.000000</td>\n",
       "      <td>0.000000</td>\n",
       "      <td>0.000000</td>\n",
       "      <td>0.000000</td>\n",
       "      <td>0.010000</td>\n",
       "    </tr>\n",
       "    <tr>\n",
       "      <th>25%</th>\n",
       "      <td>3.509048e+07</td>\n",
       "      <td>2.024032e+13</td>\n",
       "      <td>3.825061e+07</td>\n",
       "      <td>1.000000</td>\n",
       "      <td>1.000000</td>\n",
       "      <td>43.674331</td>\n",
       "      <td>-79.558415</td>\n",
       "      <td>2.000000</td>\n",
       "      <td>1.000000</td>\n",
       "      <td>1.000000</td>\n",
       "      <td>...</td>\n",
       "      <td>4.690000</td>\n",
       "      <td>4.840000</td>\n",
       "      <td>4.860000</td>\n",
       "      <td>4.750000</td>\n",
       "      <td>4.630000</td>\n",
       "      <td>1.000000</td>\n",
       "      <td>1.000000</td>\n",
       "      <td>0.000000</td>\n",
       "      <td>0.000000</td>\n",
       "      <td>0.290000</td>\n",
       "    </tr>\n",
       "    <tr>\n",
       "      <th>50%</th>\n",
       "      <td>6.506540e+17</td>\n",
       "      <td>2.024050e+13</td>\n",
       "      <td>1.482152e+08</td>\n",
       "      <td>2.000000</td>\n",
       "      <td>3.000000</td>\n",
       "      <td>45.464161</td>\n",
       "      <td>-79.387940</td>\n",
       "      <td>3.000000</td>\n",
       "      <td>1.000000</td>\n",
       "      <td>1.000000</td>\n",
       "      <td>...</td>\n",
       "      <td>4.880000</td>\n",
       "      <td>4.950000</td>\n",
       "      <td>4.960000</td>\n",
       "      <td>4.900000</td>\n",
       "      <td>4.800000</td>\n",
       "      <td>2.000000</td>\n",
       "      <td>1.000000</td>\n",
       "      <td>0.000000</td>\n",
       "      <td>0.000000</td>\n",
       "      <td>0.900000</td>\n",
       "    </tr>\n",
       "    <tr>\n",
       "      <th>75%</th>\n",
       "      <td>9.335297e+17</td>\n",
       "      <td>2.024051e+13</td>\n",
       "      <td>3.899223e+08</td>\n",
       "      <td>6.000000</td>\n",
       "      <td>9.000000</td>\n",
       "      <td>47.364125</td>\n",
       "      <td>-73.606614</td>\n",
       "      <td>4.000000</td>\n",
       "      <td>1.500000</td>\n",
       "      <td>2.000000</td>\n",
       "      <td>...</td>\n",
       "      <td>5.000000</td>\n",
       "      <td>5.000000</td>\n",
       "      <td>5.000000</td>\n",
       "      <td>5.000000</td>\n",
       "      <td>4.930000</td>\n",
       "      <td>5.000000</td>\n",
       "      <td>2.000000</td>\n",
       "      <td>1.000000</td>\n",
       "      <td>0.000000</td>\n",
       "      <td>2.250000</td>\n",
       "    </tr>\n",
       "    <tr>\n",
       "      <th>max</th>\n",
       "      <td>1.151772e+18</td>\n",
       "      <td>2.024051e+13</td>\n",
       "      <td>5.764085e+08</td>\n",
       "      <td>692.000000</td>\n",
       "      <td>2046.000000</td>\n",
       "      <td>49.973760</td>\n",
       "      <td>-63.775060</td>\n",
       "      <td>16.000000</td>\n",
       "      <td>46.000000</td>\n",
       "      <td>50.000000</td>\n",
       "      <td>...</td>\n",
       "      <td>5.000000</td>\n",
       "      <td>5.000000</td>\n",
       "      <td>5.000000</td>\n",
       "      <td>5.000000</td>\n",
       "      <td>5.000000</td>\n",
       "      <td>123.000000</td>\n",
       "      <td>123.000000</td>\n",
       "      <td>92.000000</td>\n",
       "      <td>24.000000</td>\n",
       "      <td>57.170000</td>\n",
       "    </tr>\n",
       "  </tbody>\n",
       "</table>\n",
       "<p>8 rows × 39 columns</p>\n",
       "</div>"
      ],
      "text/plain": [
       "                 id     scrape_id       host_id  host_listings_count  \\\n",
       "count  4.963600e+04  4.963600e+04  4.963600e+04         49634.000000   \n",
       "mean   4.951017e+17  2.024044e+13  2.105296e+08            11.428295   \n",
       "std    4.590541e+17  8.492157e+07  1.879092e+08            38.390107   \n",
       "min    1.419000e+03  2.024032e+13  1.565000e+03             1.000000   \n",
       "25%    3.509048e+07  2.024032e+13  3.825061e+07             1.000000   \n",
       "50%    6.506540e+17  2.024050e+13  1.482152e+08             2.000000   \n",
       "75%    9.335297e+17  2.024051e+13  3.899223e+08             6.000000   \n",
       "max    1.151772e+18  2.024051e+13  5.764085e+08           692.000000   \n",
       "\n",
       "       host_total_listings_count      latitude     longitude  accommodates  \\\n",
       "count               49634.000000  49636.000000  49636.000000  49636.000000   \n",
       "mean                   17.965447     45.707282    -86.409358      3.524438   \n",
       "std                    62.737442      2.160301     19.477610      2.267403   \n",
       "min                     1.000000     43.585750   -124.421850      1.000000   \n",
       "25%                     1.000000     43.674331    -79.558415      2.000000   \n",
       "50%                     3.000000     45.464161    -79.387940      3.000000   \n",
       "75%                     9.000000     47.364125    -73.606614      4.000000   \n",
       "max                  2046.000000     49.973760    -63.775060     16.000000   \n",
       "\n",
       "          bathrooms      bedrooms  ...  review_scores_cleanliness  \\\n",
       "count  41614.000000  47525.000000  ...               39411.000000   \n",
       "mean       1.285108      1.579611  ...                   4.761674   \n",
       "std        0.691533      1.035723  ...                   0.385802   \n",
       "min        0.000000      0.000000  ...                   0.000000   \n",
       "25%        1.000000      1.000000  ...                   4.690000   \n",
       "50%        1.000000      1.000000  ...                   4.880000   \n",
       "75%        1.500000      2.000000  ...                   5.000000   \n",
       "max       46.000000     50.000000  ...                   5.000000   \n",
       "\n",
       "       review_scores_checkin  review_scores_communication  \\\n",
       "count           39409.000000                 39410.000000   \n",
       "mean                4.858577                     4.865958   \n",
       "std                 0.313433                     0.314090   \n",
       "min                 0.000000                     0.000000   \n",
       "25%                 4.840000                     4.860000   \n",
       "50%                 4.950000                     4.960000   \n",
       "75%                 5.000000                     5.000000   \n",
       "max                 5.000000                     5.000000   \n",
       "\n",
       "       review_scores_location  review_scores_value  \\\n",
       "count            39408.000000         39408.000000   \n",
       "mean                 4.818533             4.702363   \n",
       "std                  0.285152             0.393191   \n",
       "min                  0.000000             0.000000   \n",
       "25%                  4.750000             4.630000   \n",
       "50%                  4.900000             4.800000   \n",
       "75%                  5.000000             4.930000   \n",
       "max                  5.000000             5.000000   \n",
       "\n",
       "       calculated_host_listings_count  \\\n",
       "count                    49636.000000   \n",
       "mean                         7.261181   \n",
       "std                         16.049818   \n",
       "min                          1.000000   \n",
       "25%                          1.000000   \n",
       "50%                          2.000000   \n",
       "75%                          5.000000   \n",
       "max                        123.000000   \n",
       "\n",
       "       calculated_host_listings_count_entire_homes  \\\n",
       "count                                 49636.000000   \n",
       "mean                                      5.442683   \n",
       "std                                      14.697855   \n",
       "min                                       0.000000   \n",
       "25%                                       1.000000   \n",
       "50%                                       1.000000   \n",
       "75%                                       2.000000   \n",
       "max                                     123.000000   \n",
       "\n",
       "       calculated_host_listings_count_private_rooms  \\\n",
       "count                                  49636.000000   \n",
       "mean                                       1.745890   \n",
       "std                                        6.346418   \n",
       "min                                        0.000000   \n",
       "25%                                        0.000000   \n",
       "50%                                        0.000000   \n",
       "75%                                        1.000000   \n",
       "max                                       92.000000   \n",
       "\n",
       "       calculated_host_listings_count_shared_rooms  reviews_per_month  \n",
       "count                                 49636.000000       39455.000000  \n",
       "mean                                      0.045350           1.565113  \n",
       "std                                       0.750822           1.860575  \n",
       "min                                       0.000000           0.010000  \n",
       "25%                                       0.000000           0.290000  \n",
       "50%                                       0.000000           0.900000  \n",
       "75%                                       0.000000           2.250000  \n",
       "max                                      24.000000          57.170000  \n",
       "\n",
       "[8 rows x 39 columns]"
      ]
     },
     "execution_count": 108,
     "metadata": {},
     "output_type": "execute_result"
    }
   ],
   "source": [
    "airbnb_df.describe()"
   ]
  },
  {
   "cell_type": "code",
   "execution_count": 109,
   "metadata": {
    "ExecuteTime": {
     "end_time": "2024-07-18T22:19:18.677890Z",
     "start_time": "2024-07-18T22:19:18.623570Z"
    }
   },
   "outputs": [
    {
     "name": "stdout",
     "output_type": "stream",
     "text": [
      "<class 'pandas.core.frame.DataFrame'>\n",
      "RangeIndex: 49636 entries, 0 to 49635\n",
      "Data columns (total 76 columns):\n",
      " #   Column                                        Non-Null Count  Dtype  \n",
      "---  ------                                        --------------  -----  \n",
      " 0   id                                            49636 non-null  int64  \n",
      " 1   listing_url                                   49636 non-null  object \n",
      " 2   scrape_id                                     49636 non-null  int64  \n",
      " 3   last_scraped                                  49636 non-null  object \n",
      " 4   source                                        49636 non-null  object \n",
      " 5   name                                          49636 non-null  object \n",
      " 6   description                                   48752 non-null  object \n",
      " 7   neighborhood_overview                         27492 non-null  object \n",
      " 8   picture_url                                   49636 non-null  object \n",
      " 9   host_id                                       49636 non-null  int64  \n",
      " 10  host_url                                      49636 non-null  object \n",
      " 11  host_name                                     49634 non-null  object \n",
      " 12  host_since                                    49634 non-null  object \n",
      " 13  host_location                                 37346 non-null  object \n",
      " 14  host_about                                    24170 non-null  object \n",
      " 15  host_response_time                            39315 non-null  object \n",
      " 16  host_response_rate                            39315 non-null  object \n",
      " 17  host_acceptance_rate                          41453 non-null  object \n",
      " 18  host_is_superhost                             49111 non-null  object \n",
      " 19  host_thumbnail_url                            49634 non-null  object \n",
      " 20  host_picture_url                              49634 non-null  object \n",
      " 21  host_neighbourhood                            21511 non-null  object \n",
      " 22  host_listings_count                           49634 non-null  float64\n",
      " 23  host_total_listings_count                     49634 non-null  float64\n",
      " 24  host_verifications                            49634 non-null  object \n",
      " 25  host_has_profile_pic                          49634 non-null  object \n",
      " 26  host_identity_verified                        49634 non-null  object \n",
      " 27  neighbourhood                                 27493 non-null  object \n",
      " 28  neighbourhood_cleansed                        49636 non-null  object \n",
      " 29  neighbourhood_group_cleansed                  7890 non-null   object \n",
      " 30  latitude                                      49636 non-null  float64\n",
      " 31  longitude                                     49636 non-null  float64\n",
      " 32  property_type                                 49636 non-null  object \n",
      " 33  room_type                                     49636 non-null  object \n",
      " 34  accommodates                                  49636 non-null  int64  \n",
      " 35  bathrooms                                     41614 non-null  float64\n",
      " 36  bathrooms_text                                49608 non-null  object \n",
      " 37  bedrooms                                      47525 non-null  float64\n",
      " 38  beds                                          41569 non-null  float64\n",
      " 39  amenities                                     49636 non-null  object \n",
      " 40  price                                         41572 non-null  object \n",
      " 41  minimum_nights                                49636 non-null  int64  \n",
      " 42  maximum_nights                                49636 non-null  int64  \n",
      " 43  minimum_minimum_nights                        49636 non-null  int64  \n",
      " 44  maximum_minimum_nights                        49636 non-null  int64  \n",
      " 45  minimum_maximum_nights                        49636 non-null  int64  \n",
      " 46  maximum_maximum_nights                        49636 non-null  int64  \n",
      " 47  minimum_nights_avg_ntm                        49636 non-null  float64\n",
      " 48  maximum_nights_avg_ntm                        49636 non-null  float64\n",
      " 49  calendar_updated                              0 non-null      float64\n",
      " 50  has_availability                              48297 non-null  object \n",
      " 51  availability_30                               49636 non-null  int64  \n",
      " 52  availability_60                               49636 non-null  int64  \n",
      " 53  availability_90                               49636 non-null  int64  \n",
      " 54  availability_365                              49636 non-null  int64  \n",
      " 55  calendar_last_scraped                         49636 non-null  object \n",
      " 56  number_of_reviews                             49636 non-null  int64  \n",
      " 57  number_of_reviews_ltm                         49636 non-null  int64  \n",
      " 58  number_of_reviews_l30d                        49636 non-null  int64  \n",
      " 59  first_review                                  39455 non-null  object \n",
      " 60  last_review                                   39455 non-null  object \n",
      " 61  review_scores_rating                          39457 non-null  float64\n",
      " 62  review_scores_accuracy                        39410 non-null  float64\n",
      " 63  review_scores_cleanliness                     39411 non-null  float64\n",
      " 64  review_scores_checkin                         39409 non-null  float64\n",
      " 65  review_scores_communication                   39410 non-null  float64\n",
      " 66  review_scores_location                        39408 non-null  float64\n",
      " 67  review_scores_value                           39408 non-null  float64\n",
      " 68  license                                       22024 non-null  object \n",
      " 69  instant_bookable                              49636 non-null  object \n",
      " 70  calculated_host_listings_count                49636 non-null  int64  \n",
      " 71  calculated_host_listings_count_entire_homes   49636 non-null  int64  \n",
      " 72  calculated_host_listings_count_private_rooms  49636 non-null  int64  \n",
      " 73  calculated_host_listings_count_shared_rooms   49636 non-null  int64  \n",
      " 74  reviews_per_month                             39455 non-null  float64\n",
      " 75  City                                          49636 non-null  object \n",
      "dtypes: float64(18), int64(21), object(37)\n",
      "memory usage: 28.8+ MB\n"
     ]
    }
   ],
   "source": [
    "airbnb_df.info()"
   ]
  },
  {
   "cell_type": "code",
   "execution_count": 110,
   "metadata": {
    "ExecuteTime": {
     "end_time": "2024-07-18T22:19:18.685448Z",
     "start_time": "2024-07-18T22:19:18.679023Z"
    }
   },
   "outputs": [
    {
     "data": {
      "text/html": [
       "<div>\n",
       "<style scoped>\n",
       "    .dataframe tbody tr th:only-of-type {\n",
       "        vertical-align: middle;\n",
       "    }\n",
       "\n",
       "    .dataframe tbody tr th {\n",
       "        vertical-align: top;\n",
       "    }\n",
       "\n",
       "    .dataframe thead th {\n",
       "        text-align: right;\n",
       "    }\n",
       "</style>\n",
       "<table border=\"1\" class=\"dataframe\">\n",
       "  <thead>\n",
       "    <tr style=\"text-align: right;\">\n",
       "      <th></th>\n",
       "      <th>id</th>\n",
       "      <th>listing_url</th>\n",
       "      <th>scrape_id</th>\n",
       "      <th>last_scraped</th>\n",
       "      <th>source</th>\n",
       "      <th>name</th>\n",
       "      <th>description</th>\n",
       "      <th>neighborhood_overview</th>\n",
       "      <th>picture_url</th>\n",
       "      <th>host_id</th>\n",
       "      <th>...</th>\n",
       "      <th>review_scores_location</th>\n",
       "      <th>review_scores_value</th>\n",
       "      <th>license</th>\n",
       "      <th>instant_bookable</th>\n",
       "      <th>calculated_host_listings_count</th>\n",
       "      <th>calculated_host_listings_count_entire_homes</th>\n",
       "      <th>calculated_host_listings_count_private_rooms</th>\n",
       "      <th>calculated_host_listings_count_shared_rooms</th>\n",
       "      <th>reviews_per_month</th>\n",
       "      <th>City</th>\n",
       "    </tr>\n",
       "  </thead>\n",
       "  <tbody>\n",
       "    <tr>\n",
       "      <th>0</th>\n",
       "      <td>29059</td>\n",
       "      <td>https://www.airbnb.com/rooms/29059</td>\n",
       "      <td>20240323015116</td>\n",
       "      <td>2024-03-23</td>\n",
       "      <td>city scrape</td>\n",
       "      <td>Lovely studio Quartier Latin</td>\n",
       "      <td>CITQ 267153&lt;br /&gt;Lovely studio with 1 closed r...</td>\n",
       "      <td>NaN</td>\n",
       "      <td>https://a0.muscache.com/pictures/736399/fa6c31...</td>\n",
       "      <td>125031</td>\n",
       "      <td>...</td>\n",
       "      <td>4.82</td>\n",
       "      <td>4.68</td>\n",
       "      <td>267153, expires: 2024-03-31</td>\n",
       "      <td>f</td>\n",
       "      <td>2</td>\n",
       "      <td>2</td>\n",
       "      <td>0</td>\n",
       "      <td>0</td>\n",
       "      <td>2.69</td>\n",
       "      <td>Montreal</td>\n",
       "    </tr>\n",
       "    <tr>\n",
       "      <th>1</th>\n",
       "      <td>29061</td>\n",
       "      <td>https://www.airbnb.com/rooms/29061</td>\n",
       "      <td>20240323015116</td>\n",
       "      <td>2024-03-23</td>\n",
       "      <td>city scrape</td>\n",
       "      <td>Maison historique - Quartier Latin</td>\n",
       "      <td>Lovely historic house with plenty of period ch...</td>\n",
       "      <td>NaN</td>\n",
       "      <td>https://a0.muscache.com/pictures/9e59d417-4b6a...</td>\n",
       "      <td>125031</td>\n",
       "      <td>...</td>\n",
       "      <td>4.87</td>\n",
       "      <td>4.73</td>\n",
       "      <td>267153, expires: 2024-03-31</td>\n",
       "      <td>f</td>\n",
       "      <td>2</td>\n",
       "      <td>2</td>\n",
       "      <td>0</td>\n",
       "      <td>0</td>\n",
       "      <td>0.88</td>\n",
       "      <td>Montreal</td>\n",
       "    </tr>\n",
       "    <tr>\n",
       "      <th>2</th>\n",
       "      <td>36301</td>\n",
       "      <td>https://www.airbnb.com/rooms/36301</td>\n",
       "      <td>20240323015116</td>\n",
       "      <td>2024-03-23</td>\n",
       "      <td>city scrape</td>\n",
       "      <td>Romantic &amp; peaceful Plateau  loft</td>\n",
       "      <td>Enjoy the best of Montreal  in this romantic, ...</td>\n",
       "      <td>The neighborhood is very lively while the stre...</td>\n",
       "      <td>https://a0.muscache.com/pictures/26c20544-475f...</td>\n",
       "      <td>381468</td>\n",
       "      <td>...</td>\n",
       "      <td>4.88</td>\n",
       "      <td>4.76</td>\n",
       "      <td>NaN</td>\n",
       "      <td>f</td>\n",
       "      <td>3</td>\n",
       "      <td>3</td>\n",
       "      <td>0</td>\n",
       "      <td>0</td>\n",
       "      <td>0.47</td>\n",
       "      <td>Montreal</td>\n",
       "    </tr>\n",
       "    <tr>\n",
       "      <th>3</th>\n",
       "      <td>38118</td>\n",
       "      <td>https://www.airbnb.com/rooms/38118</td>\n",
       "      <td>20240323015116</td>\n",
       "      <td>2024-03-23</td>\n",
       "      <td>city scrape</td>\n",
       "      <td>Beautiful room  with a balcony in front of a parc</td>\n",
       "      <td>Nearest metro Papineau.</td>\n",
       "      <td>NaN</td>\n",
       "      <td>https://a0.muscache.com/pictures/213997/763ec1...</td>\n",
       "      <td>163569</td>\n",
       "      <td>...</td>\n",
       "      <td>4.63</td>\n",
       "      <td>4.38</td>\n",
       "      <td>NaN</td>\n",
       "      <td>f</td>\n",
       "      <td>1</td>\n",
       "      <td>0</td>\n",
       "      <td>1</td>\n",
       "      <td>0</td>\n",
       "      <td>0.10</td>\n",
       "      <td>Montreal</td>\n",
       "    </tr>\n",
       "    <tr>\n",
       "      <th>4</th>\n",
       "      <td>50479</td>\n",
       "      <td>https://www.airbnb.com/rooms/50479</td>\n",
       "      <td>20240323015116</td>\n",
       "      <td>2024-03-23</td>\n",
       "      <td>city scrape</td>\n",
       "      <td>L'Arcade Douce</td>\n",
       "      <td>The appartement is sunny and ideally situated ...</td>\n",
       "      <td>Our area is full of life (but our street is qu...</td>\n",
       "      <td>https://a0.muscache.com/pictures/miso/Hosting-...</td>\n",
       "      <td>231694</td>\n",
       "      <td>...</td>\n",
       "      <td>4.84</td>\n",
       "      <td>4.93</td>\n",
       "      <td>271530, expires: 2024-04-30</td>\n",
       "      <td>t</td>\n",
       "      <td>2</td>\n",
       "      <td>1</td>\n",
       "      <td>1</td>\n",
       "      <td>0</td>\n",
       "      <td>1.60</td>\n",
       "      <td>Montreal</td>\n",
       "    </tr>\n",
       "  </tbody>\n",
       "</table>\n",
       "<p>5 rows × 76 columns</p>\n",
       "</div>"
      ],
      "text/plain": [
       "      id                         listing_url       scrape_id last_scraped  \\\n",
       "0  29059  https://www.airbnb.com/rooms/29059  20240323015116   2024-03-23   \n",
       "1  29061  https://www.airbnb.com/rooms/29061  20240323015116   2024-03-23   \n",
       "2  36301  https://www.airbnb.com/rooms/36301  20240323015116   2024-03-23   \n",
       "3  38118  https://www.airbnb.com/rooms/38118  20240323015116   2024-03-23   \n",
       "4  50479  https://www.airbnb.com/rooms/50479  20240323015116   2024-03-23   \n",
       "\n",
       "        source                                               name  \\\n",
       "0  city scrape                       Lovely studio Quartier Latin   \n",
       "1  city scrape                 Maison historique - Quartier Latin   \n",
       "2  city scrape                  Romantic & peaceful Plateau  loft   \n",
       "3  city scrape  Beautiful room  with a balcony in front of a parc   \n",
       "4  city scrape                                     L'Arcade Douce   \n",
       "\n",
       "                                         description  \\\n",
       "0  CITQ 267153<br />Lovely studio with 1 closed r...   \n",
       "1  Lovely historic house with plenty of period ch...   \n",
       "2  Enjoy the best of Montreal  in this romantic, ...   \n",
       "3                            Nearest metro Papineau.   \n",
       "4  The appartement is sunny and ideally situated ...   \n",
       "\n",
       "                               neighborhood_overview  \\\n",
       "0                                                NaN   \n",
       "1                                                NaN   \n",
       "2  The neighborhood is very lively while the stre...   \n",
       "3                                                NaN   \n",
       "4  Our area is full of life (but our street is qu...   \n",
       "\n",
       "                                         picture_url  host_id  ...  \\\n",
       "0  https://a0.muscache.com/pictures/736399/fa6c31...   125031  ...   \n",
       "1  https://a0.muscache.com/pictures/9e59d417-4b6a...   125031  ...   \n",
       "2  https://a0.muscache.com/pictures/26c20544-475f...   381468  ...   \n",
       "3  https://a0.muscache.com/pictures/213997/763ec1...   163569  ...   \n",
       "4  https://a0.muscache.com/pictures/miso/Hosting-...   231694  ...   \n",
       "\n",
       "  review_scores_location review_scores_value                      license  \\\n",
       "0                   4.82                4.68  267153, expires: 2024-03-31   \n",
       "1                   4.87                4.73  267153, expires: 2024-03-31   \n",
       "2                   4.88                4.76                          NaN   \n",
       "3                   4.63                4.38                          NaN   \n",
       "4                   4.84                4.93  271530, expires: 2024-04-30   \n",
       "\n",
       "  instant_bookable calculated_host_listings_count  \\\n",
       "0                f                              2   \n",
       "1                f                              2   \n",
       "2                f                              3   \n",
       "3                f                              1   \n",
       "4                t                              2   \n",
       "\n",
       "  calculated_host_listings_count_entire_homes  \\\n",
       "0                                           2   \n",
       "1                                           2   \n",
       "2                                           3   \n",
       "3                                           0   \n",
       "4                                           1   \n",
       "\n",
       "  calculated_host_listings_count_private_rooms  \\\n",
       "0                                            0   \n",
       "1                                            0   \n",
       "2                                            0   \n",
       "3                                            1   \n",
       "4                                            1   \n",
       "\n",
       "  calculated_host_listings_count_shared_rooms reviews_per_month      City  \n",
       "0                                           0              2.69  Montreal  \n",
       "1                                           0              0.88  Montreal  \n",
       "2                                           0              0.47  Montreal  \n",
       "3                                           0              0.10  Montreal  \n",
       "4                                           0              1.60  Montreal  \n",
       "\n",
       "[5 rows x 76 columns]"
      ]
     },
     "execution_count": 110,
     "metadata": {},
     "output_type": "execute_result"
    }
   ],
   "source": [
    "airbnb_df.head()"
   ]
  },
  {
   "cell_type": "code",
   "execution_count": 111,
   "metadata": {
    "ExecuteTime": {
     "end_time": "2024-07-18T22:19:18.725845Z",
     "start_time": "2024-07-18T22:19:18.685934Z"
    }
   },
   "outputs": [
    {
     "data": {
      "text/plain": [
       "calendar_updated                49636\n",
       "neighbourhood_group_cleansed    41746\n",
       "host_neighbourhood              28125\n",
       "license                         27612\n",
       "host_about                      25466\n",
       "                                ...  \n",
       "minimum_minimum_nights              0\n",
       "maximum_minimum_nights              0\n",
       "minimum_maximum_nights              0\n",
       "maximum_maximum_nights              0\n",
       "City                                0\n",
       "Length: 76, dtype: int64"
      ]
     },
     "execution_count": 111,
     "metadata": {},
     "output_type": "execute_result"
    }
   ],
   "source": [
    "airbnb_df.isnull().sum().sort_values(ascending=False)"
   ]
  },
  {
   "cell_type": "code",
   "execution_count": 112,
   "metadata": {
    "ExecuteTime": {
     "end_time": "2024-07-18T22:19:18.743460Z",
     "start_time": "2024-07-18T22:19:18.726465Z"
    }
   },
   "outputs": [],
   "source": [
    "airbnb_df['price'] = airbnb_df['price'].str.replace('[$,]', '', regex=True).astype(float)"
   ]
  },
  {
   "cell_type": "markdown",
   "metadata": {},
   "source": [
    "The prices for the listings in the dataset are greatly skewed to the right as shown below. This causes a non-linear relationship between the price and features."
   ]
  },
  {
   "cell_type": "code",
   "execution_count": 113,
   "metadata": {
    "ExecuteTime": {
     "end_time": "2024-07-18T22:19:19.074906Z",
     "start_time": "2024-07-18T22:19:18.745765Z"
    }
   },
   "outputs": [
    {
     "data": {
      "text/plain": [
       "<Axes: >"
      ]
     },
     "execution_count": 113,
     "metadata": {},
     "output_type": "execute_result"
    },
    {
     "data": {
      "image/png": "[encoded data removed]",
      "text/plain": [
       "<Figure size 640x480 with 1 Axes>"
      ]
     },
     "metadata": {},
     "output_type": "display_data"
    }
   ],
   "source": [
    "airbnb_df['price'].hist(bins=50)"
   ]
  },
  {
   "cell_type": "markdown",
   "metadata": {},
   "source": [
    "We take the natural logarithm of the price to make the effective relationship non-linear, while still preserving the linear model. This will be very important when testing different regression models. The results of this are shown below."
   ]
  },
  {
   "cell_type": "code",
   "execution_count": 114,
   "metadata": {
    "ExecuteTime": {
     "end_time": "2024-07-18T22:19:19.201355Z",
     "start_time": "2024-07-18T22:19:19.077013Z"
    }
   },
   "outputs": [
    {
     "data": {
      "text/plain": [
       "<Axes: >"
      ]
     },
     "execution_count": 114,
     "metadata": {},
     "output_type": "execute_result"
    },
    {
     "data": {
      "image/png": "[encoded data removed]",
      "text/plain": [
       "<Figure size 640x480 with 1 Axes>"
      ]
     },
     "metadata": {},
     "output_type": "display_data"
    }
   ],
   "source": [
    "airbnb_df['price'] = np.log(airbnb_df['price'])\n",
    "\n",
    "airbnb_df['price'].hist(bins=50)"
   ]
  },
  {
   "cell_type": "markdown",
   "metadata": {},
   "source": [
    "## Data Preprocessing"
   ]
  },
  {
   "cell_type": "markdown",
   "metadata": {},
   "source": [
    "#### Initial Feature Elimination"
   ]
  },
  {
   "cell_type": "code",
   "execution_count": 115,
   "metadata": {
    "ExecuteTime": {
     "end_time": "2024-07-18T22:19:19.523729Z",
     "start_time": "2024-07-18T22:19:19.202525Z"
    }
   },
   "outputs": [],
   "source": [
    "airbnb_df = airbnb_df.drop_duplicates()"
   ]
  },
  {
   "cell_type": "markdown",
   "metadata": {},
   "source": [
    "First, we manually eliminated some features that were unnecessary. The features removed were id, listing_url, scrape_id, last_scraped, source, picture_url, host_id, host_url, host_thumbnail_url, host_picture_url, calendar_updated, and calendar_last_scraped."
   ]
  },
  {
   "cell_type": "code",
   "execution_count": 116,
   "metadata": {
    "ExecuteTime": {
     "end_time": "2024-07-18T22:19:19.562141Z",
     "start_time": "2024-07-18T22:19:19.533733Z"
    }
   },
   "outputs": [],
   "source": [
    "airbnb_df = airbnb_df.drop(columns=['id', 'listing_url', 'scrape_id', 'last_scraped', 'source', 'picture_url', 'host_id', 'host_url', 'host_thumbnail_url', 'host_picture_url', 'calendar_updated', 'calendar_last_scraped', 'host_name', 'neighbourhood_cleansed'], axis=1)"
   ]
  },
  {
   "cell_type": "markdown",
   "metadata": {},
   "source": [
    "Secondly, we eliminate many location-related and listing count related columns since many of them are duplicated, and are mostly filled with null values."
   ]
  },
  {
   "cell_type": "code",
   "execution_count": 117,
   "metadata": {
    "ExecuteTime": {
     "end_time": "2024-07-18T22:19:19.586270Z",
     "start_time": "2024-07-18T22:19:19.563033Z"
    }
   },
   "outputs": [],
   "source": [
    "airbnb_df = airbnb_df.drop(columns=['neighbourhood_group_cleansed', 'host_neighbourhood', 'host_location', 'neighbourhood', 'review_scores_location', 'host_listings_count', 'host_total_listings_count', 'calculated_host_listings_count_entire_homes', 'calculated_host_listings_count_private_rooms', 'calculated_host_listings_count_shared_rooms', 'reviews_per_month', 'review_scores_accuracy'], axis=1)"
   ]
  },
  {
   "cell_type": "markdown",
   "metadata": {},
   "source": [
    "Thirdly, we eliminate redundant columns."
   ]
  },
  {
   "cell_type": "code",
   "execution_count": 118,
   "metadata": {
    "ExecuteTime": {
     "end_time": "2024-07-18T22:19:19.602018Z",
     "start_time": "2024-07-18T22:19:19.587552Z"
    }
   },
   "outputs": [],
   "source": [
    "airbnb_df = airbnb_df.drop(columns=['bathrooms_text', 'minimum_minimum_nights', 'maximum_minimum_nights', 'minimum_maximum_nights', 'maximum_maximum_nights', 'minimum_nights_avg_ntm', 'maximum_nights_avg_ntm'], axis=1)"
   ]
  },
  {
   "cell_type": "markdown",
   "metadata": {},
   "source": [
    "Finally, eliminating host about and neighbourhood about because of language challenges."
   ]
  },
  {
   "cell_type": "code",
   "execution_count": 119,
   "metadata": {
    "ExecuteTime": {
     "end_time": "2024-07-18T22:19:19.616881Z",
     "start_time": "2024-07-18T22:19:19.602971Z"
    }
   },
   "outputs": [],
   "source": [
    "airbnb_df = airbnb_df.drop(columns=['host_about', 'neighborhood_overview'], axis=1)"
   ]
  },
  {
   "cell_type": "markdown",
   "metadata": {},
   "source": [
    "#### Handling missing values"
   ]
  },
  {
   "cell_type": "code",
   "execution_count": 120,
   "metadata": {
    "ExecuteTime": {
     "end_time": "2024-07-18T22:19:19.652847Z",
     "start_time": "2024-07-18T22:19:19.618050Z"
    }
   },
   "outputs": [
    {
     "data": {
      "text/plain": [
       "license                           27612\n",
       "host_response_time                10321\n",
       "host_response_rate                10321\n",
       "review_scores_value               10228\n",
       "review_scores_checkin             10227\n",
       "review_scores_communication       10226\n",
       "review_scores_cleanliness         10225\n",
       "first_review                      10181\n",
       "last_review                       10181\n",
       "review_scores_rating              10179\n",
       "host_acceptance_rate               8183\n",
       "beds                               8067\n",
       "price                              8064\n",
       "bathrooms                          8022\n",
       "bedrooms                           2111\n",
       "has_availability                   1339\n",
       "description                         884\n",
       "host_is_superhost                   525\n",
       "host_verifications                    2\n",
       "host_has_profile_pic                  2\n",
       "host_identity_verified                2\n",
       "host_since                            2\n",
       "name                                  0\n",
       "number_of_reviews_ltm                 0\n",
       "instant_bookable                      0\n",
       "calculated_host_listings_count        0\n",
       "number_of_reviews_l30d                0\n",
       "minimum_nights                        0\n",
       "number_of_reviews                     0\n",
       "availability_365                      0\n",
       "availability_90                       0\n",
       "availability_60                       0\n",
       "availability_30                       0\n",
       "maximum_nights                        0\n",
       "amenities                             0\n",
       "accommodates                          0\n",
       "room_type                             0\n",
       "property_type                         0\n",
       "longitude                             0\n",
       "latitude                              0\n",
       "City                                  0\n",
       "dtype: int64"
      ]
     },
     "execution_count": 120,
     "metadata": {},
     "output_type": "execute_result"
    }
   ],
   "source": [
    "airbnb_df.isnull().sum().sort_values(ascending=False)"
   ]
  },
  {
   "cell_type": "markdown",
   "metadata": {},
   "source": [
    "The null in license column means that the listing doesn't have any license, so filled the column with said information."
   ]
  },
  {
   "cell_type": "code",
   "execution_count": 121,
   "metadata": {
    "ExecuteTime": {
     "end_time": "2024-07-18T22:19:19.656807Z",
     "start_time": "2024-07-18T22:19:19.653423Z"
    }
   },
   "outputs": [],
   "source": [
    "airbnb_df['license'].fillna('Unlicensed', inplace=True)"
   ]
  },
  {
   "cell_type": "markdown",
   "metadata": {},
   "source": [
    "Using K-nn to fill the floating point null values in the dataset since it suitable when the missing data exhibits the “Missing Completely at Random” (MCAR) or “Missing at Random” (MAR) patterns. This effectively implies that causes of the missing data are unrelated to the data."
   ]
  },
  {
   "cell_type": "code",
   "execution_count": 122,
   "metadata": {
    "ExecuteTime": {
     "end_time": "2024-07-18T22:20:40.215394Z",
     "start_time": "2024-07-18T22:19:19.657624Z"
    }
   },
   "outputs": [
    {
     "data": {
      "text/html": [
       "<div>\n",
       "<style scoped>\n",
       "    .dataframe tbody tr th:only-of-type {\n",
       "        vertical-align: middle;\n",
       "    }\n",
       "\n",
       "    .dataframe tbody tr th {\n",
       "        vertical-align: top;\n",
       "    }\n",
       "\n",
       "    .dataframe thead th {\n",
       "        text-align: right;\n",
       "    }\n",
       "</style>\n",
       "<table border=\"1\" class=\"dataframe\">\n",
       "  <thead>\n",
       "    <tr style=\"text-align: right;\">\n",
       "      <th></th>\n",
       "      <th>latitude</th>\n",
       "      <th>longitude</th>\n",
       "      <th>accommodates</th>\n",
       "      <th>bathrooms</th>\n",
       "      <th>bedrooms</th>\n",
       "      <th>beds</th>\n",
       "      <th>price</th>\n",
       "      <th>minimum_nights</th>\n",
       "      <th>maximum_nights</th>\n",
       "      <th>availability_30</th>\n",
       "      <th>...</th>\n",
       "      <th>availability_365</th>\n",
       "      <th>number_of_reviews</th>\n",
       "      <th>number_of_reviews_ltm</th>\n",
       "      <th>number_of_reviews_l30d</th>\n",
       "      <th>review_scores_rating</th>\n",
       "      <th>review_scores_cleanliness</th>\n",
       "      <th>review_scores_checkin</th>\n",
       "      <th>review_scores_communication</th>\n",
       "      <th>review_scores_value</th>\n",
       "      <th>calculated_host_listings_count</th>\n",
       "    </tr>\n",
       "  </thead>\n",
       "  <tbody>\n",
       "    <tr>\n",
       "      <th>0</th>\n",
       "      <td>45.51939</td>\n",
       "      <td>-73.56482</td>\n",
       "      <td>4.0</td>\n",
       "      <td>1.0</td>\n",
       "      <td>1.0</td>\n",
       "      <td>3.0</td>\n",
       "      <td>5.099866</td>\n",
       "      <td>2.0</td>\n",
       "      <td>60.0</td>\n",
       "      <td>23.0</td>\n",
       "      <td>...</td>\n",
       "      <td>302.0</td>\n",
       "      <td>450.0</td>\n",
       "      <td>48.0</td>\n",
       "      <td>3.0</td>\n",
       "      <td>4.67</td>\n",
       "      <td>4.62</td>\n",
       "      <td>4.81</td>\n",
       "      <td>4.77</td>\n",
       "      <td>4.68</td>\n",
       "      <td>2.0</td>\n",
       "    </tr>\n",
       "    <tr>\n",
       "      <th>1</th>\n",
       "      <td>45.51929</td>\n",
       "      <td>-73.56493</td>\n",
       "      <td>4.0</td>\n",
       "      <td>1.0</td>\n",
       "      <td>2.0</td>\n",
       "      <td>2.0</td>\n",
       "      <td>5.855072</td>\n",
       "      <td>2.0</td>\n",
       "      <td>21.0</td>\n",
       "      <td>24.0</td>\n",
       "      <td>...</td>\n",
       "      <td>348.0</td>\n",
       "      <td>130.0</td>\n",
       "      <td>19.0</td>\n",
       "      <td>0.0</td>\n",
       "      <td>4.73</td>\n",
       "      <td>4.66</td>\n",
       "      <td>4.88</td>\n",
       "      <td>4.81</td>\n",
       "      <td>4.73</td>\n",
       "      <td>2.0</td>\n",
       "    </tr>\n",
       "    <tr>\n",
       "      <th>2</th>\n",
       "      <td>45.53026</td>\n",
       "      <td>-73.58413</td>\n",
       "      <td>2.0</td>\n",
       "      <td>1.0</td>\n",
       "      <td>1.0</td>\n",
       "      <td>2.0</td>\n",
       "      <td>5.164786</td>\n",
       "      <td>32.0</td>\n",
       "      <td>730.0</td>\n",
       "      <td>21.0</td>\n",
       "      <td>...</td>\n",
       "      <td>81.0</td>\n",
       "      <td>51.0</td>\n",
       "      <td>4.0</td>\n",
       "      <td>0.0</td>\n",
       "      <td>4.86</td>\n",
       "      <td>4.86</td>\n",
       "      <td>4.92</td>\n",
       "      <td>4.90</td>\n",
       "      <td>4.76</td>\n",
       "      <td>3.0</td>\n",
       "    </tr>\n",
       "    <tr>\n",
       "      <th>3</th>\n",
       "      <td>45.52699</td>\n",
       "      <td>-73.55840</td>\n",
       "      <td>1.0</td>\n",
       "      <td>1.0</td>\n",
       "      <td>3.0</td>\n",
       "      <td>4.0</td>\n",
       "      <td>3.912023</td>\n",
       "      <td>31.0</td>\n",
       "      <td>60.0</td>\n",
       "      <td>21.0</td>\n",
       "      <td>...</td>\n",
       "      <td>299.0</td>\n",
       "      <td>16.0</td>\n",
       "      <td>0.0</td>\n",
       "      <td>0.0</td>\n",
       "      <td>4.50</td>\n",
       "      <td>4.25</td>\n",
       "      <td>4.81</td>\n",
       "      <td>4.81</td>\n",
       "      <td>4.38</td>\n",
       "      <td>1.0</td>\n",
       "    </tr>\n",
       "    <tr>\n",
       "      <th>4</th>\n",
       "      <td>45.54157</td>\n",
       "      <td>-73.60737</td>\n",
       "      <td>3.0</td>\n",
       "      <td>1.0</td>\n",
       "      <td>2.0</td>\n",
       "      <td>2.0</td>\n",
       "      <td>4.499810</td>\n",
       "      <td>3.0</td>\n",
       "      <td>28.0</td>\n",
       "      <td>0.0</td>\n",
       "      <td>...</td>\n",
       "      <td>0.0</td>\n",
       "      <td>263.0</td>\n",
       "      <td>47.0</td>\n",
       "      <td>4.0</td>\n",
       "      <td>4.95</td>\n",
       "      <td>4.94</td>\n",
       "      <td>4.97</td>\n",
       "      <td>4.98</td>\n",
       "      <td>4.93</td>\n",
       "      <td>2.0</td>\n",
       "    </tr>\n",
       "  </tbody>\n",
       "</table>\n",
       "<p>5 rows × 22 columns</p>\n",
       "</div>"
      ],
      "text/plain": [
       "   latitude  longitude  accommodates  bathrooms  bedrooms  beds     price  \\\n",
       "0  45.51939  -73.56482           4.0        1.0       1.0   3.0  5.099866   \n",
       "1  45.51929  -73.56493           4.0        1.0       2.0   2.0  5.855072   \n",
       "2  45.53026  -73.58413           2.0        1.0       1.0   2.0  5.164786   \n",
       "3  45.52699  -73.55840           1.0        1.0       3.0   4.0  3.912023   \n",
       "4  45.54157  -73.60737           3.0        1.0       2.0   2.0  4.499810   \n",
       "\n",
       "   minimum_nights  maximum_nights  availability_30  ...  availability_365  \\\n",
       "0             2.0            60.0             23.0  ...             302.0   \n",
       "1             2.0            21.0             24.0  ...             348.0   \n",
       "2            32.0           730.0             21.0  ...              81.0   \n",
       "3            31.0            60.0             21.0  ...             299.0   \n",
       "4             3.0            28.0              0.0  ...               0.0   \n",
       "\n",
       "   number_of_reviews  number_of_reviews_ltm  number_of_reviews_l30d  \\\n",
       "0              450.0                   48.0                     3.0   \n",
       "1              130.0                   19.0                     0.0   \n",
       "2               51.0                    4.0                     0.0   \n",
       "3               16.0                    0.0                     0.0   \n",
       "4              263.0                   47.0                     4.0   \n",
       "\n",
       "   review_scores_rating  review_scores_cleanliness  review_scores_checkin  \\\n",
       "0                  4.67                       4.62                   4.81   \n",
       "1                  4.73                       4.66                   4.88   \n",
       "2                  4.86                       4.86                   4.92   \n",
       "3                  4.50                       4.25                   4.81   \n",
       "4                  4.95                       4.94                   4.97   \n",
       "\n",
       "   review_scores_communication  review_scores_value  \\\n",
       "0                         4.77                 4.68   \n",
       "1                         4.81                 4.73   \n",
       "2                         4.90                 4.76   \n",
       "3                         4.81                 4.38   \n",
       "4                         4.98                 4.93   \n",
       "\n",
       "   calculated_host_listings_count  \n",
       "0                             2.0  \n",
       "1                             2.0  \n",
       "2                             3.0  \n",
       "3                             1.0  \n",
       "4                             2.0  \n",
       "\n",
       "[5 rows x 22 columns]"
      ]
     },
     "execution_count": 122,
     "metadata": {},
     "output_type": "execute_result"
    }
   ],
   "source": [
    "from sklearn.impute import KNNImputer\n",
    "\n",
    "# Initialize the KNNImputer with the desired number of neighbors\n",
    "knn_imputer = KNNImputer(n_neighbors=5)\n",
    "\n",
    "# Preparing numerical float data for KNN\n",
    "numerical_float_columns = airbnb_df.select_dtypes(include=[np.number, 'float']).columns.to_list()\n",
    "selected_data = airbnb_df[numerical_float_columns]\n",
    "\n",
    "# Perform k-NN imputation on the DataFrame\n",
    "imputed_data = knn_imputer.fit_transform(selected_data)\n",
    "\n",
    "# Convert the imputed data back to a DataFrame\n",
    "imputed_df = pd.DataFrame(imputed_data, columns=numerical_float_columns)\n",
    "\n",
    "# Display the DataFrame with filled missing values\n",
    "imputed_df.head()"
   ]
  },
  {
   "cell_type": "code",
   "execution_count": 123,
   "metadata": {
    "ExecuteTime": {
     "end_time": "2024-07-18T22:20:40.253696Z",
     "start_time": "2024-07-18T22:20:40.223621Z"
    }
   },
   "outputs": [
    {
     "data": {
      "text/html": [
       "<div>\n",
       "<style scoped>\n",
       "    .dataframe tbody tr th:only-of-type {\n",
       "        vertical-align: middle;\n",
       "    }\n",
       "\n",
       "    .dataframe tbody tr th {\n",
       "        vertical-align: top;\n",
       "    }\n",
       "\n",
       "    .dataframe thead th {\n",
       "        text-align: right;\n",
       "    }\n",
       "</style>\n",
       "<table border=\"1\" class=\"dataframe\">\n",
       "  <thead>\n",
       "    <tr style=\"text-align: right;\">\n",
       "      <th></th>\n",
       "      <th>name</th>\n",
       "      <th>description</th>\n",
       "      <th>host_since</th>\n",
       "      <th>host_response_time</th>\n",
       "      <th>host_response_rate</th>\n",
       "      <th>host_acceptance_rate</th>\n",
       "      <th>host_is_superhost</th>\n",
       "      <th>host_verifications</th>\n",
       "      <th>host_has_profile_pic</th>\n",
       "      <th>host_identity_verified</th>\n",
       "      <th>...</th>\n",
       "      <th>last_review</th>\n",
       "      <th>review_scores_rating</th>\n",
       "      <th>review_scores_cleanliness</th>\n",
       "      <th>review_scores_checkin</th>\n",
       "      <th>review_scores_communication</th>\n",
       "      <th>review_scores_value</th>\n",
       "      <th>license</th>\n",
       "      <th>instant_bookable</th>\n",
       "      <th>calculated_host_listings_count</th>\n",
       "      <th>City</th>\n",
       "    </tr>\n",
       "  </thead>\n",
       "  <tbody>\n",
       "    <tr>\n",
       "      <th>0</th>\n",
       "      <td>Lovely studio Quartier Latin</td>\n",
       "      <td>CITQ 267153&lt;br /&gt;Lovely studio with 1 closed r...</td>\n",
       "      <td>2010-05-14</td>\n",
       "      <td>within an hour</td>\n",
       "      <td>100%</td>\n",
       "      <td>98%</td>\n",
       "      <td>f</td>\n",
       "      <td>['phone', 'work_email']</td>\n",
       "      <td>t</td>\n",
       "      <td>t</td>\n",
       "      <td>...</td>\n",
       "      <td>2024-03-16</td>\n",
       "      <td>4.67</td>\n",
       "      <td>4.62</td>\n",
       "      <td>4.81</td>\n",
       "      <td>4.77</td>\n",
       "      <td>4.68</td>\n",
       "      <td>267153, expires: 2024-03-31</td>\n",
       "      <td>f</td>\n",
       "      <td>2.0</td>\n",
       "      <td>Montreal</td>\n",
       "    </tr>\n",
       "    <tr>\n",
       "      <th>1</th>\n",
       "      <td>Maison historique - Quartier Latin</td>\n",
       "      <td>Lovely historic house with plenty of period ch...</td>\n",
       "      <td>2010-05-14</td>\n",
       "      <td>within an hour</td>\n",
       "      <td>100%</td>\n",
       "      <td>98%</td>\n",
       "      <td>f</td>\n",
       "      <td>['phone', 'work_email']</td>\n",
       "      <td>t</td>\n",
       "      <td>t</td>\n",
       "      <td>...</td>\n",
       "      <td>2024-02-19</td>\n",
       "      <td>4.73</td>\n",
       "      <td>4.66</td>\n",
       "      <td>4.88</td>\n",
       "      <td>4.81</td>\n",
       "      <td>4.73</td>\n",
       "      <td>267153, expires: 2024-03-31</td>\n",
       "      <td>f</td>\n",
       "      <td>2.0</td>\n",
       "      <td>Montreal</td>\n",
       "    </tr>\n",
       "    <tr>\n",
       "      <th>2</th>\n",
       "      <td>Romantic &amp; peaceful Plateau  loft</td>\n",
       "      <td>Enjoy the best of Montreal  in this romantic, ...</td>\n",
       "      <td>2011-02-07</td>\n",
       "      <td>within a few hours</td>\n",
       "      <td>94%</td>\n",
       "      <td>80%</td>\n",
       "      <td>t</td>\n",
       "      <td>['email', 'phone']</td>\n",
       "      <td>t</td>\n",
       "      <td>t</td>\n",
       "      <td>...</td>\n",
       "      <td>2024-01-07</td>\n",
       "      <td>4.86</td>\n",
       "      <td>4.86</td>\n",
       "      <td>4.92</td>\n",
       "      <td>4.90</td>\n",
       "      <td>4.76</td>\n",
       "      <td>Unlicensed</td>\n",
       "      <td>f</td>\n",
       "      <td>3.0</td>\n",
       "      <td>Montreal</td>\n",
       "    </tr>\n",
       "    <tr>\n",
       "      <th>3</th>\n",
       "      <td>Beautiful room  with a balcony in front of a parc</td>\n",
       "      <td>Nearest metro Papineau.</td>\n",
       "      <td>2010-07-11</td>\n",
       "      <td>within a few hours</td>\n",
       "      <td>78%</td>\n",
       "      <td>0%</td>\n",
       "      <td>f</td>\n",
       "      <td>['email', 'phone']</td>\n",
       "      <td>t</td>\n",
       "      <td>t</td>\n",
       "      <td>...</td>\n",
       "      <td>2022-08-29</td>\n",
       "      <td>4.50</td>\n",
       "      <td>4.25</td>\n",
       "      <td>4.81</td>\n",
       "      <td>4.81</td>\n",
       "      <td>4.38</td>\n",
       "      <td>Unlicensed</td>\n",
       "      <td>f</td>\n",
       "      <td>1.0</td>\n",
       "      <td>Montreal</td>\n",
       "    </tr>\n",
       "    <tr>\n",
       "      <th>4</th>\n",
       "      <td>L'Arcade Douce</td>\n",
       "      <td>The appartement is sunny and ideally situated ...</td>\n",
       "      <td>2010-09-11</td>\n",
       "      <td>within an hour</td>\n",
       "      <td>100%</td>\n",
       "      <td>100%</td>\n",
       "      <td>t</td>\n",
       "      <td>['email', 'phone']</td>\n",
       "      <td>t</td>\n",
       "      <td>t</td>\n",
       "      <td>...</td>\n",
       "      <td>2024-03-18</td>\n",
       "      <td>4.95</td>\n",
       "      <td>4.94</td>\n",
       "      <td>4.97</td>\n",
       "      <td>4.98</td>\n",
       "      <td>4.93</td>\n",
       "      <td>271530, expires: 2024-04-30</td>\n",
       "      <td>t</td>\n",
       "      <td>2.0</td>\n",
       "      <td>Montreal</td>\n",
       "    </tr>\n",
       "  </tbody>\n",
       "</table>\n",
       "<p>5 rows × 41 columns</p>\n",
       "</div>"
      ],
      "text/plain": [
       "                                                name  \\\n",
       "0                       Lovely studio Quartier Latin   \n",
       "1                 Maison historique - Quartier Latin   \n",
       "2                  Romantic & peaceful Plateau  loft   \n",
       "3  Beautiful room  with a balcony in front of a parc   \n",
       "4                                     L'Arcade Douce   \n",
       "\n",
       "                                         description  host_since  \\\n",
       "0  CITQ 267153<br />Lovely studio with 1 closed r...  2010-05-14   \n",
       "1  Lovely historic house with plenty of period ch...  2010-05-14   \n",
       "2  Enjoy the best of Montreal  in this romantic, ...  2011-02-07   \n",
       "3                            Nearest metro Papineau.  2010-07-11   \n",
       "4  The appartement is sunny and ideally situated ...  2010-09-11   \n",
       "\n",
       "   host_response_time host_response_rate host_acceptance_rate  \\\n",
       "0      within an hour               100%                  98%   \n",
       "1      within an hour               100%                  98%   \n",
       "2  within a few hours                94%                  80%   \n",
       "3  within a few hours                78%                   0%   \n",
       "4      within an hour               100%                 100%   \n",
       "\n",
       "  host_is_superhost       host_verifications host_has_profile_pic  \\\n",
       "0                 f  ['phone', 'work_email']                    t   \n",
       "1                 f  ['phone', 'work_email']                    t   \n",
       "2                 t       ['email', 'phone']                    t   \n",
       "3                 f       ['email', 'phone']                    t   \n",
       "4                 t       ['email', 'phone']                    t   \n",
       "\n",
       "  host_identity_verified  ...  last_review  review_scores_rating  \\\n",
       "0                      t  ...   2024-03-16                  4.67   \n",
       "1                      t  ...   2024-02-19                  4.73   \n",
       "2                      t  ...   2024-01-07                  4.86   \n",
       "3                      t  ...   2022-08-29                  4.50   \n",
       "4                      t  ...   2024-03-18                  4.95   \n",
       "\n",
       "  review_scores_cleanliness review_scores_checkin  \\\n",
       "0                      4.62                  4.81   \n",
       "1                      4.66                  4.88   \n",
       "2                      4.86                  4.92   \n",
       "3                      4.25                  4.81   \n",
       "4                      4.94                  4.97   \n",
       "\n",
       "   review_scores_communication  review_scores_value  \\\n",
       "0                         4.77                 4.68   \n",
       "1                         4.81                 4.73   \n",
       "2                         4.90                 4.76   \n",
       "3                         4.81                 4.38   \n",
       "4                         4.98                 4.93   \n",
       "\n",
       "                       license  instant_bookable  \\\n",
       "0  267153, expires: 2024-03-31                 f   \n",
       "1  267153, expires: 2024-03-31                 f   \n",
       "2                   Unlicensed                 f   \n",
       "3                   Unlicensed                 f   \n",
       "4  271530, expires: 2024-04-30                 t   \n",
       "\n",
       "  calculated_host_listings_count      City  \n",
       "0                            2.0  Montreal  \n",
       "1                            2.0  Montreal  \n",
       "2                            3.0  Montreal  \n",
       "3                            1.0  Montreal  \n",
       "4                            2.0  Montreal  \n",
       "\n",
       "[5 rows x 41 columns]"
      ]
     },
     "execution_count": 123,
     "metadata": {},
     "output_type": "execute_result"
    }
   ],
   "source": [
    "# Replace the original columns in airbnb_df with the imputed ones\n",
    "airbnb_df[numerical_float_columns] = imputed_df\n",
    "\n",
    "# Display the DataFrame with filled missing values\n",
    "airbnb_df.head()"
   ]
  },
  {
   "cell_type": "markdown",
   "metadata": {},
   "source": [
    "Replacing null values in host_response_rate and host_response_time with median values so that it doen't impact its relation with price column and isn't affected by outlier much."
   ]
  },
  {
   "cell_type": "code",
   "execution_count": 124,
   "metadata": {
    "ExecuteTime": {
     "end_time": "2024-07-18T22:20:40.271985Z",
     "start_time": "2024-07-18T22:20:40.255090Z"
    }
   },
   "outputs": [],
   "source": [
    "airbnb_df['host_response_time'].fillna(airbnb_df['host_response_time'].mode()[0], inplace=True)\n",
    "airbnb_df['host_response_rate'].fillna(airbnb_df['host_response_rate'].mode()[0], inplace=True)"
   ]
  },
  {
   "cell_type": "markdown",
   "metadata": {},
   "source": [
    "review_scores related features are features where having a missing value still provided valuable information. Having a missing value meant that there were no reviews for the Airbnb listing. We elected to handle this by dropping all the rows with missing values for first_review. We had to drop these rows to preserve the linearity of the relationship between review_scores_rating and price. If we gave them all a default value of something else, the relation between the data would change.\n",
    "\n",
    "Similarly, reving rows with null values in other columns as well since the number is low, and filling them with default values may hinder the relationship with price."
   ]
  },
  {
   "cell_type": "code",
   "execution_count": 125,
   "metadata": {
    "ExecuteTime": {
     "end_time": "2024-07-18T22:20:40.485453Z",
     "start_time": "2024-07-18T22:20:40.273896Z"
    }
   },
   "outputs": [],
   "source": [
    "airbnb_df = airbnb_df.dropna(subset=['first_review'])\n",
    "airbnb_df = airbnb_df.dropna(subset=['host_acceptance_rate'])\n",
    "airbnb_df = airbnb_df.dropna(subset=['description'])\n",
    "airbnb_df = airbnb_df.dropna(subset=['host_is_superhost'])\n",
    "airbnb_df = airbnb_df.dropna(subset=['has_availability'])"
   ]
  },
  {
   "cell_type": "code",
   "execution_count": 126,
   "metadata": {
    "ExecuteTime": {
     "end_time": "2024-07-18T22:20:40.502818Z",
     "start_time": "2024-07-18T22:20:40.486282Z"
    }
   },
   "outputs": [
    {
     "data": {
      "text/plain": [
       "name                              0\n",
       "maximum_nights                    0\n",
       "availability_30                   0\n",
       "availability_60                   0\n",
       "availability_90                   0\n",
       "availability_365                  0\n",
       "number_of_reviews                 0\n",
       "number_of_reviews_ltm             0\n",
       "number_of_reviews_l30d            0\n",
       "first_review                      0\n",
       "last_review                       0\n",
       "review_scores_rating              0\n",
       "review_scores_cleanliness         0\n",
       "review_scores_checkin             0\n",
       "review_scores_communication       0\n",
       "review_scores_value               0\n",
       "license                           0\n",
       "instant_bookable                  0\n",
       "calculated_host_listings_count    0\n",
       "has_availability                  0\n",
       "minimum_nights                    0\n",
       "description                       0\n",
       "price                             0\n",
       "host_since                        0\n",
       "host_response_time                0\n",
       "host_response_rate                0\n",
       "host_acceptance_rate              0\n",
       "host_is_superhost                 0\n",
       "host_verifications                0\n",
       "host_has_profile_pic              0\n",
       "host_identity_verified            0\n",
       "latitude                          0\n",
       "longitude                         0\n",
       "property_type                     0\n",
       "room_type                         0\n",
       "accommodates                      0\n",
       "bathrooms                         0\n",
       "bedrooms                          0\n",
       "beds                              0\n",
       "amenities                         0\n",
       "City                              0\n",
       "dtype: int64"
      ]
     },
     "execution_count": 126,
     "metadata": {},
     "output_type": "execute_result"
    }
   ],
   "source": [
    "airbnb_df.isnull().sum().sort_values(ascending=False)"
   ]
  },
  {
   "cell_type": "code",
   "execution_count": 127,
   "metadata": {
    "ExecuteTime": {
     "end_time": "2024-07-18T22:20:40.526480Z",
     "start_time": "2024-07-18T22:20:40.503607Z"
    }
   },
   "outputs": [
    {
     "name": "stdout",
     "output_type": "stream",
     "text": [
      "<class 'pandas.core.frame.DataFrame'>\n",
      "Index: 33913 entries, 0 to 49620\n",
      "Data columns (total 41 columns):\n",
      " #   Column                          Non-Null Count  Dtype  \n",
      "---  ------                          --------------  -----  \n",
      " 0   name                            33913 non-null  object \n",
      " 1   description                     33913 non-null  object \n",
      " 2   host_since                      33913 non-null  object \n",
      " 3   host_response_time              33913 non-null  object \n",
      " 4   host_response_rate              33913 non-null  object \n",
      " 5   host_acceptance_rate            33913 non-null  object \n",
      " 6   host_is_superhost               33913 non-null  object \n",
      " 7   host_verifications              33913 non-null  object \n",
      " 8   host_has_profile_pic            33913 non-null  object \n",
      " 9   host_identity_verified          33913 non-null  object \n",
      " 10  latitude                        33913 non-null  float64\n",
      " 11  longitude                       33913 non-null  float64\n",
      " 12  property_type                   33913 non-null  object \n",
      " 13  room_type                       33913 non-null  object \n",
      " 14  accommodates                    33913 non-null  float64\n",
      " 15  bathrooms                       33913 non-null  float64\n",
      " 16  bedrooms                        33913 non-null  float64\n",
      " 17  beds                            33913 non-null  float64\n",
      " 18  amenities                       33913 non-null  object \n",
      " 19  price                           33913 non-null  float64\n",
      " 20  minimum_nights                  33913 non-null  float64\n",
      " 21  maximum_nights                  33913 non-null  float64\n",
      " 22  has_availability                33913 non-null  object \n",
      " 23  availability_30                 33913 non-null  float64\n",
      " 24  availability_60                 33913 non-null  float64\n",
      " 25  availability_90                 33913 non-null  float64\n",
      " 26  availability_365                33913 non-null  float64\n",
      " 27  number_of_reviews               33913 non-null  float64\n",
      " 28  number_of_reviews_ltm           33913 non-null  float64\n",
      " 29  number_of_reviews_l30d          33913 non-null  float64\n",
      " 30  first_review                    33913 non-null  object \n",
      " 31  last_review                     33913 non-null  object \n",
      " 32  review_scores_rating            33913 non-null  float64\n",
      " 33  review_scores_cleanliness       33913 non-null  float64\n",
      " 34  review_scores_checkin           33913 non-null  float64\n",
      " 35  review_scores_communication     33913 non-null  float64\n",
      " 36  review_scores_value             33913 non-null  float64\n",
      " 37  license                         33913 non-null  object \n",
      " 38  instant_bookable                33913 non-null  object \n",
      " 39  calculated_host_listings_count  33913 non-null  float64\n",
      " 40  City                            33913 non-null  object \n",
      "dtypes: float64(22), object(19)\n",
      "memory usage: 10.9+ MB\n"
     ]
    }
   ],
   "source": [
    "airbnb_df.info()"
   ]
  },
  {
   "cell_type": "markdown",
   "metadata": {},
   "source": [
    "## Feature Engineering"
   ]
  },
  {
   "cell_type": "markdown",
   "metadata": {},
   "source": [
    "#### Encoding categorical data to numerical data"
   ]
  },
  {
   "cell_type": "code",
   "execution_count": 128,
   "metadata": {
    "ExecuteTime": {
     "end_time": "2024-07-18T22:20:40.540739Z",
     "start_time": "2024-07-18T22:20:40.527140Z"
    }
   },
   "outputs": [
    {
     "data": {
      "text/html": [
       "<div>\n",
       "<style scoped>\n",
       "    .dataframe tbody tr th:only-of-type {\n",
       "        vertical-align: middle;\n",
       "    }\n",
       "\n",
       "    .dataframe tbody tr th {\n",
       "        vertical-align: top;\n",
       "    }\n",
       "\n",
       "    .dataframe thead th {\n",
       "        text-align: right;\n",
       "    }\n",
       "</style>\n",
       "<table border=\"1\" class=\"dataframe\">\n",
       "  <thead>\n",
       "    <tr style=\"text-align: right;\">\n",
       "      <th></th>\n",
       "      <th>name</th>\n",
       "      <th>description</th>\n",
       "      <th>host_since</th>\n",
       "      <th>host_response_time</th>\n",
       "      <th>host_response_rate</th>\n",
       "      <th>host_acceptance_rate</th>\n",
       "      <th>host_is_superhost</th>\n",
       "      <th>host_verifications</th>\n",
       "      <th>host_has_profile_pic</th>\n",
       "      <th>host_identity_verified</th>\n",
       "      <th>property_type</th>\n",
       "      <th>room_type</th>\n",
       "      <th>amenities</th>\n",
       "      <th>has_availability</th>\n",
       "      <th>first_review</th>\n",
       "      <th>last_review</th>\n",
       "      <th>license</th>\n",
       "      <th>instant_bookable</th>\n",
       "      <th>City</th>\n",
       "    </tr>\n",
       "  </thead>\n",
       "  <tbody>\n",
       "    <tr>\n",
       "      <th>0</th>\n",
       "      <td>Lovely studio Quartier Latin</td>\n",
       "      <td>CITQ 267153&lt;br /&gt;Lovely studio with 1 closed r...</td>\n",
       "      <td>2010-05-14</td>\n",
       "      <td>within an hour</td>\n",
       "      <td>100%</td>\n",
       "      <td>98%</td>\n",
       "      <td>f</td>\n",
       "      <td>['phone', 'work_email']</td>\n",
       "      <td>t</td>\n",
       "      <td>t</td>\n",
       "      <td>Entire rental unit</td>\n",
       "      <td>Entire home/apt</td>\n",
       "      <td>[\"Books and reading material\", \"Paid parking l...</td>\n",
       "      <td>t</td>\n",
       "      <td>2010-06-20</td>\n",
       "      <td>2024-03-16</td>\n",
       "      <td>267153, expires: 2024-03-31</td>\n",
       "      <td>f</td>\n",
       "      <td>Montreal</td>\n",
       "    </tr>\n",
       "    <tr>\n",
       "      <th>1</th>\n",
       "      <td>Maison historique - Quartier Latin</td>\n",
       "      <td>Lovely historic house with plenty of period ch...</td>\n",
       "      <td>2010-05-14</td>\n",
       "      <td>within an hour</td>\n",
       "      <td>100%</td>\n",
       "      <td>98%</td>\n",
       "      <td>f</td>\n",
       "      <td>['phone', 'work_email']</td>\n",
       "      <td>t</td>\n",
       "      <td>t</td>\n",
       "      <td>Entire home</td>\n",
       "      <td>Entire home/apt</td>\n",
       "      <td>[\"Books and reading material\", \"Coffee maker: ...</td>\n",
       "      <td>t</td>\n",
       "      <td>2012-02-23</td>\n",
       "      <td>2024-02-19</td>\n",
       "      <td>267153, expires: 2024-03-31</td>\n",
       "      <td>f</td>\n",
       "      <td>Montreal</td>\n",
       "    </tr>\n",
       "    <tr>\n",
       "      <th>2</th>\n",
       "      <td>Romantic &amp; peaceful Plateau  loft</td>\n",
       "      <td>Enjoy the best of Montreal  in this romantic, ...</td>\n",
       "      <td>2011-02-07</td>\n",
       "      <td>within a few hours</td>\n",
       "      <td>94%</td>\n",
       "      <td>80%</td>\n",
       "      <td>t</td>\n",
       "      <td>['email', 'phone']</td>\n",
       "      <td>t</td>\n",
       "      <td>t</td>\n",
       "      <td>Entire rental unit</td>\n",
       "      <td>Entire home/apt</td>\n",
       "      <td>[\"Microwave\", \"Free street parking\", \"Shampoo\"...</td>\n",
       "      <td>t</td>\n",
       "      <td>2015-05-25</td>\n",
       "      <td>2024-01-07</td>\n",
       "      <td>Unlicensed</td>\n",
       "      <td>f</td>\n",
       "      <td>Montreal</td>\n",
       "    </tr>\n",
       "    <tr>\n",
       "      <th>3</th>\n",
       "      <td>Beautiful room  with a balcony in front of a parc</td>\n",
       "      <td>Nearest metro Papineau.</td>\n",
       "      <td>2010-07-11</td>\n",
       "      <td>within a few hours</td>\n",
       "      <td>78%</td>\n",
       "      <td>0%</td>\n",
       "      <td>f</td>\n",
       "      <td>['email', 'phone']</td>\n",
       "      <td>t</td>\n",
       "      <td>t</td>\n",
       "      <td>Private room in rental unit</td>\n",
       "      <td>Private room</td>\n",
       "      <td>[\"Carbon monoxide alarm\", \"Free street parking...</td>\n",
       "      <td>t</td>\n",
       "      <td>2011-08-20</td>\n",
       "      <td>2022-08-29</td>\n",
       "      <td>Unlicensed</td>\n",
       "      <td>f</td>\n",
       "      <td>Montreal</td>\n",
       "    </tr>\n",
       "    <tr>\n",
       "      <th>4</th>\n",
       "      <td>L'Arcade Douce</td>\n",
       "      <td>The appartement is sunny and ideally situated ...</td>\n",
       "      <td>2010-09-11</td>\n",
       "      <td>within an hour</td>\n",
       "      <td>100%</td>\n",
       "      <td>100%</td>\n",
       "      <td>t</td>\n",
       "      <td>['email', 'phone']</td>\n",
       "      <td>t</td>\n",
       "      <td>t</td>\n",
       "      <td>Entire rental unit</td>\n",
       "      <td>Entire home/apt</td>\n",
       "      <td>[\"Books and reading material\", \"Electric stove...</td>\n",
       "      <td>t</td>\n",
       "      <td>2010-10-04</td>\n",
       "      <td>2024-03-18</td>\n",
       "      <td>271530, expires: 2024-04-30</td>\n",
       "      <td>t</td>\n",
       "      <td>Montreal</td>\n",
       "    </tr>\n",
       "  </tbody>\n",
       "</table>\n",
       "</div>"
      ],
      "text/plain": [
       "                                                name  \\\n",
       "0                       Lovely studio Quartier Latin   \n",
       "1                 Maison historique - Quartier Latin   \n",
       "2                  Romantic & peaceful Plateau  loft   \n",
       "3  Beautiful room  with a balcony in front of a parc   \n",
       "4                                     L'Arcade Douce   \n",
       "\n",
       "                                         description  host_since  \\\n",
       "0  CITQ 267153<br />Lovely studio with 1 closed r...  2010-05-14   \n",
       "1  Lovely historic house with plenty of period ch...  2010-05-14   \n",
       "2  Enjoy the best of Montreal  in this romantic, ...  2011-02-07   \n",
       "3                            Nearest metro Papineau.  2010-07-11   \n",
       "4  The appartement is sunny and ideally situated ...  2010-09-11   \n",
       "\n",
       "   host_response_time host_response_rate host_acceptance_rate  \\\n",
       "0      within an hour               100%                  98%   \n",
       "1      within an hour               100%                  98%   \n",
       "2  within a few hours                94%                  80%   \n",
       "3  within a few hours                78%                   0%   \n",
       "4      within an hour               100%                 100%   \n",
       "\n",
       "  host_is_superhost       host_verifications host_has_profile_pic  \\\n",
       "0                 f  ['phone', 'work_email']                    t   \n",
       "1                 f  ['phone', 'work_email']                    t   \n",
       "2                 t       ['email', 'phone']                    t   \n",
       "3                 f       ['email', 'phone']                    t   \n",
       "4                 t       ['email', 'phone']                    t   \n",
       "\n",
       "  host_identity_verified                property_type        room_type  \\\n",
       "0                      t           Entire rental unit  Entire home/apt   \n",
       "1                      t                  Entire home  Entire home/apt   \n",
       "2                      t           Entire rental unit  Entire home/apt   \n",
       "3                      t  Private room in rental unit     Private room   \n",
       "4                      t           Entire rental unit  Entire home/apt   \n",
       "\n",
       "                                           amenities has_availability  \\\n",
       "0  [\"Books and reading material\", \"Paid parking l...                t   \n",
       "1  [\"Books and reading material\", \"Coffee maker: ...                t   \n",
       "2  [\"Microwave\", \"Free street parking\", \"Shampoo\"...                t   \n",
       "3  [\"Carbon monoxide alarm\", \"Free street parking...                t   \n",
       "4  [\"Books and reading material\", \"Electric stove...                t   \n",
       "\n",
       "  first_review last_review                      license instant_bookable  \\\n",
       "0   2010-06-20  2024-03-16  267153, expires: 2024-03-31                f   \n",
       "1   2012-02-23  2024-02-19  267153, expires: 2024-03-31                f   \n",
       "2   2015-05-25  2024-01-07                   Unlicensed                f   \n",
       "3   2011-08-20  2022-08-29                   Unlicensed                f   \n",
       "4   2010-10-04  2024-03-18  271530, expires: 2024-04-30                t   \n",
       "\n",
       "       City  \n",
       "0  Montreal  \n",
       "1  Montreal  \n",
       "2  Montreal  \n",
       "3  Montreal  \n",
       "4  Montreal  "
      ]
     },
     "execution_count": 128,
     "metadata": {},
     "output_type": "execute_result"
    }
   ],
   "source": [
    "non_numerical_columns = airbnb_df.select_dtypes(exclude=['number']).columns.tolist()\n",
    "\n",
    "categorical_columns = airbnb_df[non_numerical_columns]\n",
    "\n",
    "categorical_columns.head()"
   ]
  },
  {
   "cell_type": "markdown",
   "metadata": {},
   "source": [
    "Converting % data to numerical"
   ]
  },
  {
   "cell_type": "code",
   "execution_count": 129,
   "metadata": {
    "ExecuteTime": {
     "end_time": "2024-07-18T22:20:40.564923Z",
     "start_time": "2024-07-18T22:20:40.541607Z"
    }
   },
   "outputs": [],
   "source": [
    "# Remove % sign and convert to numeric\n",
    "airbnb_df['host_response_rate'] = pd.to_numeric(airbnb_df['host_response_rate'].str.replace('%', ''))\n",
    "airbnb_df['host_acceptance_rate'] = pd.to_numeric(airbnb_df['host_acceptance_rate'].str.replace('%', ''))"
   ]
  },
  {
   "cell_type": "markdown",
   "metadata": {},
   "source": [
    "Converting boolean columns to numberical 0s and 1s."
   ]
  },
  {
   "cell_type": "code",
   "execution_count": 130,
   "metadata": {
    "ExecuteTime": {
     "end_time": "2024-07-18T22:20:40.574385Z",
     "start_time": "2024-07-18T22:20:40.565459Z"
    }
   },
   "outputs": [],
   "source": [
    "# Changing data\n",
    "airbnb_df['host_is_superhost'] = airbnb_df['host_is_superhost'].map({'f': 0, 't': 1})\n",
    "airbnb_df['host_has_profile_pic'] = airbnb_df['host_has_profile_pic'].map({'f': 0, 't': 1})\n",
    "airbnb_df['host_identity_verified'] = airbnb_df['host_identity_verified'].map({'f': 0, 't': 1})\n",
    "airbnb_df['has_availability'] = airbnb_df['has_availability'].map({'f': 0, 't': 1})\n",
    "airbnb_df['instant_bookable'] = airbnb_df['instant_bookable'].map({'f': 0, 't': 1})"
   ]
  },
  {
   "cell_type": "markdown",
   "metadata": {},
   "source": [
    "Changing data in license column to licensed and unlicensed and converting to 0s and 1s"
   ]
  },
  {
   "cell_type": "code",
   "execution_count": 131,
   "metadata": {
    "ExecuteTime": {
     "end_time": "2024-07-18T22:20:40.580044Z",
     "start_time": "2024-07-18T22:20:40.575303Z"
    }
   },
   "outputs": [],
   "source": [
    "# Aggregating all licences, approved by government and exempt to licensed \n",
    "airbnb_df['license'] = airbnb_df['license'].apply(lambda x: 'Licensed' if (x != \"Unlicensed\") else x)\n",
    "\n",
    "# Changing data\n",
    "airbnb_df['license'] = airbnb_df['license'].map({'Unlicensed': 0, 'Licensed': 1})"
   ]
  },
  {
   "cell_type": "markdown",
   "metadata": {},
   "source": [
    "Converting date columns from date-type to numerical. The data is current date - value in column"
   ]
  },
  {
   "cell_type": "code",
   "execution_count": 132,
   "metadata": {
    "ExecuteTime": {
     "end_time": "2024-07-18T22:20:40.616252Z",
     "start_time": "2024-07-18T22:20:40.580516Z"
    }
   },
   "outputs": [],
   "source": [
    "from datetime import datetime\n",
    "\n",
    "current_date = datetime.now()\n",
    "\n",
    "# Converting date columns\n",
    "airbnb_df['host_since'] = pd.to_datetime(airbnb_df['host_since'])\n",
    "airbnb_df['first_review'] = pd.to_datetime(airbnb_df['first_review'])\n",
    "airbnb_df['last_review'] = pd.to_datetime(airbnb_df['last_review'])\n",
    "\n",
    "# Calculating values and storing in a new column\n",
    "airbnb_df['host_since_days'] = (current_date - airbnb_df['host_since']).dt.days\n",
    "airbnb_df['first_review_days'] = (current_date - airbnb_df['first_review']).dt.days\n",
    "airbnb_df['last_review_days'] = (current_date - airbnb_df['last_review']).dt.days\n",
    "\n",
    "# Dropping date columns\n",
    "airbnb_df.drop(columns=['host_since', 'first_review', 'last_review'], inplace=True)"
   ]
  },
  {
   "cell_type": "markdown",
   "metadata": {},
   "source": [
    "Converting columns with ordinal categorical data to numerical data using label encoding"
   ]
  },
  {
   "cell_type": "code",
   "execution_count": 133,
   "metadata": {
    "ExecuteTime": {
     "end_time": "2024-07-18T22:20:40.638172Z",
     "start_time": "2024-07-18T22:20:40.616720Z"
    }
   },
   "outputs": [],
   "source": [
    "from sklearn.preprocessing import OrdinalEncoder\n",
    "\n",
    "# Define the order of categories\n",
    "categories = ['within an hour', 'within a few hours', 'within a day', 'a few days or more']\n",
    "\n",
    "# Initialize OrdinalEncoder with the defined categories\n",
    "ordinal_encoder = OrdinalEncoder(categories=[categories])\n",
    "\n",
    "# Fit and transform the 'host_response_time' column\n",
    "airbnb_df['host_response_time_encoded'] = ordinal_encoder.fit_transform(airbnb_df[['host_response_time']])\n",
    "\n",
    "# Dropping the categorical column\n",
    "airbnb_df.drop(columns=['host_response_time'], inplace=True)\n"
   ]
  },
  {
   "cell_type": "markdown",
   "metadata": {},
   "source": [
    "Label encoding room_type"
   ]
  },
  {
   "cell_type": "code",
   "execution_count": 134,
   "metadata": {
    "ExecuteTime": {
     "end_time": "2024-07-18T22:20:40.656045Z",
     "start_time": "2024-07-18T22:20:40.645237Z"
    }
   },
   "outputs": [],
   "source": [
    "from sklearn.preprocessing import LabelEncoder\n",
    "\n",
    "# Initialize LabelEncoder\n",
    "label_encoder = LabelEncoder()\n",
    "\n",
    "# Fit and transform 'room_type' column\n",
    "airbnb_df['room_type_encoded'] = label_encoder.fit_transform(airbnb_df['room_type'])\n",
    "\n",
    "# Dropping the categorical column\n",
    "airbnb_df.drop(columns=['room_type'], inplace=True)"
   ]
  },
  {
   "cell_type": "markdown",
   "metadata": {},
   "source": [
    "One hot encoding verifications"
   ]
  },
  {
   "cell_type": "code",
   "execution_count": 135,
   "metadata": {
    "ExecuteTime": {
     "end_time": "2024-07-18T22:20:40.825155Z",
     "start_time": "2024-07-18T22:20:40.656489Z"
    }
   },
   "outputs": [],
   "source": [
    "# Function to safely evaluate strings\n",
    "def safe_eval(x):\n",
    "    if isinstance(x, str):\n",
    "        return eval(x)\n",
    "    return x\n",
    "\n",
    "# Apply the safe_eval function\n",
    "airbnb_df['host_verifications'] = airbnb_df['host_verifications'].apply(safe_eval)\n",
    "\n",
    "# Extract unique items from the list in the column\n",
    "unique_items = set(item for sublist in airbnb_df['host_verifications'] for item in sublist)\n",
    "\n",
    "# Apply one hot encoding to the unique_items and create a new column for each item\n",
    "for item in unique_items:\n",
    "    column_name = item + \"_verification\"\n",
    "    airbnb_df[column_name] = airbnb_df['host_verifications'].apply(lambda x: 1 if item in x else 0)\n",
    "\n",
    "# Drop the original amenities column\n",
    "airbnb_df.drop('host_verifications', axis=1, inplace=True)"
   ]
  },
  {
   "cell_type": "markdown",
   "metadata": {},
   "source": [
    "One hot encoding amenities"
   ]
  },
  {
   "cell_type": "code",
   "execution_count": 136,
   "metadata": {
    "ExecuteTime": {
     "end_time": "2024-07-18T22:20:50.361111Z",
     "start_time": "2024-07-18T22:20:40.825769Z"
    }
   },
   "outputs": [],
   "source": [
    "# Function to safely evaluate strings\n",
    "import re\n",
    "\n",
    "# Apply the safe_eval function\n",
    "airbnb_df['amenities'] = airbnb_df['amenities'].apply(safe_eval)\n",
    "\n",
    "# Define keywords and corresponding regex patterns\n",
    "keywords_patterns = {\n",
    "    'tv': r'\\b(TV|HDTV|Netflix|Roku|Amazon|chromecast|hulu|disney+)\\b',\n",
    "    'pool': r'\\b(Pool|Swimming pool)\\b',\n",
    "    'oven': r'\\b(Oven|microwave)\\b',\n",
    "    'stove': r'\\b(Stove|stove)\\b',\n",
    "    'wifi': r'\\b(Wifi)\\b',\n",
    "    'toiletries': r'\\b(Toiletries|Shampoo|Brush|Conditioner|soap|wash)\\b',\n",
    "    'parking': r'\\b(parking)\\b',\n",
    "    'sound system': r'\\b(SoundSystem|Sound System|speakers|speaker)\\b',\n",
    "    'coffee maker': r'\\b(coffee|coffee-maker|coffeemaker|espresso)\\b',\n",
    "    'grill': r'\\b(Grill|BBQ)\\b',\n",
    "    'workspace': r'\\b(Workspace|Workspaces)\\b',\n",
    "    'closet': r'\\b(Closet|storage|wardrobe|dresser)\\b',\n",
    "    'exercise equipment': r'\\b(Exercise|yoga|elliptical|bike|bikes)\\b',\n",
    "    'refrigerator': r'\\b(Refrigerator|refrigerator|)\\b',\n",
    "    'housekeeping': r'\\b(Housekeeping|Housekeeping)\\b',\n",
    "    'backyard': r'\\b(Backyard|Backyard|patio|balcony)\\b',\n",
    "    'safety': r'\\b(Safety|Safety|lock|pin|alarm|)\\b',\n",
    "    'spa': r'\\b(Sauna|sauna|jacuzzi|tub|spa)\\b',\n",
    "    'view': r'\\b(lake|skyline)\\b',\n",
    "    'laundry': r'\\b(Laundry|laundry|laundromat|drying|washer|dryer)\\b',\n",
    "    'garbage': r'\\b(Garbage|garbage)\\b',\n",
    "    'gaming console': r'\\b(Gaming console|gaming console|gaming consoles|ps3|ps4|ps5|xbox|nintendo)\\b'\n",
    "}\n",
    "\n",
    "# Function to rename items based on regex patterns\n",
    "def rename_items(item_list, patterns):\n",
    "    renamed_list = []\n",
    "    for item in item_list:\n",
    "        renamed_item = item\n",
    "        for keyword, pattern in patterns.items():\n",
    "            if re.search(pattern, item, flags=re.IGNORECASE):\n",
    "                renamed_item = keyword\n",
    "                break\n",
    "        renamed_list.append(renamed_item)\n",
    "    return renamed_list\n",
    "\n",
    "# Apply the function to rename items in the 'amenities' column\n",
    "airbnb_df['amenities'] = airbnb_df['amenities'].apply(lambda x: rename_items(x, keywords_patterns) if isinstance(x, list) else '')\n",
    "\n",
    "# Extract unique items from the list in the column\n",
    "unique_items = set(item for sublist in airbnb_df['amenities'] for item in sublist)\n",
    "\n",
    "# Apply one hot encoding to the unique_items and create a new column for each item\n",
    "for item in unique_items:\n",
    "    column_name = item + \"_amenity\"\n",
    "    airbnb_df[column_name] = airbnb_df['amenities'].apply(lambda x: 1 if item in x else 0)\n",
    "\n",
    "# Drop the original amenities column\n",
    "airbnb_df.drop('amenities', axis=1, inplace=True)"
   ]
  },
  {
   "cell_type": "markdown",
   "metadata": {},
   "source": [
    "Target encoding property type"
   ]
  },
  {
   "cell_type": "code",
   "execution_count": 137,
   "metadata": {
    "ExecuteTime": {
     "end_time": "2024-07-18T22:20:51.637590Z",
     "start_time": "2024-07-18T22:20:50.361897Z"
    }
   },
   "outputs": [
    {
     "name": "stdout",
     "output_type": "stream",
     "text": [
      "\u001B[33mDEPRECATION: Loading egg at /Library/Frameworks/Python.framework/Versions/3.11/lib/python3.11/site-packages/jupyter-1.0.0-py3.11.egg is deprecated. pip 24.3 will enforce this behaviour change. A possible replacement is to use pip for package installation.. Discussion can be found at https://github.com/pypa/pip/issues/12330\u001B[0m\u001B[33m\r\n",
      "\u001B[0mRequirement already satisfied: category_encoders in /Library/Frameworks/Python.framework/Versions/3.11/lib/python3.11/site-packages (2.6.3)\r\n",
      "Requirement already satisfied: numpy>=1.14.0 in /Library/Frameworks/Python.framework/Versions/3.11/lib/python3.11/site-packages (from category_encoders) (1.25.2)\r\n",
      "Requirement already satisfied: scikit-learn>=0.20.0 in /Library/Frameworks/Python.framework/Versions/3.11/lib/python3.11/site-packages (from category_encoders) (1.3.0)\r\n",
      "Requirement already satisfied: scipy>=1.0.0 in /Library/Frameworks/Python.framework/Versions/3.11/lib/python3.11/site-packages (from category_encoders) (1.11.2)\r\n",
      "Requirement already satisfied: statsmodels>=0.9.0 in /Library/Frameworks/Python.framework/Versions/3.11/lib/python3.11/site-packages (from category_encoders) (0.14.1)\r\n",
      "Requirement already satisfied: pandas>=1.0.5 in /Library/Frameworks/Python.framework/Versions/3.11/lib/python3.11/site-packages (from category_encoders) (2.2.1)\r\n",
      "Requirement already satisfied: patsy>=0.5.1 in /Library/Frameworks/Python.framework/Versions/3.11/lib/python3.11/site-packages (from category_encoders) (0.5.6)\r\n",
      "Requirement already satisfied: python-dateutil>=2.8.2 in /Library/Frameworks/Python.framework/Versions/3.11/lib/python3.11/site-packages (from pandas>=1.0.5->category_encoders) (2.8.2)\r\n",
      "Requirement already satisfied: pytz>=2020.1 in /Library/Frameworks/Python.framework/Versions/3.11/lib/python3.11/site-packages (from pandas>=1.0.5->category_encoders) (2023.3)\r\n",
      "Requirement already satisfied: tzdata>=2022.7 in /Library/Frameworks/Python.framework/Versions/3.11/lib/python3.11/site-packages (from pandas>=1.0.5->category_encoders) (2023.3)\r\n",
      "Requirement already satisfied: six in /Library/Frameworks/Python.framework/Versions/3.11/lib/python3.11/site-packages (from patsy>=0.5.1->category_encoders) (1.16.0)\r\n",
      "Requirement already satisfied: joblib>=1.1.1 in /Library/Frameworks/Python.framework/Versions/3.11/lib/python3.11/site-packages (from scikit-learn>=0.20.0->category_encoders) (1.3.2)\r\n",
      "Requirement already satisfied: threadpoolctl>=2.0.0 in /Library/Frameworks/Python.framework/Versions/3.11/lib/python3.11/site-packages (from scikit-learn>=0.20.0->category_encoders) (3.2.0)\r\n",
      "Requirement already satisfied: packaging>=21.3 in /Library/Frameworks/Python.framework/Versions/3.11/lib/python3.11/site-packages (from statsmodels>=0.9.0->category_encoders) (23.1)\r\n",
      "\r\n",
      "\u001B[1m[\u001B[0m\u001B[34;49mnotice\u001B[0m\u001B[1;39;49m]\u001B[0m\u001B[39;49m A new release of pip is available: \u001B[0m\u001B[31;49m24.0\u001B[0m\u001B[39;49m -> \u001B[0m\u001B[32;49m24.1.2\u001B[0m\r\n",
      "\u001B[1m[\u001B[0m\u001B[34;49mnotice\u001B[0m\u001B[1;39;49m]\u001B[0m\u001B[39;49m To update, run: \u001B[0m\u001B[32;49mpip install --upgrade pip\u001B[0m\r\n",
      "Note: you may need to restart the kernel to use updated packages.\n"
     ]
    }
   ],
   "source": [
    "%pip install category_encoders\n",
    "from category_encoders import TargetEncoder\n",
    "from sklearn.model_selection import train_test_split\n",
    "\n",
    "# Split data into training and test sets\n",
    "train_df, test_df = train_test_split(airbnb_df, test_size=0.2, random_state=1)\n",
    "\n",
    "# Initialize and fit target encoder on training data\n",
    "encoder = TargetEncoder(cols=['property_type'])\n",
    "train_df['property_type_encoded'] = encoder.fit_transform(train_df['property_type'], train_df['price'])\n",
    "\n",
    "# Transform test data using the encoder fitted on training data\n",
    "test_df['property_type_encoded'] = encoder.transform(test_df['property_type'])\n",
    "\n",
    "# Update the original 'property_type' column with encoded values\n",
    "airbnb_df.loc[train_df.index, 'property_type_encoded'] = train_df['property_type_encoded']\n",
    "airbnb_df.loc[test_df.index, 'property_type_encoded'] = test_df['property_type_encoded']\n",
    "\n",
    "# Drop the intermediate 'property_type_encoded' column if desired\n",
    "airbnb_df.drop(columns=['property_type'], inplace=True)"
   ]
  },
  {
   "cell_type": "markdown",
   "metadata": {},
   "source": [
    "Target encoding city"
   ]
  },
  {
   "cell_type": "code",
   "execution_count": 138,
   "metadata": {
    "ExecuteTime": {
     "end_time": "2024-07-18T22:20:51.660161Z",
     "start_time": "2024-07-18T22:20:51.638525Z"
    }
   },
   "outputs": [],
   "source": [
    "# Initialize and fit target encoder on training data\n",
    "encoder = TargetEncoder(cols=['City'])\n",
    "train_df['city_encoded'] = encoder.fit_transform(train_df['City'], train_df['price'])\n",
    "\n",
    "# Transform test data using the encoder fitted on training data\n",
    "test_df['city_encoded'] = encoder.transform(test_df['City'])\n",
    "\n",
    "# Update the original 'property_type' column with encoded values\n",
    "airbnb_df.loc[train_df.index, 'city_encoded'] = train_df['city_encoded']\n",
    "airbnb_df.loc[test_df.index, 'city_encoded'] = test_df['city_encoded']\n",
    "\n",
    "# Drop the intermediate 'property_type_encoded' column if desired\n",
    "airbnb_df.drop(columns=['City'], inplace=True)"
   ]
  },
  {
   "cell_type": "markdown",
   "metadata": {},
   "source": [
    "Encoding name and description with sentiment scores"
   ]
  },
  {
   "cell_type": "code",
   "execution_count": 140,
   "metadata": {
    "ExecuteTime": {
     "end_time": "2024-07-18T22:21:42.444874Z",
     "start_time": "2024-07-18T22:21:42.399954Z"
    }
   },
   "outputs": [],
   "source": [
    "# import nltk\n",
    "# nltk.download('vader_lexicon')\n",
    "# \n",
    "# from nltk.sentiment.vader import SentimentIntensityAnalyzer\n",
    "# #creating an object of sentiment intensity analyzer\n",
    "# sia= SentimentIntensityAnalyzer()\n",
    "\n",
    "# #creating new column scores using polarity scores function\n",
    "# airbnb_df['name_scores'] = airbnb_df['name'].apply(lambda name: sia.polarity_scores(str(name)))\n",
    "# airbnb_df['name_sentiment']=airbnb_df['name_scores'].apply(lambda score_dict:score_dict['compound'])\n",
    "airbnb_df.drop(['name' ], axis=1, inplace=True)\n",
    "# \n",
    "# #creating new column scores using polarity scores function\n",
    "# airbnb_df['description_scores']=airbnb_df['description'].apply(lambda description: sia.polarity_scores(str(description)))\n",
    "# airbnb_df['description_sentiment']=airbnb_df['description_scores'].apply(lambda score_dict:score_dict['compound'])\n",
    "airbnb_df.drop(['description'], axis=1, inplace=True)"
   ]
  },
  {
   "cell_type": "code",
   "execution_count": 141,
   "metadata": {
    "ExecuteTime": {
     "end_time": "2024-07-18T22:21:53.248754Z",
     "start_time": "2024-07-18T22:21:53.237524Z"
    }
   },
   "outputs": [
    {
     "data": {
      "text/html": [
       "<div>\n",
       "<style scoped>\n",
       "    .dataframe tbody tr th:only-of-type {\n",
       "        vertical-align: middle;\n",
       "    }\n",
       "\n",
       "    .dataframe tbody tr th {\n",
       "        vertical-align: top;\n",
       "    }\n",
       "\n",
       "    .dataframe thead th {\n",
       "        text-align: right;\n",
       "    }\n",
       "</style>\n",
       "<table border=\"1\" class=\"dataframe\">\n",
       "  <thead>\n",
       "    <tr style=\"text-align: right;\">\n",
       "      <th></th>\n",
       "      <th>host_response_rate</th>\n",
       "      <th>host_acceptance_rate</th>\n",
       "      <th>host_is_superhost</th>\n",
       "      <th>host_has_profile_pic</th>\n",
       "      <th>host_identity_verified</th>\n",
       "      <th>latitude</th>\n",
       "      <th>longitude</th>\n",
       "      <th>accommodates</th>\n",
       "      <th>bathrooms</th>\n",
       "      <th>bedrooms</th>\n",
       "      <th>...</th>\n",
       "      <th>sound system_amenity</th>\n",
       "      <th>coffee maker_amenity</th>\n",
       "      <th>exercise equipment_amenity</th>\n",
       "      <th>refrigerator_amenity</th>\n",
       "      <th>wifi_amenity</th>\n",
       "      <th>toiletries_amenity</th>\n",
       "      <th>workspace_amenity</th>\n",
       "      <th>tv_amenity</th>\n",
       "      <th>property_type_encoded</th>\n",
       "      <th>city_encoded</th>\n",
       "    </tr>\n",
       "  </thead>\n",
       "  <tbody>\n",
       "    <tr>\n",
       "      <th>0</th>\n",
       "      <td>100</td>\n",
       "      <td>98</td>\n",
       "      <td>0</td>\n",
       "      <td>1</td>\n",
       "      <td>1</td>\n",
       "      <td>45.51939</td>\n",
       "      <td>-73.56482</td>\n",
       "      <td>4.0</td>\n",
       "      <td>1.0</td>\n",
       "      <td>1.0</td>\n",
       "      <td>...</td>\n",
       "      <td>1</td>\n",
       "      <td>1</td>\n",
       "      <td>0</td>\n",
       "      <td>1</td>\n",
       "      <td>1</td>\n",
       "      <td>1</td>\n",
       "      <td>0</td>\n",
       "      <td>1</td>\n",
       "      <td>4.893650</td>\n",
       "      <td>4.702944</td>\n",
       "    </tr>\n",
       "    <tr>\n",
       "      <th>1</th>\n",
       "      <td>100</td>\n",
       "      <td>98</td>\n",
       "      <td>0</td>\n",
       "      <td>1</td>\n",
       "      <td>1</td>\n",
       "      <td>45.51929</td>\n",
       "      <td>-73.56493</td>\n",
       "      <td>4.0</td>\n",
       "      <td>1.0</td>\n",
       "      <td>2.0</td>\n",
       "      <td>...</td>\n",
       "      <td>1</td>\n",
       "      <td>1</td>\n",
       "      <td>0</td>\n",
       "      <td>1</td>\n",
       "      <td>1</td>\n",
       "      <td>1</td>\n",
       "      <td>1</td>\n",
       "      <td>1</td>\n",
       "      <td>5.275912</td>\n",
       "      <td>4.702944</td>\n",
       "    </tr>\n",
       "    <tr>\n",
       "      <th>2</th>\n",
       "      <td>94</td>\n",
       "      <td>80</td>\n",
       "      <td>1</td>\n",
       "      <td>1</td>\n",
       "      <td>1</td>\n",
       "      <td>45.53026</td>\n",
       "      <td>-73.58413</td>\n",
       "      <td>2.0</td>\n",
       "      <td>1.0</td>\n",
       "      <td>1.0</td>\n",
       "      <td>...</td>\n",
       "      <td>0</td>\n",
       "      <td>1</td>\n",
       "      <td>0</td>\n",
       "      <td>1</td>\n",
       "      <td>1</td>\n",
       "      <td>1</td>\n",
       "      <td>0</td>\n",
       "      <td>1</td>\n",
       "      <td>4.893650</td>\n",
       "      <td>4.702944</td>\n",
       "    </tr>\n",
       "    <tr>\n",
       "      <th>3</th>\n",
       "      <td>78</td>\n",
       "      <td>0</td>\n",
       "      <td>0</td>\n",
       "      <td>1</td>\n",
       "      <td>1</td>\n",
       "      <td>45.52699</td>\n",
       "      <td>-73.55840</td>\n",
       "      <td>1.0</td>\n",
       "      <td>1.0</td>\n",
       "      <td>3.0</td>\n",
       "      <td>...</td>\n",
       "      <td>0</td>\n",
       "      <td>0</td>\n",
       "      <td>0</td>\n",
       "      <td>1</td>\n",
       "      <td>1</td>\n",
       "      <td>0</td>\n",
       "      <td>0</td>\n",
       "      <td>1</td>\n",
       "      <td>4.239018</td>\n",
       "      <td>4.702944</td>\n",
       "    </tr>\n",
       "    <tr>\n",
       "      <th>4</th>\n",
       "      <td>100</td>\n",
       "      <td>100</td>\n",
       "      <td>1</td>\n",
       "      <td>1</td>\n",
       "      <td>1</td>\n",
       "      <td>45.54157</td>\n",
       "      <td>-73.60737</td>\n",
       "      <td>3.0</td>\n",
       "      <td>1.0</td>\n",
       "      <td>2.0</td>\n",
       "      <td>...</td>\n",
       "      <td>0</td>\n",
       "      <td>1</td>\n",
       "      <td>0</td>\n",
       "      <td>1</td>\n",
       "      <td>1</td>\n",
       "      <td>1</td>\n",
       "      <td>1</td>\n",
       "      <td>1</td>\n",
       "      <td>4.893650</td>\n",
       "      <td>4.702944</td>\n",
       "    </tr>\n",
       "  </tbody>\n",
       "</table>\n",
       "<p>5 rows × 55 columns</p>\n",
       "</div>"
      ],
      "text/plain": [
       "   host_response_rate  host_acceptance_rate  host_is_superhost  \\\n",
       "0                 100                    98                  0   \n",
       "1                 100                    98                  0   \n",
       "2                  94                    80                  1   \n",
       "3                  78                     0                  0   \n",
       "4                 100                   100                  1   \n",
       "\n",
       "   host_has_profile_pic  host_identity_verified  latitude  longitude  \\\n",
       "0                     1                       1  45.51939  -73.56482   \n",
       "1                     1                       1  45.51929  -73.56493   \n",
       "2                     1                       1  45.53026  -73.58413   \n",
       "3                     1                       1  45.52699  -73.55840   \n",
       "4                     1                       1  45.54157  -73.60737   \n",
       "\n",
       "   accommodates  bathrooms  bedrooms  ...  sound system_amenity  \\\n",
       "0           4.0        1.0       1.0  ...                     1   \n",
       "1           4.0        1.0       2.0  ...                     1   \n",
       "2           2.0        1.0       1.0  ...                     0   \n",
       "3           1.0        1.0       3.0  ...                     0   \n",
       "4           3.0        1.0       2.0  ...                     0   \n",
       "\n",
       "   coffee maker_amenity  exercise equipment_amenity  refrigerator_amenity  \\\n",
       "0                     1                           0                     1   \n",
       "1                     1                           0                     1   \n",
       "2                     1                           0                     1   \n",
       "3                     0                           0                     1   \n",
       "4                     1                           0                     1   \n",
       "\n",
       "   wifi_amenity  toiletries_amenity  workspace_amenity  tv_amenity  \\\n",
       "0             1                   1                  0           1   \n",
       "1             1                   1                  1           1   \n",
       "2             1                   1                  0           1   \n",
       "3             1                   0                  0           1   \n",
       "4             1                   1                  1           1   \n",
       "\n",
       "   property_type_encoded  city_encoded  \n",
       "0               4.893650      4.702944  \n",
       "1               5.275912      4.702944  \n",
       "2               4.893650      4.702944  \n",
       "3               4.239018      4.702944  \n",
       "4               4.893650      4.702944  \n",
       "\n",
       "[5 rows x 55 columns]"
      ]
     },
     "execution_count": 141,
     "metadata": {},
     "output_type": "execute_result"
    }
   ],
   "source": [
    "airbnb_df.head()"
   ]
  },
  {
   "cell_type": "markdown",
   "metadata": {},
   "source": [
    "## EXTRA"
   ]
  },
  {
   "cell_type": "code",
   "execution_count": 142,
   "metadata": {
    "ExecuteTime": {
     "end_time": "2024-07-18T22:21:59.376466Z",
     "start_time": "2024-07-18T22:21:59.135335Z"
    }
   },
   "outputs": [
    {
     "data": {
      "image/png": "[encoded data removed]",
      "text/plain": [
       "<Figure size 2000x1000 with 1 Axes>"
      ]
     },
     "metadata": {},
     "output_type": "display_data"
    }
   ],
   "source": [
    "# Checking for outliers\n",
    "plt.figure(figsize=(20,10))\n",
    "sns.boxplot(data=airbnb_df[['price']])\n",
    "plt.xticks(rotation=90)\n",
    "plt.show()"
   ]
  },
  {
   "cell_type": "code",
   "execution_count": 143,
   "metadata": {
    "ExecuteTime": {
     "end_time": "2024-07-18T22:22:01.384440Z",
     "start_time": "2024-07-18T22:22:01.353205Z"
    }
   },
   "outputs": [
    {
     "name": "stdout",
     "output_type": "stream",
     "text": [
      "<class 'pandas.core.frame.DataFrame'>\n",
      "Index: 33417 entries, 0 to 49620\n",
      "Data columns (total 55 columns):\n",
      " #   Column                          Non-Null Count  Dtype  \n",
      "---  ------                          --------------  -----  \n",
      " 0   host_response_rate              33417 non-null  int64  \n",
      " 1   host_acceptance_rate            33417 non-null  int64  \n",
      " 2   host_is_superhost               33417 non-null  int64  \n",
      " 3   host_has_profile_pic            33417 non-null  int64  \n",
      " 4   host_identity_verified          33417 non-null  int64  \n",
      " 5   latitude                        33417 non-null  float64\n",
      " 6   longitude                       33417 non-null  float64\n",
      " 7   accommodates                    33417 non-null  float64\n",
      " 8   bathrooms                       33417 non-null  float64\n",
      " 9   bedrooms                        33417 non-null  float64\n",
      " 10  beds                            33417 non-null  float64\n",
      " 11  price                           33417 non-null  float64\n",
      " 12  minimum_nights                  33417 non-null  float64\n",
      " 13  maximum_nights                  33417 non-null  float64\n",
      " 14  has_availability                33417 non-null  int64  \n",
      " 15  availability_30                 33417 non-null  float64\n",
      " 16  availability_60                 33417 non-null  float64\n",
      " 17  availability_90                 33417 non-null  float64\n",
      " 18  availability_365                33417 non-null  float64\n",
      " 19  number_of_reviews               33417 non-null  float64\n",
      " 20  number_of_reviews_ltm           33417 non-null  float64\n",
      " 21  number_of_reviews_l30d          33417 non-null  float64\n",
      " 22  review_scores_rating            33417 non-null  float64\n",
      " 23  review_scores_cleanliness       33417 non-null  float64\n",
      " 24  review_scores_checkin           33417 non-null  float64\n",
      " 25  review_scores_communication     33417 non-null  float64\n",
      " 26  review_scores_value             33417 non-null  float64\n",
      " 27  license                         33417 non-null  int64  \n",
      " 28  instant_bookable                33417 non-null  int64  \n",
      " 29  calculated_host_listings_count  33417 non-null  float64\n",
      " 30  host_since_days                 33417 non-null  int64  \n",
      " 31  first_review_days               33417 non-null  int64  \n",
      " 32  last_review_days                33417 non-null  int64  \n",
      " 33  host_response_time_encoded      33417 non-null  float64\n",
      " 34  room_type_encoded               33417 non-null  int64  \n",
      " 35  email_verification              33417 non-null  int64  \n",
      " 36  work_email_verification         33417 non-null  int64  \n",
      " 37  photographer_verification       33417 non-null  int64  \n",
      " 38  phone_verification              33417 non-null  int64  \n",
      " 39  oven_amenity                    33417 non-null  int64  \n",
      " 40  stove_amenity                   33417 non-null  int64  \n",
      " 41  closet_amenity                  33417 non-null  int64  \n",
      " 42  pool_amenity                    33417 non-null  int64  \n",
      " 43  parking_amenity                 33417 non-null  int64  \n",
      " 44  grill_amenity                   33417 non-null  int64  \n",
      " 45  sound system_amenity            33417 non-null  int64  \n",
      " 46  coffee maker_amenity            33417 non-null  int64  \n",
      " 47  exercise equipment_amenity      33417 non-null  int64  \n",
      " 48  refrigerator_amenity            33417 non-null  int64  \n",
      " 49  wifi_amenity                    33417 non-null  int64  \n",
      " 50  toiletries_amenity              33417 non-null  int64  \n",
      " 51  workspace_amenity               33417 non-null  int64  \n",
      " 52  tv_amenity                      33417 non-null  int64  \n",
      " 53  property_type_encoded           33417 non-null  float64\n",
      " 54  city_encoded                    33417 non-null  float64\n",
      "dtypes: float64(25), int64(30)\n",
      "memory usage: 14.3 MB\n"
     ]
    }
   ],
   "source": [
    "# Handling Outliers using median and IQR \n",
    "def outlier(a):\n",
    "    Q1 = a.quantile(0.25)\n",
    "    Q3 = a.quantile(0.75)\n",
    "    IQR = Q3-Q1\n",
    "    L = Q1 - 1.5*IQR\n",
    "    U = Q3 + 1.5*IQR\n",
    "    return(L,U)\n",
    "\n",
    "# Price\n",
    "airbnb_df = airbnb_df.loc[airbnb_df['price'] >= outlier(airbnb_df['price'])[0]]\n",
    "airbnb_df = airbnb_df.loc[airbnb_df['price'] <= outlier(airbnb_df['price'])[1]]\n",
    "airbnb_df.info()"
   ]
  },
  {
   "cell_type": "code",
   "execution_count": 144,
   "metadata": {
    "ExecuteTime": {
     "end_time": "2024-07-18T22:22:04.721138Z",
     "start_time": "2024-07-18T22:22:04.584372Z"
    }
   },
   "outputs": [
    {
     "data": {
      "text/plain": [
       "price                             1.000000\n",
       "property_type_encoded             0.544979\n",
       "accommodates                      0.541998\n",
       "bedrooms                          0.471927\n",
       "beds                              0.414568\n",
       "bathrooms                         0.306676\n",
       "tv_amenity                        0.289402\n",
       "city_encoded                      0.278396\n",
       "license                           0.225124\n",
       "coffee maker_amenity              0.219048\n",
       "grill_amenity                     0.191627\n",
       "toiletries_amenity                0.167670\n",
       "stove_amenity                     0.149490\n",
       "pool_amenity                      0.149439\n",
       "review_scores_cleanliness         0.141556\n",
       "sound system_amenity              0.141094\n",
       "exercise equipment_amenity        0.134087\n",
       "review_scores_rating              0.129470\n",
       "parking_amenity                   0.109415\n",
       "oven_amenity                      0.099493\n",
       "latitude                          0.091276\n",
       "review_scores_value               0.089954\n",
       "review_scores_communication       0.086610\n",
       "closet_amenity                    0.075157\n",
       "number_of_reviews_ltm             0.073200\n",
       "host_acceptance_rate              0.070127\n",
       "number_of_reviews_l30d            0.060092\n",
       "host_is_superhost                 0.059982\n",
       "host_response_rate                0.055357\n",
       "availability_30                   0.046350\n",
       "review_scores_checkin             0.044356\n",
       "work_email_verification           0.029430\n",
       "number_of_reviews                 0.022606\n",
       "instant_bookable                  0.022100\n",
       "availability_60                   0.010431\n",
       "refrigerator_amenity              0.009738\n",
       "email_verification                0.008005\n",
       "photographer_verification         0.003440\n",
       "has_availability                  0.003439\n",
       "wifi_amenity                      0.000683\n",
       "workspace_amenity                -0.000330\n",
       "phone_verification               -0.005828\n",
       "host_has_profile_pic             -0.008610\n",
       "host_identity_verified           -0.009396\n",
       "host_since_days                  -0.011374\n",
       "availability_90                  -0.013350\n",
       "maximum_nights                   -0.013501\n",
       "first_review_days                -0.032696\n",
       "last_review_days                 -0.034407\n",
       "availability_365                 -0.037547\n",
       "host_response_time_encoded       -0.071825\n",
       "calculated_host_listings_count   -0.082097\n",
       "minimum_nights                   -0.156045\n",
       "longitude                        -0.188629\n",
       "room_type_encoded                -0.468874\n",
       "Name: price, dtype: float64"
      ]
     },
     "execution_count": 144,
     "metadata": {},
     "output_type": "execute_result"
    }
   ],
   "source": [
    "# which features have the highest correlation with price\n",
    "airbnb_df.corr()['price'].sort_values(ascending=False)"
   ]
  },
  {
   "cell_type": "markdown",
   "metadata": {},
   "source": [
    "### Feature Selection"
   ]
  },
  {
   "cell_type": "code",
   "execution_count": 176,
   "metadata": {
    "ExecuteTime": {
     "end_time": "2024-07-18T23:09:43.755269Z",
     "start_time": "2024-07-18T23:09:08.263386Z"
    }
   },
   "outputs": [
    {
     "data": {
      "image/png": "[encoded data removed]",
      "text/plain": [
       "<Figure size 1000x1000 with 1 Axes>"
      ]
     },
     "metadata": {},
     "output_type": "display_data"
    }
   ],
   "source": [
    "from sklearn.ensemble import RandomForestRegressor\n",
    "import matplotlib.pyplot as plt\n",
    "import seaborn as sns\n",
    "\n",
    "\n",
    "X = airbnb_df.drop('price', axis=1)\n",
    "y = airbnb_df['price']\n",
    "#Train a Random Forest Regressor\n",
    "model = RandomForestRegressor(n_estimators=100, random_state=42)\n",
    "model.fit(X, y)\n",
    "\n",
    "# Extract feature importances\n",
    "feature_importances = model.feature_importances_\n",
    "\n",
    "# Create a DataFrame for plotting\n",
    "feature_importance_df = pd.DataFrame({\n",
    "    'Feature': X.columns,\n",
    "    'Importance': feature_importances\n",
    "})\n",
    "\n",
    "# Sort the DataFrame by importance\n",
    "feature_importance_df = feature_importance_df.sort_values(by='Importance', ascending=False)\n",
    "\n",
    "# Plot the feature importances\n",
    "plt.figure(figsize=(10, 10))\n",
    "sns.barplot(x='Importance', y='Feature', data=feature_importance_df)\n",
    "plt.title('Feature Importance for Predicting Price')\n",
    "plt.xlabel('Importance')\n",
    "plt.ylabel('Feature')\n",
    "plt.show()\n"
   ]
  },
  {
   "cell_type": "code",
   "metadata": {
    "ExecuteTime": {
     "end_time": "2024-07-18T23:35:05.707942Z",
     "start_time": "2024-07-18T23:35:05.541118Z"
    }
   },
   "source": [
    "#Removing the features which has zero importance\n",
    "airbnb_df.drop(['wifi_amenity','phone_verification','has_availability','refrigerator_amenity','photographer_verification'], axis=1, inplace=True)\n"
   ],
   "outputs": [
    {
     "ename": "KeyError",
     "evalue": "\"['wifi_amenity', 'phone_verification', 'has_availability', 'refrigerator_amenity', 'photographer_verification'] not found in axis\"",
     "output_type": "error",
     "traceback": [
      "\u001B[0;31m---------------------------------------------------------------------------\u001B[0m",
      "\u001B[0;31mKeyError\u001B[0m                                  Traceback (most recent call last)",
      "Cell \u001B[0;32mIn[203], line 2\u001B[0m\n\u001B[1;32m      1\u001B[0m \u001B[38;5;66;03m#Removing the features which has zero importance\u001B[39;00m\n\u001B[0;32m----> 2\u001B[0m \u001B[43mairbnb_df\u001B[49m\u001B[38;5;241;43m.\u001B[39;49m\u001B[43mdrop\u001B[49m\u001B[43m(\u001B[49m\u001B[43m[\u001B[49m\u001B[38;5;124;43m'\u001B[39;49m\u001B[38;5;124;43mwifi_amenity\u001B[39;49m\u001B[38;5;124;43m'\u001B[39;49m\u001B[43m,\u001B[49m\u001B[38;5;124;43m'\u001B[39;49m\u001B[38;5;124;43mphone_verification\u001B[39;49m\u001B[38;5;124;43m'\u001B[39;49m\u001B[43m,\u001B[49m\u001B[38;5;124;43m'\u001B[39;49m\u001B[38;5;124;43mhas_availability\u001B[39;49m\u001B[38;5;124;43m'\u001B[39;49m\u001B[43m,\u001B[49m\u001B[38;5;124;43m'\u001B[39;49m\u001B[38;5;124;43mrefrigerator_amenity\u001B[39;49m\u001B[38;5;124;43m'\u001B[39;49m\u001B[43m,\u001B[49m\u001B[38;5;124;43m'\u001B[39;49m\u001B[38;5;124;43mphotographer_verification\u001B[39;49m\u001B[38;5;124;43m'\u001B[39;49m\u001B[43m]\u001B[49m\u001B[43m,\u001B[49m\u001B[43m \u001B[49m\u001B[43maxis\u001B[49m\u001B[38;5;241;43m=\u001B[39;49m\u001B[38;5;241;43m1\u001B[39;49m\u001B[43m,\u001B[49m\u001B[43m \u001B[49m\u001B[43minplace\u001B[49m\u001B[38;5;241;43m=\u001B[39;49m\u001B[38;5;28;43;01mTrue\u001B[39;49;00m\u001B[43m)\u001B[49m\n",
      "File \u001B[0;32m/Library/Frameworks/Python.framework/Versions/3.11/lib/python3.11/site-packages/pandas/core/frame.py:5568\u001B[0m, in \u001B[0;36mDataFrame.drop\u001B[0;34m(self, labels, axis, index, columns, level, inplace, errors)\u001B[0m\n\u001B[1;32m   5420\u001B[0m \u001B[38;5;28;01mdef\u001B[39;00m \u001B[38;5;21mdrop\u001B[39m(\n\u001B[1;32m   5421\u001B[0m     \u001B[38;5;28mself\u001B[39m,\n\u001B[1;32m   5422\u001B[0m     labels: IndexLabel \u001B[38;5;241m|\u001B[39m \u001B[38;5;28;01mNone\u001B[39;00m \u001B[38;5;241m=\u001B[39m \u001B[38;5;28;01mNone\u001B[39;00m,\n\u001B[0;32m   (...)\u001B[0m\n\u001B[1;32m   5429\u001B[0m     errors: IgnoreRaise \u001B[38;5;241m=\u001B[39m \u001B[38;5;124m\"\u001B[39m\u001B[38;5;124mraise\u001B[39m\u001B[38;5;124m\"\u001B[39m,\n\u001B[1;32m   5430\u001B[0m ) \u001B[38;5;241m-\u001B[39m\u001B[38;5;241m>\u001B[39m DataFrame \u001B[38;5;241m|\u001B[39m \u001B[38;5;28;01mNone\u001B[39;00m:\n\u001B[1;32m   5431\u001B[0m \u001B[38;5;250m    \u001B[39m\u001B[38;5;124;03m\"\"\"\u001B[39;00m\n\u001B[1;32m   5432\u001B[0m \u001B[38;5;124;03m    Drop specified labels from rows or columns.\u001B[39;00m\n\u001B[1;32m   5433\u001B[0m \n\u001B[0;32m   (...)\u001B[0m\n\u001B[1;32m   5566\u001B[0m \u001B[38;5;124;03m            weight  1.0     0.8\u001B[39;00m\n\u001B[1;32m   5567\u001B[0m \u001B[38;5;124;03m    \"\"\"\u001B[39;00m\n\u001B[0;32m-> 5568\u001B[0m     \u001B[38;5;28;01mreturn\u001B[39;00m \u001B[38;5;28;43msuper\u001B[39;49m\u001B[43m(\u001B[49m\u001B[43m)\u001B[49m\u001B[38;5;241;43m.\u001B[39;49m\u001B[43mdrop\u001B[49m\u001B[43m(\u001B[49m\n\u001B[1;32m   5569\u001B[0m \u001B[43m        \u001B[49m\u001B[43mlabels\u001B[49m\u001B[38;5;241;43m=\u001B[39;49m\u001B[43mlabels\u001B[49m\u001B[43m,\u001B[49m\n\u001B[1;32m   5570\u001B[0m \u001B[43m        \u001B[49m\u001B[43maxis\u001B[49m\u001B[38;5;241;43m=\u001B[39;49m\u001B[43maxis\u001B[49m\u001B[43m,\u001B[49m\n\u001B[1;32m   5571\u001B[0m \u001B[43m        \u001B[49m\u001B[43mindex\u001B[49m\u001B[38;5;241;43m=\u001B[39;49m\u001B[43mindex\u001B[49m\u001B[43m,\u001B[49m\n\u001B[1;32m   5572\u001B[0m \u001B[43m        \u001B[49m\u001B[43mcolumns\u001B[49m\u001B[38;5;241;43m=\u001B[39;49m\u001B[43mcolumns\u001B[49m\u001B[43m,\u001B[49m\n\u001B[1;32m   5573\u001B[0m \u001B[43m        \u001B[49m\u001B[43mlevel\u001B[49m\u001B[38;5;241;43m=\u001B[39;49m\u001B[43mlevel\u001B[49m\u001B[43m,\u001B[49m\n\u001B[1;32m   5574\u001B[0m \u001B[43m        \u001B[49m\u001B[43minplace\u001B[49m\u001B[38;5;241;43m=\u001B[39;49m\u001B[43minplace\u001B[49m\u001B[43m,\u001B[49m\n\u001B[1;32m   5575\u001B[0m \u001B[43m        \u001B[49m\u001B[43merrors\u001B[49m\u001B[38;5;241;43m=\u001B[39;49m\u001B[43merrors\u001B[49m\u001B[43m,\u001B[49m\n\u001B[1;32m   5576\u001B[0m \u001B[43m    \u001B[49m\u001B[43m)\u001B[49m\n",
      "File \u001B[0;32m/Library/Frameworks/Python.framework/Versions/3.11/lib/python3.11/site-packages/pandas/core/generic.py:4785\u001B[0m, in \u001B[0;36mNDFrame.drop\u001B[0;34m(self, labels, axis, index, columns, level, inplace, errors)\u001B[0m\n\u001B[1;32m   4783\u001B[0m \u001B[38;5;28;01mfor\u001B[39;00m axis, labels \u001B[38;5;129;01min\u001B[39;00m axes\u001B[38;5;241m.\u001B[39mitems():\n\u001B[1;32m   4784\u001B[0m     \u001B[38;5;28;01mif\u001B[39;00m labels \u001B[38;5;129;01mis\u001B[39;00m \u001B[38;5;129;01mnot\u001B[39;00m \u001B[38;5;28;01mNone\u001B[39;00m:\n\u001B[0;32m-> 4785\u001B[0m         obj \u001B[38;5;241m=\u001B[39m \u001B[43mobj\u001B[49m\u001B[38;5;241;43m.\u001B[39;49m\u001B[43m_drop_axis\u001B[49m\u001B[43m(\u001B[49m\u001B[43mlabels\u001B[49m\u001B[43m,\u001B[49m\u001B[43m \u001B[49m\u001B[43maxis\u001B[49m\u001B[43m,\u001B[49m\u001B[43m \u001B[49m\u001B[43mlevel\u001B[49m\u001B[38;5;241;43m=\u001B[39;49m\u001B[43mlevel\u001B[49m\u001B[43m,\u001B[49m\u001B[43m \u001B[49m\u001B[43merrors\u001B[49m\u001B[38;5;241;43m=\u001B[39;49m\u001B[43merrors\u001B[49m\u001B[43m)\u001B[49m\n\u001B[1;32m   4787\u001B[0m \u001B[38;5;28;01mif\u001B[39;00m inplace:\n\u001B[1;32m   4788\u001B[0m     \u001B[38;5;28mself\u001B[39m\u001B[38;5;241m.\u001B[39m_update_inplace(obj)\n",
      "File \u001B[0;32m/Library/Frameworks/Python.framework/Versions/3.11/lib/python3.11/site-packages/pandas/core/generic.py:4827\u001B[0m, in \u001B[0;36mNDFrame._drop_axis\u001B[0;34m(self, labels, axis, level, errors, only_slice)\u001B[0m\n\u001B[1;32m   4825\u001B[0m         new_axis \u001B[38;5;241m=\u001B[39m axis\u001B[38;5;241m.\u001B[39mdrop(labels, level\u001B[38;5;241m=\u001B[39mlevel, errors\u001B[38;5;241m=\u001B[39merrors)\n\u001B[1;32m   4826\u001B[0m     \u001B[38;5;28;01melse\u001B[39;00m:\n\u001B[0;32m-> 4827\u001B[0m         new_axis \u001B[38;5;241m=\u001B[39m \u001B[43maxis\u001B[49m\u001B[38;5;241;43m.\u001B[39;49m\u001B[43mdrop\u001B[49m\u001B[43m(\u001B[49m\u001B[43mlabels\u001B[49m\u001B[43m,\u001B[49m\u001B[43m \u001B[49m\u001B[43merrors\u001B[49m\u001B[38;5;241;43m=\u001B[39;49m\u001B[43merrors\u001B[49m\u001B[43m)\u001B[49m\n\u001B[1;32m   4828\u001B[0m     indexer \u001B[38;5;241m=\u001B[39m axis\u001B[38;5;241m.\u001B[39mget_indexer(new_axis)\n\u001B[1;32m   4830\u001B[0m \u001B[38;5;66;03m# Case for non-unique axis\u001B[39;00m\n\u001B[1;32m   4831\u001B[0m \u001B[38;5;28;01melse\u001B[39;00m:\n",
      "File \u001B[0;32m/Library/Frameworks/Python.framework/Versions/3.11/lib/python3.11/site-packages/pandas/core/indexes/base.py:7070\u001B[0m, in \u001B[0;36mIndex.drop\u001B[0;34m(self, labels, errors)\u001B[0m\n\u001B[1;32m   7068\u001B[0m \u001B[38;5;28;01mif\u001B[39;00m mask\u001B[38;5;241m.\u001B[39many():\n\u001B[1;32m   7069\u001B[0m     \u001B[38;5;28;01mif\u001B[39;00m errors \u001B[38;5;241m!=\u001B[39m \u001B[38;5;124m\"\u001B[39m\u001B[38;5;124mignore\u001B[39m\u001B[38;5;124m\"\u001B[39m:\n\u001B[0;32m-> 7070\u001B[0m         \u001B[38;5;28;01mraise\u001B[39;00m \u001B[38;5;167;01mKeyError\u001B[39;00m(\u001B[38;5;124mf\u001B[39m\u001B[38;5;124m\"\u001B[39m\u001B[38;5;132;01m{\u001B[39;00mlabels[mask]\u001B[38;5;241m.\u001B[39mtolist()\u001B[38;5;132;01m}\u001B[39;00m\u001B[38;5;124m not found in axis\u001B[39m\u001B[38;5;124m\"\u001B[39m)\n\u001B[1;32m   7071\u001B[0m     indexer \u001B[38;5;241m=\u001B[39m indexer[\u001B[38;5;241m~\u001B[39mmask]\n\u001B[1;32m   7072\u001B[0m \u001B[38;5;28;01mreturn\u001B[39;00m \u001B[38;5;28mself\u001B[39m\u001B[38;5;241m.\u001B[39mdelete(indexer)\n",
      "\u001B[0;31mKeyError\u001B[0m: \"['wifi_amenity', 'phone_verification', 'has_availability', 'refrigerator_amenity', 'photographer_verification'] not found in axis\""
     ]
    }
   ],
   "execution_count": 203
  },
  {
   "cell_type": "code",
   "execution_count": 179,
   "metadata": {
    "ExecuteTime": {
     "end_time": "2024-07-18T23:14:10.339851Z",
     "start_time": "2024-07-18T23:14:10.314607Z"
    }
   },
   "outputs": [
    {
     "data": {
      "text/plain": [
       "(33417, 50)"
      ]
     },
     "execution_count": 179,
     "metadata": {},
     "output_type": "execute_result"
    }
   ],
   "source": [
    "airbnb_df.shape"
   ]
  },
  {
   "cell_type": "code",
   "execution_count": 187,
   "metadata": {
    "ExecuteTime": {
     "end_time": "2024-07-18T23:20:36.557435Z",
     "start_time": "2024-07-18T23:20:35.006046Z"
    }
   },
   "outputs": [
    {
     "data": {
      "image/png": "[encoded data removed]",
      "text/plain": [
       "<Figure size 1000x600 with 1 Axes>"
      ]
     },
     "metadata": {},
     "output_type": "display_data"
    },
    {
     "data": {
      "image/png": "[encoded data removed]",
      "text/plain": [
       "<Figure size 1000x600 with 1 Axes>"
      ]
     },
     "metadata": {},
     "output_type": "display_data"
    },
    {
     "name": "stdout",
     "output_type": "stream",
     "text": [
      "Cumulative Explained Variance Ratio:\n",
      "Components: 1, Cumulative Explained Variance: 0.1027\n",
      "Components: 2, Cumulative Explained Variance: 0.1780\n",
      "Components: 3, Cumulative Explained Variance: 0.2455\n",
      "Components: 4, Cumulative Explained Variance: 0.3065\n",
      "Components: 5, Cumulative Explained Variance: 0.3524\n",
      "Components: 6, Cumulative Explained Variance: 0.3959\n",
      "Components: 7, Cumulative Explained Variance: 0.4368\n",
      "Components: 8, Cumulative Explained Variance: 0.4712\n",
      "Components: 9, Cumulative Explained Variance: 0.5019\n",
      "Components: 10, Cumulative Explained Variance: 0.5316\n",
      "Components: 11, Cumulative Explained Variance: 0.5561\n",
      "Components: 12, Cumulative Explained Variance: 0.5786\n",
      "Components: 13, Cumulative Explained Variance: 0.6005\n",
      "Components: 14, Cumulative Explained Variance: 0.6218\n",
      "Components: 15, Cumulative Explained Variance: 0.6421\n",
      "Components: 16, Cumulative Explained Variance: 0.6616\n",
      "Components: 17, Cumulative Explained Variance: 0.6804\n",
      "Components: 18, Cumulative Explained Variance: 0.6988\n",
      "Components: 19, Cumulative Explained Variance: 0.7169\n",
      "Components: 20, Cumulative Explained Variance: 0.7341\n",
      "Components: 21, Cumulative Explained Variance: 0.7509\n",
      "Components: 22, Cumulative Explained Variance: 0.7669\n",
      "Components: 23, Cumulative Explained Variance: 0.7828\n",
      "Components: 24, Cumulative Explained Variance: 0.7979\n",
      "Components: 25, Cumulative Explained Variance: 0.8126\n",
      "Components: 26, Cumulative Explained Variance: 0.8264\n",
      "Components: 27, Cumulative Explained Variance: 0.8400\n",
      "Components: 28, Cumulative Explained Variance: 0.8528\n",
      "Components: 29, Cumulative Explained Variance: 0.8655\n",
      "Components: 30, Cumulative Explained Variance: 0.8781\n",
      "Components: 31, Cumulative Explained Variance: 0.8904\n",
      "Components: 32, Cumulative Explained Variance: 0.9018\n",
      "Components: 33, Cumulative Explained Variance: 0.9129\n",
      "Components: 34, Cumulative Explained Variance: 0.9231\n",
      "Components: 35, Cumulative Explained Variance: 0.9330\n",
      "Components: 36, Cumulative Explained Variance: 0.9422\n",
      "Components: 37, Cumulative Explained Variance: 0.9500\n",
      "Components: 38, Cumulative Explained Variance: 0.9569\n",
      "Components: 39, Cumulative Explained Variance: 0.9635\n",
      "Components: 40, Cumulative Explained Variance: 0.9697\n",
      "Components: 41, Cumulative Explained Variance: 0.9758\n",
      "Components: 42, Cumulative Explained Variance: 0.9808\n",
      "Components: 43, Cumulative Explained Variance: 0.9846\n",
      "Components: 44, Cumulative Explained Variance: 0.9882\n",
      "Components: 45, Cumulative Explained Variance: 0.9917\n",
      "Components: 46, Cumulative Explained Variance: 0.9948\n",
      "Components: 47, Cumulative Explained Variance: 0.9974\n",
      "Components: 48, Cumulative Explained Variance: 0.9995\n",
      "Components: 49, Cumulative Explained Variance: 1.0000\n"
     ]
    }
   ],
   "source": [
    "import pandas as pd\n",
    "from sklearn.decomposition import PCA\n",
    "from sklearn.preprocessing import StandardScaler\n",
    "import matplotlib.pyplot as plt\n",
    "\n",
    "# Assuming pca_df is already created and contains all necessary features and target variable\n",
    "\n",
    "# Separate the features and the target variable\n",
    "X = airbnb_df.drop(columns=['price'])\n",
    "\n",
    "# Standardize the features (mean = 0 and variance = 1)\n",
    "scaler = StandardScaler()\n",
    "X_scaled = scaler.fit_transform(X)\n",
    "\n",
    "# Initialize PCA\n",
    "pca = PCA()\n",
    "\n",
    "# Fit PCA on the scaled features\n",
    "pca.fit(X_scaled)\n",
    "\n",
    "# Plot the explained variance ratio\n",
    "plt.figure(figsize=(10, 6))\n",
    "plt.plot(range(1, X_scaled.shape[1] + 1), pca.explained_variance_ratio_, marker='o', linestyle='--')\n",
    "plt.xlabel('Number of Components')\n",
    "plt.ylabel('Explained Variance Ratio')\n",
    "plt.title('Explained Variance Ratio of PCA Components')\n",
    "plt.grid(True)\n",
    "plt.show()\n",
    "\n",
    "# Plot cumulative explained variance ratio\n",
    "cumulative_variance = pca.explained_variance_ratio_.cumsum()\n",
    "\n",
    "plt.figure(figsize=(10, 6))\n",
    "plt.plot(range(1, X_scaled.shape[1] + 1), cumulative_variance, marker='o', linestyle='--')\n",
    "plt.xlabel('Number of Components')\n",
    "plt.ylabel('Cumulative Explained Variance')\n",
    "plt.title('Cumulative Explained Variance of PCA Components')\n",
    "plt.grid(True)\n",
    "plt.show()\n",
    "\n",
    "# Print the cumulative explained variance ratio\n",
    "print(\"Cumulative Explained Variance Ratio:\")\n",
    "for i, variance in enumerate(cumulative_variance):\n",
    "    print(f\"Components: {i + 1}, Cumulative Explained Variance: {variance:.4f}\")"
   ]
  },
  {
   "cell_type": "code",
   "execution_count": null,
   "metadata": {},
   "outputs": [],
   "source": []
  },
  {
   "cell_type": "markdown",
   "metadata": {},
   "source": [
    "### Dimentionality Reduction"
   ]
  },
  {
   "cell_type": "code",
   "execution_count": 188,
   "metadata": {
    "ExecuteTime": {
     "end_time": "2024-07-18T23:21:26.213746Z",
     "start_time": "2024-07-18T23:21:22.498807Z"
    }
   },
   "outputs": [
    {
     "data": {
      "text/plain": [
       "(33417, 36)"
      ]
     },
     "execution_count": 188,
     "metadata": {},
     "output_type": "execute_result"
    }
   ],
   "source": [
    "from sklearn.decomposition import PCA\n",
    "from sklearn.preprocessing import StandardScaler\n",
    "\n",
    "\n",
    "scaler = StandardScaler()\n",
    "scaler.fit(airbnb_df)\n",
    "scaled_df = scaler.transform(airbnb_df)\n",
    "scaled_df\n",
    "\n",
    "# Initialize PCA with desired number of components\n",
    "pca = PCA(n_components=36)\n",
    "\n",
    "# Fit PCA and transform the features\n",
    "x_pca = pca.fit_transform(scaled_df)\n",
    "\n",
    "# Add PCA components to DataFrame\n",
    "x_pca.shape\n"
   ]
  },
  {
   "cell_type": "markdown",
   "metadata": {},
   "source": [
    "## Model Building"
   ]
  },
  {
   "cell_type": "code",
   "execution_count": 189,
   "metadata": {
    "ExecuteTime": {
     "end_time": "2024-07-18T23:21:28.119429Z",
     "start_time": "2024-07-18T23:21:28.098825Z"
    }
   },
   "outputs": [
    {
     "data": {
      "text/plain": [
       "((26733, 36), (6684, 36), (26733,), (6684,))"
      ]
     },
     "execution_count": 189,
     "metadata": {},
     "output_type": "execute_result"
    }
   ],
   "source": [
    "#Split the data into training and testing data\n",
    "from sklearn.model_selection import train_test_split\n",
    "from sklearn.linear_model import LinearRegression,Lasso,Ridge,ElasticNet\n",
    "from sklearn.metrics import r2_score, mean_absolute_error, mean_squared_error\n",
    "\n",
    "X = x_pca #features\n",
    "y = airbnb_df['price'] #target\n",
    "\n",
    "#80/20 split\n",
    "X_train, X_test, y_train, y_test = train_test_split(X, y, test_size=0.2, random_state=42)\n",
    "X_train.shape, X_test.shape, y_train.shape, y_test.shape"
   ]
  },
  {
   "cell_type": "code",
   "execution_count": 190,
   "metadata": {
    "ExecuteTime": {
     "end_time": "2024-07-18T23:21:30.400149Z",
     "start_time": "2024-07-18T23:21:30.223387Z"
    }
   },
   "outputs": [
    {
     "name": "stdout",
     "output_type": "stream",
     "text": [
      "Linear Regression Fitting:\n",
      "R2 Score: 0.8097633675480619\n",
      "MAE: 0.20754913621585616\n",
      "MSE: 0.07017480137391971\n",
      "RMSE: 0.26490526867905007\n"
     ]
    }
   ],
   "source": [
    "#Linear Regression\n",
    "model = LinearRegression()\n",
    "# Training the model\n",
    "model.fit(X_train, y_train)\n",
    "\n",
    "# Predicting the price\n",
    "y_pred = model.predict(X_test)\n",
    "\n",
    "# Calculating and printing the evaluation metrices values\n",
    "print(f'Linear Regression Fitting:')\n",
    "print(f'R2 Score: {r2_score(y_test, y_pred)}') # How well the variation in target variable is successfully defined by variation in input features.\n",
    "print(f'MAE: {mean_absolute_error(y_test, y_pred)}') # Best when there are many outliers\n",
    "print(f'MSE: {mean_squared_error(y_test, y_pred)}') # Best when there are less outliers\n",
    "print(f'RMSE: {np.sqrt(mean_squared_error(y_test, y_pred))}')"
   ]
  },
  {
   "cell_type": "code",
   "execution_count": 193,
   "metadata": {
    "ExecuteTime": {
     "end_time": "2024-07-18T23:22:28.962491Z",
     "start_time": "2024-07-18T23:22:28.528637Z"
    }
   },
   "outputs": [
    {
     "ename": "ValueError",
     "evalue": "alphas[0] == 0.0, must be > 0.0.",
     "output_type": "error",
     "traceback": [
      "\u001B[0;31m---------------------------------------------------------------------------\u001B[0m",
      "\u001B[0;31mValueError\u001B[0m                                Traceback (most recent call last)",
      "Cell \u001B[0;32mIn[193], line 13\u001B[0m\n\u001B[1;32m     11\u001B[0m model \u001B[38;5;241m=\u001B[39m RidgeCV(alphas\u001B[38;5;241m=\u001B[39marange(\u001B[38;5;241m0\u001B[39m, \u001B[38;5;241m1\u001B[39m, \u001B[38;5;241m0.01\u001B[39m), cv\u001B[38;5;241m=\u001B[39mcv, scoring\u001B[38;5;241m=\u001B[39m\u001B[38;5;124m'\u001B[39m\u001B[38;5;124mneg_mean_absolute_error\u001B[39m\u001B[38;5;124m'\u001B[39m)\n\u001B[1;32m     12\u001B[0m \u001B[38;5;66;03m# Training the model\u001B[39;00m\n\u001B[0;32m---> 13\u001B[0m \u001B[43mmodel\u001B[49m\u001B[38;5;241;43m.\u001B[39;49m\u001B[43mfit\u001B[49m\u001B[43m(\u001B[49m\u001B[43mX_train\u001B[49m\u001B[43m,\u001B[49m\u001B[43m \u001B[49m\u001B[43my_train\u001B[49m\u001B[43m)\u001B[49m\n\u001B[1;32m     15\u001B[0m \u001B[38;5;66;03m# summarize chosen configuration\u001B[39;00m\n\u001B[1;32m     16\u001B[0m \u001B[38;5;28mprint\u001B[39m(\u001B[38;5;124m'\u001B[39m\u001B[38;5;124malpha: \u001B[39m\u001B[38;5;132;01m%f\u001B[39;00m\u001B[38;5;124m'\u001B[39m \u001B[38;5;241m%\u001B[39m model\u001B[38;5;241m.\u001B[39malpha_)\n",
      "File \u001B[0;32m/Library/Frameworks/Python.framework/Versions/3.11/lib/python3.11/site-packages/sklearn/base.py:1151\u001B[0m, in \u001B[0;36m_fit_context.<locals>.decorator.<locals>.wrapper\u001B[0;34m(estimator, *args, **kwargs)\u001B[0m\n\u001B[1;32m   1144\u001B[0m     estimator\u001B[38;5;241m.\u001B[39m_validate_params()\n\u001B[1;32m   1146\u001B[0m \u001B[38;5;28;01mwith\u001B[39;00m config_context(\n\u001B[1;32m   1147\u001B[0m     skip_parameter_validation\u001B[38;5;241m=\u001B[39m(\n\u001B[1;32m   1148\u001B[0m         prefer_skip_nested_validation \u001B[38;5;129;01mor\u001B[39;00m global_skip_validation\n\u001B[1;32m   1149\u001B[0m     )\n\u001B[1;32m   1150\u001B[0m ):\n\u001B[0;32m-> 1151\u001B[0m     \u001B[38;5;28;01mreturn\u001B[39;00m \u001B[43mfit_method\u001B[49m\u001B[43m(\u001B[49m\u001B[43mestimator\u001B[49m\u001B[43m,\u001B[49m\u001B[43m \u001B[49m\u001B[38;5;241;43m*\u001B[39;49m\u001B[43margs\u001B[49m\u001B[43m,\u001B[49m\u001B[43m \u001B[49m\u001B[38;5;241;43m*\u001B[39;49m\u001B[38;5;241;43m*\u001B[39;49m\u001B[43mkwargs\u001B[49m\u001B[43m)\u001B[49m\n",
      "File \u001B[0;32m/Library/Frameworks/Python.framework/Versions/3.11/lib/python3.11/site-packages/sklearn/linear_model/_ridge.py:2380\u001B[0m, in \u001B[0;36mRidgeCV.fit\u001B[0;34m(self, X, y, sample_weight)\u001B[0m\n\u001B[1;32m   2350\u001B[0m \u001B[38;5;129m@_fit_context\u001B[39m(prefer_skip_nested_validation\u001B[38;5;241m=\u001B[39m\u001B[38;5;28;01mTrue\u001B[39;00m)\n\u001B[1;32m   2351\u001B[0m \u001B[38;5;28;01mdef\u001B[39;00m \u001B[38;5;21mfit\u001B[39m(\u001B[38;5;28mself\u001B[39m, X, y, sample_weight\u001B[38;5;241m=\u001B[39m\u001B[38;5;28;01mNone\u001B[39;00m):\n\u001B[1;32m   2352\u001B[0m \u001B[38;5;250m    \u001B[39m\u001B[38;5;124;03m\"\"\"Fit Ridge regression model with cv.\u001B[39;00m\n\u001B[1;32m   2353\u001B[0m \n\u001B[1;32m   2354\u001B[0m \u001B[38;5;124;03m    Parameters\u001B[39;00m\n\u001B[0;32m   (...)\u001B[0m\n\u001B[1;32m   2378\u001B[0m \u001B[38;5;124;03m    the validation score.\u001B[39;00m\n\u001B[1;32m   2379\u001B[0m \u001B[38;5;124;03m    \"\"\"\u001B[39;00m\n\u001B[0;32m-> 2380\u001B[0m     \u001B[38;5;28;43msuper\u001B[39;49m\u001B[43m(\u001B[49m\u001B[43m)\u001B[49m\u001B[38;5;241;43m.\u001B[39;49m\u001B[43mfit\u001B[49m\u001B[43m(\u001B[49m\u001B[43mX\u001B[49m\u001B[43m,\u001B[49m\u001B[43m \u001B[49m\u001B[43my\u001B[49m\u001B[43m,\u001B[49m\u001B[43m \u001B[49m\u001B[43msample_weight\u001B[49m\u001B[38;5;241;43m=\u001B[39;49m\u001B[43msample_weight\u001B[49m\u001B[43m)\u001B[49m\n\u001B[1;32m   2381\u001B[0m     \u001B[38;5;28;01mreturn\u001B[39;00m \u001B[38;5;28mself\u001B[39m\n",
      "File \u001B[0;32m/Library/Frameworks/Python.framework/Versions/3.11/lib/python3.11/site-packages/sklearn/linear_model/_ridge.py:2167\u001B[0m, in \u001B[0;36m_BaseRidgeCV.fit\u001B[0;34m(self, X, y, sample_weight)\u001B[0m\n\u001B[1;32m   2165\u001B[0m \u001B[38;5;28;01mif\u001B[39;00m n_alphas \u001B[38;5;241m!=\u001B[39m \u001B[38;5;241m1\u001B[39m:\n\u001B[1;32m   2166\u001B[0m     \u001B[38;5;28;01mfor\u001B[39;00m index, alpha \u001B[38;5;129;01min\u001B[39;00m \u001B[38;5;28menumerate\u001B[39m(\u001B[38;5;28mself\u001B[39m\u001B[38;5;241m.\u001B[39malphas):\n\u001B[0;32m-> 2167\u001B[0m         alpha \u001B[38;5;241m=\u001B[39m \u001B[43mcheck_scalar_alpha\u001B[49m\u001B[43m(\u001B[49m\u001B[43malpha\u001B[49m\u001B[43m,\u001B[49m\u001B[43m \u001B[49m\u001B[38;5;124;43mf\u001B[39;49m\u001B[38;5;124;43m\"\u001B[39;49m\u001B[38;5;124;43malphas[\u001B[39;49m\u001B[38;5;132;43;01m{\u001B[39;49;00m\u001B[43mindex\u001B[49m\u001B[38;5;132;43;01m}\u001B[39;49;00m\u001B[38;5;124;43m]\u001B[39;49m\u001B[38;5;124;43m\"\u001B[39;49m\u001B[43m)\u001B[49m\n\u001B[1;32m   2168\u001B[0m \u001B[38;5;28;01melse\u001B[39;00m:\n\u001B[1;32m   2169\u001B[0m     \u001B[38;5;28mself\u001B[39m\u001B[38;5;241m.\u001B[39malphas[\u001B[38;5;241m0\u001B[39m] \u001B[38;5;241m=\u001B[39m check_scalar_alpha(\u001B[38;5;28mself\u001B[39m\u001B[38;5;241m.\u001B[39malphas[\u001B[38;5;241m0\u001B[39m], \u001B[38;5;124m\"\u001B[39m\u001B[38;5;124malphas\u001B[39m\u001B[38;5;124m\"\u001B[39m)\n",
      "File \u001B[0;32m/Library/Frameworks/Python.framework/Versions/3.11/lib/python3.11/site-packages/sklearn/utils/validation.py:1598\u001B[0m, in \u001B[0;36mcheck_scalar\u001B[0;34m(x, name, target_type, min_val, max_val, include_boundaries)\u001B[0m\n\u001B[1;32m   1594\u001B[0m comparison_operator \u001B[38;5;241m=\u001B[39m (\n\u001B[1;32m   1595\u001B[0m     operator\u001B[38;5;241m.\u001B[39mlt \u001B[38;5;28;01mif\u001B[39;00m include_boundaries \u001B[38;5;129;01min\u001B[39;00m (\u001B[38;5;124m\"\u001B[39m\u001B[38;5;124mleft\u001B[39m\u001B[38;5;124m\"\u001B[39m, \u001B[38;5;124m\"\u001B[39m\u001B[38;5;124mboth\u001B[39m\u001B[38;5;124m\"\u001B[39m) \u001B[38;5;28;01melse\u001B[39;00m operator\u001B[38;5;241m.\u001B[39mle\n\u001B[1;32m   1596\u001B[0m )\n\u001B[1;32m   1597\u001B[0m \u001B[38;5;28;01mif\u001B[39;00m min_val \u001B[38;5;129;01mis\u001B[39;00m \u001B[38;5;129;01mnot\u001B[39;00m \u001B[38;5;28;01mNone\u001B[39;00m \u001B[38;5;129;01mand\u001B[39;00m comparison_operator(x, min_val):\n\u001B[0;32m-> 1598\u001B[0m     \u001B[38;5;28;01mraise\u001B[39;00m \u001B[38;5;167;01mValueError\u001B[39;00m(\n\u001B[1;32m   1599\u001B[0m         \u001B[38;5;124mf\u001B[39m\u001B[38;5;124m\"\u001B[39m\u001B[38;5;132;01m{\u001B[39;00mname\u001B[38;5;132;01m}\u001B[39;00m\u001B[38;5;124m == \u001B[39m\u001B[38;5;132;01m{\u001B[39;00mx\u001B[38;5;132;01m}\u001B[39;00m\u001B[38;5;124m, must be\u001B[39m\u001B[38;5;124m\"\u001B[39m\n\u001B[1;32m   1600\u001B[0m         \u001B[38;5;124mf\u001B[39m\u001B[38;5;124m\"\u001B[39m\u001B[38;5;124m \u001B[39m\u001B[38;5;132;01m{\u001B[39;00m\u001B[38;5;124m'\u001B[39m\u001B[38;5;124m>=\u001B[39m\u001B[38;5;124m'\u001B[39m\u001B[38;5;250m \u001B[39m\u001B[38;5;28;01mif\u001B[39;00m\u001B[38;5;250m \u001B[39minclude_boundaries\u001B[38;5;250m \u001B[39m\u001B[38;5;129;01min\u001B[39;00m\u001B[38;5;250m \u001B[39m(\u001B[38;5;124m'\u001B[39m\u001B[38;5;124mleft\u001B[39m\u001B[38;5;124m'\u001B[39m,\u001B[38;5;250m \u001B[39m\u001B[38;5;124m'\u001B[39m\u001B[38;5;124mboth\u001B[39m\u001B[38;5;124m'\u001B[39m)\u001B[38;5;250m \u001B[39m\u001B[38;5;28;01melse\u001B[39;00m\u001B[38;5;250m \u001B[39m\u001B[38;5;124m'\u001B[39m\u001B[38;5;124m>\u001B[39m\u001B[38;5;124m'\u001B[39m\u001B[38;5;132;01m}\u001B[39;00m\u001B[38;5;124m \u001B[39m\u001B[38;5;132;01m{\u001B[39;00mmin_val\u001B[38;5;132;01m}\u001B[39;00m\u001B[38;5;124m.\u001B[39m\u001B[38;5;124m\"\u001B[39m\n\u001B[1;32m   1601\u001B[0m     )\n\u001B[1;32m   1603\u001B[0m comparison_operator \u001B[38;5;241m=\u001B[39m (\n\u001B[1;32m   1604\u001B[0m     operator\u001B[38;5;241m.\u001B[39mgt \u001B[38;5;28;01mif\u001B[39;00m include_boundaries \u001B[38;5;129;01min\u001B[39;00m (\u001B[38;5;124m\"\u001B[39m\u001B[38;5;124mright\u001B[39m\u001B[38;5;124m\"\u001B[39m, \u001B[38;5;124m\"\u001B[39m\u001B[38;5;124mboth\u001B[39m\u001B[38;5;124m\"\u001B[39m) \u001B[38;5;28;01melse\u001B[39;00m operator\u001B[38;5;241m.\u001B[39mge\n\u001B[1;32m   1605\u001B[0m )\n\u001B[1;32m   1606\u001B[0m \u001B[38;5;28;01mif\u001B[39;00m max_val \u001B[38;5;129;01mis\u001B[39;00m \u001B[38;5;129;01mnot\u001B[39;00m \u001B[38;5;28;01mNone\u001B[39;00m \u001B[38;5;129;01mand\u001B[39;00m comparison_operator(x, max_val):\n",
      "\u001B[0;31mValueError\u001B[0m: alphas[0] == 0.0, must be > 0.0."
     ]
    }
   ],
   "source": [
    "# Ridge Regression\n",
    "from numpy import arange\n",
    "from sklearn.linear_model import RidgeCV\n",
    "from sklearn.model_selection import RepeatedKFold\n",
    "\n",
    "# define model evaluation method\n",
    "cv = RepeatedKFold(n_splits=10, n_repeats=3, random_state=5)\n",
    "\n",
    "model = RidgeCV(alphas=arange(0, 1, 0.01), cv=cv, scoring='neg_mean_absolute_error')\n",
    "# Training the model\n",
    "model.fit(X_train, y_train)\n",
    "\n",
    "# summarize chosen configuration\n",
    "print('alpha: %f' % model.alpha_)"
   ]
  },
  {
   "cell_type": "code",
   "execution_count": 194,
   "metadata": {
    "ExecuteTime": {
     "end_time": "2024-07-18T23:24:12.772906Z",
     "start_time": "2024-07-18T23:24:02.891029Z"
    }
   },
   "outputs": [
    {
     "name": "stdout",
     "output_type": "stream",
     "text": [
      "MAE: -0.208\n",
      "Config: {'alpha': 0.0}\n"
     ]
    }
   ],
   "source": [
    "from numpy import arange\n",
    "from pandas import read_csv\n",
    "from sklearn.model_selection import GridSearchCV\n",
    "from sklearn.model_selection import RepeatedKFold\n",
    "from sklearn.linear_model import Ridge\n",
    "\n",
    "# define model\n",
    "model = Ridge()\n",
    "# define model evaluation method\n",
    "cv = RepeatedKFold(n_splits=10, n_repeats=3, random_state=1)\n",
    "# define grid\n",
    "grid = dict()\n",
    "grid['alpha'] = arange(0, 1, 0.01)\n",
    "# define search\n",
    "search = GridSearchCV(model, grid, scoring='neg_mean_absolute_error', cv=cv, n_jobs=-1)\n",
    "# perform the search\n",
    "results = search.fit(X_train, y_train)\n",
    "# summarize\n",
    "print('MAE: %.3f' % results.best_score_)\n",
    "print('Config: %s' % results.best_params_)"
   ]
  },
  {
   "cell_type": "code",
   "execution_count": 192,
   "metadata": {
    "ExecuteTime": {
     "end_time": "2024-07-18T23:21:59.264226Z",
     "start_time": "2024-07-18T23:21:59.204138Z"
    }
   },
   "outputs": [
    {
     "name": "stdout",
     "output_type": "stream",
     "text": [
      "Ridge Regression Fitting:\n",
      "R2 Score: 0.8097631367470404\n",
      "MAE: 0.207549614493006\n",
      "MSE: 0.07017488651217953\n",
      "RMSE: 0.2649054293746724\n"
     ]
    }
   ],
   "source": [
    "# Ridge Regression\n",
    "\n",
    "model = Ridge()\n",
    "# Training the model\n",
    "model.fit(X_train, y_train)\n",
    "\n",
    "# Predicting the price\n",
    "y_pred = model.predict(X_test)\n",
    "\n",
    "# Calculating and printing the evaluation metrices values\n",
    "print(f'Ridge Regression Fitting:')\n",
    "print(f'R2 Score: {r2_score(y_test, y_pred)}') \n",
    "print(f'MAE: {mean_absolute_error(y_test, y_pred)}') \n",
    "print(f'MSE: {mean_squared_error(y_test, y_pred)}') \n",
    "print(f'RMSE: {np.sqrt(mean_squared_error(y_test, y_pred))}')"
   ]
  }
 ],
 "metadata": {
  "colab": {
   "provenance": []
  },
  "kernelspec": {
   "display_name": "Python 3 (ipykernel)",
   "language": "python",
   "name": "python3"
  },
  "language_info": {
   "name": "python"
  }
 },
 "nbformat": 4,
 "nbformat_minor": 0
}
