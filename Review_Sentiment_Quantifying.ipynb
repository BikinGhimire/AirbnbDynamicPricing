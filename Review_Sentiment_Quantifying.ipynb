{
 "cells": [
  {
   "cell_type": "code",
   "execution_count": 7,
   "metadata": {},
   "outputs": [
    {
     "name": "stdout",
     "output_type": "stream",
     "text": [
      "   listing_id     id        date  reviewer_id reviewer_name  \\\n",
      "0        2843   4289  2009-06-20        19193         Chris   \n",
      "1        2843  13823  2009-10-16        41509           Jen   \n",
      "2        2843  14469  2009-10-21        38737        Philip   \n",
      "3        2843  23933  2010-01-12        68023        Leslie   \n",
      "4        2843  28976  2010-03-10        87566          Joel   \n",
      "\n",
      "                                            comments  \n",
      "0  Terrific service and a very nice room- Gail is...  \n",
      "1  My first experience with airbnb couldn't have ...  \n",
      "2  I had an excellent time staying with Gail. I s...  \n",
      "3  Gail's rooms are clean and cozy. I was in Mont...  \n",
      "4  Gail was wonderful. She makes sure you are tak...  \n",
      "40889\n"
     ]
    }
   ],
   "source": [
    "import pandas as pd\n",
    "import os\n",
    "from Review_Quantifier import calculate_average_satisfaction\n",
    "\n",
    "rev_montreal = pd.read_csv('Dataset/Reviews/reviews_mont.csv')\n",
    "rev_newbrunswick = pd.read_csv('Dataset/Reviews/reviews_nbw.csv')\n",
    "rev_ottawa = pd.read_csv('Dataset/Reviews/reviews_ottawa.csv')\n",
    "rev_quebeccity = pd.read_csv('Dataset/Reviews/reviews_qubec.csv')\n",
    "rev_toronto = pd.read_csv('Dataset/Reviews/reviews_toronto.csv')\n",
    "rev_vancouver = pd.read_csv('Dataset/Reviews/reviews_vanc.csv')\n",
    "rev_victoria = pd.read_csv('Dataset/Reviews/reviews_victoria.csv')\n",
    "rev_winnipeg = pd.read_csv('Dataset/Reviews/reviews_winnipeg.csv')\n",
    "\n",
    "reviews_df=pd.concat([rev_montreal,rev_newbrunswick,rev_ottawa,rev_quebeccity,rev_toronto,rev_vancouver,rev_victoria,rev_winnipeg],ignore_index=True)\n",
    "\n",
    "print(reviews_df.head())\n",
    "reviews_df['comments'] = reviews_df['comments'].fillna('')\n",
    "reviews_df['comments'] = reviews_df['comments'].astype(str)\n",
    "unique_count = reviews_df['listing_id'].nunique()\n",
    "print(unique_count)\n",
    "\n"
   ]
  },
  {
   "cell_type": "code",
   "execution_count": 8,
   "metadata": {},
   "outputs": [
    {
     "name": "stdout",
     "output_type": "stream",
     "text": [
      "   listing_id  sentiment_score\n",
      "0        1419             0.93\n",
      "1        2843             0.70\n",
      "2        8077             0.91\n",
      "3       13188             0.81\n",
      "4       13358             0.81\n",
      "CSV file with listing sentiment scores has been created successfully.\n"
     ]
    }
   ],
   "source": [
    "grouped_df = reviews_df.groupby('listing_id')['comments'].apply(list).reset_index()\n",
    "grouped_df['sentiment_score'] = grouped_df['comments'].apply(calculate_average_satisfaction)\n",
    "final_df = grouped_df.drop(columns=['comments'])\n",
    "result = grouped_df[['listing_id', 'sentiment_score']]\n",
    "print(final_df.head())\n",
    "result.to_csv('Dataset/Sentiment/listing_sentiment_scores.csv', index=False)\n",
    "print(\"CSV file with listing sentiment scores has been created successfully.\")"
   ]
  }
 ],
 "metadata": {
  "kernelspec": {
   "display_name": "Python 3",
   "language": "python",
   "name": "python3"
  },
  "language_info": {
   "codemirror_mode": {
    "name": "ipython",
    "version": 3
   },
   "file_extension": ".py",
   "mimetype": "text/x-python",
   "name": "python",
   "nbconvert_exporter": "python",
   "pygments_lexer": "ipython3",
   "version": "3.12.2"
  }
 },
 "nbformat": 4,
 "nbformat_minor": 2
}
