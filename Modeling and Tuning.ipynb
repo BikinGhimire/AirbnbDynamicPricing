{
 "cells": [
  {
   "cell_type": "markdown",
   "id": "ef6f573fb9343632",
   "metadata": {},
   "source": [
    "1. Changed how amenities is extracted - small change\n",
    "2. Removed more features - small change\n",
    "3. increased train size - improvement in test r2 socre\n",
    "4. Removed one-hot from property_type, city, and room_type since LightGBM inherently supports categorical features\n",
    "5. Removed more unnecessary features\n",
    "6. Removed features that were having a negative impact\n",
    "7. Improved parameters - Reduced overfitting drastically"
   ]
  },
  {
   "cell_type": "code",
   "execution_count": 776,
   "id": "initial_id",
   "metadata": {
    "ExecuteTime": {
     "end_time": "2024-08-05T07:40:54.200025Z",
     "start_time": "2024-08-05T07:40:54.154642Z"
    },
    "collapsed": true
   },
   "outputs": [],
   "source": [
    "# Importing necessary libraries\n",
    "import pandas as pd\n",
    "import numpy as np\n",
    "import seaborn as sns\n",
    "import matplotlib.pyplot as plt\n",
    "import folium\n",
    "from sklearn.model_selection import train_test_split, GridSearchCV, RepeatedKFold\n",
    "from scipy import stats\n",
    "from datetime import datetime\n",
    "from sklearn.preprocessing import OrdinalEncoder, StandardScaler\n",
    "import re\n",
    "# import nltk\n",
    "from nltk.sentiment.vader import SentimentIntensityAnalyzer\n",
    "from sklearn.ensemble import RandomForestRegressor\n",
    "from sklearn.decomposition import PCA\n",
    "from sklearn.linear_model import LinearRegression, RidgeCV, Ridge\n",
    "from sklearn.metrics import r2_score, mean_absolute_error, mean_squared_error\n",
    "from numpy import logspace\n",
    "import lightgbm as lgb\n",
    "import xgboost as xgb\n",
    "from sklearn import ensemble\n",
    "import warnings\n",
    "warnings.filterwarnings('ignore')"
   ]
  },
  {
   "cell_type": "code",
   "execution_count": 777,
   "id": "e7bb2b3677a0f8d5",
   "metadata": {
    "ExecuteTime": {
     "end_time": "2024-08-05T07:40:57.513918Z",
     "start_time": "2024-08-05T07:40:54.579523Z"
    }
   },
   "outputs": [],
   "source": [
    "# Loading airbnb data of 8 cities\n",
    "montreal = pd.read_csv('Dataset/Airbnb/Montreal.csv')\n",
    "newbrunswick = pd.read_csv('Dataset/Airbnb/NewBrunswick.csv')\n",
    "ottawa = pd.read_csv('Dataset/Airbnb/Ottawa.csv')\n",
    "quebeccity = pd.read_csv('Dataset/Airbnb/QuebecCity.csv')\n",
    "toronto = pd.read_csv('Dataset/Airbnb/Toronto.csv')\n",
    "vancouver = pd.read_csv('Dataset/Airbnb/Vancouver.csv')\n",
    "victoria = pd.read_csv('Dataset/Airbnb/Victoria.csv')\n",
    "winnipeg = pd.read_csv('Dataset/Airbnb/Winnipeg.csv')\n",
    "\n",
    "# Adding a City column to each dataframes\n",
    "montreal['city'] = 'Montreal'\n",
    "newbrunswick['city'] = 'New Brunswick'\n",
    "ottawa['city'] = 'Ottawa'\n",
    "quebeccity['city'] = 'Quebec City'\n",
    "toronto['city'] = 'Toronto'\n",
    "vancouver['city'] = 'Vancouver'\n",
    "victoria['city'] = 'Victoria'\n",
    "winnipeg['city'] = 'Winnipeg'\n",
    "\n",
    "# Merging data from different cities to a single dataframe\n",
    "airbnb_df = pd.concat([montreal, newbrunswick, ottawa, quebeccity, toronto, vancouver, victoria, winnipeg], ignore_index=True)"
   ]
  },
  {
   "cell_type": "code",
   "execution_count": 779,
   "id": "9ea6c6b4a3034cca",
   "metadata": {
    "ExecuteTime": {
     "end_time": "2024-08-05T07:40:57.653436Z",
     "start_time": "2024-08-05T07:40:57.531436Z"
    }
   },
   "outputs": [],
   "source": [
    "# Loading the review sentiment scores\n",
    "reviews_df = pd.read_csv('Dataset/Sentiment/listing_sentiment_scores.csv')\n",
    "\n",
    "airbnb_df = pd.merge(airbnb_df, reviews_df, left_on='id', right_on='listing_id', how='left')"
   ]
  },
  {
   "cell_type": "code",
   "execution_count": 780,
   "id": "90ee08d875d963f7",
   "metadata": {
    "ExecuteTime": {
     "end_time": "2024-08-05T07:40:57.670654Z",
     "start_time": "2024-08-05T07:40:57.657240Z"
    }
   },
   "outputs": [
    {
     "data": {
      "text/html": [
       "<div>\n",
       "<style scoped>\n",
       "    .dataframe tbody tr th:only-of-type {\n",
       "        vertical-align: middle;\n",
       "    }\n",
       "\n",
       "    .dataframe tbody tr th {\n",
       "        vertical-align: top;\n",
       "    }\n",
       "\n",
       "    .dataframe thead th {\n",
       "        text-align: right;\n",
       "    }\n",
       "</style>\n",
       "<table border=\"1\" class=\"dataframe\">\n",
       "  <thead>\n",
       "    <tr style=\"text-align: right;\">\n",
       "      <th></th>\n",
       "      <th>id</th>\n",
       "      <th>listing_url</th>\n",
       "      <th>scrape_id</th>\n",
       "      <th>last_scraped</th>\n",
       "      <th>source</th>\n",
       "      <th>name</th>\n",
       "      <th>description</th>\n",
       "      <th>neighborhood_overview</th>\n",
       "      <th>picture_url</th>\n",
       "      <th>host_id</th>\n",
       "      <th>...</th>\n",
       "      <th>license</th>\n",
       "      <th>instant_bookable</th>\n",
       "      <th>calculated_host_listings_count</th>\n",
       "      <th>calculated_host_listings_count_entire_homes</th>\n",
       "      <th>calculated_host_listings_count_private_rooms</th>\n",
       "      <th>calculated_host_listings_count_shared_rooms</th>\n",
       "      <th>reviews_per_month</th>\n",
       "      <th>city</th>\n",
       "      <th>listing_id</th>\n",
       "      <th>sentiment_score</th>\n",
       "    </tr>\n",
       "  </thead>\n",
       "  <tbody>\n",
       "    <tr>\n",
       "      <th>0</th>\n",
       "      <td>29059</td>\n",
       "      <td>https://www.airbnb.com/rooms/29059</td>\n",
       "      <td>20240323015116</td>\n",
       "      <td>2024-03-23</td>\n",
       "      <td>city scrape</td>\n",
       "      <td>Lovely studio Quartier Latin</td>\n",
       "      <td>CITQ 267153&lt;br /&gt;Lovely studio with 1 closed r...</td>\n",
       "      <td>NaN</td>\n",
       "      <td>https://a0.muscache.com/pictures/736399/fa6c31...</td>\n",
       "      <td>125031</td>\n",
       "      <td>...</td>\n",
       "      <td>267153, expires: 2024-03-31</td>\n",
       "      <td>f</td>\n",
       "      <td>2</td>\n",
       "      <td>2</td>\n",
       "      <td>0</td>\n",
       "      <td>0</td>\n",
       "      <td>2.69</td>\n",
       "      <td>Montreal</td>\n",
       "      <td>29059.0</td>\n",
       "      <td>0.70</td>\n",
       "    </tr>\n",
       "    <tr>\n",
       "      <th>1</th>\n",
       "      <td>29061</td>\n",
       "      <td>https://www.airbnb.com/rooms/29061</td>\n",
       "      <td>20240323015116</td>\n",
       "      <td>2024-03-23</td>\n",
       "      <td>city scrape</td>\n",
       "      <td>Maison historique - Quartier Latin</td>\n",
       "      <td>Lovely historic house with plenty of period ch...</td>\n",
       "      <td>NaN</td>\n",
       "      <td>https://a0.muscache.com/pictures/9e59d417-4b6a...</td>\n",
       "      <td>125031</td>\n",
       "      <td>...</td>\n",
       "      <td>267153, expires: 2024-03-31</td>\n",
       "      <td>f</td>\n",
       "      <td>2</td>\n",
       "      <td>2</td>\n",
       "      <td>0</td>\n",
       "      <td>0</td>\n",
       "      <td>0.88</td>\n",
       "      <td>Montreal</td>\n",
       "      <td>29061.0</td>\n",
       "      <td>0.70</td>\n",
       "    </tr>\n",
       "    <tr>\n",
       "      <th>2</th>\n",
       "      <td>36301</td>\n",
       "      <td>https://www.airbnb.com/rooms/36301</td>\n",
       "      <td>20240323015116</td>\n",
       "      <td>2024-03-23</td>\n",
       "      <td>city scrape</td>\n",
       "      <td>Romantic &amp; peaceful Plateau  loft</td>\n",
       "      <td>Enjoy the best of Montreal  in this romantic, ...</td>\n",
       "      <td>The neighborhood is very lively while the stre...</td>\n",
       "      <td>https://a0.muscache.com/pictures/26c20544-475f...</td>\n",
       "      <td>381468</td>\n",
       "      <td>...</td>\n",
       "      <td>NaN</td>\n",
       "      <td>f</td>\n",
       "      <td>3</td>\n",
       "      <td>3</td>\n",
       "      <td>0</td>\n",
       "      <td>0</td>\n",
       "      <td>0.47</td>\n",
       "      <td>Montreal</td>\n",
       "      <td>36301.0</td>\n",
       "      <td>0.78</td>\n",
       "    </tr>\n",
       "    <tr>\n",
       "      <th>3</th>\n",
       "      <td>38118</td>\n",
       "      <td>https://www.airbnb.com/rooms/38118</td>\n",
       "      <td>20240323015116</td>\n",
       "      <td>2024-03-23</td>\n",
       "      <td>city scrape</td>\n",
       "      <td>Beautiful room  with a balcony in front of a parc</td>\n",
       "      <td>Nearest metro Papineau.</td>\n",
       "      <td>NaN</td>\n",
       "      <td>https://a0.muscache.com/pictures/213997/763ec1...</td>\n",
       "      <td>163569</td>\n",
       "      <td>...</td>\n",
       "      <td>NaN</td>\n",
       "      <td>f</td>\n",
       "      <td>1</td>\n",
       "      <td>0</td>\n",
       "      <td>1</td>\n",
       "      <td>0</td>\n",
       "      <td>0.10</td>\n",
       "      <td>Montreal</td>\n",
       "      <td>38118.0</td>\n",
       "      <td>0.73</td>\n",
       "    </tr>\n",
       "    <tr>\n",
       "      <th>4</th>\n",
       "      <td>50479</td>\n",
       "      <td>https://www.airbnb.com/rooms/50479</td>\n",
       "      <td>20240323015116</td>\n",
       "      <td>2024-03-23</td>\n",
       "      <td>city scrape</td>\n",
       "      <td>L'Arcade Douce</td>\n",
       "      <td>The appartement is sunny and ideally situated ...</td>\n",
       "      <td>Our area is full of life (but our street is qu...</td>\n",
       "      <td>https://a0.muscache.com/pictures/miso/Hosting-...</td>\n",
       "      <td>231694</td>\n",
       "      <td>...</td>\n",
       "      <td>271530, expires: 2024-04-30</td>\n",
       "      <td>t</td>\n",
       "      <td>2</td>\n",
       "      <td>1</td>\n",
       "      <td>1</td>\n",
       "      <td>0</td>\n",
       "      <td>1.60</td>\n",
       "      <td>Montreal</td>\n",
       "      <td>50479.0</td>\n",
       "      <td>0.65</td>\n",
       "    </tr>\n",
       "  </tbody>\n",
       "</table>\n",
       "<p>5 rows × 78 columns</p>\n",
       "</div>"
      ],
      "text/plain": [
       "      id                         listing_url       scrape_id last_scraped  \\\n",
       "0  29059  https://www.airbnb.com/rooms/29059  20240323015116   2024-03-23   \n",
       "1  29061  https://www.airbnb.com/rooms/29061  20240323015116   2024-03-23   \n",
       "2  36301  https://www.airbnb.com/rooms/36301  20240323015116   2024-03-23   \n",
       "3  38118  https://www.airbnb.com/rooms/38118  20240323015116   2024-03-23   \n",
       "4  50479  https://www.airbnb.com/rooms/50479  20240323015116   2024-03-23   \n",
       "\n",
       "        source                                               name  \\\n",
       "0  city scrape                       Lovely studio Quartier Latin   \n",
       "1  city scrape                 Maison historique - Quartier Latin   \n",
       "2  city scrape                  Romantic & peaceful Plateau  loft   \n",
       "3  city scrape  Beautiful room  with a balcony in front of a parc   \n",
       "4  city scrape                                     L'Arcade Douce   \n",
       "\n",
       "                                         description  \\\n",
       "0  CITQ 267153<br />Lovely studio with 1 closed r...   \n",
       "1  Lovely historic house with plenty of period ch...   \n",
       "2  Enjoy the best of Montreal  in this romantic, ...   \n",
       "3                            Nearest metro Papineau.   \n",
       "4  The appartement is sunny and ideally situated ...   \n",
       "\n",
       "                               neighborhood_overview  \\\n",
       "0                                                NaN   \n",
       "1                                                NaN   \n",
       "2  The neighborhood is very lively while the stre...   \n",
       "3                                                NaN   \n",
       "4  Our area is full of life (but our street is qu...   \n",
       "\n",
       "                                         picture_url  host_id  ...  \\\n",
       "0  https://a0.muscache.com/pictures/736399/fa6c31...   125031  ...   \n",
       "1  https://a0.muscache.com/pictures/9e59d417-4b6a...   125031  ...   \n",
       "2  https://a0.muscache.com/pictures/26c20544-475f...   381468  ...   \n",
       "3  https://a0.muscache.com/pictures/213997/763ec1...   163569  ...   \n",
       "4  https://a0.muscache.com/pictures/miso/Hosting-...   231694  ...   \n",
       "\n",
       "                       license instant_bookable  \\\n",
       "0  267153, expires: 2024-03-31                f   \n",
       "1  267153, expires: 2024-03-31                f   \n",
       "2                          NaN                f   \n",
       "3                          NaN                f   \n",
       "4  271530, expires: 2024-04-30                t   \n",
       "\n",
       "  calculated_host_listings_count calculated_host_listings_count_entire_homes  \\\n",
       "0                              2                                           2   \n",
       "1                              2                                           2   \n",
       "2                              3                                           3   \n",
       "3                              1                                           0   \n",
       "4                              2                                           1   \n",
       "\n",
       "  calculated_host_listings_count_private_rooms  \\\n",
       "0                                            0   \n",
       "1                                            0   \n",
       "2                                            0   \n",
       "3                                            1   \n",
       "4                                            1   \n",
       "\n",
       "  calculated_host_listings_count_shared_rooms reviews_per_month      city  \\\n",
       "0                                           0              2.69  Montreal   \n",
       "1                                           0              0.88  Montreal   \n",
       "2                                           0              0.47  Montreal   \n",
       "3                                           0              0.10  Montreal   \n",
       "4                                           0              1.60  Montreal   \n",
       "\n",
       "  listing_id sentiment_score  \n",
       "0    29059.0            0.70  \n",
       "1    29061.0            0.70  \n",
       "2    36301.0            0.78  \n",
       "3    38118.0            0.73  \n",
       "4    50479.0            0.65  \n",
       "\n",
       "[5 rows x 78 columns]"
      ]
     },
     "execution_count": 780,
     "metadata": {},
     "output_type": "execute_result"
    }
   ],
   "source": [
    "airbnb_df.head()"
   ]
  },
  {
   "cell_type": "markdown",
   "id": "a55c645a90ed7270",
   "metadata": {},
   "source": [
    "Initial Feature Elimination"
   ]
  },
  {
   "cell_type": "code",
   "execution_count": 781,
   "id": "2cfff229a0c6c8f1",
   "metadata": {
    "ExecuteTime": {
     "end_time": "2024-08-05T07:40:57.692393Z",
     "start_time": "2024-08-05T07:40:57.671803Z"
    }
   },
   "outputs": [],
   "source": [
    "feature_elimination_list = ['listing_url', 'scrape_id', 'last_scraped', 'source', 'host_url', 'host_thumbnail_url', 'calendar_updated', 'calendar_last_scraped', 'host_name', 'listing_id', 'host_id', 'neighbourhood_group_cleansed', 'host_neighbourhood', 'host_location', 'neighbourhood', 'host_listings_count', 'host_total_listings_count', 'calculated_host_listings_count_entire_homes', 'calculated_host_listings_count_private_rooms', 'calculated_host_listings_count_shared_rooms', 'reviews_per_month', 'review_scores_accuracy', 'bathrooms_text', 'minimum_minimum_nights', 'maximum_minimum_nights', 'minimum_maximum_nights', 'maximum_maximum_nights', 'minimum_nights_avg_ntm', 'maximum_nights_avg_ntm', 'number_of_reviews_ltm', 'number_of_reviews_l30d', 'host_about', 'neighborhood_overview', 'host_has_profile_pic', 'picture_url', 'host_picture_url']\n",
    "\n",
    "airbnb_df = airbnb_df.drop(feature_elimination_list, axis=1)"
   ]
  },
  {
   "cell_type": "markdown",
   "id": "e31df628e61be776",
   "metadata": {},
   "source": [
    "Renaming columns"
   ]
  },
  {
   "cell_type": "code",
   "execution_count": 782,
   "id": "78ebda6d0a1d561c",
   "metadata": {
    "ExecuteTime": {
     "end_time": "2024-08-05T07:40:57.699268Z",
     "start_time": "2024-08-05T07:40:57.694039Z"
    }
   },
   "outputs": [],
   "source": [
    "# Mapping new column names\n",
    "column_mappings = {\n",
    "    'name': 'title',\n",
    "    'first_review': 'first_review_date',\n",
    "    'last_review': 'last_review_date',\n",
    "    'review_scores_value': 'review_scores_value_for_money',\n",
    "    'calculated_host_listings_count': 'host_listings_count',\n",
    "    'neighbourhood_cleansed': 'neighbourhood',\n",
    "    'sentiment_score': 'review_sentiment_score'\n",
    "}\n",
    "\n",
    "# Renaming columns\n",
    "airbnb_df.rename(columns=column_mappings, inplace=True)"
   ]
  },
  {
   "cell_type": "markdown",
   "id": "50e39f2ebb4eec6b",
   "metadata": {},
   "source": [
    "Price to integer"
   ]
  },
  {
   "cell_type": "code",
   "execution_count": 783,
   "id": "aceec38fcbf1ff18",
   "metadata": {
    "ExecuteTime": {
     "end_time": "2024-08-05T07:40:57.728739Z",
     "start_time": "2024-08-05T07:40:57.700868Z"
    }
   },
   "outputs": [],
   "source": [
    "# Removing \"$\" from price and converting to float\n",
    "airbnb_df['price'] = airbnb_df['price'].str.replace('[$,]', '', regex=True).astype(float)"
   ]
  },
  {
   "cell_type": "markdown",
   "id": "40a6cf27f0800afc",
   "metadata": {},
   "source": []
  },
  {
   "cell_type": "code",
   "execution_count": 784,
   "id": "c9585fb4138df09b",
   "metadata": {
    "ExecuteTime": {
     "end_time": "2024-08-05T07:40:57.735261Z",
     "start_time": "2024-08-05T07:40:57.730379Z"
    }
   },
   "outputs": [
    {
     "name": "stdout",
     "output_type": "stream",
     "text": [
      "0        ['phone', 'work_email']\n",
      "1        ['phone', 'work_email']\n",
      "2             ['email', 'phone']\n",
      "3             ['email', 'phone']\n",
      "4             ['email', 'phone']\n",
      "                  ...           \n",
      "49631         ['email', 'phone']\n",
      "49632         ['email', 'phone']\n",
      "49633         ['email', 'phone']\n",
      "49634         ['email', 'phone']\n",
      "49635         ['email', 'phone']\n",
      "Name: host_verifications, Length: 49636, dtype: object\n"
     ]
    }
   ],
   "source": [
    "#print the unique values of the host_verifications column\n",
    "#just print the values inside the host_verifications column don't"
   ]
  },
  {
   "cell_type": "markdown",
   "id": "ba355b1db5fc4f4b",
   "metadata": {},
   "source": [
    "Train-test split"
   ]
  },
  {
   "cell_type": "code",
   "execution_count": 785,
   "id": "465f2a760b94905a",
   "metadata": {
    "ExecuteTime": {
     "end_time": "2024-08-05T07:40:57.772447Z",
     "start_time": "2024-08-05T07:40:57.736770Z"
    }
   },
   "outputs": [],
   "source": [
    "data_train, data_test = train_test_split(airbnb_df, test_size=0.01, random_state=42)"
   ]
  },
  {
   "cell_type": "markdown",
   "id": "340e1cd6c9785b87",
   "metadata": {},
   "source": [
    "Preprocessing"
   ]
  },
  {
   "cell_type": "code",
   "execution_count": 786,
   "id": "752e4ca44a299921",
   "metadata": {
    "ExecuteTime": {
     "end_time": "2024-08-05T07:40:57.786367Z",
     "start_time": "2024-08-05T07:40:57.782391Z"
    }
   },
   "outputs": [],
   "source": [
    "# Converting values in price column to its natural logarithm\n",
    "data_train['price'] = np.log(data_train['price'])"
   ]
  },
  {
   "cell_type": "code",
   "execution_count": 787,
   "id": "8ce3a18d82204dc1",
   "metadata": {
    "ExecuteTime": {
     "end_time": "2024-08-05T07:40:57.792500Z",
     "start_time": "2024-08-05T07:40:57.787636Z"
    }
   },
   "outputs": [],
   "source": [
    "# Fill null value with unlicensed\n",
    "data_train['license'].fillna('Unlicensed', inplace=True)"
   ]
  },
  {
   "cell_type": "code",
   "execution_count": 788,
   "id": "950f190b9c9b80fb",
   "metadata": {
    "ExecuteTime": {
     "end_time": "2024-08-05T07:40:57.830345Z",
     "start_time": "2024-08-05T07:40:57.793847Z"
    }
   },
   "outputs": [],
   "source": [
    "# Drop rows with empty price\n",
    "data_train = data_train.dropna(subset=['price'])"
   ]
  },
  {
   "cell_type": "code",
   "execution_count": 789,
   "id": "fa8ac04664111444",
   "metadata": {
    "ExecuteTime": {
     "end_time": "2024-08-05T07:40:57.835302Z",
     "start_time": "2024-08-05T07:40:57.831675Z"
    }
   },
   "outputs": [],
   "source": [
    "# Fill null values with 0 for specified columns where 'number_of_reviews' equals 0\n",
    "# columns_to_fill = [\n",
    "#     'review_scores_value_for_money',\n",
    "#     'review_scores_location',\n",
    "#     'review_scores_checkin',\n",
    "#     'review_scores_communication',\n",
    "#     'review_scores_cleanliness',\n",
    "#     'review_scores_rating'\n",
    "# ]\n",
    "# \n",
    "# for column in columns_to_fill:\n",
    "#     data_train.loc[data_train['number_of_reviews'] == 0, column] = 0"
   ]
  },
  {
   "cell_type": "code",
   "execution_count": 790,
   "id": "48fa6990b85c367e",
   "metadata": {
    "ExecuteTime": {
     "end_time": "2024-08-05T07:40:57.885062Z",
     "start_time": "2024-08-05T07:40:57.837642Z"
    }
   },
   "outputs": [],
   "source": [
    "data_train = data_train.dropna(subset=['number_of_reviews'])\n",
    "data_train = data_train.dropna(subset=['review_sentiment_score'])"
   ]
  },
  {
   "cell_type": "code",
   "execution_count": 791,
   "id": "2d329f87ff506e21",
   "metadata": {
    "ExecuteTime": {
     "end_time": "2024-08-05T07:40:57.888915Z",
     "start_time": "2024-08-05T07:40:57.886171Z"
    }
   },
   "outputs": [],
   "source": [
    "# data_train['review_sentiment_score'].fillna(0, inplace=True)"
   ]
  },
  {
   "cell_type": "code",
   "execution_count": 792,
   "id": "92f578a61128d758",
   "metadata": {
    "ExecuteTime": {
     "end_time": "2024-08-05T07:40:57.897950Z",
     "start_time": "2024-08-05T07:40:57.890541Z"
    }
   },
   "outputs": [],
   "source": [
    "# Get today's date\n",
    "today_date = datetime.today().strftime('%Y-%m-%d')\n",
    "\n",
    "# Fill null values with today's date where 'number_of_reviews' equals 0\n",
    "data_train.loc[data_train['number_of_reviews'] == 0, 'first_review_date'] = data_train.loc[data_train['number_of_reviews'] == 0, 'first_review_date'].fillna(today_date)\n",
    "data_train.loc[data_train['number_of_reviews'] == 0, 'last_review_date'] = data_train.loc[data_train['number_of_reviews'] == 0, 'last_review_date'].fillna(today_date)"
   ]
  },
  {
   "cell_type": "code",
   "execution_count": 793,
   "id": "7ee50cb8c217b24e",
   "metadata": {
    "ExecuteTime": {
     "end_time": "2024-08-05T07:40:57.906424Z",
     "start_time": "2024-08-05T07:40:57.899070Z"
    }
   },
   "outputs": [],
   "source": [
    "data_train['host_is_superhost'] = data_train['host_is_superhost'].fillna('f')\n",
    "data_train['has_availability'] = data_train['has_availability'].fillna('f')"
   ]
  },
  {
   "cell_type": "code",
   "execution_count": 794,
   "id": "abedefc297f21f75",
   "metadata": {
    "ExecuteTime": {
     "end_time": "2024-08-05T07:40:57.915775Z",
     "start_time": "2024-08-05T07:40:57.908618Z"
    }
   },
   "outputs": [],
   "source": [
    "data_train['host_response_time'] = data_train['host_response_time'].fillna(data_train['host_response_time'].mode()[0])"
   ]
  },
  {
   "cell_type": "code",
   "execution_count": 795,
   "id": "2806b63556f4cbaf",
   "metadata": {
    "ExecuteTime": {
     "end_time": "2024-08-05T07:40:57.959977Z",
     "start_time": "2024-08-05T07:40:57.917224Z"
    }
   },
   "outputs": [],
   "source": [
    "# Remove % sign and convert to numeric for the following columns\n",
    "data_train['host_response_rate'] = pd.to_numeric(data_train['host_response_rate'].str.replace('%', ''))\n",
    "data_train['host_acceptance_rate'] = pd.to_numeric(data_train['host_acceptance_rate'].str.replace('%', ''))\n",
    "\n",
    "# Creating a list of required columns\n",
    "numeric_columns = [\n",
    "    'host_response_rate',\n",
    "    'host_acceptance_rate',\n",
    "    'bedrooms', 'beds', \n",
    "    'review_scores_value_for_money', \n",
    "    'review_scores_location', \n",
    "    'review_scores_checkin', \n",
    "    'review_scores_communication', \n",
    "    'review_scores_cleanliness', \n",
    "    'bathrooms'\n",
    "]\n",
    "\n",
    "# Fill null values in specified columns with median values\n",
    "for column in numeric_columns:\n",
    "    median_value = data_train[column].median()\n",
    "    data_train[column].fillna(median_value, inplace=True)"
   ]
  },
  {
   "cell_type": "markdown",
   "id": "f358570491fe7b77",
   "metadata": {},
   "source": [
    "Feature Engineering"
   ]
  },
  {
   "cell_type": "code",
   "execution_count": 796,
   "id": "ecf56d7b4f4ca95f",
   "metadata": {
    "ExecuteTime": {
     "end_time": "2024-08-05T07:40:58.005502Z",
     "start_time": "2024-08-05T07:40:57.961745Z"
    }
   },
   "outputs": [],
   "source": [
    "current_date = datetime.now()\n",
    "\n",
    "# Converting date columns\n",
    "data_train['host_since'] = pd.to_datetime(data_train['host_since'])\n",
    "data_train['first_review_date'] = pd.to_datetime(data_train['first_review_date'])\n",
    "data_train['last_review_date'] = pd.to_datetime(data_train['last_review_date'])\n",
    "\n",
    "# Calculating values and storing in a new column\n",
    "data_train['host_since_days'] = (current_date - data_train['host_since']).dt.days\n",
    "data_train['first_review_days'] = (current_date - data_train['first_review_date']).dt.days\n",
    "data_train['last_review_days'] = (current_date - data_train['last_review_date']).dt.days\n",
    "\n",
    "# Dropping date columns\n",
    "data_train.drop(columns=['host_since', 'first_review_date', 'last_review_date'], inplace=True)"
   ]
  },
  {
   "cell_type": "code",
   "execution_count": 797,
   "id": "6b3453fb1f85cf0c",
   "metadata": {
    "ExecuteTime": {
     "end_time": "2024-08-05T07:40:58.015372Z",
     "start_time": "2024-08-05T07:40:58.008415Z"
    }
   },
   "outputs": [],
   "source": [
    "# Define downtown coordinates for each city\n",
    "downtown_coords = {\n",
    "    'Montreal': (45.5017, -73.5673),\n",
    "    'New Brunswick': (45.9636, -66.6372),  # Fredericton\n",
    "    'Ottawa': (45.4215, -75.6972),\n",
    "    'Quebec City': (46.8139, -71.2080),\n",
    "    'Toronto': (43.6532, -79.3832),\n",
    "    'Vancouver': (49.2827, -123.1207),\n",
    "    'Victoria': (48.4284, -123.3656),\n",
    "    'Winnipeg': (49.8951, -97.1384)\n",
    "}"
   ]
  },
  {
   "cell_type": "code",
   "execution_count": 798,
   "id": "fef3bbe5e3aa5443",
   "metadata": {
    "ExecuteTime": {
     "end_time": "2024-08-05T07:40:58.022257Z",
     "start_time": "2024-08-05T07:40:58.016716Z"
    }
   },
   "outputs": [],
   "source": [
    "def haversine_distance(lat1, lon1, lat2, lon2):\n",
    "    R = 6371  # Earth's radius in kilometers\n",
    "    lat1, lon1, lat2, lon2 = map(np.radians, [lat1, lon1, lat2, lon2])\n",
    "    dlat = lat2 - lat1\n",
    "    dlon = lon2 - lon1\n",
    "    a = np.sin(dlat / 2)**2 + np.cos(lat1) * np.cos(lat2) * np.sin(dlon / 2)**2\n",
    "    c = 2 * np.arctan2(np.sqrt(a), np.sqrt(1 - a))\n",
    "    return R * c"
   ]
  },
  {
   "cell_type": "code",
   "execution_count": 799,
   "id": "28ae49b6ddeeb953",
   "metadata": {
    "ExecuteTime": {
     "end_time": "2024-08-05T07:40:58.050935Z",
     "start_time": "2024-08-05T07:40:58.023830Z"
    }
   },
   "outputs": [],
   "source": [
    "# Calculate distance to downtown using broadcasting\n",
    "for city, (lat, lon) in downtown_coords.items():\n",
    "    mask = data_train['city'] == city\n",
    "    data_train.loc[mask, 'distance_to_downtown'] = haversine_distance(\n",
    "        data_train.loc[mask, 'latitude'].values, \n",
    "        data_train.loc[mask, 'longitude'].values, \n",
    "        lat, \n",
    "        lon\n",
    "    )"
   ]
  },
  {
   "cell_type": "code",
   "execution_count": 800,
   "id": "a37f94d1d69b3053",
   "metadata": {
    "ExecuteTime": {
     "end_time": "2024-08-05T07:40:58.074358Z",
     "start_time": "2024-08-05T07:40:58.052629Z"
    }
   },
   "outputs": [
    {
     "data": {
      "text/html": [
       "<div>\n",
       "<style scoped>\n",
       "    .dataframe tbody tr th:only-of-type {\n",
       "        vertical-align: middle;\n",
       "    }\n",
       "\n",
       "    .dataframe tbody tr th {\n",
       "        vertical-align: top;\n",
       "    }\n",
       "\n",
       "    .dataframe thead th {\n",
       "        text-align: right;\n",
       "    }\n",
       "</style>\n",
       "<table border=\"1\" class=\"dataframe\">\n",
       "  <thead>\n",
       "    <tr style=\"text-align: right;\">\n",
       "      <th></th>\n",
       "      <th>city</th>\n",
       "      <th>name</th>\n",
       "      <th>latitude</th>\n",
       "      <th>longitude</th>\n",
       "      <th>type</th>\n",
       "    </tr>\n",
       "  </thead>\n",
       "  <tbody>\n",
       "    <tr>\n",
       "      <th>0</th>\n",
       "      <td>Montreal</td>\n",
       "      <td>Musée des Beaux-Arts de Montréal</td>\n",
       "      <td>45.498697</td>\n",
       "      <td>-73.579385</td>\n",
       "      <td>museum</td>\n",
       "    </tr>\n",
       "    <tr>\n",
       "      <th>1</th>\n",
       "      <td>Montreal</td>\n",
       "      <td>Belvédère Léo-Ayotte</td>\n",
       "      <td>45.523223</td>\n",
       "      <td>-73.568744</td>\n",
       "      <td>viewpoint</td>\n",
       "    </tr>\n",
       "    <tr>\n",
       "      <th>2</th>\n",
       "      <td>Montreal</td>\n",
       "      <td>Musée des ondes Emile Berliner</td>\n",
       "      <td>45.477550</td>\n",
       "      <td>-73.592403</td>\n",
       "      <td>museum</td>\n",
       "    </tr>\n",
       "    <tr>\n",
       "      <th>3</th>\n",
       "      <td>Montreal</td>\n",
       "      <td>Orbite</td>\n",
       "      <td>45.523473</td>\n",
       "      <td>-73.536689</td>\n",
       "      <td>attraction</td>\n",
       "    </tr>\n",
       "    <tr>\n",
       "      <th>4</th>\n",
       "      <td>Montreal</td>\n",
       "      <td>Spirale</td>\n",
       "      <td>45.525468</td>\n",
       "      <td>-73.534699</td>\n",
       "      <td>attraction</td>\n",
       "    </tr>\n",
       "  </tbody>\n",
       "</table>\n",
       "</div>"
      ],
      "text/plain": [
       "       city                              name   latitude  longitude  \\\n",
       "0  Montreal  Musée des Beaux-Arts de Montréal  45.498697 -73.579385   \n",
       "1  Montreal              Belvédère Léo-Ayotte  45.523223 -73.568744   \n",
       "2  Montreal    Musée des ondes Emile Berliner  45.477550 -73.592403   \n",
       "3  Montreal                            Orbite  45.523473 -73.536689   \n",
       "4  Montreal                           Spirale  45.525468 -73.534699   \n",
       "\n",
       "         type  \n",
       "0      museum  \n",
       "1   viewpoint  \n",
       "2      museum  \n",
       "3  attraction  \n",
       "4  attraction  "
      ]
     },
     "execution_count": 800,
     "metadata": {},
     "output_type": "execute_result"
    }
   ],
   "source": [
    "# Load attraction data\n",
    "attractions_df = pd.read_csv('Dataset/Locations/canadian_tourist_attractions.csv')\n",
    "attractions_df['city'] = attractions_df['city'].str.title().str.replace('_', ' ')\n",
    "attractions_df.head()"
   ]
  },
  {
   "cell_type": "code",
   "execution_count": 801,
   "id": "6cfc9482a074c968",
   "metadata": {
    "ExecuteTime": {
     "end_time": "2024-08-05T07:41:00.813102Z",
     "start_time": "2024-08-05T07:40:58.075639Z"
    }
   },
   "outputs": [],
   "source": [
    "# Count attractions within 10km using broadcasting\n",
    "def count_attractions_within_radius(airbnb_lat, airbnb_lon, attractions, radius_km=10):\n",
    "    distances = haversine_distance(airbnb_lat, airbnb_lon, attractions['latitude'].values, attractions['longitude'].values)\n",
    "    return np.sum(distances <= radius_km)\n",
    "\n",
    "# Calculate attractions within 10km for each Airbnb listing\n",
    "attraction_counts = []\n",
    "for city in data_train['city'].unique():\n",
    "    attractions_city = attractions_df[attractions_df['city'] == city]\n",
    "    if not attractions_city.empty:\n",
    "        attraction_counts.extend(data_train[data_train['city'] == city].apply(\n",
    "            lambda row: count_attractions_within_radius(row['latitude'], row['longitude'], attractions_city),\n",
    "            axis=1\n",
    "        ))\n",
    "    else:\n",
    "        attraction_counts.extend([0] * len(data_train[data_train['city'] == city]))\n",
    "\n",
    "data_train['nearby_attractions'] = attraction_counts"
   ]
  },
  {
   "cell_type": "markdown",
   "id": "ed52c3da8997bf94",
   "metadata": {},
   "source": [
    "Data Encoding"
   ]
  },
  {
   "cell_type": "code",
   "execution_count": 802,
   "id": "c1fe76bc3cec02ca",
   "metadata": {
    "ExecuteTime": {
     "end_time": "2024-08-05T07:41:00.864410Z",
     "start_time": "2024-08-05T07:41:00.833858Z"
    }
   },
   "outputs": [],
   "source": [
    "for boolean_column in ['host_is_superhost', 'host_identity_verified', 'has_availability', 'instant_bookable']:\n",
    "    data_train[boolean_column] = data_train[boolean_column].map(lambda s: False if s == \"f\" else True)"
   ]
  },
  {
   "cell_type": "code",
   "execution_count": 803,
   "id": "365cbd2b94f19198",
   "metadata": {
    "ExecuteTime": {
     "end_time": "2024-08-05T07:41:00.880830Z",
     "start_time": "2024-08-05T07:41:00.868930Z"
    }
   },
   "outputs": [],
   "source": [
    "# Changing data\n",
    "data_train['license'] = data_train['license'].map(lambda s: False if s == \"Unlicensed\" else True)"
   ]
  },
  {
   "cell_type": "code",
   "execution_count": 804,
   "id": "6d56f9d0733ec84c",
   "metadata": {
    "ExecuteTime": {
     "end_time": "2024-08-05T07:41:00.981105Z",
     "start_time": "2024-08-05T07:41:00.898091Z"
    }
   },
   "outputs": [],
   "source": [
    "# Define the order of categories\n",
    "categories = ['within an hour', 'within a few hours', 'within a day', 'a few days or more']\n",
    "\n",
    "# Initialize OrdinalEncoder with the defined categories\n",
    "ordinal_encoder = OrdinalEncoder(categories=[categories])\n",
    "\n",
    "# Fit and transform the 'host_response_time' column\n",
    "data_train['host_response_time_encoded'] = ordinal_encoder.fit_transform(data_train[['host_response_time']])\n",
    "\n",
    "# Dropping the categorical column\n",
    "data_train.drop(columns=['host_response_time'], inplace=True)"
   ]
  },
  {
   "cell_type": "code",
   "execution_count": 805,
   "id": "332121e2c8165022",
   "metadata": {
    "ExecuteTime": {
     "end_time": "2024-08-05T07:41:00.987298Z",
     "start_time": "2024-08-05T07:41:00.984520Z"
    }
   },
   "outputs": [],
   "source": [
    "# data_train = pd.get_dummies(data_train, columns=['property_type'], prefix='property')\n",
    "# data_train = pd.get_dummies(data_train, columns=['city'], prefix='city')\n",
    "# data_train = pd.get_dummies(data_train, columns=['room_type'], prefix='room_type')"
   ]
  },
  {
   "cell_type": "code",
   "execution_count": 806,
   "id": "d290da4c74c9f1ec",
   "metadata": {
    "ExecuteTime": {
     "end_time": "2024-08-05T07:41:01.180367Z",
     "start_time": "2024-08-05T07:41:00.989977Z"
    }
   },
   "outputs": [
    {
     "name": "stdout",
     "output_type": "stream",
     "text": [
      "{'phone', 'email', 'work_email'}\n"
     ]
    }
   ],
   "source": [
    "# Function to safely evaluate strings\n",
    "def safe_eval(x):\n",
    "    if isinstance(x, str):\n",
    "        return eval(x)\n",
    "    return x\n",
    "\n",
    "# Extract unique items from the list in the column\n",
    "unique_items = set(item for sublist in data_train['host_verifications'].apply(safe_eval) for item in sublist)\n",
    "\n",
    "# Apply one hot encoding to the unique_items and create a new column for each item\n",
    "for item in unique_items:\n",
    "    column_name = item + \"_verification\"\n",
    "    data_train[column_name] = data_train['host_verifications'].apply(lambda x: True if item in x else False)\n",
    "\n",
    "# Drop the original amenities column\n",
    "data_train.drop('host_verifications', axis=1, inplace=True)"
   ]
  },
  {
   "cell_type": "markdown",
   "id": "9d6d4524e9956846",
   "metadata": {},
   "source": [
    "Feature Extraction"
   ]
  },
  {
   "cell_type": "code",
   "execution_count": 807,
   "id": "693982695e217fd4",
   "metadata": {
    "ExecuteTime": {
     "end_time": "2024-08-05T07:41:03.656472Z",
     "start_time": "2024-08-05T07:41:01.181687Z"
    }
   },
   "outputs": [],
   "source": [
    "# Flatten the lists and extract unique items\n",
    "unique_items = set(item for sublist in data_train['amenities'].apply(safe_eval) for item in sublist if item)"
   ]
  },
  {
   "cell_type": "code",
   "execution_count": 808,
   "id": "d9c173e80e5a921d",
   "metadata": {
    "ExecuteTime": {
     "end_time": "2024-08-05T07:41:03.877781Z",
     "start_time": "2024-08-05T07:41:03.711303Z"
    }
   },
   "outputs": [
    {
     "name": "stdout",
     "output_type": "stream",
     "text": [
      "Total number of unique updated amenities: 46\n",
      "['movie_theater', 'ev_charger', 'sports', 'bathtub', 'toaster', 'grill', 'fire pit', 'kitchen', 'baby_ameneties', 'host_there', 'netflix', 'toiletries', 'housekeeping', 'stove', 'bedding', 'workspace', 'garage', 'sound_system', 'games', 'self_checking', 'parking', 'wifi', 'bookshelf', 'hair_dryer', 'laundry', 'spa', 'view', 'coffee_maker', 'beach', 'safety', 'gym', 'backyard', 'utensils', 'cleaning products', 'security_camera', 'pets_allowed', 'tv', 'closet', 'iron', 'first_aid', 'smoke_alarm', 'refrigerator', 'pool', 'private_entrance', 'oven', 'AC']\n"
     ]
    }
   ],
   "source": [
    "#Define keywords and corresponding regex patterns\n",
    "keywords_patterns = {\n",
    "    'tv': r'\\b(TV|HDTV|Roku|chromecast)\\b',\n",
    "    'netflix': r'\\b(Netflix|Amazon|hulu|disney+)\\b',\n",
    "    'pool': r'\\b(Pool|Swimming pool)\\b',\n",
    "    'oven': r'\\b(Oven|microwave)\\b',\n",
    "    'stove': r'\\b(Stove|stove)\\b',\n",
    "    'wifi': r'\\b(Wifi)\\b',\n",
    "    'toiletries': r'\\b(Toiletries|Shampoo|Brush|Conditioner|soap|wash|shower gel)\\b',\n",
    "    'parking': r'\\b(parking|carport)\\b',\n",
    "    'sound_system': r'\\b(SoundSystem|Sound System|speakers|speaker|piano|record player)\\b',\n",
    "    'coffee_maker': r'\\b(coffee|coffee-maker|coffeemaker|espresso)\\b',\n",
    "    'grill': r'\\b(Grill|BBQ)\\b',\n",
    "    'workspace': r'\\b(Workspace|Workspaces)\\b',\n",
    "    'closet': r'\\b(Closet|storage|wardrobe|dresser)\\b',\n",
    "    'gym': r'\\b(Exercise|yoga|elliptical|bike|bikes|gym)\\b',\n",
    "    'refrigerator': r'\\b(Refrigerator|refrigerator|freezer|ice machine|fridge)\\b',\n",
    "    'housekeeping': r'\\b(Housekeeping|Housekeeping)\\b',\n",
    "    'backyard': r'\\b(backyard|patio|balcony)\\b',\n",
    "    'safety': r'\\b(Safety|Safety|lock|pin|alarm|keypad)\\b',\n",
    "    'spa': r'\\b(Sauna|sauna|jacuzzi|tub|spa|steam room|sun loungers)\\b',\n",
    "    'view': r'\\b(lake|skyline|view|courtyard|resort|waterfront)\\b',\n",
    "    'laundry': r'\\b(Laundry|laundry|laundromat)\\b',\n",
    "    'games': r'\\b(Game console|gaming console|gaming consoles|ps2|ps3|ps4|ps5|xbox|nintendo|games|ping pong)\\b',\n",
    "    'first_aid': r'\\b(first aid)\\b',\n",
    "    'smoke_alarm': r'\\b(smoke alarm|fire extinguisher|alarm)\\b',\n",
    "    'private_entrance': r'\\b(private entrance)\\b',\n",
    "    'AC': r'\\b(heating|conditioning|AC)\\b',\n",
    "    'bedding': r'\\b(pillows|pillow|blanket|blankets|bed linens)\\b',\n",
    "    'baby_ameneties': r'\\b(crib|baby|high chair|changing table|playroom|playground)\\b',\n",
    "    'utensils': r'\\b(utensils|cooking|dishes|silverware|glasses)\\b',\n",
    "    'kitchen': r'\\b(kitchen|dining|rice maker|blender|kitchenette)\\b',\n",
    "    'bathtub': r'\\b(bathtub)\\b',\n",
    "    'iron': r'\\b(iron|ironing board)\\b',\n",
    "    'self_checking': r'\\b(Self check-in|check-in|self_checking|self checkin|self checking)\\b',\n",
    "    'hair_dryer': r'\\b(hair dryer)\\b',\n",
    "    'security_camera': r'\\b(security|camera|cameras)\\b',\n",
    "    'toaster': r'\\b(toaster|bread maker)\\b',\n",
    "    'pets_allowed' : r'\\b(pets allowed)\\b',\n",
    "    'bookshelf': r'\\b(bookshelf|books|reading)\\b',\n",
    "    'cleaning products': r'\\b(cleaning products)\\b',\n",
    "    'fire pit': r'\\b(fire pit|fire place|firepit|fireplace)\\b',\n",
    "    'garage': r'\\b(garage)\\b',\n",
    "    'beach': r'\\b(beach)\\b',\n",
    "    'host_there': r'\\b(host greets you|property manager)\\b',\n",
    "    'bar': r'\\b(bar)\\b',\n",
    "    'sports': r'\\b(kayak|golf|ski|ski-in/ski-out|lasertag|laser tag|batting cage|wall climbing|climbing wall|bowling|hockey rink|skate ramp)\\b',\n",
    "    'ev_charger': r'\\b(ev charger)\\b',\n",
    "    'movie_theater': r'\\b(movie theater|media room|theme room)\\b',\n",
    "}\n",
    "\n",
    "# Function to rename items based on regex patterns\n",
    "def rename_item(amenity, patterns):\n",
    "    for key, pattern in patterns.items():\n",
    "        if re.search(pattern, amenity, flags=re.IGNORECASE):\n",
    "            return key\n",
    "    return None\n",
    "\n",
    "# Function to rename items in the amenities list\n",
    "def rename_amenities_list(amenities_list, patterns):\n",
    "    return [rename_item(amenity, patterns) for amenity in amenities_list if rename_item(amenity, patterns) is not None]\n",
    "\n",
    "# Filter out any empty strings from unique_amenities\n",
    "filtered_unique_amenities = [amenity for amenity in unique_items if amenity.strip()]\n",
    "\n",
    "# Apply the function to rename items in the filtered 'unique_amenities' list using list comprehension\n",
    "updated_amenities = [rename_item(amenity, keywords_patterns) for amenity in filtered_unique_amenities]\n",
    "\n",
    "# Remove items that did not match any keyword pattern\n",
    "updated_amenities = [amenity for amenity in updated_amenities if amenity is not None]\n",
    "\n",
    "# Extract unique items from the list in the column\n",
    "unique_updated_amenities = list(set(updated_amenities))\n",
    "\n",
    "# Print the total number of unique items\n",
    "print(\"Total number of unique updated amenities:\", len(unique_updated_amenities))\n",
    "print(unique_updated_amenities)"
   ]
  },
  {
   "cell_type": "code",
   "execution_count": 809,
   "id": "d3913c0a44bfbf1c",
   "metadata": {
    "ExecuteTime": {
     "end_time": "2024-08-05T07:41:34.847498Z",
     "start_time": "2024-08-05T07:41:03.879179Z"
    }
   },
   "outputs": [],
   "source": [
    "# Correctly rename items in the 'amenities' column\n",
    "data_train['renamed_amenities'] = data_train['amenities'].apply(lambda x: rename_amenities_list(safe_eval(x), keywords_patterns) if isinstance(x, str) else [])"
   ]
  },
  {
   "cell_type": "code",
   "execution_count": 810,
   "id": "e745703428c81a1b",
   "metadata": {
    "ExecuteTime": {
     "end_time": "2024-08-05T07:41:35.246333Z",
     "start_time": "2024-08-05T07:41:34.849116Z"
    }
   },
   "outputs": [],
   "source": [
    "# Apply one hot encoding to the unique_items and create a new column for each item\n",
    "for item in unique_updated_amenities:\n",
    "    column_name = item + \"_amenity\"\n",
    "    data_train[column_name] = data_train['renamed_amenities'].apply(lambda x: item in x)\n",
    "\n",
    "# Drop the original amenities and renamed_amenities columns\n",
    "data_train.drop(['amenities', 'renamed_amenities'], axis=1, inplace=True)"
   ]
  },
  {
   "cell_type": "code",
   "execution_count": 811,
   "id": "b8476e4ef94fa5b8",
   "metadata": {
    "ExecuteTime": {
     "end_time": "2024-08-05T07:41:50.970211Z",
     "start_time": "2024-08-05T07:41:35.247004Z"
    }
   },
   "outputs": [],
   "source": [
    "# Need to download once for sentiment analysis\n",
    "# nltk.download('vader_lexicon')\n",
    "\n",
    "#creating an object of sentiment intensity analyzer\n",
    "sia= SentimentIntensityAnalyzer()\n",
    "\n",
    "# creating new columns using polarity scores function\n",
    "data_train['title_scores'] = data_train['title'].apply(lambda title: sia.polarity_scores(str(title)))\n",
    "data_train['title_sentiment']=data_train['title_scores'].apply(lambda score_dict:score_dict['compound'])\n",
    "data_train.drop(['title', 'title_scores'], axis=1, inplace=True)\n",
    "\n",
    "\n",
    "# creating new columns using polarity scores function\n",
    "data_train['description_scores']=data_train['description'].apply(lambda description: sia.polarity_scores(str(description)))\n",
    "data_train['description_sentiment']=data_train['description_scores'].apply(lambda score_dict:score_dict['compound'])\n",
    "data_train.drop(['description', 'description_scores'], axis=1, inplace=True)"
   ]
  },
  {
   "cell_type": "markdown",
   "id": "7c3296d0e10913f9",
   "metadata": {},
   "source": [
    "Feature Selection"
   ]
  },
  {
   "cell_type": "code",
   "execution_count": 812,
   "id": "e1ca4f805e752124",
   "metadata": {
    "ExecuteTime": {
     "end_time": "2024-08-05T07:41:50.992916Z",
     "start_time": "2024-08-05T07:41:50.972784Z"
    }
   },
   "outputs": [],
   "source": [
    "train_features = data_train.drop(['id', 'neighbourhood'], axis=1)"
   ]
  },
  {
   "cell_type": "code",
   "execution_count": 813,
   "id": "d93bcdac2776ed1c",
   "metadata": {
    "ExecuteTime": {
     "end_time": "2024-08-05T07:41:51.037287Z",
     "start_time": "2024-08-05T07:41:50.995734Z"
    }
   },
   "outputs": [
    {
     "data": {
      "text/html": [
       "<div>\n",
       "<style scoped>\n",
       "    .dataframe tbody tr th:only-of-type {\n",
       "        vertical-align: middle;\n",
       "    }\n",
       "\n",
       "    .dataframe tbody tr th {\n",
       "        vertical-align: top;\n",
       "    }\n",
       "\n",
       "    .dataframe thead th {\n",
       "        text-align: right;\n",
       "    }\n",
       "</style>\n",
       "<table border=\"1\" class=\"dataframe\">\n",
       "  <thead>\n",
       "    <tr style=\"text-align: right;\">\n",
       "      <th></th>\n",
       "      <th>host_response_rate</th>\n",
       "      <th>host_acceptance_rate</th>\n",
       "      <th>host_is_superhost</th>\n",
       "      <th>host_identity_verified</th>\n",
       "      <th>latitude</th>\n",
       "      <th>longitude</th>\n",
       "      <th>property_type</th>\n",
       "      <th>room_type</th>\n",
       "      <th>accommodates</th>\n",
       "      <th>bathrooms</th>\n",
       "      <th>...</th>\n",
       "      <th>iron_amenity</th>\n",
       "      <th>first_aid_amenity</th>\n",
       "      <th>smoke_alarm_amenity</th>\n",
       "      <th>refrigerator_amenity</th>\n",
       "      <th>pool_amenity</th>\n",
       "      <th>private_entrance_amenity</th>\n",
       "      <th>oven_amenity</th>\n",
       "      <th>AC_amenity</th>\n",
       "      <th>title_sentiment</th>\n",
       "      <th>description_sentiment</th>\n",
       "    </tr>\n",
       "  </thead>\n",
       "  <tbody>\n",
       "    <tr>\n",
       "      <th>1507</th>\n",
       "      <td>100.0</td>\n",
       "      <td>98.0</td>\n",
       "      <td>True</td>\n",
       "      <td>True</td>\n",
       "      <td>45.513450</td>\n",
       "      <td>-73.571534</td>\n",
       "      <td>Entire rental unit</td>\n",
       "      <td>Entire home/apt</td>\n",
       "      <td>6</td>\n",
       "      <td>1.0</td>\n",
       "      <td>...</td>\n",
       "      <td>True</td>\n",
       "      <td>True</td>\n",
       "      <td>True</td>\n",
       "      <td>True</td>\n",
       "      <td>False</td>\n",
       "      <td>False</td>\n",
       "      <td>True</td>\n",
       "      <td>True</td>\n",
       "      <td>-0.2960</td>\n",
       "      <td>0.9812</td>\n",
       "    </tr>\n",
       "    <tr>\n",
       "      <th>38326</th>\n",
       "      <td>100.0</td>\n",
       "      <td>100.0</td>\n",
       "      <td>True</td>\n",
       "      <td>True</td>\n",
       "      <td>49.262440</td>\n",
       "      <td>-123.151480</td>\n",
       "      <td>Entire rental unit</td>\n",
       "      <td>Entire home/apt</td>\n",
       "      <td>4</td>\n",
       "      <td>1.0</td>\n",
       "      <td>...</td>\n",
       "      <td>True</td>\n",
       "      <td>True</td>\n",
       "      <td>True</td>\n",
       "      <td>True</td>\n",
       "      <td>False</td>\n",
       "      <td>False</td>\n",
       "      <td>True</td>\n",
       "      <td>True</td>\n",
       "      <td>0.0000</td>\n",
       "      <td>0.2732</td>\n",
       "    </tr>\n",
       "    <tr>\n",
       "      <th>3928</th>\n",
       "      <td>100.0</td>\n",
       "      <td>100.0</td>\n",
       "      <td>False</td>\n",
       "      <td>True</td>\n",
       "      <td>45.494610</td>\n",
       "      <td>-73.572460</td>\n",
       "      <td>Entire condo</td>\n",
       "      <td>Entire home/apt</td>\n",
       "      <td>4</td>\n",
       "      <td>1.0</td>\n",
       "      <td>...</td>\n",
       "      <td>True</td>\n",
       "      <td>False</td>\n",
       "      <td>False</td>\n",
       "      <td>True</td>\n",
       "      <td>False</td>\n",
       "      <td>False</td>\n",
       "      <td>True</td>\n",
       "      <td>True</td>\n",
       "      <td>0.0000</td>\n",
       "      <td>0.9837</td>\n",
       "    </tr>\n",
       "    <tr>\n",
       "      <th>31420</th>\n",
       "      <td>100.0</td>\n",
       "      <td>39.0</td>\n",
       "      <td>False</td>\n",
       "      <td>True</td>\n",
       "      <td>43.685536</td>\n",
       "      <td>-79.447935</td>\n",
       "      <td>Entire home</td>\n",
       "      <td>Entire home/apt</td>\n",
       "      <td>2</td>\n",
       "      <td>1.0</td>\n",
       "      <td>...</td>\n",
       "      <td>True</td>\n",
       "      <td>False</td>\n",
       "      <td>False</td>\n",
       "      <td>True</td>\n",
       "      <td>False</td>\n",
       "      <td>False</td>\n",
       "      <td>True</td>\n",
       "      <td>True</td>\n",
       "      <td>0.5411</td>\n",
       "      <td>0.0000</td>\n",
       "    </tr>\n",
       "    <tr>\n",
       "      <th>25697</th>\n",
       "      <td>100.0</td>\n",
       "      <td>100.0</td>\n",
       "      <td>True</td>\n",
       "      <td>False</td>\n",
       "      <td>43.658910</td>\n",
       "      <td>-79.486310</td>\n",
       "      <td>Entire rental unit</td>\n",
       "      <td>Entire home/apt</td>\n",
       "      <td>4</td>\n",
       "      <td>1.0</td>\n",
       "      <td>...</td>\n",
       "      <td>True</td>\n",
       "      <td>False</td>\n",
       "      <td>True</td>\n",
       "      <td>True</td>\n",
       "      <td>False</td>\n",
       "      <td>True</td>\n",
       "      <td>True</td>\n",
       "      <td>True</td>\n",
       "      <td>0.0000</td>\n",
       "      <td>0.3818</td>\n",
       "    </tr>\n",
       "    <tr>\n",
       "      <th>...</th>\n",
       "      <td>...</td>\n",
       "      <td>...</td>\n",
       "      <td>...</td>\n",
       "      <td>...</td>\n",
       "      <td>...</td>\n",
       "      <td>...</td>\n",
       "      <td>...</td>\n",
       "      <td>...</td>\n",
       "      <td>...</td>\n",
       "      <td>...</td>\n",
       "      <td>...</td>\n",
       "      <td>...</td>\n",
       "      <td>...</td>\n",
       "      <td>...</td>\n",
       "      <td>...</td>\n",
       "      <td>...</td>\n",
       "      <td>...</td>\n",
       "      <td>...</td>\n",
       "      <td>...</td>\n",
       "      <td>...</td>\n",
       "      <td>...</td>\n",
       "    </tr>\n",
       "    <tr>\n",
       "      <th>47191</th>\n",
       "      <td>100.0</td>\n",
       "      <td>88.0</td>\n",
       "      <td>False</td>\n",
       "      <td>False</td>\n",
       "      <td>48.812396</td>\n",
       "      <td>-123.316699</td>\n",
       "      <td>Entire home</td>\n",
       "      <td>Entire home/apt</td>\n",
       "      <td>4</td>\n",
       "      <td>1.0</td>\n",
       "      <td>...</td>\n",
       "      <td>False</td>\n",
       "      <td>True</td>\n",
       "      <td>True</td>\n",
       "      <td>True</td>\n",
       "      <td>False</td>\n",
       "      <td>True</td>\n",
       "      <td>True</td>\n",
       "      <td>True</td>\n",
       "      <td>0.0000</td>\n",
       "      <td>0.9455</td>\n",
       "    </tr>\n",
       "    <tr>\n",
       "      <th>11284</th>\n",
       "      <td>93.0</td>\n",
       "      <td>99.0</td>\n",
       "      <td>False</td>\n",
       "      <td>True</td>\n",
       "      <td>46.092106</td>\n",
       "      <td>-64.776610</td>\n",
       "      <td>Private room in rental unit</td>\n",
       "      <td>Private room</td>\n",
       "      <td>2</td>\n",
       "      <td>1.0</td>\n",
       "      <td>...</td>\n",
       "      <td>False</td>\n",
       "      <td>False</td>\n",
       "      <td>False</td>\n",
       "      <td>False</td>\n",
       "      <td>False</td>\n",
       "      <td>False</td>\n",
       "      <td>False</td>\n",
       "      <td>True</td>\n",
       "      <td>0.0000</td>\n",
       "      <td>0.8633</td>\n",
       "    </tr>\n",
       "    <tr>\n",
       "      <th>44732</th>\n",
       "      <td>100.0</td>\n",
       "      <td>93.0</td>\n",
       "      <td>True</td>\n",
       "      <td>True</td>\n",
       "      <td>48.473390</td>\n",
       "      <td>-123.329220</td>\n",
       "      <td>Private room in home</td>\n",
       "      <td>Private room</td>\n",
       "      <td>1</td>\n",
       "      <td>1.0</td>\n",
       "      <td>...</td>\n",
       "      <td>False</td>\n",
       "      <td>True</td>\n",
       "      <td>True</td>\n",
       "      <td>False</td>\n",
       "      <td>False</td>\n",
       "      <td>False</td>\n",
       "      <td>False</td>\n",
       "      <td>True</td>\n",
       "      <td>0.0000</td>\n",
       "      <td>0.9231</td>\n",
       "    </tr>\n",
       "    <tr>\n",
       "      <th>860</th>\n",
       "      <td>100.0</td>\n",
       "      <td>100.0</td>\n",
       "      <td>True</td>\n",
       "      <td>True</td>\n",
       "      <td>45.524250</td>\n",
       "      <td>-73.585900</td>\n",
       "      <td>Private room in condo</td>\n",
       "      <td>Private room</td>\n",
       "      <td>2</td>\n",
       "      <td>1.0</td>\n",
       "      <td>...</td>\n",
       "      <td>True</td>\n",
       "      <td>False</td>\n",
       "      <td>False</td>\n",
       "      <td>True</td>\n",
       "      <td>False</td>\n",
       "      <td>False</td>\n",
       "      <td>True</td>\n",
       "      <td>True</td>\n",
       "      <td>0.0000</td>\n",
       "      <td>0.9081</td>\n",
       "    </tr>\n",
       "    <tr>\n",
       "      <th>15795</th>\n",
       "      <td>100.0</td>\n",
       "      <td>100.0</td>\n",
       "      <td>True</td>\n",
       "      <td>True</td>\n",
       "      <td>46.814260</td>\n",
       "      <td>-71.221880</td>\n",
       "      <td>Entire condo</td>\n",
       "      <td>Entire home/apt</td>\n",
       "      <td>4</td>\n",
       "      <td>1.0</td>\n",
       "      <td>...</td>\n",
       "      <td>True</td>\n",
       "      <td>False</td>\n",
       "      <td>True</td>\n",
       "      <td>True</td>\n",
       "      <td>False</td>\n",
       "      <td>False</td>\n",
       "      <td>True</td>\n",
       "      <td>True</td>\n",
       "      <td>0.0000</td>\n",
       "      <td>0.7579</td>\n",
       "    </tr>\n",
       "  </tbody>\n",
       "</table>\n",
       "<p>31775 rows × 89 columns</p>\n",
       "</div>"
      ],
      "text/plain": [
       "       host_response_rate  host_acceptance_rate  host_is_superhost  \\\n",
       "1507                100.0                  98.0               True   \n",
       "38326               100.0                 100.0               True   \n",
       "3928                100.0                 100.0              False   \n",
       "31420               100.0                  39.0              False   \n",
       "25697               100.0                 100.0               True   \n",
       "...                   ...                   ...                ...   \n",
       "47191               100.0                  88.0              False   \n",
       "11284                93.0                  99.0              False   \n",
       "44732               100.0                  93.0               True   \n",
       "860                 100.0                 100.0               True   \n",
       "15795               100.0                 100.0               True   \n",
       "\n",
       "       host_identity_verified   latitude   longitude  \\\n",
       "1507                     True  45.513450  -73.571534   \n",
       "38326                    True  49.262440 -123.151480   \n",
       "3928                     True  45.494610  -73.572460   \n",
       "31420                    True  43.685536  -79.447935   \n",
       "25697                   False  43.658910  -79.486310   \n",
       "...                       ...        ...         ...   \n",
       "47191                   False  48.812396 -123.316699   \n",
       "11284                    True  46.092106  -64.776610   \n",
       "44732                    True  48.473390 -123.329220   \n",
       "860                      True  45.524250  -73.585900   \n",
       "15795                    True  46.814260  -71.221880   \n",
       "\n",
       "                     property_type        room_type  accommodates  bathrooms  \\\n",
       "1507            Entire rental unit  Entire home/apt             6        1.0   \n",
       "38326           Entire rental unit  Entire home/apt             4        1.0   \n",
       "3928                  Entire condo  Entire home/apt             4        1.0   \n",
       "31420                  Entire home  Entire home/apt             2        1.0   \n",
       "25697           Entire rental unit  Entire home/apt             4        1.0   \n",
       "...                            ...              ...           ...        ...   \n",
       "47191                  Entire home  Entire home/apt             4        1.0   \n",
       "11284  Private room in rental unit     Private room             2        1.0   \n",
       "44732         Private room in home     Private room             1        1.0   \n",
       "860          Private room in condo     Private room             2        1.0   \n",
       "15795                 Entire condo  Entire home/apt             4        1.0   \n",
       "\n",
       "       ...  iron_amenity  first_aid_amenity  smoke_alarm_amenity  \\\n",
       "1507   ...          True               True                 True   \n",
       "38326  ...          True               True                 True   \n",
       "3928   ...          True              False                False   \n",
       "31420  ...          True              False                False   \n",
       "25697  ...          True              False                 True   \n",
       "...    ...           ...                ...                  ...   \n",
       "47191  ...         False               True                 True   \n",
       "11284  ...         False              False                False   \n",
       "44732  ...         False               True                 True   \n",
       "860    ...          True              False                False   \n",
       "15795  ...          True              False                 True   \n",
       "\n",
       "       refrigerator_amenity  pool_amenity  private_entrance_amenity  \\\n",
       "1507                   True         False                     False   \n",
       "38326                  True         False                     False   \n",
       "3928                   True         False                     False   \n",
       "31420                  True         False                     False   \n",
       "25697                  True         False                      True   \n",
       "...                     ...           ...                       ...   \n",
       "47191                  True         False                      True   \n",
       "11284                 False         False                     False   \n",
       "44732                 False         False                     False   \n",
       "860                    True         False                     False   \n",
       "15795                  True         False                     False   \n",
       "\n",
       "       oven_amenity  AC_amenity  title_sentiment  description_sentiment  \n",
       "1507           True        True          -0.2960                 0.9812  \n",
       "38326          True        True           0.0000                 0.2732  \n",
       "3928           True        True           0.0000                 0.9837  \n",
       "31420          True        True           0.5411                 0.0000  \n",
       "25697          True        True           0.0000                 0.3818  \n",
       "...             ...         ...              ...                    ...  \n",
       "47191          True        True           0.0000                 0.9455  \n",
       "11284         False        True           0.0000                 0.8633  \n",
       "44732         False        True           0.0000                 0.9231  \n",
       "860            True        True           0.0000                 0.9081  \n",
       "15795          True        True           0.0000                 0.7579  \n",
       "\n",
       "[31775 rows x 89 columns]"
      ]
     },
     "execution_count": 813,
     "metadata": {},
     "output_type": "execute_result"
    }
   ],
   "source": ""
  },
  {
   "cell_type": "markdown",
   "id": "e958da18af7ead34",
   "metadata": {},
   "source": [
    "Replicating changes to test data"
   ]
  },
  {
   "cell_type": "code",
   "execution_count": 814,
   "id": "43b11d79e39aca39",
   "metadata": {
    "ExecuteTime": {
     "end_time": "2024-08-05T07:41:51.048796Z",
     "start_time": "2024-08-05T07:41:51.038935Z"
    }
   },
   "outputs": [
    {
     "data": {
      "text/html": [
       "<div>\n",
       "<style scoped>\n",
       "    .dataframe tbody tr th:only-of-type {\n",
       "        vertical-align: middle;\n",
       "    }\n",
       "\n",
       "    .dataframe tbody tr th {\n",
       "        vertical-align: top;\n",
       "    }\n",
       "\n",
       "    .dataframe thead th {\n",
       "        text-align: right;\n",
       "    }\n",
       "</style>\n",
       "<table border=\"1\" class=\"dataframe\">\n",
       "  <thead>\n",
       "    <tr style=\"text-align: right;\">\n",
       "      <th></th>\n",
       "      <th>id</th>\n",
       "      <th>title</th>\n",
       "      <th>description</th>\n",
       "      <th>host_since</th>\n",
       "      <th>host_response_time</th>\n",
       "      <th>host_response_rate</th>\n",
       "      <th>host_acceptance_rate</th>\n",
       "      <th>host_is_superhost</th>\n",
       "      <th>host_verifications</th>\n",
       "      <th>host_identity_verified</th>\n",
       "      <th>...</th>\n",
       "      <th>review_scores_cleanliness</th>\n",
       "      <th>review_scores_checkin</th>\n",
       "      <th>review_scores_communication</th>\n",
       "      <th>review_scores_location</th>\n",
       "      <th>review_scores_value_for_money</th>\n",
       "      <th>license</th>\n",
       "      <th>instant_bookable</th>\n",
       "      <th>host_listings_count</th>\n",
       "      <th>city</th>\n",
       "      <th>review_sentiment_score</th>\n",
       "    </tr>\n",
       "  </thead>\n",
       "  <tbody>\n",
       "    <tr>\n",
       "      <th>7055</th>\n",
       "      <td>1032170574658460906</td>\n",
       "      <td>New 2 bedroom 4.5 apt in Mile-ex (3rd top floor)</td>\n",
       "      <td>Kick back and relax in this calm, stylish spac...</td>\n",
       "      <td>2019-05-30</td>\n",
       "      <td>within an hour</td>\n",
       "      <td>100%</td>\n",
       "      <td>100%</td>\n",
       "      <td>f</td>\n",
       "      <td>['email', 'phone', 'work_email']</td>\n",
       "      <td>t</td>\n",
       "      <td>...</td>\n",
       "      <td>NaN</td>\n",
       "      <td>NaN</td>\n",
       "      <td>NaN</td>\n",
       "      <td>NaN</td>\n",
       "      <td>NaN</td>\n",
       "      <td>NaN</td>\n",
       "      <td>t</td>\n",
       "      <td>2</td>\n",
       "      <td>Montreal</td>\n",
       "      <td>0.0</td>\n",
       "    </tr>\n",
       "  </tbody>\n",
       "</table>\n",
       "<p>1 rows × 42 columns</p>\n",
       "</div>"
      ],
      "text/plain": [
       "                       id                                             title  \\\n",
       "7055  1032170574658460906  New 2 bedroom 4.5 apt in Mile-ex (3rd top floor)   \n",
       "\n",
       "                                            description  host_since  \\\n",
       "7055  Kick back and relax in this calm, stylish spac...  2019-05-30   \n",
       "\n",
       "     host_response_time host_response_rate host_acceptance_rate  \\\n",
       "7055     within an hour               100%                 100%   \n",
       "\n",
       "     host_is_superhost                host_verifications  \\\n",
       "7055                 f  ['email', 'phone', 'work_email']   \n",
       "\n",
       "     host_identity_verified  ... review_scores_cleanliness  \\\n",
       "7055                      t  ...                       NaN   \n",
       "\n",
       "      review_scores_checkin  review_scores_communication  \\\n",
       "7055                    NaN                          NaN   \n",
       "\n",
       "     review_scores_location review_scores_value_for_money  license  \\\n",
       "7055                    NaN                           NaN      NaN   \n",
       "\n",
       "      instant_bookable  host_listings_count      city review_sentiment_score  \n",
       "7055                 t                    2  Montreal                    0.0  \n",
       "\n",
       "[1 rows x 42 columns]"
      ]
     },
     "execution_count": 814,
     "metadata": {},
     "output_type": "execute_result"
    }
   ],
   "source": ""
  },
  {
   "cell_type": "code",
   "execution_count": 815,
   "id": "52cc9312c4cd8b68",
   "metadata": {
    "ExecuteTime": {
     "end_time": "2024-08-05T07:41:51.052818Z",
     "start_time": "2024-08-05T07:41:51.049944Z"
    }
   },
   "outputs": [],
   "source": [
    "# Converting values in price column to its natural logarithm\n",
    "data_test['price'] = np.log(data_test['price'])"
   ]
  },
  {
   "cell_type": "code",
   "execution_count": 816,
   "id": "4b3aa01b57e4b8d",
   "metadata": {
    "ExecuteTime": {
     "end_time": "2024-08-05T07:41:51.090439Z",
     "start_time": "2024-08-05T07:41:51.054354Z"
    }
   },
   "outputs": [],
   "source": [
    "# Fill null value with unlicensed\n",
    "data_test['license'].fillna('Unlicensed', inplace=True)\n",
    "\n",
    "# Drop rows with empty price\n",
    "data_test = data_test.dropna(subset=['price'])\n",
    "\n",
    "# Fill null values with 0 for specified columns where 'number_of_reviews' equals 0\n",
    "# for column in columns_to_fill:\n",
    "#     data_test.loc[data_test['number_of_reviews'] == 0, column] = 0\n",
    "\n",
    "data_test = data_test.dropna(subset=['number_of_reviews'])\n",
    "data_test = data_test.dropna(subset=['review_sentiment_score'])\n",
    "\n",
    "# Filling null values in review_sentiment_score to 0    \n",
    "# data_test['review_sentiment_score'].fillna(0, inplace=True)\n",
    "\n",
    "# Fill null values with today's date where 'number_of_reviews' equals 0\n",
    "data_test.loc[data_test['number_of_reviews'] == 0, 'first_review_date'] = data_test.loc[data_test['number_of_reviews'] == 0, 'first_review_date'].fillna(today_date)\n",
    "data_test.loc[data_test['number_of_reviews'] == 0, 'last_review_date'] = data_test.loc[data_test['number_of_reviews'] == 0, 'last_review_date'].fillna(today_date)\n",
    "\n",
    "# Fill null in host realted columns\n",
    "data_test['host_is_superhost'] = data_test['host_is_superhost'].fillna('f')\n",
    "data_test['has_availability'] = data_test['has_availability'].fillna('f')\n",
    "data_test['host_response_time'] = data_test['host_response_time'].fillna(data_test['host_response_time'].mode()[0])\n",
    "\n",
    "# Remove % sign and convert to numeric for the following columns\n",
    "data_test['host_response_rate'] = pd.to_numeric(data_test['host_response_rate'].str.replace('%', ''))\n",
    "data_test['host_acceptance_rate'] = pd.to_numeric(data_test['host_acceptance_rate'].str.replace('%', ''))\n",
    "\n",
    "# Fill null values in specified columns with median values\n",
    "for column in numeric_columns:\n",
    "    median_value = data_test[column].median()\n",
    "    data_test[column].fillna(median_value, inplace=True)"
   ]
  },
  {
   "cell_type": "code",
   "execution_count": 817,
   "id": "81e7be204824144",
   "metadata": {
    "ExecuteTime": {
     "end_time": "2024-08-05T07:41:51.109430Z",
     "start_time": "2024-08-05T07:41:51.092842Z"
    }
   },
   "outputs": [],
   "source": [
    "# Adding days since columns\n",
    "# Converting date columns\n",
    "data_test['host_since'] = pd.to_datetime(data_test['host_since'])\n",
    "data_test['first_review_date'] = pd.to_datetime(data_test['first_review_date'])\n",
    "data_test['last_review_date'] = pd.to_datetime(data_test['last_review_date'])\n",
    "\n",
    "# Calculating values and storing in a new column\n",
    "data_test['host_since_days'] = (current_date - data_test['host_since']).dt.days\n",
    "data_test['first_review_days'] = (current_date - data_test['first_review_date']).dt.days\n",
    "data_test['last_review_days'] = (current_date - data_test['last_review_date']).dt.days\n",
    "\n",
    "# Dropping date columns\n",
    "data_test.drop(columns=['host_since', 'first_review_date', 'last_review_date'], inplace=True)"
   ]
  },
  {
   "cell_type": "code",
   "execution_count": 818,
   "id": "a801077e2281cafe",
   "metadata": {
    "ExecuteTime": {
     "end_time": "2024-08-05T07:41:51.120908Z",
     "start_time": "2024-08-05T07:41:51.110514Z"
    }
   },
   "outputs": [],
   "source": [
    "# Distance to downtown\n",
    "\n",
    "# Calculate distance to downtown using broadcasting\n",
    "for city, (lat, lon) in downtown_coords.items():\n",
    "    mask = data_test['city'] == city\n",
    "    data_test.loc[mask, 'distance_to_downtown'] = haversine_distance(\n",
    "        data_test.loc[mask, 'latitude'].values, \n",
    "        data_test.loc[mask, 'longitude'].values, \n",
    "        lat, \n",
    "        lon\n",
    "    )"
   ]
  },
  {
   "cell_type": "code",
   "execution_count": 819,
   "id": "3f11e9c5850ea74b",
   "metadata": {
    "ExecuteTime": {
     "end_time": "2024-08-05T07:41:51.160828Z",
     "start_time": "2024-08-05T07:41:51.122072Z"
    }
   },
   "outputs": [],
   "source": [
    "# Number of attractions\n",
    "\n",
    "# Calculate attractions within 10km for each Airbnb listing\n",
    "attraction_counts = []\n",
    "for city in data_test['city'].unique():\n",
    "    attractions_city = attractions_df[attractions_df['city'] == city]\n",
    "    if not attractions_city.empty:\n",
    "        attraction_counts.extend(data_test[data_test['city'] == city].apply(\n",
    "            lambda row: count_attractions_within_radius(row['latitude'], row['longitude'], attractions_city),\n",
    "            axis=1\n",
    "        ))\n",
    "    else:\n",
    "        attraction_counts.extend([0] * len(data_test[data_test['city'] == city]))\n",
    "\n",
    "data_test['nearby_attractions'] = attraction_counts"
   ]
  },
  {
   "cell_type": "code",
   "execution_count": 820,
   "id": "294e113ad133a111",
   "metadata": {
    "ExecuteTime": {
     "end_time": "2024-08-05T07:41:51.166745Z",
     "start_time": "2024-08-05T07:41:51.162521Z"
    }
   },
   "outputs": [],
   "source": [
    "# Converting boolean columns and picture url columns to 0s and 1s\n",
    "for boolean_column in ['host_is_superhost', 'host_identity_verified', 'has_availability', 'instant_bookable']:\n",
    "    data_test[boolean_column] = data_test[boolean_column].map(lambda s: False if s == \"f\" else True)"
   ]
  },
  {
   "cell_type": "code",
   "execution_count": 821,
   "id": "962412cec457b31e",
   "metadata": {
    "ExecuteTime": {
     "end_time": "2024-08-05T07:41:51.174391Z",
     "start_time": "2024-08-05T07:41:51.167990Z"
    }
   },
   "outputs": [],
   "source": [
    "# Changing data in license column to licensed and unlicensed and converting to boolean\n",
    "data_test['license'] = data_test['license'].map(lambda s: False if s == \"Unlicensed\" else True)\n",
    "\n",
    "# Ordinal Encoding host_response_time since there is a clear order\n",
    "data_test['host_response_time_encoded'] = ordinal_encoder.fit_transform(data_test[['host_response_time']])\n",
    "data_test.drop(columns=['host_response_time'], inplace=True)\n",
    "\n",
    "# One hot encoding property_type, city, and room_type\n",
    "# data_test = pd.get_dummies(data_test, columns=['property_type'], prefix='property')\n",
    "# data_test = pd.get_dummies(data_test, columns=['city'], prefix='city')\n",
    "# data_test = pd.get_dummies(data_test, columns=['room_type'], prefix='room_type')"
   ]
  },
  {
   "cell_type": "code",
   "execution_count": 822,
   "id": "dfcff7f9c05af944",
   "metadata": {
    "ExecuteTime": {
     "end_time": "2024-08-05T07:41:51.209838Z",
     "start_time": "2024-08-05T07:41:51.175486Z"
    }
   },
   "outputs": [],
   "source": [
    "# One hot encoding verifications\n",
    "\n",
    "# Extract unique items from the list in the column\n",
    "unique_items = set(item for sublist in data_test['host_verifications'].apply(safe_eval) for item in sublist)\n",
    "\n",
    "# Apply one hot encoding to the unique_items and create a new column for each item\n",
    "for item in unique_items:\n",
    "    column_name = item + \"_verification\"\n",
    "    data_test[column_name] = data_test['host_verifications'].apply(lambda x: True if item in x else False)\n",
    "\n",
    "# Drop the original amenities column\n",
    "data_test.drop('host_verifications', axis=1, inplace=True)"
   ]
  },
  {
   "cell_type": "code",
   "execution_count": 823,
   "id": "d572105ad6a0e5cd",
   "metadata": {
    "ExecuteTime": {
     "end_time": "2024-08-05T07:41:51.667810Z",
     "start_time": "2024-08-05T07:41:51.211820Z"
    }
   },
   "outputs": [],
   "source": [
    "# Amenities\n",
    "\n",
    "# Flatten the lists and extract unique items\n",
    "unique_items = set(item for sublist in data_test['amenities'].apply(safe_eval) for item in sublist if item)\n",
    "\n",
    "# Filter out any empty strings from unique_amenities\n",
    "filtered_unique_amenities = [amenity for amenity in unique_items if amenity.strip()]\n",
    "\n",
    "# Apply the function to rename items in the filtered 'unique_amenities' list using list comprehension\n",
    "updated_amenities = [rename_item(amenity, keywords_patterns) for amenity in filtered_unique_amenities]\n",
    "\n",
    "# Remove items that did not match any keyword pattern\n",
    "updated_amenities = [amenity for amenity in updated_amenities if amenity is not None]\n",
    "\n",
    "# Extract unique items from the list in the column\n",
    "unique_updated_amenities = list(set(updated_amenities))\n",
    "\n",
    "# Correctly rename items in the 'amenities' column\n",
    "data_test['renamed_amenities'] = data_test['amenities'].apply(lambda x: rename_amenities_list(safe_eval(x), keywords_patterns) if isinstance(x, str) else [])\n",
    "\n",
    "# Apply one hot encoding to the unique_items and create a new column for each item\n",
    "for item in unique_updated_amenities:\n",
    "    column_name = item + \"_amenity\"\n",
    "    data_test[column_name] = data_test['renamed_amenities'].apply(lambda x: item in x)\n",
    "\n",
    "# Drop the original amenities and renamed_amenities columns\n",
    "data_test.drop(['amenities', 'renamed_amenities'], axis=1, inplace=True)"
   ]
  },
  {
   "cell_type": "code",
   "execution_count": 824,
   "id": "8562543a9b89bf8c",
   "metadata": {
    "ExecuteTime": {
     "end_time": "2024-08-05T07:41:51.941190Z",
     "start_time": "2024-08-05T07:41:51.669987Z"
    }
   },
   "outputs": [],
   "source": [
    "# Sentiment Scores\n",
    "\n",
    "# creating new columns using polarity scores function\n",
    "data_test['title_scores'] = data_test['title'].apply(lambda title: sia.polarity_scores(str(title)))\n",
    "data_test['title_sentiment']=data_test['title_scores'].apply(lambda score_dict:score_dict['compound'])\n",
    "data_test.drop(['title', 'title_scores'], axis=1, inplace=True)\n",
    "\n",
    "# creating new columns using polarity scores function\n",
    "data_test['description_scores']=data_test['description'].apply(lambda description: sia.polarity_scores(str(description)))\n",
    "data_test['description_sentiment']=data_test['description_scores'].apply(lambda score_dict:score_dict['compound'])\n",
    "data_test.drop(['description', 'description_scores'], axis=1, inplace=True)"
   ]
  },
  {
   "cell_type": "code",
   "execution_count": 825,
   "id": "1bca69580b88d550",
   "metadata": {
    "ExecuteTime": {
     "end_time": "2024-08-05T07:41:51.960832Z",
     "start_time": "2024-08-05T07:41:51.944666Z"
    }
   },
   "outputs": [],
   "source": [
    "test_features = data_test.drop(['id', 'neighbourhood'], axis=1)"
   ]
  },
  {
   "cell_type": "markdown",
   "id": "d089603a9adbd486",
   "metadata": {},
   "source": [
    "Data Preparation"
   ]
  },
  {
   "cell_type": "code",
   "execution_count": 826,
   "id": "91f137fb71f86266",
   "metadata": {
    "ExecuteTime": {
     "end_time": "2024-08-05T07:41:52.032108Z",
     "start_time": "2024-08-05T07:41:51.966178Z"
    }
   },
   "outputs": [
    {
     "data": {
      "text/plain": [
       "((31775, 88), (304, 88), (31775,), (304,))"
      ]
     },
     "execution_count": 826,
     "metadata": {},
     "output_type": "execute_result"
    }
   ],
   "source": [
    "# Assigning appropriate names to training and resting data\n",
    "X_train = train_features.drop(['price'], axis=1)\n",
    "y_train = train_features['price']\n",
    "X_test = test_features.drop(['price'], axis=1)\n",
    "y_test = test_features['price']\n",
    "\n",
    "X_train.shape, X_test.shape, y_train.shape, y_test.shape"
   ]
  },
  {
   "cell_type": "code",
   "execution_count": 827,
   "id": "35f3b6baf4fa3ad6",
   "metadata": {
    "ExecuteTime": {
     "end_time": "2024-08-05T07:41:52.077802Z",
     "start_time": "2024-08-05T07:41:52.033938Z"
    }
   },
   "outputs": [
    {
     "data": {
      "text/plain": [
       "((31775, 88), (304, 88), (31775,), (304,))"
      ]
     },
     "execution_count": 827,
     "metadata": {},
     "output_type": "execute_result"
    }
   ],
   "source": [
    "# Aligning column discrepancy due to separating amenities. Important step.\n",
    "common_columns = X_train.columns.intersection(X_test.columns)\n",
    "X_train = X_train[common_columns]\n",
    "X_test = X_test[common_columns]\n",
    "\n",
    "X_train.shape, X_test.shape, y_train.shape, y_test.shape"
   ]
  },
  {
   "cell_type": "code",
   "execution_count": 828,
   "id": "12d49210bac3a9bd",
   "metadata": {
    "ExecuteTime": {
     "end_time": "2024-08-05T07:41:52.082185Z",
     "start_time": "2024-08-05T07:41:52.079790Z"
    }
   },
   "outputs": [],
   "source": [
    "# Feature Scaling\n",
    "# scaler = StandardScaler()\n",
    "# X_train_scaled = scaler.fit_transform(X_train)\n",
    "# X_test_scaled = scaler.transform(X_test)"
   ]
  },
  {
   "cell_type": "markdown",
   "id": "675b9d79b7e3f4bc",
   "metadata": {},
   "source": [
    "Model Modeling"
   ]
  },
  {
   "cell_type": "code",
   "execution_count": 829,
   "id": "107fae89f426c078",
   "metadata": {
    "ExecuteTime": {
     "end_time": "2024-08-05T07:41:52.151382Z",
     "start_time": "2024-08-05T07:41:52.083971Z"
    }
   },
   "outputs": [],
   "source": [
    "# Build the model\n",
    "# final_model_lgbm = lgb.LGBMRegressor(learning_rate=0.01, n_estimators=3000, num_leaves=200, verbose=0, max_depth=-1, random_state=42)\n",
    "\n",
    "final_model_lgbm = lgb.LGBMRegressor(max_bin=100, learning_rate=0.01, n_estimators=1000, num_leaves=50, verbose=0, max_depth=-1, random_state=42)"
   ]
  },
  {
   "cell_type": "code",
   "execution_count": 830,
   "id": "9aad006deb80faba",
   "metadata": {
    "ExecuteTime": {
     "end_time": "2024-08-05T07:41:52.177200Z",
     "start_time": "2024-08-05T07:41:52.153319Z"
    }
   },
   "outputs": [],
   "source": [
    "# Encode categorical features\n",
    "categorical_features = ['property_type', 'city', 'room_type']\n",
    "for col in categorical_features:\n",
    "    X_train[col] = X_train[col].astype('category')\n",
    "    X_test[col] = X_test[col].astype('category')\n",
    "    \n",
    "# Convert categorical features to their indices\n",
    "categorical_feature_indices = [X_train.columns.get_loc(col) for col in categorical_features]"
   ]
  },
  {
   "cell_type": "code",
   "execution_count": 831,
   "id": "f2941cbcf1f736e5",
   "metadata": {
    "ExecuteTime": {
     "end_time": "2024-08-05T07:42:03.395598Z",
     "start_time": "2024-08-05T07:41:52.179307Z"
    }
   },
   "outputs": [
    {
     "name": "stdout",
     "output_type": "stream",
     "text": [
      "[LightGBM] [Warning] Found whitespace in feature_names, replace with underlines\n",
      "Light GBM Fitting:\n",
      "R2 Score: 0.7832641529615073\n",
      "MSE: 0.10229812056697218\n",
      "Light GBM Train Fitting:\n",
      "R2 Score: 0.8359238973304588\n",
      "MSE: 0.0768466620939424\n",
      "Difference in R2 Score: 0.05265974436895149\n"
     ]
    }
   ],
   "source": [
    "\n",
    "final_model_lgbm.fit(X_train, y_train, categorical_feature=categorical_feature_indices)\n",
    "y_pred_gbm = final_model_lgbm.predict(X_test)\n",
    "ytrai_gbm = final_model_lgbm.predict(X_train)\n",
    "\n",
    "# Evaluate Light GBM\n",
    "lgbmr2 = r2_score(y_test, y_pred_gbm)\n",
    "lgbmmse = mean_squared_error(y_test, y_pred_gbm)\n",
    "\n",
    "# Evaluate Light GBM\n",
    "lgbmr2t = r2_score(y_train, ytrai_gbm)\n",
    "lgbmmset = mean_squared_error(y_train, ytrai_gbm)\n",
    "\n",
    "# Calculating and printing the evaluation metrices values\n",
    "print(f'Light GBM Fitting:')\n",
    "print(f'R2 Score: {lgbmr2}')\n",
    "print(f'MSE: {lgbmmse}')\n",
    "\n",
    "print(f'Light GBM Train Fitting:')\n",
    "print(f'R2 Score: {lgbmr2t}')\n",
    "print(f'MSE: {lgbmmset}')\n",
    "\n",
    "score_difference = lgbmr2t - lgbmr2\n",
    "\n",
    "print(f'Difference in R2 Score: {score_difference}')"
   ]
  },
  {
   "cell_type": "code",
   "execution_count": 832,
   "id": "fbbfe49b75c4f908",
   "metadata": {
    "ExecuteTime": {
     "end_time": "2024-08-05T07:42:03.617372Z",
     "start_time": "2024-08-05T07:42:03.397167Z"
    }
   },
   "outputs": [
    {
     "data": {
      "image/png": "[encoded data removed]",
      "text/plain": [
       "<Figure size 1000x1000 with 1 Axes>"
      ]
     },
     "metadata": {},
     "output_type": "display_data"
    }
   ],
   "source": [
    "# Plot feature importance\n",
    "top = 35\n",
    "feature_importance = final_model_lgbm.feature_importances_\n",
    "# make importances relative to max importance\n",
    "feature_importance = 100.0 * (feature_importance / feature_importance.max())\n",
    "\n",
    "sorted_idx = np.argsort(feature_importance)\n",
    "pos = np.arange(sorted_idx.shape[0]) + .5\n",
    "plt.figure(figsize = (10,10))\n",
    "plt.barh(pos[-top:], feature_importance[sorted_idx][-top:], align='center')\n",
    "plt.yticks(pos[-top:], X_train.columns[sorted_idx][-top:])\n",
    "plt.xlabel('Relative Importance')\n",
    "plt.title('Variable Importance')\n",
    "plt.show()"
   ]
  },
  {
   "cell_type": "code",
   "execution_count": 833,
   "id": "e25c8882b0c22b39",
   "metadata": {
    "ExecuteTime": {
     "end_time": "2024-08-05T07:42:03.709050Z",
     "start_time": "2024-08-05T07:42:03.618363Z"
    }
   },
   "outputs": [
    {
     "data": {
      "image/png": "[encoded data removed]",
      "text/plain": [
       "<Figure size 640x480 with 1 Axes>"
      ]
     },
     "metadata": {},
     "output_type": "display_data"
    }
   ],
   "source": [
    "# Data for visualization\n",
    "metrics = ['R2 Score', 'MSE']\n",
    "train_scores = [lgbmr2t, lgbmmset]\n",
    "test_scores = [lgbmr2, lgbmmse]\n",
    "\n",
    "# Setting up the bar width and positions\n",
    "bar_width = 0.35\n",
    "index = np.arange(len(metrics))\n",
    "\n",
    "# Creating the plot\n",
    "fig, ax = plt.subplots()\n",
    "train_bar = ax.bar(index, train_scores, bar_width, label='Train')\n",
    "test_bar = ax.bar(index + bar_width, test_scores, bar_width, label='Test')\n",
    "\n",
    "# Adding labels and title\n",
    "ax.set_xlabel('Metrics')\n",
    "ax.set_ylabel('Scores')\n",
    "ax.set_title('Comparison of R² and MSE Scores between Training and Testing Datasets')\n",
    "ax.set_xticks(index + bar_width / 2)\n",
    "ax.set_xticklabels(metrics)\n",
    "ax.legend()\n",
    "\n",
    "# Adding the scores on top of the bars\n",
    "for bar in train_bar + test_bar:\n",
    "    yval = bar.get_height()\n",
    "    plt.text(bar.get_x() + bar.get_width() / 2, yval, round(yval, 2), va='bottom')\n",
    "\n",
    "# Display the plot\n",
    "plt.show()"
   ]
  },
  {
   "cell_type": "code",
   "execution_count": 840,
   "id": "a177c5988ba50a9a",
   "metadata": {
    "ExecuteTime": {
     "end_time": "2024-08-05T17:58:49.575282Z",
     "start_time": "2024-08-05T17:58:49.395508Z"
    }
   },
   "outputs": [
    {
     "data": {
      "text/plain": [
       "88"
      ]
     },
     "execution_count": 840,
     "metadata": {},
     "output_type": "execute_result"
    }
   ],
   "source": [
    "final_model_lgbm.n_features_"
   ]
  },
  {
   "cell_type": "code",
   "execution_count": 839,
   "id": "b84ef388ef7462a9",
   "metadata": {
    "ExecuteTime": {
     "end_time": "2024-08-05T16:03:52.898006Z",
     "start_time": "2024-08-05T16:03:52.655773Z"
    }
   },
   "outputs": [],
   "source": [
    "### Create a Pickle file using serialization \n",
    "import pickle\n",
    "pickle_out = open(\"deployment/lgbm_model.pkl\", \"wb\")\n",
    "pickle.dump(final_model_lgbm, pickle_out)\n",
    "pickle_out.close()"
   ]
  }
 ],
 "metadata": {
  "kernelspec": {
   "display_name": "Python 3",
   "language": "python",
   "name": "python3"
  },
  "language_info": {
   "codemirror_mode": {
    "name": "ipython",
    "version": 3
   },
   "file_extension": ".py",
   "mimetype": "text/x-python",
   "name": "python",
   "nbconvert_exporter": "python",
   "pygments_lexer": "ipython3",
   "version": "3.11.4"
  }
 },
 "nbformat": 4,
 "nbformat_minor": 5
}
