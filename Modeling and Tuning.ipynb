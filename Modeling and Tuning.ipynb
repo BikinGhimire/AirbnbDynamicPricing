{
 "cells": [
  {
   "metadata": {},
   "cell_type": "markdown",
   "source": [
    "1. Changed how amenities is extracted - small change\n",
    "2. Removed more features - small change\n",
    "3. increased train size - improvement in test r2 socre\n",
    "4. Removed one-hot from property_type, city, and room_type since LightGBM inherently supports categorical features\n",
    "5. Removed more unnecessary features\n",
    "6. Removed features that were having a negative impact\n",
    "7. Improved parameters - Reduced overfitting drastically"
   ],
   "id": "ef6f573fb9343632"
  },
  {
   "cell_type": "code",
   "id": "initial_id",
   "metadata": {
    "collapsed": true,
    "ExecuteTime": {
     "end_time": "2024-08-04T21:56:51.991488Z",
     "start_time": "2024-08-04T21:56:51.985761Z"
    }
   },
   "source": [
    "# Importing necessary libraries\n",
    "import pandas as pd\n",
    "import numpy as np\n",
    "import seaborn as sns\n",
    "import matplotlib.pyplot as plt\n",
    "import folium\n",
    "from sklearn.model_selection import train_test_split, GridSearchCV, RepeatedKFold\n",
    "from scipy import stats\n",
    "from datetime import datetime\n",
    "from sklearn.preprocessing import OrdinalEncoder, StandardScaler\n",
    "import re\n",
    "# import nltk\n",
    "from nltk.sentiment.vader import SentimentIntensityAnalyzer\n",
    "from sklearn.ensemble import RandomForestRegressor\n",
    "from sklearn.decomposition import PCA\n",
    "from sklearn.linear_model import LinearRegression, RidgeCV, Ridge\n",
    "from sklearn.metrics import r2_score, mean_absolute_error, mean_squared_error\n",
    "from numpy import logspace\n",
    "import lightgbm as lgb\n",
    "import xgboost as xgb\n",
    "from sklearn import ensemble\n",
    "import warnings\n",
    "warnings.filterwarnings('ignore')"
   ],
   "outputs": [],
   "execution_count": 905
  },
  {
   "metadata": {
    "ExecuteTime": {
     "end_time": "2024-08-04T21:56:53.667081Z",
     "start_time": "2024-08-04T21:56:52.436662Z"
    }
   },
   "cell_type": "code",
   "source": [
    "# Loading airbnb data of 8 cities\n",
    "montreal = pd.read_csv('Dataset/Airbnb/Montreal.csv')\n",
    "newbrunswick = pd.read_csv('Dataset/Airbnb/NewBrunswick.csv')\n",
    "ottawa = pd.read_csv('Dataset/Airbnb/Ottawa.csv')\n",
    "quebeccity = pd.read_csv('Dataset/Airbnb/QuebecCity.csv')\n",
    "toronto = pd.read_csv('Dataset/Airbnb/Toronto.csv')\n",
    "vancouver = pd.read_csv('Dataset/Airbnb/Vancouver.csv')\n",
    "victoria = pd.read_csv('Dataset/Airbnb/Victoria.csv')\n",
    "winnipeg = pd.read_csv('Dataset/Airbnb/Winnipeg.csv')\n",
    "\n",
    "# Adding a City column to each dataframes\n",
    "montreal['city'] = 'Montreal'\n",
    "newbrunswick['city'] = 'New Brunswick'\n",
    "ottawa['city'] = 'Ottawa'\n",
    "quebeccity['city'] = 'Quebec City'\n",
    "toronto['city'] = 'Toronto'\n",
    "vancouver['city'] = 'Vancouver'\n",
    "victoria['city'] = 'Victoria'\n",
    "winnipeg['city'] = 'Winnipeg'\n",
    "\n",
    "# Merging data from different cities to a single dataframe\n",
    "airbnb_df = pd.concat([montreal, newbrunswick, ottawa, quebeccity, toronto, vancouver, victoria, winnipeg], ignore_index=True)"
   ],
   "id": "e7bb2b3677a0f8d5",
   "outputs": [],
   "execution_count": 906
  },
  {
   "metadata": {
    "ExecuteTime": {
     "end_time": "2024-08-04T21:56:53.728026Z",
     "start_time": "2024-08-04T21:56:53.668446Z"
    }
   },
   "cell_type": "code",
   "source": [
    "# Loading the review sentiment scores\n",
    "reviews_df = pd.read_csv('Dataset/Sentiment/listing_sentiment_scores.csv')\n",
    "\n",
    "airbnb_df = pd.merge(airbnb_df, reviews_df, left_on='id', right_on='listing_id', how='left')"
   ],
   "id": "9ea6c6b4a3034cca",
   "outputs": [],
   "execution_count": 907
  },
  {
   "metadata": {
    "ExecuteTime": {
     "end_time": "2024-08-04T21:56:53.736647Z",
     "start_time": "2024-08-04T21:56:53.728586Z"
    }
   },
   "cell_type": "code",
   "source": "airbnb_df.head()",
   "id": "90ee08d875d963f7",
   "outputs": [
    {
     "data": {
      "text/plain": [
       "      id                         listing_url       scrape_id last_scraped  \\\n",
       "0  29059  https://www.airbnb.com/rooms/29059  20240323015116   2024-03-23   \n",
       "1  29061  https://www.airbnb.com/rooms/29061  20240323015116   2024-03-23   \n",
       "2  36301  https://www.airbnb.com/rooms/36301  20240323015116   2024-03-23   \n",
       "3  38118  https://www.airbnb.com/rooms/38118  20240323015116   2024-03-23   \n",
       "4  50479  https://www.airbnb.com/rooms/50479  20240323015116   2024-03-23   \n",
       "\n",
       "        source                                               name  \\\n",
       "0  city scrape                       Lovely studio Quartier Latin   \n",
       "1  city scrape                 Maison historique - Quartier Latin   \n",
       "2  city scrape                  Romantic & peaceful Plateau  loft   \n",
       "3  city scrape  Beautiful room  with a balcony in front of a parc   \n",
       "4  city scrape                                     L'Arcade Douce   \n",
       "\n",
       "                                         description  \\\n",
       "0  CITQ 267153<br />Lovely studio with 1 closed r...   \n",
       "1  Lovely historic house with plenty of period ch...   \n",
       "2  Enjoy the best of Montreal  in this romantic, ...   \n",
       "3                            Nearest metro Papineau.   \n",
       "4  The appartement is sunny and ideally situated ...   \n",
       "\n",
       "                               neighborhood_overview  \\\n",
       "0                                                NaN   \n",
       "1                                                NaN   \n",
       "2  The neighborhood is very lively while the stre...   \n",
       "3                                                NaN   \n",
       "4  Our area is full of life (but our street is qu...   \n",
       "\n",
       "                                         picture_url  host_id  ...  \\\n",
       "0  https://a0.muscache.com/pictures/736399/fa6c31...   125031  ...   \n",
       "1  https://a0.muscache.com/pictures/9e59d417-4b6a...   125031  ...   \n",
       "2  https://a0.muscache.com/pictures/26c20544-475f...   381468  ...   \n",
       "3  https://a0.muscache.com/pictures/213997/763ec1...   163569  ...   \n",
       "4  https://a0.muscache.com/pictures/miso/Hosting-...   231694  ...   \n",
       "\n",
       "                       license instant_bookable  \\\n",
       "0  267153, expires: 2024-03-31                f   \n",
       "1  267153, expires: 2024-03-31                f   \n",
       "2                          NaN                f   \n",
       "3                          NaN                f   \n",
       "4  271530, expires: 2024-04-30                t   \n",
       "\n",
       "  calculated_host_listings_count calculated_host_listings_count_entire_homes  \\\n",
       "0                              2                                           2   \n",
       "1                              2                                           2   \n",
       "2                              3                                           3   \n",
       "3                              1                                           0   \n",
       "4                              2                                           1   \n",
       "\n",
       "  calculated_host_listings_count_private_rooms  \\\n",
       "0                                            0   \n",
       "1                                            0   \n",
       "2                                            0   \n",
       "3                                            1   \n",
       "4                                            1   \n",
       "\n",
       "  calculated_host_listings_count_shared_rooms reviews_per_month      city  \\\n",
       "0                                           0              2.69  Montreal   \n",
       "1                                           0              0.88  Montreal   \n",
       "2                                           0              0.47  Montreal   \n",
       "3                                           0              0.10  Montreal   \n",
       "4                                           0              1.60  Montreal   \n",
       "\n",
       "  listing_id sentiment_score  \n",
       "0    29059.0            0.70  \n",
       "1    29061.0            0.70  \n",
       "2    36301.0            0.78  \n",
       "3    38118.0            0.73  \n",
       "4    50479.0            0.65  \n",
       "\n",
       "[5 rows x 78 columns]"
      ],
      "text/html": [
       "<div>\n",
       "<style scoped>\n",
       "    .dataframe tbody tr th:only-of-type {\n",
       "        vertical-align: middle;\n",
       "    }\n",
       "\n",
       "    .dataframe tbody tr th {\n",
       "        vertical-align: top;\n",
       "    }\n",
       "\n",
       "    .dataframe thead th {\n",
       "        text-align: right;\n",
       "    }\n",
       "</style>\n",
       "<table border=\"1\" class=\"dataframe\">\n",
       "  <thead>\n",
       "    <tr style=\"text-align: right;\">\n",
       "      <th></th>\n",
       "      <th>id</th>\n",
       "      <th>listing_url</th>\n",
       "      <th>scrape_id</th>\n",
       "      <th>last_scraped</th>\n",
       "      <th>source</th>\n",
       "      <th>name</th>\n",
       "      <th>description</th>\n",
       "      <th>neighborhood_overview</th>\n",
       "      <th>picture_url</th>\n",
       "      <th>host_id</th>\n",
       "      <th>...</th>\n",
       "      <th>license</th>\n",
       "      <th>instant_bookable</th>\n",
       "      <th>calculated_host_listings_count</th>\n",
       "      <th>calculated_host_listings_count_entire_homes</th>\n",
       "      <th>calculated_host_listings_count_private_rooms</th>\n",
       "      <th>calculated_host_listings_count_shared_rooms</th>\n",
       "      <th>reviews_per_month</th>\n",
       "      <th>city</th>\n",
       "      <th>listing_id</th>\n",
       "      <th>sentiment_score</th>\n",
       "    </tr>\n",
       "  </thead>\n",
       "  <tbody>\n",
       "    <tr>\n",
       "      <th>0</th>\n",
       "      <td>29059</td>\n",
       "      <td>https://www.airbnb.com/rooms/29059</td>\n",
       "      <td>20240323015116</td>\n",
       "      <td>2024-03-23</td>\n",
       "      <td>city scrape</td>\n",
       "      <td>Lovely studio Quartier Latin</td>\n",
       "      <td>CITQ 267153&lt;br /&gt;Lovely studio with 1 closed r...</td>\n",
       "      <td>NaN</td>\n",
       "      <td>https://a0.muscache.com/pictures/736399/fa6c31...</td>\n",
       "      <td>125031</td>\n",
       "      <td>...</td>\n",
       "      <td>267153, expires: 2024-03-31</td>\n",
       "      <td>f</td>\n",
       "      <td>2</td>\n",
       "      <td>2</td>\n",
       "      <td>0</td>\n",
       "      <td>0</td>\n",
       "      <td>2.69</td>\n",
       "      <td>Montreal</td>\n",
       "      <td>29059.0</td>\n",
       "      <td>0.70</td>\n",
       "    </tr>\n",
       "    <tr>\n",
       "      <th>1</th>\n",
       "      <td>29061</td>\n",
       "      <td>https://www.airbnb.com/rooms/29061</td>\n",
       "      <td>20240323015116</td>\n",
       "      <td>2024-03-23</td>\n",
       "      <td>city scrape</td>\n",
       "      <td>Maison historique - Quartier Latin</td>\n",
       "      <td>Lovely historic house with plenty of period ch...</td>\n",
       "      <td>NaN</td>\n",
       "      <td>https://a0.muscache.com/pictures/9e59d417-4b6a...</td>\n",
       "      <td>125031</td>\n",
       "      <td>...</td>\n",
       "      <td>267153, expires: 2024-03-31</td>\n",
       "      <td>f</td>\n",
       "      <td>2</td>\n",
       "      <td>2</td>\n",
       "      <td>0</td>\n",
       "      <td>0</td>\n",
       "      <td>0.88</td>\n",
       "      <td>Montreal</td>\n",
       "      <td>29061.0</td>\n",
       "      <td>0.70</td>\n",
       "    </tr>\n",
       "    <tr>\n",
       "      <th>2</th>\n",
       "      <td>36301</td>\n",
       "      <td>https://www.airbnb.com/rooms/36301</td>\n",
       "      <td>20240323015116</td>\n",
       "      <td>2024-03-23</td>\n",
       "      <td>city scrape</td>\n",
       "      <td>Romantic &amp; peaceful Plateau  loft</td>\n",
       "      <td>Enjoy the best of Montreal  in this romantic, ...</td>\n",
       "      <td>The neighborhood is very lively while the stre...</td>\n",
       "      <td>https://a0.muscache.com/pictures/26c20544-475f...</td>\n",
       "      <td>381468</td>\n",
       "      <td>...</td>\n",
       "      <td>NaN</td>\n",
       "      <td>f</td>\n",
       "      <td>3</td>\n",
       "      <td>3</td>\n",
       "      <td>0</td>\n",
       "      <td>0</td>\n",
       "      <td>0.47</td>\n",
       "      <td>Montreal</td>\n",
       "      <td>36301.0</td>\n",
       "      <td>0.78</td>\n",
       "    </tr>\n",
       "    <tr>\n",
       "      <th>3</th>\n",
       "      <td>38118</td>\n",
       "      <td>https://www.airbnb.com/rooms/38118</td>\n",
       "      <td>20240323015116</td>\n",
       "      <td>2024-03-23</td>\n",
       "      <td>city scrape</td>\n",
       "      <td>Beautiful room  with a balcony in front of a parc</td>\n",
       "      <td>Nearest metro Papineau.</td>\n",
       "      <td>NaN</td>\n",
       "      <td>https://a0.muscache.com/pictures/213997/763ec1...</td>\n",
       "      <td>163569</td>\n",
       "      <td>...</td>\n",
       "      <td>NaN</td>\n",
       "      <td>f</td>\n",
       "      <td>1</td>\n",
       "      <td>0</td>\n",
       "      <td>1</td>\n",
       "      <td>0</td>\n",
       "      <td>0.10</td>\n",
       "      <td>Montreal</td>\n",
       "      <td>38118.0</td>\n",
       "      <td>0.73</td>\n",
       "    </tr>\n",
       "    <tr>\n",
       "      <th>4</th>\n",
       "      <td>50479</td>\n",
       "      <td>https://www.airbnb.com/rooms/50479</td>\n",
       "      <td>20240323015116</td>\n",
       "      <td>2024-03-23</td>\n",
       "      <td>city scrape</td>\n",
       "      <td>L'Arcade Douce</td>\n",
       "      <td>The appartement is sunny and ideally situated ...</td>\n",
       "      <td>Our area is full of life (but our street is qu...</td>\n",
       "      <td>https://a0.muscache.com/pictures/miso/Hosting-...</td>\n",
       "      <td>231694</td>\n",
       "      <td>...</td>\n",
       "      <td>271530, expires: 2024-04-30</td>\n",
       "      <td>t</td>\n",
       "      <td>2</td>\n",
       "      <td>1</td>\n",
       "      <td>1</td>\n",
       "      <td>0</td>\n",
       "      <td>1.60</td>\n",
       "      <td>Montreal</td>\n",
       "      <td>50479.0</td>\n",
       "      <td>0.65</td>\n",
       "    </tr>\n",
       "  </tbody>\n",
       "</table>\n",
       "<p>5 rows × 78 columns</p>\n",
       "</div>"
      ]
     },
     "execution_count": 908,
     "metadata": {},
     "output_type": "execute_result"
    }
   ],
   "execution_count": 908
  },
  {
   "metadata": {},
   "cell_type": "markdown",
   "source": "Initial Feature Elimination",
   "id": "a55c645a90ed7270"
  },
  {
   "metadata": {
    "ExecuteTime": {
     "end_time": "2024-08-04T21:56:53.747396Z",
     "start_time": "2024-08-04T21:56:53.738019Z"
    }
   },
   "cell_type": "code",
   "source": [
    "feature_elimination_list = ['listing_url', 'scrape_id', 'last_scraped', 'source', 'host_url', 'host_thumbnail_url', 'calendar_updated', 'calendar_last_scraped', 'host_name', 'listing_id', 'host_id', 'neighbourhood_group_cleansed', 'host_neighbourhood', 'host_location', 'neighbourhood', 'host_listings_count', 'host_total_listings_count', 'calculated_host_listings_count_entire_homes', 'calculated_host_listings_count_private_rooms', 'calculated_host_listings_count_shared_rooms', 'reviews_per_month', 'review_scores_accuracy', 'bathrooms_text', 'minimum_minimum_nights', 'maximum_minimum_nights', 'minimum_maximum_nights', 'maximum_maximum_nights', 'minimum_nights_avg_ntm', 'maximum_nights_avg_ntm', 'number_of_reviews_ltm', 'number_of_reviews_l30d', 'host_about', 'neighborhood_overview', 'host_has_profile_pic', 'picture_url', 'host_picture_url']\n",
    "\n",
    "airbnb_df = airbnb_df.drop(feature_elimination_list, axis=1)"
   ],
   "id": "2cfff229a0c6c8f1",
   "outputs": [],
   "execution_count": 909
  },
  {
   "metadata": {},
   "cell_type": "markdown",
   "source": "Renaming columns",
   "id": "e31df628e61be776"
  },
  {
   "metadata": {
    "ExecuteTime": {
     "end_time": "2024-08-04T21:56:53.750371Z",
     "start_time": "2024-08-04T21:56:53.748059Z"
    }
   },
   "cell_type": "code",
   "source": [
    "# Mapping new column names\n",
    "column_mappings = {\n",
    "    'name': 'title',\n",
    "    'first_review': 'first_review_date',\n",
    "    'last_review': 'last_review_date',\n",
    "    'review_scores_value': 'review_scores_value_for_money',\n",
    "    'calculated_host_listings_count': 'host_listings_count',\n",
    "    'neighbourhood_cleansed': 'neighbourhood',\n",
    "    'sentiment_score': 'review_sentiment_score'\n",
    "}\n",
    "\n",
    "# Renaming columns\n",
    "airbnb_df.rename(columns=column_mappings, inplace=True)"
   ],
   "id": "78ebda6d0a1d561c",
   "outputs": [],
   "execution_count": 910
  },
  {
   "metadata": {},
   "cell_type": "markdown",
   "source": "Price to integer",
   "id": "50e39f2ebb4eec6b"
  },
  {
   "metadata": {
    "ExecuteTime": {
     "end_time": "2024-08-04T21:56:53.768176Z",
     "start_time": "2024-08-04T21:56:53.751179Z"
    }
   },
   "cell_type": "code",
   "source": [
    "# Removing \"$\" from price and converting to float\n",
    "airbnb_df['price'] = airbnb_df['price'].str.replace('[$,]', '', regex=True).astype(float)"
   ],
   "id": "aceec38fcbf1ff18",
   "outputs": [],
   "execution_count": 911
  },
  {
   "metadata": {},
   "cell_type": "markdown",
   "source": "Train-test split",
   "id": "ba355b1db5fc4f4b"
  },
  {
   "metadata": {
    "ExecuteTime": {
     "end_time": "2024-08-04T21:56:53.781497Z",
     "start_time": "2024-08-04T21:56:53.768847Z"
    }
   },
   "cell_type": "code",
   "source": "data_train, data_test = train_test_split(airbnb_df, test_size=0.01, random_state=42)",
   "id": "465f2a760b94905a",
   "outputs": [],
   "execution_count": 912
  },
  {
   "metadata": {},
   "cell_type": "markdown",
   "source": "Preprocessing",
   "id": "340e1cd6c9785b87"
  },
  {
   "metadata": {
    "ExecuteTime": {
     "end_time": "2024-08-04T21:56:53.784426Z",
     "start_time": "2024-08-04T21:56:53.782149Z"
    }
   },
   "cell_type": "code",
   "source": [
    "# Converting values in price column to its natural logarithm\n",
    "data_train['price'] = np.log(data_train['price'])"
   ],
   "id": "752e4ca44a299921",
   "outputs": [],
   "execution_count": 913
  },
  {
   "metadata": {
    "ExecuteTime": {
     "end_time": "2024-08-04T21:56:53.788949Z",
     "start_time": "2024-08-04T21:56:53.784908Z"
    }
   },
   "cell_type": "code",
   "source": [
    "# Fill null value with unlicensed\n",
    "data_train['license'].fillna('Unlicensed', inplace=True)"
   ],
   "id": "8ce3a18d82204dc1",
   "outputs": [],
   "execution_count": 914
  },
  {
   "metadata": {
    "ExecuteTime": {
     "end_time": "2024-08-04T21:56:53.802236Z",
     "start_time": "2024-08-04T21:56:53.790668Z"
    }
   },
   "cell_type": "code",
   "source": [
    "# Drop rows with empty price\n",
    "data_train = data_train.dropna(subset=['price'])"
   ],
   "id": "950f190b9c9b80fb",
   "outputs": [],
   "execution_count": 915
  },
  {
   "metadata": {
    "ExecuteTime": {
     "end_time": "2024-08-04T21:56:53.804614Z",
     "start_time": "2024-08-04T21:56:53.802854Z"
    }
   },
   "cell_type": "code",
   "source": [
    "# Fill null values with 0 for specified columns where 'number_of_reviews' equals 0\n",
    "# columns_to_fill = [\n",
    "#     'review_scores_value_for_money',\n",
    "#     'review_scores_location',\n",
    "#     'review_scores_checkin',\n",
    "#     'review_scores_communication',\n",
    "#     'review_scores_cleanliness',\n",
    "#     'review_scores_rating'\n",
    "# ]\n",
    "# \n",
    "# for column in columns_to_fill:\n",
    "#     data_train.loc[data_train['number_of_reviews'] == 0, column] = 0"
   ],
   "id": "fa8ac04664111444",
   "outputs": [],
   "execution_count": 916
  },
  {
   "metadata": {
    "ExecuteTime": {
     "end_time": "2024-08-04T21:56:53.828090Z",
     "start_time": "2024-08-04T21:56:53.805335Z"
    }
   },
   "cell_type": "code",
   "source": [
    "data_train = data_train.dropna(subset=['number_of_reviews'])\n",
    "data_train = data_train.dropna(subset=['review_sentiment_score'])"
   ],
   "id": "48fa6990b85c367e",
   "outputs": [],
   "execution_count": 917
  },
  {
   "metadata": {
    "ExecuteTime": {
     "end_time": "2024-08-04T21:56:53.831119Z",
     "start_time": "2024-08-04T21:56:53.829256Z"
    }
   },
   "cell_type": "code",
   "source": "# data_train['review_sentiment_score'].fillna(0, inplace=True)",
   "id": "2d329f87ff506e21",
   "outputs": [],
   "execution_count": 918
  },
  {
   "metadata": {
    "ExecuteTime": {
     "end_time": "2024-08-04T21:56:53.836933Z",
     "start_time": "2024-08-04T21:56:53.831922Z"
    }
   },
   "cell_type": "code",
   "source": [
    "# Get today's date\n",
    "today_date = datetime.today().strftime('%Y-%m-%d')\n",
    "\n",
    "# Fill null values with today's date where 'number_of_reviews' equals 0\n",
    "data_train.loc[data_train['number_of_reviews'] == 0, 'first_review_date'] = data_train.loc[data_train['number_of_reviews'] == 0, 'first_review_date'].fillna(today_date)\n",
    "data_train.loc[data_train['number_of_reviews'] == 0, 'last_review_date'] = data_train.loc[data_train['number_of_reviews'] == 0, 'last_review_date'].fillna(today_date)"
   ],
   "id": "92f578a61128d758",
   "outputs": [],
   "execution_count": 919
  },
  {
   "metadata": {
    "ExecuteTime": {
     "end_time": "2024-08-04T21:56:53.842072Z",
     "start_time": "2024-08-04T21:56:53.837394Z"
    }
   },
   "cell_type": "code",
   "source": [
    "data_train['host_is_superhost'] = data_train['host_is_superhost'].fillna('f')\n",
    "data_train['has_availability'] = data_train['has_availability'].fillna('f')"
   ],
   "id": "7ee50cb8c217b24e",
   "outputs": [],
   "execution_count": 920
  },
  {
   "metadata": {
    "ExecuteTime": {
     "end_time": "2024-08-04T21:56:53.846799Z",
     "start_time": "2024-08-04T21:56:53.842723Z"
    }
   },
   "cell_type": "code",
   "source": "data_train['host_response_time'] = data_train['host_response_time'].fillna(data_train['host_response_time'].mode()[0])",
   "id": "abedefc297f21f75",
   "outputs": [],
   "execution_count": 921
  },
  {
   "metadata": {
    "ExecuteTime": {
     "end_time": "2024-08-04T21:56:53.878779Z",
     "start_time": "2024-08-04T21:56:53.847242Z"
    }
   },
   "cell_type": "code",
   "source": [
    "# Remove % sign and convert to numeric for the following columns\n",
    "data_train['host_response_rate'] = pd.to_numeric(data_train['host_response_rate'].str.replace('%', ''))\n",
    "data_train['host_acceptance_rate'] = pd.to_numeric(data_train['host_acceptance_rate'].str.replace('%', ''))\n",
    "\n",
    "# Creating a list of required columns\n",
    "numeric_columns = [\n",
    "    'host_response_rate',\n",
    "    'host_acceptance_rate',\n",
    "    'bedrooms', 'beds', \n",
    "    'review_scores_value_for_money', \n",
    "    'review_scores_location', \n",
    "    'review_scores_checkin', \n",
    "    'review_scores_communication', \n",
    "    'review_scores_cleanliness', \n",
    "    'bathrooms'\n",
    "]\n",
    "\n",
    "# Fill null values in specified columns with median values\n",
    "for column in numeric_columns:\n",
    "    median_value = data_train[column].median()\n",
    "    data_train[column].fillna(median_value, inplace=True)"
   ],
   "id": "2806b63556f4cbaf",
   "outputs": [],
   "execution_count": 922
  },
  {
   "metadata": {},
   "cell_type": "markdown",
   "source": "Feature Engineering",
   "id": "f358570491fe7b77"
  },
  {
   "metadata": {
    "ExecuteTime": {
     "end_time": "2024-08-04T21:56:53.900487Z",
     "start_time": "2024-08-04T21:56:53.879387Z"
    }
   },
   "cell_type": "code",
   "source": [
    "current_date = datetime.now()\n",
    "\n",
    "# Converting date columns\n",
    "data_train['host_since'] = pd.to_datetime(data_train['host_since'])\n",
    "data_train['first_review_date'] = pd.to_datetime(data_train['first_review_date'])\n",
    "data_train['last_review_date'] = pd.to_datetime(data_train['last_review_date'])\n",
    "\n",
    "# Calculating values and storing in a new column\n",
    "data_train['host_since_days'] = (current_date - data_train['host_since']).dt.days\n",
    "data_train['first_review_days'] = (current_date - data_train['first_review_date']).dt.days\n",
    "data_train['last_review_days'] = (current_date - data_train['last_review_date']).dt.days\n",
    "\n",
    "# Dropping date columns\n",
    "data_train.drop(columns=['host_since', 'first_review_date', 'last_review_date'], inplace=True)"
   ],
   "id": "ecf56d7b4f4ca95f",
   "outputs": [],
   "execution_count": 923
  },
  {
   "metadata": {
    "ExecuteTime": {
     "end_time": "2024-08-04T21:56:53.903218Z",
     "start_time": "2024-08-04T21:56:53.901170Z"
    }
   },
   "cell_type": "code",
   "source": [
    "# Define downtown coordinates for each city\n",
    "downtown_coords = {\n",
    "    'Montreal': (45.5017, -73.5673),\n",
    "    'New Brunswick': (45.9636, -66.6372),  # Fredericton\n",
    "    'Ottawa': (45.4215, -75.6972),\n",
    "    'Quebec City': (46.8139, -71.2080),\n",
    "    'Toronto': (43.6532, -79.3832),\n",
    "    'Vancouver': (49.2827, -123.1207),\n",
    "    'Victoria': (48.4284, -123.3656),\n",
    "    'Winnipeg': (49.8951, -97.1384)\n",
    "}"
   ],
   "id": "6b3453fb1f85cf0c",
   "outputs": [],
   "execution_count": 924
  },
  {
   "metadata": {
    "ExecuteTime": {
     "end_time": "2024-08-04T21:56:53.905723Z",
     "start_time": "2024-08-04T21:56:53.903784Z"
    }
   },
   "cell_type": "code",
   "source": [
    "def haversine_distance(lat1, lon1, lat2, lon2):\n",
    "    R = 6371  # Earth's radius in kilometers\n",
    "    lat1, lon1, lat2, lon2 = map(np.radians, [lat1, lon1, lat2, lon2])\n",
    "    dlat = lat2 - lat1\n",
    "    dlon = lon2 - lon1\n",
    "    a = np.sin(dlat / 2)**2 + np.cos(lat1) * np.cos(lat2) * np.sin(dlon / 2)**2\n",
    "    c = 2 * np.arctan2(np.sqrt(a), np.sqrt(1 - a))\n",
    "    return R * c"
   ],
   "id": "fef3bbe5e3aa5443",
   "outputs": [],
   "execution_count": 925
  },
  {
   "metadata": {
    "ExecuteTime": {
     "end_time": "2024-08-04T21:56:53.922762Z",
     "start_time": "2024-08-04T21:56:53.906196Z"
    }
   },
   "cell_type": "code",
   "source": [
    "# Calculate distance to downtown using broadcasting\n",
    "for city, (lat, lon) in downtown_coords.items():\n",
    "    mask = data_train['city'] == city\n",
    "    data_train.loc[mask, 'distance_to_downtown'] = haversine_distance(\n",
    "        data_train.loc[mask, 'latitude'].values, \n",
    "        data_train.loc[mask, 'longitude'].values, \n",
    "        lat, \n",
    "        lon\n",
    "    )"
   ],
   "id": "28ae49b6ddeeb953",
   "outputs": [],
   "execution_count": 926
  },
  {
   "metadata": {
    "ExecuteTime": {
     "end_time": "2024-08-04T21:56:53.930484Z",
     "start_time": "2024-08-04T21:56:53.923262Z"
    }
   },
   "cell_type": "code",
   "source": [
    "# Load attraction data\n",
    "attractions_df = pd.read_csv('Dataset/Locations/canadian_tourist_attractions.csv')\n",
    "attractions_df['city'] = attractions_df['city'].str.title().str.replace('_', ' ')\n",
    "attractions_df.head()"
   ],
   "id": "a37f94d1d69b3053",
   "outputs": [
    {
     "data": {
      "text/plain": [
       "       city                              name   latitude  longitude  \\\n",
       "0  Montreal  Musée des Beaux-Arts de Montréal  45.498697 -73.579385   \n",
       "1  Montreal              Belvédère Léo-Ayotte  45.523223 -73.568744   \n",
       "2  Montreal    Musée des ondes Emile Berliner  45.477550 -73.592403   \n",
       "3  Montreal                            Orbite  45.523473 -73.536689   \n",
       "4  Montreal                           Spirale  45.525468 -73.534699   \n",
       "\n",
       "         type  \n",
       "0      museum  \n",
       "1   viewpoint  \n",
       "2      museum  \n",
       "3  attraction  \n",
       "4  attraction  "
      ],
      "text/html": [
       "<div>\n",
       "<style scoped>\n",
       "    .dataframe tbody tr th:only-of-type {\n",
       "        vertical-align: middle;\n",
       "    }\n",
       "\n",
       "    .dataframe tbody tr th {\n",
       "        vertical-align: top;\n",
       "    }\n",
       "\n",
       "    .dataframe thead th {\n",
       "        text-align: right;\n",
       "    }\n",
       "</style>\n",
       "<table border=\"1\" class=\"dataframe\">\n",
       "  <thead>\n",
       "    <tr style=\"text-align: right;\">\n",
       "      <th></th>\n",
       "      <th>city</th>\n",
       "      <th>name</th>\n",
       "      <th>latitude</th>\n",
       "      <th>longitude</th>\n",
       "      <th>type</th>\n",
       "    </tr>\n",
       "  </thead>\n",
       "  <tbody>\n",
       "    <tr>\n",
       "      <th>0</th>\n",
       "      <td>Montreal</td>\n",
       "      <td>Musée des Beaux-Arts de Montréal</td>\n",
       "      <td>45.498697</td>\n",
       "      <td>-73.579385</td>\n",
       "      <td>museum</td>\n",
       "    </tr>\n",
       "    <tr>\n",
       "      <th>1</th>\n",
       "      <td>Montreal</td>\n",
       "      <td>Belvédère Léo-Ayotte</td>\n",
       "      <td>45.523223</td>\n",
       "      <td>-73.568744</td>\n",
       "      <td>viewpoint</td>\n",
       "    </tr>\n",
       "    <tr>\n",
       "      <th>2</th>\n",
       "      <td>Montreal</td>\n",
       "      <td>Musée des ondes Emile Berliner</td>\n",
       "      <td>45.477550</td>\n",
       "      <td>-73.592403</td>\n",
       "      <td>museum</td>\n",
       "    </tr>\n",
       "    <tr>\n",
       "      <th>3</th>\n",
       "      <td>Montreal</td>\n",
       "      <td>Orbite</td>\n",
       "      <td>45.523473</td>\n",
       "      <td>-73.536689</td>\n",
       "      <td>attraction</td>\n",
       "    </tr>\n",
       "    <tr>\n",
       "      <th>4</th>\n",
       "      <td>Montreal</td>\n",
       "      <td>Spirale</td>\n",
       "      <td>45.525468</td>\n",
       "      <td>-73.534699</td>\n",
       "      <td>attraction</td>\n",
       "    </tr>\n",
       "  </tbody>\n",
       "</table>\n",
       "</div>"
      ]
     },
     "execution_count": 927,
     "metadata": {},
     "output_type": "execute_result"
    }
   ],
   "execution_count": 927
  },
  {
   "metadata": {
    "ExecuteTime": {
     "end_time": "2024-08-04T21:56:54.942509Z",
     "start_time": "2024-08-04T21:56:53.931181Z"
    }
   },
   "cell_type": "code",
   "source": [
    "# Count attractions within 10km using broadcasting\n",
    "def count_attractions_within_radius(airbnb_lat, airbnb_lon, attractions, radius_km=10):\n",
    "    distances = haversine_distance(airbnb_lat, airbnb_lon, attractions['latitude'].values, attractions['longitude'].values)\n",
    "    return np.sum(distances <= radius_km)\n",
    "\n",
    "# Calculate attractions within 10km for each Airbnb listing\n",
    "attraction_counts = []\n",
    "for city in data_train['city'].unique():\n",
    "    attractions_city = attractions_df[attractions_df['city'] == city]\n",
    "    if not attractions_city.empty:\n",
    "        attraction_counts.extend(data_train[data_train['city'] == city].apply(\n",
    "            lambda row: count_attractions_within_radius(row['latitude'], row['longitude'], attractions_city),\n",
    "            axis=1\n",
    "        ))\n",
    "    else:\n",
    "        attraction_counts.extend([0] * len(data_train[data_train['city'] == city]))\n",
    "\n",
    "data_train['nearby_attractions'] = attraction_counts"
   ],
   "id": "6cfc9482a074c968",
   "outputs": [],
   "execution_count": 928
  },
  {
   "metadata": {},
   "cell_type": "markdown",
   "source": "Data Encoding",
   "id": "ed52c3da8997bf94"
  },
  {
   "metadata": {
    "ExecuteTime": {
     "end_time": "2024-08-04T21:56:54.957499Z",
     "start_time": "2024-08-04T21:56:54.943320Z"
    }
   },
   "cell_type": "code",
   "source": [
    "for boolean_column in ['host_is_superhost', 'host_identity_verified', 'has_availability', 'instant_bookable']:\n",
    "    data_train[boolean_column] = data_train[boolean_column].map(lambda s: False if s == \"f\" else True)"
   ],
   "id": "c1fe76bc3cec02ca",
   "outputs": [],
   "execution_count": 929
  },
  {
   "metadata": {
    "ExecuteTime": {
     "end_time": "2024-08-04T21:56:54.963872Z",
     "start_time": "2024-08-04T21:56:54.958560Z"
    }
   },
   "cell_type": "code",
   "source": [
    "# Changing data\n",
    "data_train['license'] = data_train['license'].map(lambda s: False if s == \"Unlicensed\" else True)"
   ],
   "id": "365cbd2b94f19198",
   "outputs": [],
   "execution_count": 930
  },
  {
   "metadata": {
    "ExecuteTime": {
     "end_time": "2024-08-04T21:56:54.975420Z",
     "start_time": "2024-08-04T21:56:54.964572Z"
    }
   },
   "cell_type": "code",
   "source": [
    "# Define the order of categories\n",
    "categories = ['within an hour', 'within a few hours', 'within a day', 'a few days or more']\n",
    "\n",
    "# Initialize OrdinalEncoder with the defined categories\n",
    "ordinal_encoder = OrdinalEncoder(categories=[categories])\n",
    "\n",
    "# Fit and transform the 'host_response_time' column\n",
    "data_train['host_response_time_encoded'] = ordinal_encoder.fit_transform(data_train[['host_response_time']])\n",
    "\n",
    "# Dropping the categorical column\n",
    "data_train.drop(columns=['host_response_time'], inplace=True)"
   ],
   "id": "6d56f9d0733ec84c",
   "outputs": [],
   "execution_count": 931
  },
  {
   "metadata": {
    "ExecuteTime": {
     "end_time": "2024-08-04T21:56:54.977809Z",
     "start_time": "2024-08-04T21:56:54.976096Z"
    }
   },
   "cell_type": "code",
   "source": [
    "# data_train = pd.get_dummies(data_train, columns=['property_type'], prefix='property')\n",
    "# data_train = pd.get_dummies(data_train, columns=['city'], prefix='city')\n",
    "# data_train = pd.get_dummies(data_train, columns=['room_type'], prefix='room_type')"
   ],
   "id": "332121e2c8165022",
   "outputs": [],
   "execution_count": 932
  },
  {
   "metadata": {
    "ExecuteTime": {
     "end_time": "2024-08-04T21:56:55.165065Z",
     "start_time": "2024-08-04T21:56:54.981721Z"
    }
   },
   "cell_type": "code",
   "source": [
    "# Function to safely evaluate strings\n",
    "def safe_eval(x):\n",
    "    if isinstance(x, str):\n",
    "        return eval(x)\n",
    "    return x\n",
    "\n",
    "# Extract unique items from the list in the column\n",
    "unique_items = set(item for sublist in data_train['host_verifications'].apply(safe_eval) for item in sublist)\n",
    "\n",
    "# Apply one hot encoding to the unique_items and create a new column for each item\n",
    "for item in unique_items:\n",
    "    column_name = item + \"_verification\"\n",
    "    data_train[column_name] = data_train['host_verifications'].apply(lambda x: True if item in x else False)\n",
    "\n",
    "# Drop the original amenities column\n",
    "data_train.drop('host_verifications', axis=1, inplace=True)"
   ],
   "id": "d290da4c74c9f1ec",
   "outputs": [],
   "execution_count": 933
  },
  {
   "metadata": {},
   "cell_type": "markdown",
   "source": "Feature Extraction",
   "id": "9d6d4524e9956846"
  },
  {
   "metadata": {
    "ExecuteTime": {
     "end_time": "2024-08-04T21:56:56.570112Z",
     "start_time": "2024-08-04T21:56:55.165714Z"
    }
   },
   "cell_type": "code",
   "source": [
    "# Flatten the lists and extract unique items\n",
    "unique_items = set(item for sublist in data_train['amenities'].apply(safe_eval) for item in sublist if item)"
   ],
   "id": "693982695e217fd4",
   "outputs": [],
   "execution_count": 934
  },
  {
   "metadata": {
    "ExecuteTime": {
     "end_time": "2024-08-04T21:56:56.623477Z",
     "start_time": "2024-08-04T21:56:56.571280Z"
    }
   },
   "cell_type": "code",
   "source": [
    "#Define keywords and corresponding regex patterns\n",
    "keywords_patterns = {\n",
    "    'tv': r'\\b(TV|HDTV|Roku|chromecast)\\b',\n",
    "    'netflix': r'\\b(Netflix|Amazon|hulu|disney+)\\b',\n",
    "    'pool': r'\\b(Pool|Swimming pool)\\b',\n",
    "    'oven': r'\\b(Oven|microwave)\\b',\n",
    "    'stove': r'\\b(Stove|stove)\\b',\n",
    "    'wifi': r'\\b(Wifi)\\b',\n",
    "    'toiletries': r'\\b(Toiletries|Shampoo|Brush|Conditioner|soap|wash|shower gel)\\b',\n",
    "    'parking': r'\\b(parking|carport)\\b',\n",
    "    'sound_system': r'\\b(SoundSystem|Sound System|speakers|speaker|piano|record player)\\b',\n",
    "    'coffee_maker': r'\\b(coffee|coffee-maker|coffeemaker|espresso)\\b',\n",
    "    'grill': r'\\b(Grill|BBQ)\\b',\n",
    "    'workspace': r'\\b(Workspace|Workspaces)\\b',\n",
    "    'closet': r'\\b(Closet|storage|wardrobe|dresser)\\b',\n",
    "    'gym': r'\\b(Exercise|yoga|elliptical|bike|bikes|gym)\\b',\n",
    "    'refrigerator': r'\\b(Refrigerator|refrigerator|freezer|ice machine|fridge)\\b',\n",
    "    'housekeeping': r'\\b(Housekeeping|Housekeeping)\\b',\n",
    "    'backyard': r'\\b(backyard|patio|balcony)\\b',\n",
    "    'safety': r'\\b(Safety|Safety|lock|pin|alarm|keypad)\\b',\n",
    "    'spa': r'\\b(Sauna|sauna|jacuzzi|tub|spa|steam room|sun loungers)\\b',\n",
    "    'view': r'\\b(lake|skyline|view|courtyard|resort|waterfront)\\b',\n",
    "    'laundry': r'\\b(Laundry|laundry|laundromat)\\b',\n",
    "    'games': r'\\b(Game console|gaming console|gaming consoles|ps2|ps3|ps4|ps5|xbox|nintendo|games|ping pong)\\b',\n",
    "    'first_aid': r'\\b(first aid)\\b',\n",
    "    'smoke_alarm': r'\\b(smoke alarm|fire extinguisher|alarm)\\b',\n",
    "    'private_entrance': r'\\b(private entrance)\\b',\n",
    "    'AC': r'\\b(heating|conditioning|AC)\\b',\n",
    "    'bedding': r'\\b(pillows|pillow|blanket|blankets|bed linens)\\b',\n",
    "    'baby_ameneties': r'\\b(crib|baby|high chair|changing table|playroom|playground)\\b',\n",
    "    'utensils': r'\\b(utensils|cooking|dishes|silverware|glasses)\\b',\n",
    "    'kitchen': r'\\b(kitchen|dining|rice maker|blender|kitchenette)\\b',\n",
    "    'bathtub': r'\\b(bathtub)\\b',\n",
    "    'iron': r'\\b(iron|ironing board)\\b',\n",
    "    'self_checking': r'\\b(Self check-in|check-in|self_checking|self checkin|self checking)\\b',\n",
    "    'hair_dryer': r'\\b(hair dryer)\\b',\n",
    "    'security_camera': r'\\b(security|camera|cameras)\\b',\n",
    "    'toaster': r'\\b(toaster|bread maker)\\b',\n",
    "    'pets_allowed' : r'\\b(pets allowed)\\b',\n",
    "    'bookshelf': r'\\b(bookshelf|books|reading)\\b',\n",
    "    'cleaning products': r'\\b(cleaning products)\\b',\n",
    "    'fire pit': r'\\b(fire pit|fire place|firepit|fireplace)\\b',\n",
    "    'garage': r'\\b(garage)\\b',\n",
    "    'beach': r'\\b(beach)\\b',\n",
    "    'host_there': r'\\b(host greets you|property manager)\\b',\n",
    "    'bar': r'\\b(bar)\\b',\n",
    "    'sports': r'\\b(kayak|golf|ski|ski-in/ski-out|lasertag|laser tag|batting cage|wall climbing|climbing wall|bowling|hockey rink|skate ramp)\\b',\n",
    "    'ev_charger': r'\\b(ev charger)\\b',\n",
    "    'movie_theater': r'\\b(movie theater|media room|theme room)\\b',\n",
    "}\n",
    "\n",
    "# Function to rename items based on regex patterns\n",
    "def rename_item(amenity, patterns):\n",
    "    for key, pattern in patterns.items():\n",
    "        if re.search(pattern, amenity, flags=re.IGNORECASE):\n",
    "            return key\n",
    "    return None\n",
    "\n",
    "# Function to rename items in the amenities list\n",
    "def rename_amenities_list(amenities_list, patterns):\n",
    "    return [rename_item(amenity, patterns) for amenity in amenities_list if rename_item(amenity, patterns) is not None]\n",
    "\n",
    "# Filter out any empty strings from unique_amenities\n",
    "filtered_unique_amenities = [amenity for amenity in unique_items if amenity.strip()]\n",
    "\n",
    "# Apply the function to rename items in the filtered 'unique_amenities' list using list comprehension\n",
    "updated_amenities = [rename_item(amenity, keywords_patterns) for amenity in filtered_unique_amenities]\n",
    "\n",
    "# Remove items that did not match any keyword pattern\n",
    "updated_amenities = [amenity for amenity in updated_amenities if amenity is not None]\n",
    "\n",
    "# Extract unique items from the list in the column\n",
    "unique_updated_amenities = list(set(updated_amenities))\n",
    "\n",
    "# Print the total number of unique items\n",
    "print(\"Total number of unique updated amenities:\", len(unique_updated_amenities))\n",
    "print(unique_updated_amenities)"
   ],
   "id": "d9c173e80e5a921d",
   "outputs": [
    {
     "name": "stdout",
     "output_type": "stream",
     "text": [
      "Total number of unique updated amenities: 46\n",
      "['cleaning products', 'private_entrance', 'refrigerator', 'AC', 'beach', 'bathtub', 'hair_dryer', 'utensils', 'games', 'kitchen', 'movie_theater', 'first_aid', 'sports', 'stove', 'self_checking', 'gym', 'pets_allowed', 'ev_charger', 'coffee_maker', 'host_there', 'baby_ameneties', 'bookshelf', 'iron', 'wifi', 'workspace', 'fire pit', 'garage', 'safety', 'spa', 'security_camera', 'view', 'sound_system', 'toiletries', 'backyard', 'laundry', 'parking', 'tv', 'smoke_alarm', 'oven', 'pool', 'bedding', 'housekeeping', 'netflix', 'toaster', 'grill', 'closet']\n"
     ]
    }
   ],
   "execution_count": 935
  },
  {
   "metadata": {
    "ExecuteTime": {
     "end_time": "2024-08-04T21:57:25.143794Z",
     "start_time": "2024-08-04T21:56:56.624184Z"
    }
   },
   "cell_type": "code",
   "source": [
    "# Correctly rename items in the 'amenities' column\n",
    "data_train['renamed_amenities'] = data_train['amenities'].apply(lambda x: rename_amenities_list(safe_eval(x), keywords_patterns) if isinstance(x, str) else [])"
   ],
   "id": "d3913c0a44bfbf1c",
   "outputs": [],
   "execution_count": 936
  },
  {
   "metadata": {
    "ExecuteTime": {
     "end_time": "2024-08-04T21:57:25.523677Z",
     "start_time": "2024-08-04T21:57:25.144936Z"
    }
   },
   "cell_type": "code",
   "source": [
    "# Apply one hot encoding to the unique_items and create a new column for each item\n",
    "for item in unique_updated_amenities:\n",
    "    column_name = item + \"_amenity\"\n",
    "    data_train[column_name] = data_train['renamed_amenities'].apply(lambda x: item in x)\n",
    "\n",
    "# Drop the original amenities and renamed_amenities columns\n",
    "data_train.drop(['amenities', 'renamed_amenities'], axis=1, inplace=True)"
   ],
   "id": "e745703428c81a1b",
   "outputs": [],
   "execution_count": 937
  },
  {
   "metadata": {
    "ExecuteTime": {
     "end_time": "2024-08-04T21:57:36.468861Z",
     "start_time": "2024-08-04T21:57:25.524788Z"
    }
   },
   "cell_type": "code",
   "source": [
    "# Need to download once for sentiment analysis\n",
    "# nltk.download('vader_lexicon')\n",
    "\n",
    "#creating an object of sentiment intensity analyzer\n",
    "sia= SentimentIntensityAnalyzer()\n",
    "\n",
    "# creating new columns using polarity scores function\n",
    "data_train['title_scores'] = data_train['title'].apply(lambda title: sia.polarity_scores(str(title)))\n",
    "data_train['title_sentiment']=data_train['title_scores'].apply(lambda score_dict:score_dict['compound'])\n",
    "data_train.drop(['title', 'title_scores'], axis=1, inplace=True)\n",
    "\n",
    "\n",
    "# creating new columns using polarity scores function\n",
    "data_train['description_scores']=data_train['description'].apply(lambda description: sia.polarity_scores(str(description)))\n",
    "data_train['description_sentiment']=data_train['description_scores'].apply(lambda score_dict:score_dict['compound'])\n",
    "data_train.drop(['description', 'description_scores'], axis=1, inplace=True)"
   ],
   "id": "b8476e4ef94fa5b8",
   "outputs": [],
   "execution_count": 938
  },
  {
   "metadata": {},
   "cell_type": "markdown",
   "source": "Feature Selection",
   "id": "7c3296d0e10913f9"
  },
  {
   "metadata": {
    "ExecuteTime": {
     "end_time": "2024-08-04T21:57:36.478276Z",
     "start_time": "2024-08-04T21:57:36.469686Z"
    }
   },
   "cell_type": "code",
   "source": "train_features = data_train.drop(['id', 'neighbourhood'], axis=1)",
   "id": "e1ca4f805e752124",
   "outputs": [],
   "execution_count": 939
  },
  {
   "metadata": {},
   "cell_type": "markdown",
   "source": "Replicating changes to test data",
   "id": "e958da18af7ead34"
  },
  {
   "metadata": {
    "ExecuteTime": {
     "end_time": "2024-08-04T21:57:36.481795Z",
     "start_time": "2024-08-04T21:57:36.479104Z"
    }
   },
   "cell_type": "code",
   "source": [
    "# Converting values in price column to its natural logarithm\n",
    "data_test['price'] = np.log(data_test['price'])"
   ],
   "id": "52cc9312c4cd8b68",
   "outputs": [],
   "execution_count": 940
  },
  {
   "metadata": {
    "ExecuteTime": {
     "end_time": "2024-08-04T21:57:36.497028Z",
     "start_time": "2024-08-04T21:57:36.482801Z"
    }
   },
   "cell_type": "code",
   "source": [
    "# Fill null value with unlicensed\n",
    "data_test['license'].fillna('Unlicensed', inplace=True)\n",
    "\n",
    "# Drop rows with empty price\n",
    "data_test = data_test.dropna(subset=['price'])\n",
    "\n",
    "# Fill null values with 0 for specified columns where 'number_of_reviews' equals 0\n",
    "# for column in columns_to_fill:\n",
    "#     data_test.loc[data_test['number_of_reviews'] == 0, column] = 0\n",
    "\n",
    "data_test = data_test.dropna(subset=['number_of_reviews'])\n",
    "data_test = data_test.dropna(subset=['review_sentiment_score'])\n",
    "\n",
    "# Filling null values in review_sentiment_score to 0    \n",
    "# data_test['review_sentiment_score'].fillna(0, inplace=True)\n",
    "\n",
    "# Fill null values with today's date where 'number_of_reviews' equals 0\n",
    "data_test.loc[data_test['number_of_reviews'] == 0, 'first_review_date'] = data_test.loc[data_test['number_of_reviews'] == 0, 'first_review_date'].fillna(today_date)\n",
    "data_test.loc[data_test['number_of_reviews'] == 0, 'last_review_date'] = data_test.loc[data_test['number_of_reviews'] == 0, 'last_review_date'].fillna(today_date)\n",
    "\n",
    "# Fill null in host realted columns\n",
    "data_test['host_is_superhost'] = data_test['host_is_superhost'].fillna('f')\n",
    "data_test['has_availability'] = data_test['has_availability'].fillna('f')\n",
    "data_test['host_response_time'] = data_test['host_response_time'].fillna(data_test['host_response_time'].mode()[0])\n",
    "\n",
    "# Remove % sign and convert to numeric for the following columns\n",
    "data_test['host_response_rate'] = pd.to_numeric(data_test['host_response_rate'].str.replace('%', ''))\n",
    "data_test['host_acceptance_rate'] = pd.to_numeric(data_test['host_acceptance_rate'].str.replace('%', ''))\n",
    "\n",
    "# Fill null values in specified columns with median values\n",
    "for column in numeric_columns:\n",
    "    median_value = data_test[column].median()\n",
    "    data_test[column].fillna(median_value, inplace=True)"
   ],
   "id": "4b3aa01b57e4b8d",
   "outputs": [],
   "execution_count": 941
  },
  {
   "metadata": {
    "ExecuteTime": {
     "end_time": "2024-08-04T21:57:36.504597Z",
     "start_time": "2024-08-04T21:57:36.498123Z"
    }
   },
   "cell_type": "code",
   "source": [
    "# Adding days since columns\n",
    "# Converting date columns\n",
    "data_test['host_since'] = pd.to_datetime(data_test['host_since'])\n",
    "data_test['first_review_date'] = pd.to_datetime(data_test['first_review_date'])\n",
    "data_test['last_review_date'] = pd.to_datetime(data_test['last_review_date'])\n",
    "\n",
    "# Calculating values and storing in a new column\n",
    "data_test['host_since_days'] = (current_date - data_test['host_since']).dt.days\n",
    "data_test['first_review_days'] = (current_date - data_test['first_review_date']).dt.days\n",
    "data_test['last_review_days'] = (current_date - data_test['last_review_date']).dt.days\n",
    "\n",
    "# Dropping date columns\n",
    "data_test.drop(columns=['host_since', 'first_review_date', 'last_review_date'], inplace=True)"
   ],
   "id": "81e7be204824144",
   "outputs": [],
   "execution_count": 942
  },
  {
   "metadata": {
    "ExecuteTime": {
     "end_time": "2024-08-04T21:57:36.511394Z",
     "start_time": "2024-08-04T21:57:36.505524Z"
    }
   },
   "cell_type": "code",
   "source": [
    "# Distance to downtown\n",
    "\n",
    "# Calculate distance to downtown using broadcasting\n",
    "for city, (lat, lon) in downtown_coords.items():\n",
    "    mask = data_test['city'] == city\n",
    "    data_test.loc[mask, 'distance_to_downtown'] = haversine_distance(\n",
    "        data_test.loc[mask, 'latitude'].values, \n",
    "        data_test.loc[mask, 'longitude'].values, \n",
    "        lat, \n",
    "        lon\n",
    "    )"
   ],
   "id": "a801077e2281cafe",
   "outputs": [],
   "execution_count": 943
  },
  {
   "metadata": {
    "ExecuteTime": {
     "end_time": "2024-08-04T21:57:36.539888Z",
     "start_time": "2024-08-04T21:57:36.512306Z"
    }
   },
   "cell_type": "code",
   "source": [
    "# Number of attractions\n",
    "\n",
    "# Calculate attractions within 10km for each Airbnb listing\n",
    "attraction_counts = []\n",
    "for city in data_test['city'].unique():\n",
    "    attractions_city = attractions_df[attractions_df['city'] == city]\n",
    "    if not attractions_city.empty:\n",
    "        attraction_counts.extend(data_test[data_test['city'] == city].apply(\n",
    "            lambda row: count_attractions_within_radius(row['latitude'], row['longitude'], attractions_city),\n",
    "            axis=1\n",
    "        ))\n",
    "    else:\n",
    "        attraction_counts.extend([0] * len(data_test[data_test['city'] == city]))\n",
    "\n",
    "data_test['nearby_attractions'] = attraction_counts"
   ],
   "id": "3f11e9c5850ea74b",
   "outputs": [],
   "execution_count": 944
  },
  {
   "metadata": {
    "ExecuteTime": {
     "end_time": "2024-08-04T21:57:36.543290Z",
     "start_time": "2024-08-04T21:57:36.540609Z"
    }
   },
   "cell_type": "code",
   "source": [
    "# Converting boolean columns and picture url columns to 0s and 1s\n",
    "for boolean_column in ['host_is_superhost', 'host_identity_verified', 'has_availability', 'instant_bookable']:\n",
    "    data_test[boolean_column] = data_test[boolean_column].map(lambda s: False if s == \"f\" else True)"
   ],
   "id": "294e113ad133a111",
   "outputs": [],
   "execution_count": 945
  },
  {
   "metadata": {
    "ExecuteTime": {
     "end_time": "2024-08-04T21:57:36.549185Z",
     "start_time": "2024-08-04T21:57:36.544015Z"
    }
   },
   "cell_type": "code",
   "source": [
    "# Changing data in license column to licensed and unlicensed and converting to boolean\n",
    "data_test['license'] = data_test['license'].map(lambda s: False if s == \"Unlicensed\" else True)\n",
    "\n",
    "# Ordinal Encoding host_response_time since there is a clear order\n",
    "data_test['host_response_time_encoded'] = ordinal_encoder.fit_transform(data_test[['host_response_time']])\n",
    "data_test.drop(columns=['host_response_time'], inplace=True)\n",
    "\n",
    "# One hot encoding property_type, city, and room_type\n",
    "# data_test = pd.get_dummies(data_test, columns=['property_type'], prefix='property')\n",
    "# data_test = pd.get_dummies(data_test, columns=['city'], prefix='city')\n",
    "# data_test = pd.get_dummies(data_test, columns=['room_type'], prefix='room_type')"
   ],
   "id": "962412cec457b31e",
   "outputs": [],
   "execution_count": 946
  },
  {
   "metadata": {
    "ExecuteTime": {
     "end_time": "2024-08-04T21:57:36.565497Z",
     "start_time": "2024-08-04T21:57:36.550230Z"
    }
   },
   "cell_type": "code",
   "source": [
    "# One hot encoding verifications\n",
    "\n",
    "# Extract unique items from the list in the column\n",
    "unique_items = set(item for sublist in data_test['host_verifications'].apply(safe_eval) for item in sublist)\n",
    "\n",
    "# Apply one hot encoding to the unique_items and create a new column for each item\n",
    "for item in unique_items:\n",
    "    column_name = item + \"_verification\"\n",
    "    data_test[column_name] = data_test['host_verifications'].apply(lambda x: True if item in x else False)\n",
    "\n",
    "# Drop the original amenities column\n",
    "data_test.drop('host_verifications', axis=1, inplace=True)"
   ],
   "id": "dfcff7f9c05af944",
   "outputs": [],
   "execution_count": 947
  },
  {
   "metadata": {
    "ExecuteTime": {
     "end_time": "2024-08-04T21:57:36.878808Z",
     "start_time": "2024-08-04T21:57:36.566432Z"
    }
   },
   "cell_type": "code",
   "source": [
    "# Amenities\n",
    "\n",
    "# Flatten the lists and extract unique items\n",
    "unique_items = set(item for sublist in data_test['amenities'].apply(safe_eval) for item in sublist if item)\n",
    "\n",
    "# Filter out any empty strings from unique_amenities\n",
    "filtered_unique_amenities = [amenity for amenity in unique_items if amenity.strip()]\n",
    "\n",
    "# Apply the function to rename items in the filtered 'unique_amenities' list using list comprehension\n",
    "updated_amenities = [rename_item(amenity, keywords_patterns) for amenity in filtered_unique_amenities]\n",
    "\n",
    "# Remove items that did not match any keyword pattern\n",
    "updated_amenities = [amenity for amenity in updated_amenities if amenity is not None]\n",
    "\n",
    "# Extract unique items from the list in the column\n",
    "unique_updated_amenities = list(set(updated_amenities))\n",
    "\n",
    "# Correctly rename items in the 'amenities' column\n",
    "data_test['renamed_amenities'] = data_test['amenities'].apply(lambda x: rename_amenities_list(safe_eval(x), keywords_patterns) if isinstance(x, str) else [])\n",
    "\n",
    "# Apply one hot encoding to the unique_items and create a new column for each item\n",
    "for item in unique_updated_amenities:\n",
    "    column_name = item + \"_amenity\"\n",
    "    data_test[column_name] = data_test['renamed_amenities'].apply(lambda x: item in x)\n",
    "\n",
    "# Drop the original amenities and renamed_amenities columns\n",
    "data_test.drop(['amenities', 'renamed_amenities'], axis=1, inplace=True)"
   ],
   "id": "d572105ad6a0e5cd",
   "outputs": [],
   "execution_count": 948
  },
  {
   "metadata": {
    "ExecuteTime": {
     "end_time": "2024-08-04T21:57:36.991804Z",
     "start_time": "2024-08-04T21:57:36.879607Z"
    }
   },
   "cell_type": "code",
   "source": [
    "# Sentiment Scores\n",
    "\n",
    "# creating new columns using polarity scores function\n",
    "data_test['title_scores'] = data_test['title'].apply(lambda title: sia.polarity_scores(str(title)))\n",
    "data_test['title_sentiment']=data_test['title_scores'].apply(lambda score_dict:score_dict['compound'])\n",
    "data_test.drop(['title', 'title_scores'], axis=1, inplace=True)\n",
    "\n",
    "# creating new columns using polarity scores function\n",
    "data_test['description_scores']=data_test['description'].apply(lambda description: sia.polarity_scores(str(description)))\n",
    "data_test['description_sentiment']=data_test['description_scores'].apply(lambda score_dict:score_dict['compound'])\n",
    "data_test.drop(['description', 'description_scores'], axis=1, inplace=True)"
   ],
   "id": "8562543a9b89bf8c",
   "outputs": [],
   "execution_count": 949
  },
  {
   "metadata": {
    "ExecuteTime": {
     "end_time": "2024-08-04T21:57:36.996246Z",
     "start_time": "2024-08-04T21:57:36.992362Z"
    }
   },
   "cell_type": "code",
   "source": "test_features = data_test.drop(['id', 'neighbourhood'], axis=1)",
   "id": "1bca69580b88d550",
   "outputs": [],
   "execution_count": 950
  },
  {
   "metadata": {},
   "cell_type": "markdown",
   "source": "Data Preparation",
   "id": "d089603a9adbd486"
  },
  {
   "metadata": {
    "ExecuteTime": {
     "end_time": "2024-08-04T21:57:37.005942Z",
     "start_time": "2024-08-04T21:57:36.996845Z"
    }
   },
   "cell_type": "code",
   "source": [
    "# Assigning appropriate names to training and resting data\n",
    "X_train = train_features.drop(['price'], axis=1)\n",
    "y_train = train_features['price']\n",
    "X_test = test_features.drop(['price'], axis=1)\n",
    "y_test = test_features['price']\n",
    "\n",
    "X_train.shape, X_test.shape, y_train.shape, y_test.shape"
   ],
   "id": "91f137fb71f86266",
   "outputs": [
    {
     "data": {
      "text/plain": [
       "((31775, 88), (304, 88), (31775,), (304,))"
      ]
     },
     "execution_count": 951,
     "metadata": {},
     "output_type": "execute_result"
    }
   ],
   "execution_count": 951
  },
  {
   "metadata": {
    "ExecuteTime": {
     "end_time": "2024-08-04T21:57:37.015021Z",
     "start_time": "2024-08-04T21:57:37.006613Z"
    }
   },
   "cell_type": "code",
   "source": [
    "# Aligning column discrepancy due to separating amenities. Important step.\n",
    "common_columns = X_train.columns.intersection(X_test.columns)\n",
    "X_train = X_train[common_columns]\n",
    "X_test = X_test[common_columns]\n",
    "\n",
    "X_train.shape, X_test.shape, y_train.shape, y_test.shape"
   ],
   "id": "35f3b6baf4fa3ad6",
   "outputs": [
    {
     "data": {
      "text/plain": [
       "((31775, 88), (304, 88), (31775,), (304,))"
      ]
     },
     "execution_count": 952,
     "metadata": {},
     "output_type": "execute_result"
    }
   ],
   "execution_count": 952
  },
  {
   "metadata": {
    "ExecuteTime": {
     "end_time": "2024-08-04T21:57:37.017286Z",
     "start_time": "2024-08-04T21:57:37.015656Z"
    }
   },
   "cell_type": "code",
   "source": [
    "# Feature Scaling\n",
    "# scaler = StandardScaler()\n",
    "# X_train_scaled = scaler.fit_transform(X_train)\n",
    "# X_test_scaled = scaler.transform(X_test)"
   ],
   "id": "12d49210bac3a9bd",
   "outputs": [],
   "execution_count": 953
  },
  {
   "metadata": {},
   "cell_type": "markdown",
   "source": "Model Modeling",
   "id": "675b9d79b7e3f4bc"
  },
  {
   "metadata": {
    "ExecuteTime": {
     "end_time": "2024-08-04T21:57:37.040610Z",
     "start_time": "2024-08-04T21:57:37.017939Z"
    }
   },
   "cell_type": "code",
   "source": [
    "# Build the model\n",
    "# final_model_lgbm = lgb.LGBMRegressor(learning_rate=0.01, n_estimators=3000, num_leaves=200, verbose=0, max_depth=-1, random_state=42)\n",
    "\n",
    "final_model_lgbm = lgb.LGBMRegressor(max_bin=100, learning_rate=0.01, n_estimators=1000, num_leaves=50, verbose=0, max_depth=-1, random_state=42)"
   ],
   "id": "107fae89f426c078",
   "outputs": [],
   "execution_count": 954
  },
  {
   "metadata": {
    "ExecuteTime": {
     "end_time": "2024-08-04T21:57:37.052015Z",
     "start_time": "2024-08-04T21:57:37.041906Z"
    }
   },
   "cell_type": "code",
   "source": [
    "# Encode categorical features\n",
    "categorical_features = ['property_type', 'city', 'room_type']\n",
    "for col in categorical_features:\n",
    "    X_train[col] = X_train[col].astype('category')\n",
    "    X_test[col] = X_test[col].astype('category')\n",
    "    \n",
    "# Convert categorical features to their indices\n",
    "categorical_feature_indices = [X_train.columns.get_loc(col) for col in categorical_features]"
   ],
   "id": "9aad006deb80faba",
   "outputs": [],
   "execution_count": 955
  },
  {
   "metadata": {
    "ExecuteTime": {
     "end_time": "2024-08-04T21:57:59.875058Z",
     "start_time": "2024-08-04T21:57:37.052945Z"
    }
   },
   "cell_type": "code",
   "source": [
    "\n",
    "final_model_lgbm.fit(X_train, y_train, categorical_feature=categorical_feature_indices)\n",
    "y_pred_gbm = final_model_lgbm.predict(X_test)\n",
    "ytrai_gbm = final_model_lgbm.predict(X_train)\n",
    "\n",
    "# Evaluate Light GBM\n",
    "lgbmr2 = r2_score(y_test, y_pred_gbm)\n",
    "lgbmmse = mean_squared_error(y_test, y_pred_gbm)\n",
    "\n",
    "# Evaluate Light GBM\n",
    "lgbmr2t = r2_score(y_train, ytrai_gbm)\n",
    "lgbmmset = mean_squared_error(y_train, ytrai_gbm)\n",
    "\n",
    "# Calculating and printing the evaluation metrices values\n",
    "print(f'Light GBM Fitting:')\n",
    "print(f'R2 Score: {lgbmr2}')\n",
    "print(f'MSE: {lgbmmse}')\n",
    "\n",
    "print(f'Light GBM Train Fitting:')\n",
    "print(f'R2 Score: {lgbmr2t}')\n",
    "print(f'MSE: {lgbmmset}')\n",
    "\n",
    "score_difference = lgbmr2t - lgbmr2\n",
    "\n",
    "print(f'Difference in R2 Score: {score_difference}')"
   ],
   "id": "f2941cbcf1f736e5",
   "outputs": [
    {
     "name": "stdout",
     "output_type": "stream",
     "text": [
      "[LightGBM] [Warning] Found whitespace in feature_names, replace with underlines\n",
      "Light GBM Fitting:\n",
      "R2 Score: 0.7832641529615073\n",
      "MSE: 0.10229812056697218\n",
      "Light GBM Train Fitting:\n",
      "R2 Score: 0.8359238973304588\n",
      "MSE: 0.0768466620939424\n",
      "Difference in R2 Score: 0.05265974436895149\n"
     ]
    }
   ],
   "execution_count": 956
  },
  {
   "metadata": {
    "ExecuteTime": {
     "end_time": "2024-08-04T21:58:00.053793Z",
     "start_time": "2024-08-04T21:57:59.876094Z"
    }
   },
   "cell_type": "code",
   "source": [
    "# Plot feature importance\n",
    "top = 35\n",
    "feature_importance = final_model_lgbm.feature_importances_\n",
    "# make importances relative to max importance\n",
    "feature_importance = 100.0 * (feature_importance / feature_importance.max())\n",
    "\n",
    "sorted_idx = np.argsort(feature_importance)\n",
    "pos = np.arange(sorted_idx.shape[0]) + .5\n",
    "plt.figure(figsize = (10,10))\n",
    "plt.barh(pos[-top:], feature_importance[sorted_idx][-top:], align='center')\n",
    "plt.yticks(pos[-top:], X_train.columns[sorted_idx][-top:])\n",
    "plt.xlabel('Relative Importance')\n",
    "plt.title('Variable Importance')\n",
    "plt.show()"
   ],
   "id": "fbbfe49b75c4f908",
   "outputs": [
    {
     "data": {
      "text/plain": [
       "<Figure size 1000x1000 with 1 Axes>"
      ],
      "image/png": "[encoded data removed]"
     },
     "metadata": {},
     "output_type": "display_data"
    }
   ],
   "execution_count": 957
  },
  {
   "metadata": {
    "ExecuteTime": {
     "end_time": "2024-08-04T22:17:45.666512Z",
     "start_time": "2024-08-04T22:17:45.572394Z"
    }
   },
   "cell_type": "code",
   "source": [
    "# Data for visualization\n",
    "metrics = ['R2 Score', 'MSE']\n",
    "train_scores = [lgbmr2t, lgbmmset]\n",
    "test_scores = [lgbmr2, lgbmmse]\n",
    "\n",
    "# Setting up the bar width and positions\n",
    "bar_width = 0.35\n",
    "index = np.arange(len(metrics))\n",
    "\n",
    "# Creating the plot\n",
    "fig, ax = plt.subplots()\n",
    "train_bar = ax.bar(index, train_scores, bar_width, label='Train')\n",
    "test_bar = ax.bar(index + bar_width, test_scores, bar_width, label='Test')\n",
    "\n",
    "# Adding labels and title\n",
    "ax.set_xlabel('Metrics')\n",
    "ax.set_ylabel('Scores')\n",
    "ax.set_title('Comparison of R² and MSE Scores between Training and Testing Datasets')\n",
    "ax.set_xticks(index + bar_width / 2)\n",
    "ax.set_xticklabels(metrics)\n",
    "ax.legend()\n",
    "\n",
    "# Adding the scores on top of the bars\n",
    "for bar in train_bar + test_bar:\n",
    "    yval = bar.get_height()\n",
    "    plt.text(bar.get_x() + bar.get_width() / 2, yval, round(yval, 2), va='bottom')\n",
    "\n",
    "# Display the plot\n",
    "plt.show()"
   ],
   "id": "e25c8882b0c22b39",
   "outputs": [
    {
     "data": {
      "text/plain": [
       "<Figure size 640x480 with 1 Axes>"
      ],
      "image/png": "[encoded data removed]"
     },
     "metadata": {},
     "output_type": "display_data"
    }
   ],
   "execution_count": 966
  },
  {
   "metadata": {},
   "cell_type": "code",
   "outputs": [],
   "execution_count": null,
   "source": "",
   "id": "ccdbf560f1258885"
  }
 ],
 "metadata": {
  "kernelspec": {
   "display_name": "Python 3",
   "language": "python",
   "name": "python3"
  },
  "language_info": {
   "codemirror_mode": {
    "name": "ipython",
    "version": 2
   },
   "file_extension": ".py",
   "mimetype": "text/x-python",
   "name": "python",
   "nbconvert_exporter": "python",
   "pygments_lexer": "ipython2",
   "version": "2.7.6"
  }
 },
 "nbformat": 4,
 "nbformat_minor": 5
}
