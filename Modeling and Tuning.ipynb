{
 "cells": [
  {
   "metadata": {},
   "cell_type": "markdown",
   "source": "",
   "id": "ef6f573fb9343632"
  },
  {
   "cell_type": "code",
   "id": "initial_id",
   "metadata": {
    "collapsed": true,
    "ExecuteTime": {
     "end_time": "2024-08-02T20:56:45.547351Z",
     "start_time": "2024-08-02T20:56:44.899680Z"
    }
   },
   "source": [
    "# Importing necessary libraries\n",
    "import pandas as pd\n",
    "import numpy as np\n",
    "import seaborn as sns\n",
    "import matplotlib.pyplot as plt\n",
    "import folium\n",
    "from sklearn.model_selection import train_test_split, GridSearchCV, RepeatedKFold\n",
    "from scipy import stats\n",
    "from datetime import datetime\n",
    "from sklearn.preprocessing import OrdinalEncoder, StandardScaler\n",
    "import re\n",
    "# import nltk\n",
    "from nltk.sentiment.vader import SentimentIntensityAnalyzer\n",
    "from sklearn.ensemble import RandomForestRegressor\n",
    "from sklearn.decomposition import PCA\n",
    "from sklearn.linear_model import LinearRegression, RidgeCV, Ridge\n",
    "from sklearn.metrics import r2_score, mean_absolute_error, mean_squared_error\n",
    "from numpy import logspace\n",
    "import lightgbm as lgb\n",
    "import xgboost as xgb\n",
    "from sklearn import ensemble\n",
    "import warnings\n",
    "warnings.filterwarnings('ignore')"
   ],
   "outputs": [],
   "execution_count": 1
  },
  {
   "metadata": {
    "ExecuteTime": {
     "end_time": "2024-08-02T20:56:46.678741Z",
     "start_time": "2024-08-02T20:56:45.547966Z"
    }
   },
   "cell_type": "code",
   "source": [
    "# Loading airbnb data of 8 cities\n",
    "montreal = pd.read_csv('Dataset/Airbnb/Montreal.csv')\n",
    "newbrunswick = pd.read_csv('Dataset/Airbnb/NewBrunswick.csv')\n",
    "ottawa = pd.read_csv('Dataset/Airbnb/Ottawa.csv')\n",
    "quebeccity = pd.read_csv('Dataset/Airbnb/QuebecCity.csv')\n",
    "toronto = pd.read_csv('Dataset/Airbnb/Toronto.csv')\n",
    "vancouver = pd.read_csv('Dataset/Airbnb/Vancouver.csv')\n",
    "victoria = pd.read_csv('Dataset/Airbnb/Victoria.csv')\n",
    "winnipeg = pd.read_csv('Dataset/Airbnb/Winnipeg.csv')\n",
    "\n",
    "\n",
    "# Adding a City column to each dataframes\n",
    "montreal['city'] = 'Montreal'\n",
    "newbrunswick['city'] = 'New Brunswick'\n",
    "ottawa['city'] = 'Ottawa'\n",
    "quebeccity['city'] = 'Quebec City'\n",
    "toronto['city'] = 'Toronto'\n",
    "vancouver['city'] = 'Vancouver'\n",
    "victoria['city'] = 'Victoria'\n",
    "winnipeg['city'] = 'Winnipeg'\n",
    "\n",
    "# Merging data from different cities to a single dataframe\n",
    "airbnb_df = pd.concat([montreal, newbrunswick, ottawa, quebeccity, toronto, vancouver, victoria, winnipeg], ignore_index=True)"
   ],
   "id": "e7bb2b3677a0f8d5",
   "outputs": [],
   "execution_count": 2
  },
  {
   "metadata": {
    "ExecuteTime": {
     "end_time": "2024-08-02T20:56:46.734704Z",
     "start_time": "2024-08-02T20:56:46.679466Z"
    }
   },
   "cell_type": "code",
   "source": [
    "# Loading the review sentiment scores\n",
    "reviews_df = pd.read_csv('Dataset/Sentiment/listing_sentiment_scores.csv')\n",
    "\n",
    "airbnb_df = pd.merge(airbnb_df, reviews_df, left_on='id', right_on='listing_id', how='left')"
   ],
   "id": "9ea6c6b4a3034cca",
   "outputs": [],
   "execution_count": 3
  },
  {
   "metadata": {},
   "cell_type": "markdown",
   "source": "Initial Feature Elimination",
   "id": "a55c645a90ed7270"
  },
  {
   "metadata": {
    "ExecuteTime": {
     "end_time": "2024-08-02T20:56:46.749542Z",
     "start_time": "2024-08-02T20:56:46.735545Z"
    }
   },
   "cell_type": "code",
   "source": [
    "feature_elimination_list = ['listing_url', 'scrape_id', 'last_scraped', 'source', 'host_url', 'host_thumbnail_url', 'calendar_updated', 'calendar_last_scraped', 'host_name', 'listing_id', 'host_id', 'neighbourhood_group_cleansed', 'host_neighbourhood', 'host_location', 'neighbourhood', 'host_listings_count', 'host_total_listings_count', 'calculated_host_listings_count_entire_homes', 'calculated_host_listings_count_private_rooms', 'calculated_host_listings_count_shared_rooms', 'reviews_per_month', 'review_scores_accuracy', 'bathrooms_text', 'minimum_minimum_nights', 'maximum_minimum_nights', 'minimum_maximum_nights', 'maximum_maximum_nights', 'minimum_nights_avg_ntm', 'maximum_nights_avg_ntm', 'number_of_reviews_ltm', 'number_of_reviews_l30d', 'host_about', 'neighborhood_overview']\n",
    "\n",
    "airbnb_df = airbnb_df.drop(feature_elimination_list, axis=1)"
   ],
   "id": "2cfff229a0c6c8f1",
   "outputs": [],
   "execution_count": 4
  },
  {
   "metadata": {},
   "cell_type": "markdown",
   "source": "Renaming columns",
   "id": "e31df628e61be776"
  },
  {
   "metadata": {
    "ExecuteTime": {
     "end_time": "2024-08-02T20:56:46.752186Z",
     "start_time": "2024-08-02T20:56:46.750212Z"
    }
   },
   "cell_type": "code",
   "source": [
    "# Mapping new column names\n",
    "column_mappings = {\n",
    "    'name': 'title',\n",
    "    'first_review': 'first_review_date',\n",
    "    'last_review': 'last_review_date',\n",
    "    'review_scores_value': 'review_scores_value_for_money',\n",
    "    'calculated_host_listings_count': 'host_listings_count',\n",
    "    'neighbourhood_cleansed': 'neighbourhood',\n",
    "    'sentiment_score': 'review_sentiment_score'\n",
    "}\n",
    "\n",
    "# Renaming columns\n",
    "airbnb_df.rename(columns=column_mappings, inplace=True)"
   ],
   "id": "78ebda6d0a1d561c",
   "outputs": [],
   "execution_count": 5
  },
  {
   "metadata": {},
   "cell_type": "markdown",
   "source": "Price to integer",
   "id": "50e39f2ebb4eec6b"
  },
  {
   "metadata": {
    "ExecuteTime": {
     "end_time": "2024-08-02T20:56:46.769175Z",
     "start_time": "2024-08-02T20:56:46.752674Z"
    }
   },
   "cell_type": "code",
   "source": [
    "# Removing \"$\" from price and converting to float\n",
    "airbnb_df['price'] = airbnb_df['price'].str.replace('[$,]', '', regex=True).astype(float)"
   ],
   "id": "aceec38fcbf1ff18",
   "outputs": [],
   "execution_count": 6
  },
  {
   "metadata": {},
   "cell_type": "markdown",
   "source": "Train-test split",
   "id": "ba355b1db5fc4f4b"
  },
  {
   "metadata": {
    "ExecuteTime": {
     "end_time": "2024-08-02T20:56:46.783780Z",
     "start_time": "2024-08-02T20:56:46.769808Z"
    }
   },
   "cell_type": "code",
   "source": "data_train, data_test = train_test_split(airbnb_df, test_size=0.2, random_state=42)",
   "id": "465f2a760b94905a",
   "outputs": [],
   "execution_count": 7
  },
  {
   "metadata": {},
   "cell_type": "markdown",
   "source": "Preprocessing",
   "id": "340e1cd6c9785b87"
  },
  {
   "metadata": {
    "ExecuteTime": {
     "end_time": "2024-08-02T20:56:46.786444Z",
     "start_time": "2024-08-02T20:56:46.784290Z"
    }
   },
   "cell_type": "code",
   "source": [
    "# Converting values in price column to its natural logarithm\n",
    "data_train['price'] = np.log(data_train['price'])"
   ],
   "id": "752e4ca44a299921",
   "outputs": [],
   "execution_count": 8
  },
  {
   "metadata": {
    "ExecuteTime": {
     "end_time": "2024-08-02T20:56:46.790203Z",
     "start_time": "2024-08-02T20:56:46.786947Z"
    }
   },
   "cell_type": "code",
   "source": [
    "# Fill null value with unlicensed\n",
    "data_train['license'].fillna('Unlicensed', inplace=True)"
   ],
   "id": "8ce3a18d82204dc1",
   "outputs": [],
   "execution_count": 9
  },
  {
   "metadata": {
    "ExecuteTime": {
     "end_time": "2024-08-02T20:56:46.804754Z",
     "start_time": "2024-08-02T20:56:46.792846Z"
    }
   },
   "cell_type": "code",
   "source": [
    "# Drop rows with empty price\n",
    "data_train = data_train.dropna(subset=['price'])"
   ],
   "id": "950f190b9c9b80fb",
   "outputs": [],
   "execution_count": 10
  },
  {
   "metadata": {
    "ExecuteTime": {
     "end_time": "2024-08-02T20:56:46.810160Z",
     "start_time": "2024-08-02T20:56:46.805554Z"
    }
   },
   "cell_type": "code",
   "source": [
    "# Fill null values with 0 for specified columns where 'number_of_reviews' equals 0\n",
    "columns_to_fill = [\n",
    "    'review_scores_value_for_money',\n",
    "    'review_scores_location',\n",
    "    'review_scores_checkin',\n",
    "    'review_scores_communication',\n",
    "    'review_scores_cleanliness',\n",
    "    'review_scores_rating'\n",
    "]\n",
    "\n",
    "for column in columns_to_fill:\n",
    "    data_train.loc[data_train['number_of_reviews'] == 0, column] = 0"
   ],
   "id": "fa8ac04664111444",
   "outputs": [],
   "execution_count": 11
  },
  {
   "metadata": {
    "ExecuteTime": {
     "end_time": "2024-08-02T20:56:46.813227Z",
     "start_time": "2024-08-02T20:56:46.810807Z"
    }
   },
   "cell_type": "code",
   "source": "data_train['review_sentiment_score'].fillna(0, inplace=True)",
   "id": "2d329f87ff506e21",
   "outputs": [],
   "execution_count": 12
  },
  {
   "metadata": {
    "ExecuteTime": {
     "end_time": "2024-08-02T20:56:46.818169Z",
     "start_time": "2024-08-02T20:56:46.813841Z"
    }
   },
   "cell_type": "code",
   "source": [
    "# Get today's date\n",
    "today_date = datetime.today().strftime('%Y-%m-%d')\n",
    "\n",
    "# Fill null values with today's date where 'number_of_reviews' equals 0\n",
    "data_train.loc[data_train['number_of_reviews'] == 0, 'first_review_date'] = data_train.loc[data_train['number_of_reviews'] == 0, 'first_review_date'].fillna(today_date)\n",
    "data_train.loc[data_train['number_of_reviews'] == 0, 'last_review_date'] = data_train.loc[data_train['number_of_reviews'] == 0, 'last_review_date'].fillna(today_date)"
   ],
   "id": "92f578a61128d758",
   "outputs": [],
   "execution_count": 13
  },
  {
   "metadata": {
    "ExecuteTime": {
     "end_time": "2024-08-02T20:56:46.822679Z",
     "start_time": "2024-08-02T20:56:46.818677Z"
    }
   },
   "cell_type": "code",
   "source": [
    "data_train['host_is_superhost'] = data_train['host_is_superhost'].fillna('f')\n",
    "data_train['has_availability'] = data_train['has_availability'].fillna('f')"
   ],
   "id": "7ee50cb8c217b24e",
   "outputs": [],
   "execution_count": 14
  },
  {
   "metadata": {
    "ExecuteTime": {
     "end_time": "2024-08-02T20:56:46.827782Z",
     "start_time": "2024-08-02T20:56:46.823273Z"
    }
   },
   "cell_type": "code",
   "source": "data_train['host_response_time'] = data_train['host_response_time'].fillna(data_train['host_response_time'].mode()[0])",
   "id": "abedefc297f21f75",
   "outputs": [],
   "execution_count": 15
  },
  {
   "metadata": {
    "ExecuteTime": {
     "end_time": "2024-08-02T20:56:46.859177Z",
     "start_time": "2024-08-02T20:56:46.828287Z"
    }
   },
   "cell_type": "code",
   "source": [
    "# Remove % sign and convert to numeric for the following columns\n",
    "data_train['host_response_rate'] = pd.to_numeric(data_train['host_response_rate'].str.replace('%', ''))\n",
    "data_train['host_acceptance_rate'] = pd.to_numeric(data_train['host_acceptance_rate'].str.replace('%', ''))\n",
    "\n",
    "# Creating a list of required columns\n",
    "numeric_columns = [\n",
    "    'host_response_rate',\n",
    "    'host_acceptance_rate',\n",
    "    'bedrooms', 'beds', \n",
    "    'review_scores_value_for_money', \n",
    "    'review_scores_location', \n",
    "    'review_scores_checkin', \n",
    "    'review_scores_communication', \n",
    "    'review_scores_cleanliness', \n",
    "    'bathrooms'\n",
    "]\n",
    "\n",
    "# Fill null values in specified columns with median values\n",
    "for column in numeric_columns:\n",
    "    median_value = data_train[column].median()\n",
    "    data_train[column].fillna(median_value, inplace=True)"
   ],
   "id": "2806b63556f4cbaf",
   "outputs": [],
   "execution_count": 16
  },
  {
   "metadata": {},
   "cell_type": "markdown",
   "source": "Feature Engineering",
   "id": "f358570491fe7b77"
  },
  {
   "metadata": {
    "ExecuteTime": {
     "end_time": "2024-08-02T20:56:46.885459Z",
     "start_time": "2024-08-02T20:56:46.859930Z"
    }
   },
   "cell_type": "code",
   "source": [
    "current_date = datetime.now()\n",
    "\n",
    "# Converting date columns\n",
    "data_train['host_since'] = pd.to_datetime(data_train['host_since'])\n",
    "data_train['first_review_date'] = pd.to_datetime(data_train['first_review_date'])\n",
    "data_train['last_review_date'] = pd.to_datetime(data_train['last_review_date'])\n",
    "\n",
    "# Calculating values and storing in a new column\n",
    "data_train['host_since_days'] = (current_date - data_train['host_since']).dt.days\n",
    "data_train['first_review_days'] = (current_date - data_train['first_review_date']).dt.days\n",
    "data_train['last_review_days'] = (current_date - data_train['last_review_date']).dt.days\n",
    "\n",
    "# Dropping date columns\n",
    "data_train.drop(columns=['host_since', 'first_review_date', 'last_review_date'], inplace=True)"
   ],
   "id": "ecf56d7b4f4ca95f",
   "outputs": [],
   "execution_count": 17
  },
  {
   "metadata": {
    "ExecuteTime": {
     "end_time": "2024-08-02T20:56:46.887996Z",
     "start_time": "2024-08-02T20:56:46.886114Z"
    }
   },
   "cell_type": "code",
   "source": [
    "# Define downtown coordinates for each city\n",
    "downtown_coords = {\n",
    "    'Montreal': (45.5017, -73.5673),\n",
    "    'New Brunswick': (45.9636, -66.6372),  # Fredericton\n",
    "    'Ottawa': (45.4215, -75.6972),\n",
    "    'Quebec City': (46.8139, -71.2080),\n",
    "    'Toronto': (43.6532, -79.3832),\n",
    "    'Vancouver': (49.2827, -123.1207),\n",
    "    'Victoria': (48.4284, -123.3656),\n",
    "    'Winnipeg': (49.8951, -97.1384)\n",
    "}"
   ],
   "id": "6b3453fb1f85cf0c",
   "outputs": [],
   "execution_count": 18
  },
  {
   "metadata": {
    "ExecuteTime": {
     "end_time": "2024-08-02T20:56:46.890559Z",
     "start_time": "2024-08-02T20:56:46.888663Z"
    }
   },
   "cell_type": "code",
   "source": [
    "def haversine_distance(lat1, lon1, lat2, lon2):\n",
    "    R = 6371  # Earth's radius in kilometers\n",
    "    lat1, lon1, lat2, lon2 = map(np.radians, [lat1, lon1, lat2, lon2])\n",
    "    dlat = lat2 - lat1\n",
    "    dlon = lon2 - lon1\n",
    "    a = np.sin(dlat / 2)**2 + np.cos(lat1) * np.cos(lat2) * np.sin(dlon / 2)**2\n",
    "    c = 2 * np.arctan2(np.sqrt(a), np.sqrt(1 - a))\n",
    "    return R * c"
   ],
   "id": "fef3bbe5e3aa5443",
   "outputs": [],
   "execution_count": 19
  },
  {
   "metadata": {
    "ExecuteTime": {
     "end_time": "2024-08-02T20:56:46.909836Z",
     "start_time": "2024-08-02T20:56:46.891303Z"
    }
   },
   "cell_type": "code",
   "source": [
    "# Calculate distance to downtown using broadcasting\n",
    "for city, (lat, lon) in downtown_coords.items():\n",
    "    mask = data_train['city'] == city\n",
    "    data_train.loc[mask, 'distance_to_downtown'] = haversine_distance(\n",
    "        data_train.loc[mask, 'latitude'].values, \n",
    "        data_train.loc[mask, 'longitude'].values, \n",
    "        lat, \n",
    "        lon\n",
    "    )"
   ],
   "id": "28ae49b6ddeeb953",
   "outputs": [],
   "execution_count": 20
  },
  {
   "metadata": {
    "ExecuteTime": {
     "end_time": "2024-08-02T20:56:46.919417Z",
     "start_time": "2024-08-02T20:56:46.910391Z"
    }
   },
   "cell_type": "code",
   "source": [
    "# Load attraction data\n",
    "attractions_df = pd.read_csv('Dataset/Locations/canadian_tourist_attractions.csv')\n",
    "attractions_df['city'] = attractions_df['city'].str.title().str.replace('_', ' ')\n",
    "attractions_df.head()"
   ],
   "id": "a37f94d1d69b3053",
   "outputs": [
    {
     "data": {
      "text/plain": [
       "       city                              name   latitude  longitude  \\\n",
       "0  Montreal  Musée des Beaux-Arts de Montréal  45.498697 -73.579385   \n",
       "1  Montreal              Belvédère Léo-Ayotte  45.523223 -73.568744   \n",
       "2  Montreal    Musée des ondes Emile Berliner  45.477550 -73.592403   \n",
       "3  Montreal                            Orbite  45.523473 -73.536689   \n",
       "4  Montreal                           Spirale  45.525468 -73.534699   \n",
       "\n",
       "         type  \n",
       "0      museum  \n",
       "1   viewpoint  \n",
       "2      museum  \n",
       "3  attraction  \n",
       "4  attraction  "
      ],
      "text/html": [
       "<div>\n",
       "<style scoped>\n",
       "    .dataframe tbody tr th:only-of-type {\n",
       "        vertical-align: middle;\n",
       "    }\n",
       "\n",
       "    .dataframe tbody tr th {\n",
       "        vertical-align: top;\n",
       "    }\n",
       "\n",
       "    .dataframe thead th {\n",
       "        text-align: right;\n",
       "    }\n",
       "</style>\n",
       "<table border=\"1\" class=\"dataframe\">\n",
       "  <thead>\n",
       "    <tr style=\"text-align: right;\">\n",
       "      <th></th>\n",
       "      <th>city</th>\n",
       "      <th>name</th>\n",
       "      <th>latitude</th>\n",
       "      <th>longitude</th>\n",
       "      <th>type</th>\n",
       "    </tr>\n",
       "  </thead>\n",
       "  <tbody>\n",
       "    <tr>\n",
       "      <th>0</th>\n",
       "      <td>Montreal</td>\n",
       "      <td>Musée des Beaux-Arts de Montréal</td>\n",
       "      <td>45.498697</td>\n",
       "      <td>-73.579385</td>\n",
       "      <td>museum</td>\n",
       "    </tr>\n",
       "    <tr>\n",
       "      <th>1</th>\n",
       "      <td>Montreal</td>\n",
       "      <td>Belvédère Léo-Ayotte</td>\n",
       "      <td>45.523223</td>\n",
       "      <td>-73.568744</td>\n",
       "      <td>viewpoint</td>\n",
       "    </tr>\n",
       "    <tr>\n",
       "      <th>2</th>\n",
       "      <td>Montreal</td>\n",
       "      <td>Musée des ondes Emile Berliner</td>\n",
       "      <td>45.477550</td>\n",
       "      <td>-73.592403</td>\n",
       "      <td>museum</td>\n",
       "    </tr>\n",
       "    <tr>\n",
       "      <th>3</th>\n",
       "      <td>Montreal</td>\n",
       "      <td>Orbite</td>\n",
       "      <td>45.523473</td>\n",
       "      <td>-73.536689</td>\n",
       "      <td>attraction</td>\n",
       "    </tr>\n",
       "    <tr>\n",
       "      <th>4</th>\n",
       "      <td>Montreal</td>\n",
       "      <td>Spirale</td>\n",
       "      <td>45.525468</td>\n",
       "      <td>-73.534699</td>\n",
       "      <td>attraction</td>\n",
       "    </tr>\n",
       "  </tbody>\n",
       "</table>\n",
       "</div>"
      ]
     },
     "execution_count": 21,
     "metadata": {},
     "output_type": "execute_result"
    }
   ],
   "execution_count": 21
  },
  {
   "metadata": {
    "ExecuteTime": {
     "end_time": "2024-08-02T20:56:47.951452Z",
     "start_time": "2024-08-02T20:56:46.919988Z"
    }
   },
   "cell_type": "code",
   "source": [
    "# Count attractions within 10km using broadcasting\n",
    "def count_attractions_within_radius(airbnb_lat, airbnb_lon, attractions, radius_km=10):\n",
    "    distances = haversine_distance(airbnb_lat, airbnb_lon, attractions['latitude'].values, attractions['longitude'].values)\n",
    "    return np.sum(distances <= radius_km)\n",
    "\n",
    "# Calculate attractions within 10km for each Airbnb listing\n",
    "attraction_counts = []\n",
    "for city in data_train['city'].unique():\n",
    "    attractions_city = attractions_df[attractions_df['city'] == city]\n",
    "    if not attractions_city.empty:\n",
    "        attraction_counts.extend(data_train[data_train['city'] == city].apply(\n",
    "            lambda row: count_attractions_within_radius(row['latitude'], row['longitude'], attractions_city),\n",
    "            axis=1\n",
    "        ))\n",
    "    else:\n",
    "        attraction_counts.extend([0] * len(data_train[data_train['city'] == city]))\n",
    "\n",
    "data_train['nearby_attractions'] = attraction_counts"
   ],
   "id": "6cfc9482a074c968",
   "outputs": [],
   "execution_count": 22
  },
  {
   "metadata": {},
   "cell_type": "markdown",
   "source": "Data Encoding",
   "id": "ed52c3da8997bf94"
  },
  {
   "metadata": {
    "ExecuteTime": {
     "end_time": "2024-08-02T20:56:48.161456Z",
     "start_time": "2024-08-02T20:56:47.952155Z"
    }
   },
   "cell_type": "code",
   "source": [
    "for boolean_column in ['host_is_superhost', 'host_has_profile_pic', 'host_identity_verified', 'has_availability', 'instant_bookable']:\n",
    "    data_train[boolean_column] = data_train[boolean_column].map(lambda s: False if s == \"f\" else True)\n",
    "\n",
    "def picture(row):\n",
    "    if (row['picture_url']==''):\n",
    "        return False\n",
    "    else:\n",
    "        return True\n",
    "data_train['has_picture']=data_train.apply(lambda row: picture(row), axis=1)\n",
    "\n",
    "def host_picture(row):\n",
    "    if (row['host_picture_url']==''):\n",
    "        return False\n",
    "    else:\n",
    "        return True\n",
    "data_train['has_host_picture']=data_train.apply(lambda row: picture(row), axis=1)\n",
    "\n",
    "# Dropping picture url columns\n",
    "data_train.drop(columns=['picture_url', 'host_picture_url'], inplace=True)"
   ],
   "id": "c1fe76bc3cec02ca",
   "outputs": [],
   "execution_count": 23
  },
  {
   "metadata": {
    "ExecuteTime": {
     "end_time": "2024-08-02T20:56:48.168167Z",
     "start_time": "2024-08-02T20:56:48.161983Z"
    }
   },
   "cell_type": "code",
   "source": [
    "# Changing data\n",
    "data_train['license'] = data_train['license'].map(lambda s: False if s == \"Unlicensed\" else True)"
   ],
   "id": "365cbd2b94f19198",
   "outputs": [],
   "execution_count": 24
  },
  {
   "metadata": {
    "ExecuteTime": {
     "end_time": "2024-08-02T20:56:48.180650Z",
     "start_time": "2024-08-02T20:56:48.169108Z"
    }
   },
   "cell_type": "code",
   "source": [
    "# Define the order of categories\n",
    "categories = ['within an hour', 'within a few hours', 'within a day', 'a few days or more']\n",
    "\n",
    "# Initialize OrdinalEncoder with the defined categories\n",
    "ordinal_encoder = OrdinalEncoder(categories=[categories])\n",
    "\n",
    "# Fit and transform the 'host_response_time' column\n",
    "data_train['host_response_time_encoded'] = ordinal_encoder.fit_transform(data_train[['host_response_time']])\n",
    "\n",
    "# Dropping the categorical column\n",
    "data_train.drop(columns=['host_response_time'], inplace=True)"
   ],
   "id": "6d56f9d0733ec84c",
   "outputs": [],
   "execution_count": 25
  },
  {
   "metadata": {
    "ExecuteTime": {
     "end_time": "2024-08-02T20:56:48.219573Z",
     "start_time": "2024-08-02T20:56:48.181531Z"
    }
   },
   "cell_type": "code",
   "source": [
    "data_train = pd.get_dummies(data_train, columns=['property_type'], prefix='property')\n",
    "data_train = pd.get_dummies(data_train, columns=['city'], prefix='city')\n",
    "data_train = pd.get_dummies(data_train, columns=['room_type'], prefix='room_type')"
   ],
   "id": "332121e2c8165022",
   "outputs": [],
   "execution_count": 26
  },
  {
   "metadata": {
    "ExecuteTime": {
     "end_time": "2024-08-02T20:56:48.398369Z",
     "start_time": "2024-08-02T20:56:48.220545Z"
    }
   },
   "cell_type": "code",
   "source": [
    "# Function to safely evaluate strings\n",
    "def safe_eval(x):\n",
    "    if isinstance(x, str):\n",
    "        return eval(x)\n",
    "    return x\n",
    "\n",
    "# Extract unique items from the list in the column\n",
    "unique_items = set(item for sublist in data_train['host_verifications'].apply(safe_eval) for item in sublist)\n",
    "\n",
    "# Apply one hot encoding to the unique_items and create a new column for each item\n",
    "for item in unique_items:\n",
    "    column_name = item + \"_verification\"\n",
    "    data_train[column_name] = data_train['host_verifications'].apply(lambda x: True if item in x else False)\n",
    "\n",
    "# Drop the original amenities column\n",
    "data_train.drop('host_verifications', axis=1, inplace=True)"
   ],
   "id": "d290da4c74c9f1ec",
   "outputs": [],
   "execution_count": 27
  },
  {
   "metadata": {},
   "cell_type": "markdown",
   "source": "Feature Extraction",
   "id": "9d6d4524e9956846"
  },
  {
   "metadata": {
    "ExecuteTime": {
     "end_time": "2024-08-02T20:56:49.735970Z",
     "start_time": "2024-08-02T20:56:48.399062Z"
    }
   },
   "cell_type": "code",
   "source": [
    "# Flatten the lists and extract unique items\n",
    "unique_items = set(item for sublist in data_train['amenities'].apply(safe_eval) for item in sublist if item)"
   ],
   "id": "693982695e217fd4",
   "outputs": [],
   "execution_count": 28
  },
  {
   "metadata": {
    "ExecuteTime": {
     "end_time": "2024-08-02T20:56:49.783699Z",
     "start_time": "2024-08-02T20:56:49.736782Z"
    }
   },
   "cell_type": "code",
   "source": [
    "#Define keywords and corresponding regex patterns\n",
    "keywords_patterns = {\n",
    "    'tv': r'\\b(TV|HDTV|Netflix|Roku|Amazon|chromecast|hulu|disney+)\\b',\n",
    "    'pool': r'\\b(Pool|Swimming pool)\\b',\n",
    "    'oven': r'\\b(Oven|microwave)\\b',\n",
    "    'stove': r'\\b(Stove|stove)\\b',\n",
    "    'wifi': r'\\b(Wifi)\\b',\n",
    "    'toiletries': r'\\b(Toiletries|Shampoo|Brush|Conditioner|soap|wash|shower gel)\\b',\n",
    "    'parking': r'\\b(parking|carport)\\b',\n",
    "    'sound_system': r'\\b(SoundSystem|Sound System|speakers|speaker|piano|record player)\\b',\n",
    "    'coffee_maker': r'\\b(coffee|coffee-maker|coffeemaker|espresso)\\b',\n",
    "    'grill': r'\\b(Grill|BBQ)\\b',\n",
    "    'workspace': r'\\b(Workspace|Workspaces)\\b',\n",
    "    'closet': r'\\b(Closet|storage|wardrobe|dresser)\\b',\n",
    "    'exercise_equipment': r'\\b(Exercise|yoga|elliptical|bike|bikes|gym)\\b',\n",
    "    'refrigerator': r'\\b(Refrigerator|refrigerator|freezer|ice machine|fridge)\\b',\n",
    "    'housekeeping': r'\\b(Housekeeping|Housekeeping)\\b',\n",
    "    'backyard': r'\\b(backyard|patio|balcony)\\b',\n",
    "    'safety': r'\\b(Safety|Safety|lock|pin|alarm)\\b',\n",
    "    'spa': r'\\b(Sauna|sauna|jacuzzi|tub|spa|steam room|sun loungers)\\b',\n",
    "    'view': r'\\b(lake|skyline|view|courtyard|resort|waterfront)\\b',\n",
    "    'laundry': r'\\b(Laundry|laundry|laundromat|drying|dryer)\\b',\n",
    "    'garbage': r'\\b(Garbage|garbage)\\b',\n",
    "    'games': r'\\b(Game console|gaming console|gaming consoles|ps2|ps3|ps4|ps5|xbox|nintendo|games|ping pong)\\b',\n",
    "    'first_aid': r'\\b(first aid)\\b',\n",
    "    'smoke_alarm': r'\\b(smoke alarm|fire extinguisher|alarm)\\b',\n",
    "    'private_entrance': r'\\b(private entrance)\\b',\n",
    "    'AC': r'\\b(heating|conditioning|AC)\\b',\n",
    "    'bedding': r'\\b(pillows|pillow|blanket|blankets|bed linens)\\b',\n",
    "    'washer': r'\\b(washer)\\b',\n",
    "    'baby_ameneties': r'\\b(crib|baby|high chair|changing table|playroom|playground)\\b',\n",
    "    'utensils': r'\\b(utensils|cooking|dishes|silverware|glasses)\\b',\n",
    "    'kitchen': r'\\b(kitchen|dining|rice maker|blender|kitchenette)\\b',\n",
    "    'bathtub': r'\\b(bathtub)\\b',\n",
    "    'iron': r'\\b(iron|ironing board)\\b',\n",
    "    'self_checking': r'\\b(Self check-in|check-in|self_checking|self checkin|self checking)\\b',\n",
    "    'hangers': r'\\b(hangers)\\b',\n",
    "    'hair_dryer': r'\\b(hair dryer)\\b',\n",
    "    'security_camera': r'\\b(security|camera|cameras)\\b',\n",
    "    'lock_on_door': r'\\b(lock|keypad)\\b',\n",
    "    'toaster': r'\\b(toaster|bread maker)\\b',\n",
    "    'pets_allowed' : r'\\b(pets allowed)\\b',\n",
    "    'hot_water': r'\\b(hot water)\\b',\n",
    "    'bookshelf': r'\\b(bookshelf|books|reading)\\b',\n",
    "    'cleaning products': r'\\b(cleaning products)\\b',\n",
    "    'fire pit': r'\\b(fire pit|fire place|firepit|fireplace)\\b',\n",
    "    'garage': r'\\b(garage)\\b',\n",
    "    'elevator': r'\\b(elevator)\\b',\n",
    "    'beach': r'\\b(beach)\\b',\n",
    "    'host_there': r'\\b(host greets you|property manager)\\b',\n",
    "    'bar': r'\\b(bar)\\b',\n",
    "    'sports': r'\\b(kayak|golf|ski|ski-in/ski-out|lasertag|laser tag|batting cage|wall climbing|climbing wall|bowling|hockey rink|skate ramp)\\b',\n",
    "    'hammock': r'\\b(hammock)\\b',\n",
    "    'ev_charger': r'\\b(ev charger)\\b',\n",
    "    'movie_theater': r'\\b(movie theater|media room|theme room)\\b',\n",
    "}\n",
    "\n",
    "# Function to rename items based on regex patterns\n",
    "def rename_item(amenity, patterns):\n",
    "    for key, pattern in patterns.items():\n",
    "        if re.search(pattern, amenity, flags=re.IGNORECASE):\n",
    "            return key\n",
    "    return amenity\n",
    "\n",
    "# Filter out any empty strings from unique_amenities\n",
    "filtered_unique_amenities = [amenity for amenity in unique_items if amenity.strip()]\n",
    "\n",
    "# Apply the function to rename items in the filtered 'unique_amenities' list using list comprehension\n",
    "updated_amenities = [rename_item(amenity, keywords_patterns) for amenity in filtered_unique_amenities]\n",
    "\n",
    "# Extract unique items from the list in the column\n",
    "unique_updated_amenities = list(set(updated_amenities))\n",
    "\n",
    "# Print the total number of unique items\n",
    "print(\"Total number of unique updated amenities:\", len(unique_updated_amenities))\n",
    "print(unique_updated_amenities)"
   ],
   "id": "d9c173e80e5a921d",
   "outputs": [
    {
     "name": "stdout",
     "output_type": "stream",
     "text": [
      "Total number of unique updated amenities: 81\n",
      "['cleaning products', 'AC', 'beach', 'hammock', 'sports', 'Bidet', 'self_checking', 'Babysitter recommendations', 'hot_water', 'lock_on_door', 'Outlet covers', 'coffee_maker', 'iron', 'Safe', 'garage', 'Window guards', 'view', 'sound_system', 'backyard', 'laundry', 'pool', 'housekeeping', 'Ceiling fan', 'Long term stays allowed', 'refrigerator', 'Trash compactor', 'utensils', 'Table corner guards', 'bar', 'stove', 'Outdoor furniture', 'baby_ameneties', 'Boat slip', 'workspace', 'Single level home', 'Lockbox', 'security_camera', 'parking', 'smoke_alarm', 'elevator', 'Room-darkening shades', 'Private living room', 'washer', 'Dishwasher', 'Breakfast', 'toaster', 'closet', 'Portable heater', 'exercise_equipment', 'Ethernet connection', 'movie_theater', 'Outdoor shower', 'hangers', 'pets_allowed', 'Luggage dropoff allowed', 'wifi', 'safety', 'Portable fans', 'toiletries', 'Smoking allowed', 'Children’s dinnerware', 'private_entrance', 'Building staff', 'bathtub', 'games', 'kitchen', 'Noise decibel monitors on property', 'first_aid', 'Baking sheet', 'Essentials', 'ev_charger', 'host_there', 'bookshelf', 'spa', 'tv', 'Cleaning available during stay', 'oven', 'bedding', 'fire pit', 'grill', 'Mosquito net']\n"
     ]
    }
   ],
   "execution_count": 29
  },
  {
   "metadata": {
    "ExecuteTime": {
     "end_time": "2024-08-02T20:56:49.789936Z",
     "start_time": "2024-08-02T20:56:49.784390Z"
    }
   },
   "cell_type": "code",
   "source": [
    "# Apply the function to rename items in the 'amenities' column\n",
    "data_train['amenities'] = data_train['amenities'].apply(lambda x: rename_item(x, keywords_patterns) if isinstance(x, list) else \"\")"
   ],
   "id": "d3913c0a44bfbf1c",
   "outputs": [],
   "execution_count": 30
  },
  {
   "metadata": {
    "ExecuteTime": {
     "end_time": "2024-08-02T20:56:50.029486Z",
     "start_time": "2024-08-02T20:56:49.790722Z"
    }
   },
   "cell_type": "code",
   "source": [
    "# Apply one hot encoding to the unique_items and create a new column for each item\n",
    "for item in unique_updated_amenities:\n",
    "    column_name = item + \"_amenity\"\n",
    "    data_train[column_name] = data_train['amenities'].apply(lambda x: True if item in x else False)\n",
    "\n",
    "# Drop the original amenities column\n",
    "data_train.drop('amenities', axis=1, inplace=True)"
   ],
   "id": "e745703428c81a1b",
   "outputs": [],
   "execution_count": 31
  },
  {
   "metadata": {
    "ExecuteTime": {
     "end_time": "2024-08-02T20:57:00.994251Z",
     "start_time": "2024-08-02T20:56:50.030291Z"
    }
   },
   "cell_type": "code",
   "source": [
    "# Need to download once for sentiment analysis\n",
    "# nltk.download('vader_lexicon')\n",
    "\n",
    "#creating an object of sentiment intensity analyzer\n",
    "sia= SentimentIntensityAnalyzer()\n",
    "\n",
    "# creating new columns using polarity scores function\n",
    "data_train['title_scores'] = data_train['title'].apply(lambda title: sia.polarity_scores(str(title)))\n",
    "data_train['title_compound']=data_train['title_scores'].apply(lambda score_dict:score_dict['compound'])\n",
    "data_train['title_negativity']=data_train['title_scores'].apply(lambda score_dict:score_dict['neg'])\n",
    "data_train['title_neutrality']=data_train['title_scores'].apply(lambda score_dict:score_dict['neu'])\n",
    "data_train['title_positivity']=data_train['title_scores'].apply(lambda score_dict:score_dict['pos'])\n",
    "data_train.drop(['title', 'title_scores'], axis=1, inplace=True)\n",
    "\n",
    "\n",
    "# creating new columns using polarity scores function\n",
    "data_train['description_scores']=data_train['description'].apply(lambda description: sia.polarity_scores(str(description)))\n",
    "data_train['description_compound']=data_train['description_scores'].apply(lambda score_dict:score_dict['compound'])\n",
    "data_train['description_negativity']=data_train['description_scores'].apply(lambda score_dict:score_dict['neg'])\n",
    "data_train['description_neutrality']=data_train['description_scores'].apply(lambda score_dict:score_dict['neu'])\n",
    "data_train['description_positivity']=data_train['description_scores'].apply(lambda score_dict:score_dict['pos'])\n",
    "data_train.drop(['description', 'description_scores'], axis=1, inplace=True)"
   ],
   "id": "b8476e4ef94fa5b8",
   "outputs": [],
   "execution_count": 32
  },
  {
   "metadata": {},
   "cell_type": "markdown",
   "source": "Feature Selection",
   "id": "7c3296d0e10913f9"
  },
  {
   "metadata": {
    "ExecuteTime": {
     "end_time": "2024-08-02T20:57:01.004447Z",
     "start_time": "2024-08-02T20:57:00.995423Z"
    }
   },
   "cell_type": "code",
   "source": "train_features = data_train.drop(['id', 'neighbourhood'], axis=1)",
   "id": "e1ca4f805e752124",
   "outputs": [],
   "execution_count": 33
  },
  {
   "metadata": {},
   "cell_type": "markdown",
   "source": "Replicating changes to test data",
   "id": "e958da18af7ead34"
  },
  {
   "metadata": {
    "ExecuteTime": {
     "end_time": "2024-08-02T20:57:01.007539Z",
     "start_time": "2024-08-02T20:57:01.005204Z"
    }
   },
   "cell_type": "code",
   "source": [
    "# Converting values in price column to its natural logarithm\n",
    "data_test['price'] = np.log(data_test['price'])"
   ],
   "id": "52cc9312c4cd8b68",
   "outputs": [],
   "execution_count": 34
  },
  {
   "metadata": {
    "ExecuteTime": {
     "end_time": "2024-08-02T20:57:01.041216Z",
     "start_time": "2024-08-02T20:57:01.008131Z"
    }
   },
   "cell_type": "code",
   "source": [
    "# Fill null value with unlicensed\n",
    "data_test['license'].fillna('Unlicensed', inplace=True)\n",
    "\n",
    "# Drop rows with empty price\n",
    "data_test = data_test.dropna(subset=['price'])\n",
    "\n",
    "# Fill null values with 0 for specified columns where 'number_of_reviews' equals 0\n",
    "for column in columns_to_fill:\n",
    "    data_test.loc[data_test['number_of_reviews'] == 0, column] = 0\n",
    "\n",
    "# Filling null values in review_sentiment_score to 0    \n",
    "data_test['review_sentiment_score'].fillna(0, inplace=True)\n",
    "\n",
    "# Fill null values with today's date where 'number_of_reviews' equals 0\n",
    "data_test.loc[data_test['number_of_reviews'] == 0, 'first_review_date'] = data_test.loc[data_test['number_of_reviews'] == 0, 'first_review_date'].fillna(today_date)\n",
    "data_test.loc[data_test['number_of_reviews'] == 0, 'last_review_date'] = data_test.loc[data_test['number_of_reviews'] == 0, 'last_review_date'].fillna(today_date)\n",
    "\n",
    "# Fill null in host realted columns\n",
    "data_test['host_is_superhost'] = data_test['host_is_superhost'].fillna('f')\n",
    "data_test['has_availability'] = data_test['has_availability'].fillna('f')\n",
    "data_test['host_response_time'] = data_test['host_response_time'].fillna(data_test['host_response_time'].mode()[0])\n",
    "\n",
    "# Remove % sign and convert to numeric for the following columns\n",
    "data_test['host_response_rate'] = pd.to_numeric(data_test['host_response_rate'].str.replace('%', ''))\n",
    "data_test['host_acceptance_rate'] = pd.to_numeric(data_test['host_acceptance_rate'].str.replace('%', ''))\n",
    "\n",
    "# Fill null values in specified columns with median values\n",
    "for column in numeric_columns:\n",
    "    median_value = data_test[column].median()\n",
    "    data_test[column].fillna(median_value, inplace=True)"
   ],
   "id": "4b3aa01b57e4b8d",
   "outputs": [],
   "execution_count": 35
  },
  {
   "metadata": {
    "ExecuteTime": {
     "end_time": "2024-08-02T20:57:01.051903Z",
     "start_time": "2024-08-02T20:57:01.041986Z"
    }
   },
   "cell_type": "code",
   "source": [
    "# Adding days since columns\n",
    "# Converting date columns\n",
    "data_test['host_since'] = pd.to_datetime(data_test['host_since'])\n",
    "data_test['first_review_date'] = pd.to_datetime(data_test['first_review_date'])\n",
    "data_test['last_review_date'] = pd.to_datetime(data_test['last_review_date'])\n",
    "\n",
    "# Calculating values and storing in a new column\n",
    "data_test['host_since_days'] = (current_date - data_test['host_since']).dt.days\n",
    "data_test['first_review_days'] = (current_date - data_test['first_review_date']).dt.days\n",
    "data_test['last_review_days'] = (current_date - data_test['last_review_date']).dt.days\n",
    "\n",
    "# Dropping date columns\n",
    "data_test.drop(columns=['host_since', 'first_review_date', 'last_review_date'], inplace=True)"
   ],
   "id": "81e7be204824144",
   "outputs": [],
   "execution_count": 36
  },
  {
   "metadata": {
    "ExecuteTime": {
     "end_time": "2024-08-02T20:57:01.064424Z",
     "start_time": "2024-08-02T20:57:01.056731Z"
    }
   },
   "cell_type": "code",
   "source": [
    "# Distance to downtown\n",
    "\n",
    "# Calculate distance to downtown using broadcasting\n",
    "for city, (lat, lon) in downtown_coords.items():\n",
    "    mask = data_test['city'] == city\n",
    "    data_test.loc[mask, 'distance_to_downtown'] = haversine_distance(\n",
    "        data_test.loc[mask, 'latitude'].values, \n",
    "        data_test.loc[mask, 'longitude'].values, \n",
    "        lat, \n",
    "        lon\n",
    "    )"
   ],
   "id": "a801077e2281cafe",
   "outputs": [],
   "execution_count": 37
  },
  {
   "metadata": {
    "ExecuteTime": {
     "end_time": "2024-08-02T20:57:01.316317Z",
     "start_time": "2024-08-02T20:57:01.064998Z"
    }
   },
   "cell_type": "code",
   "source": [
    "# Number of attractions\n",
    "\n",
    "# Calculate attractions within 10km for each Airbnb listing\n",
    "attraction_counts = []\n",
    "for city in data_test['city'].unique():\n",
    "    attractions_city = attractions_df[attractions_df['city'] == city]\n",
    "    if not attractions_city.empty:\n",
    "        attraction_counts.extend(data_test[data_test['city'] == city].apply(\n",
    "            lambda row: count_attractions_within_radius(row['latitude'], row['longitude'], attractions_city),\n",
    "            axis=1\n",
    "        ))\n",
    "    else:\n",
    "        attraction_counts.extend([0] * len(data_test[data_test['city'] == city]))\n",
    "\n",
    "data_test['nearby_attractions'] = attraction_counts"
   ],
   "id": "3f11e9c5850ea74b",
   "outputs": [],
   "execution_count": 38
  },
  {
   "metadata": {
    "ExecuteTime": {
     "end_time": "2024-08-02T20:57:01.371293Z",
     "start_time": "2024-08-02T20:57:01.317038Z"
    }
   },
   "cell_type": "code",
   "source": [
    "# Converting boolean columns and picture url columns to 0s and 1s\n",
    "for boolean_column in ['host_is_superhost', 'host_has_profile_pic', 'host_identity_verified', 'has_availability', 'instant_bookable']:\n",
    "    data_test[boolean_column] = data_test[boolean_column].map(lambda s: False if s == \"f\" else True)\n",
    "\n",
    "data_test['has_picture']=data_test.apply(lambda row: picture(row), axis=1)\n",
    "data_test['has_host_picture']=data_test.apply(lambda row: picture(row), axis=1)\n",
    "\n",
    "# Dropping picture url columns\n",
    "data_test.drop(columns=['picture_url', 'host_picture_url'], inplace=True)"
   ],
   "id": "294e113ad133a111",
   "outputs": [],
   "execution_count": 39
  },
  {
   "metadata": {
    "ExecuteTime": {
     "end_time": "2024-08-02T20:57:01.386820Z",
     "start_time": "2024-08-02T20:57:01.372070Z"
    }
   },
   "cell_type": "code",
   "source": [
    "# Changing data in license column to licensed and unlicensed and converting to boolean\n",
    "data_test['license'] = data_test['license'].map(lambda s: False if s == \"Unlicensed\" else True)\n",
    "\n",
    "# Ordinal Encoding host_response_time since there is a clear order\n",
    "data_test['host_response_time_encoded'] = ordinal_encoder.fit_transform(data_test[['host_response_time']])\n",
    "data_test.drop(columns=['host_response_time'], inplace=True)\n",
    "\n",
    "# One hot encoding property_type, city, and room_type\n",
    "data_test = pd.get_dummies(data_test, columns=['property_type'], prefix='property')\n",
    "data_test = pd.get_dummies(data_test, columns=['city'], prefix='city')\n",
    "data_test = pd.get_dummies(data_test, columns=['room_type'], prefix='room_type')"
   ],
   "id": "962412cec457b31e",
   "outputs": [],
   "execution_count": 40
  },
  {
   "metadata": {
    "ExecuteTime": {
     "end_time": "2024-08-02T20:57:01.435025Z",
     "start_time": "2024-08-02T20:57:01.387380Z"
    }
   },
   "cell_type": "code",
   "source": [
    "# One hot encoding verifications\n",
    "\n",
    "# Extract unique items from the list in the column\n",
    "unique_items = set(item for sublist in data_test['host_verifications'].apply(safe_eval) for item in sublist)\n",
    "\n",
    "# Apply one hot encoding to the unique_items and create a new column for each item\n",
    "for item in unique_items:\n",
    "    column_name = item + \"_verification\"\n",
    "    data_test[column_name] = data_test['host_verifications'].apply(lambda x: True if item in x else False)\n",
    "\n",
    "# Drop the original amenities column\n",
    "data_test.drop('host_verifications', axis=1, inplace=True)"
   ],
   "id": "dfcff7f9c05af944",
   "outputs": [],
   "execution_count": 41
  },
  {
   "metadata": {
    "ExecuteTime": {
     "end_time": "2024-08-02T20:57:01.845516Z",
     "start_time": "2024-08-02T20:57:01.435595Z"
    }
   },
   "cell_type": "code",
   "source": [
    "# Amenities\n",
    "\n",
    "# Flatten the lists and extract unique items\n",
    "unique_items = set(item for sublist in data_test['amenities'].apply(safe_eval) for item in sublist if item)\n",
    "\n",
    "# Filter out any empty strings from unique_amenities\n",
    "filtered_unique_amenities = [amenity for amenity in unique_items if amenity.strip()]\n",
    "\n",
    "# Apply the function to rename items in the filtered 'unique_amenities' list using list comprehension\n",
    "updated_amenities = [rename_item(amenity, keywords_patterns) for amenity in filtered_unique_amenities]\n",
    "\n",
    "# Extract unique items from the list in the column\n",
    "unique_updated_amenities = list(set(updated_amenities))\n",
    "\n",
    "# Apply the function to rename items in the 'amenities' column\n",
    "data_test['amenities'] = data_test['amenities'].apply(lambda x: rename_item(x, keywords_patterns) if isinstance(x, list) else \"\")\n",
    "\n",
    "# Apply one hot encoding to the unique_items and create a new column for each item\n",
    "for item in unique_updated_amenities:\n",
    "    column_name = item + \"_amenity\"\n",
    "    data_test[column_name] = data_test['amenities'].apply(lambda x: True if item in x else False)\n",
    "\n",
    "# Drop the original amenities column\n",
    "data_test.drop('amenities', axis=1, inplace=True)"
   ],
   "id": "d572105ad6a0e5cd",
   "outputs": [],
   "execution_count": 42
  },
  {
   "metadata": {
    "ExecuteTime": {
     "end_time": "2024-08-02T20:57:04.484871Z",
     "start_time": "2024-08-02T20:57:01.846282Z"
    }
   },
   "cell_type": "code",
   "source": [
    "# Sentiment Scores\n",
    "\n",
    "# creating new columns using polarity scores function\n",
    "data_test['title_scores'] = data_test['title'].apply(lambda title: sia.polarity_scores(str(title)))\n",
    "data_test['title_compound']=data_test['title_scores'].apply(lambda score_dict:score_dict['compound'])\n",
    "data_test['title_negativity']=data_test['title_scores'].apply(lambda score_dict:score_dict['neg'])\n",
    "data_test['title_neutrality']=data_test['title_scores'].apply(lambda score_dict:score_dict['neu'])\n",
    "data_test['title_positivity']=data_test['title_scores'].apply(lambda score_dict:score_dict['pos'])\n",
    "data_test.drop(['title', 'title_scores'], axis=1, inplace=True)\n",
    "\n",
    "# creating new columns using polarity scores function\n",
    "data_test['description_scores']=data_test['description'].apply(lambda description: sia.polarity_scores(str(description)))\n",
    "data_test['description_compound']=data_test['description_scores'].apply(lambda score_dict:score_dict['compound'])\n",
    "data_test['description_negativity']=data_test['description_scores'].apply(lambda score_dict:score_dict['neg'])\n",
    "data_test['description_neutrality']=data_test['description_scores'].apply(lambda score_dict:score_dict['neu'])\n",
    "data_test['description_positivity']=data_test['description_scores'].apply(lambda score_dict:score_dict['pos'])\n",
    "data_test.drop(['description', 'description_scores'], axis=1, inplace=True)"
   ],
   "id": "8562543a9b89bf8c",
   "outputs": [],
   "execution_count": 43
  },
  {
   "metadata": {
    "ExecuteTime": {
     "end_time": "2024-08-02T20:57:04.489759Z",
     "start_time": "2024-08-02T20:57:04.485633Z"
    }
   },
   "cell_type": "code",
   "source": "test_features = data_test.drop(['id', 'neighbourhood'], axis=1)",
   "id": "1bca69580b88d550",
   "outputs": [],
   "execution_count": 44
  },
  {
   "metadata": {},
   "cell_type": "markdown",
   "source": "Data Preparation",
   "id": "d089603a9adbd486"
  },
  {
   "metadata": {
    "ExecuteTime": {
     "end_time": "2024-08-02T20:57:04.500790Z",
     "start_time": "2024-08-02T20:57:04.490336Z"
    }
   },
   "cell_type": "code",
   "source": [
    "# Assigning appropriate names to training and resting data\n",
    "X_train = train_features.drop(['price'], axis=1)\n",
    "y_train = train_features['price']\n",
    "X_test = test_features.drop(['price'], axis=1)\n",
    "y_test = test_features['price']\n",
    "\n",
    "X_train.shape, X_test.shape, y_train.shape, y_test.shape"
   ],
   "id": "91f137fb71f86266",
   "outputs": [
    {
     "data": {
      "text/plain": [
       "((33288, 231), (8284, 211), (33288,), (8284,))"
      ]
     },
     "execution_count": 45,
     "metadata": {},
     "output_type": "execute_result"
    }
   ],
   "execution_count": 45
  },
  {
   "metadata": {
    "ExecuteTime": {
     "end_time": "2024-08-02T20:57:04.512446Z",
     "start_time": "2024-08-02T20:57:04.501381Z"
    }
   },
   "cell_type": "code",
   "source": [
    "# Aligning column discrepancy due to separating amenities. Important step.\n",
    "common_columns = X_train.columns.intersection(X_test.columns)\n",
    "X_train = X_train[common_columns]\n",
    "X_test = X_test[common_columns]\n",
    "\n",
    "X_train.shape, X_test.shape, y_train.shape, y_test.shape"
   ],
   "id": "35f3b6baf4fa3ad6",
   "outputs": [
    {
     "data": {
      "text/plain": [
       "((33288, 206), (8284, 206), (33288,), (8284,))"
      ]
     },
     "execution_count": 46,
     "metadata": {},
     "output_type": "execute_result"
    }
   ],
   "execution_count": 46
  },
  {
   "metadata": {
    "ExecuteTime": {
     "end_time": "2024-08-02T20:57:04.693925Z",
     "start_time": "2024-08-02T20:57:04.512962Z"
    }
   },
   "cell_type": "code",
   "source": [
    "# Feature Scaling\n",
    "scaler = StandardScaler()\n",
    "X_train_scaled = scaler.fit_transform(X_train)\n",
    "X_test_scaled = scaler.transform(X_test)"
   ],
   "id": "12d49210bac3a9bd",
   "outputs": [],
   "execution_count": 47
  },
  {
   "metadata": {},
   "cell_type": "markdown",
   "source": "Model Modeling",
   "id": "675b9d79b7e3f4bc"
  },
  {
   "metadata": {
    "ExecuteTime": {
     "end_time": "2024-08-02T20:57:04.696380Z",
     "start_time": "2024-08-02T20:57:04.694550Z"
    }
   },
   "cell_type": "code",
   "source": [
    "# Build the model\n",
    "final_model_lgbm = lgb.LGBMRegressor(learning_rate=0.01, n_estimators=3000, num_leaves=200, verbose=0, max_depth=-1, random_state=42)"
   ],
   "id": "107fae89f426c078",
   "outputs": [],
   "execution_count": 48
  },
  {
   "metadata": {
    "ExecuteTime": {
     "end_time": "2024-08-02T20:58:41.783260Z",
     "start_time": "2024-08-02T20:57:04.697053Z"
    }
   },
   "cell_type": "code",
   "source": [
    "final_model_lgbm.fit(X_train_scaled, y_train)\n",
    "y_pred_gbm = final_model_lgbm.predict(X_test_scaled)\n",
    "ytrai_gbm = final_model_lgbm.predict(X_train_scaled)\n",
    "\n",
    "# Evaluate Light GBM\n",
    "lgbmr2 = r2_score(y_test, y_pred_gbm)\n",
    "lgbmmse = mean_squared_error(y_test, y_pred_gbm)\n",
    "\n",
    "# Evaluate Light GBM\n",
    "lgbmr2t = r2_score(y_train, ytrai_gbm)\n",
    "lgbmmset = mean_squared_error(y_train, ytrai_gbm)\n",
    "\n",
    "# Calculating and printing the evaluation metrices values\n",
    "print(f'Light GBM Fitting:')\n",
    "print(f'R2 Score: {lgbmr2}')\n",
    "print(f'MSE: {lgbmmse}')\n",
    "\n",
    "print (lgbmr2t)\n",
    "print (lgbmmset)"
   ],
   "id": "f2941cbcf1f736e5",
   "outputs": [
    {
     "name": "stdout",
     "output_type": "stream",
     "text": [
      "Light GBM Fitting:\n",
      "R2 Score: 0.7580863089986347\n",
      "MSE: 0.11987271183983975\n",
      "0.9780210518104636\n",
      "0.010893673920724135\n"
     ]
    }
   ],
   "execution_count": 49
  },
  {
   "metadata": {
    "ExecuteTime": {
     "end_time": "2024-08-02T20:58:42.082479Z",
     "start_time": "2024-08-02T20:58:41.787620Z"
    }
   },
   "cell_type": "code",
   "source": [
    "# Plot feature importance\n",
    "top = 35\n",
    "feature_importance = final_model_lgbm.feature_importances_\n",
    "# make importances relative to max importance\n",
    "feature_importance = 100.0 * (feature_importance / feature_importance.max())\n",
    "\n",
    "sorted_idx = np.argsort(feature_importance)\n",
    "pos = np.arange(sorted_idx.shape[0]) + .5\n",
    "plt.figure(figsize = (10,10))\n",
    "plt.barh(pos[-top:], feature_importance[sorted_idx][-top:], align='center')\n",
    "plt.yticks(pos[-top:], X_train.columns[sorted_idx][-top:])\n",
    "plt.xlabel('Relative Importance')\n",
    "plt.title('Variable Importance')\n",
    "plt.show()"
   ],
   "id": "fbbfe49b75c4f908",
   "outputs": [
    {
     "data": {
      "text/plain": [
       "<Figure size 1000x1000 with 1 Axes>"
      ],
      "image/png": "[encoded data removed]"
     },
     "metadata": {},
     "output_type": "display_data"
    }
   ],
   "execution_count": 50
  },
  {
   "metadata": {
    "ExecuteTime": {
     "end_time": "2024-08-02T22:18:17.255577Z",
     "start_time": "2024-08-02T22:18:17.217770Z"
    }
   },
   "cell_type": "code",
   "source": "X_train.head()",
   "id": "cc088983ab4689cb",
   "outputs": [
    {
     "data": {
      "text/plain": [
       "       host_response_rate  host_acceptance_rate  host_is_superhost  \\\n",
       "45298               100.0                 100.0              False   \n",
       "15387               100.0                  98.0              False   \n",
       "27145               100.0                 100.0              False   \n",
       "4932                100.0                 100.0               True   \n",
       "280                 100.0                  96.0               True   \n",
       "\n",
       "       host_has_profile_pic  host_identity_verified   latitude   longitude  \\\n",
       "45298                  True                    True  48.564880 -123.452100   \n",
       "15387                  True                    True  46.816720  -71.220840   \n",
       "27145                  True                    True  43.815680  -79.311180   \n",
       "4932                   True                    True  45.534105  -73.595753   \n",
       "280                    True                    True  45.555629  -73.588936   \n",
       "\n",
       "       accommodates  bathrooms  bedrooms  ...  grill_amenity  \\\n",
       "45298             2        1.0       1.0  ...          False   \n",
       "15387             4        1.0       2.0  ...          False   \n",
       "27145             2        1.5       1.0  ...          False   \n",
       "4932              6        1.0       3.0  ...          False   \n",
       "280               6        1.0       2.0  ...          False   \n",
       "\n",
       "       Mosquito net_amenity  title_compound  title_negativity  \\\n",
       "45298                 False          0.0000               0.0   \n",
       "15387                 False          0.0000               0.0   \n",
       "27145                 False          0.0000               0.0   \n",
       "4932                  False          0.0000               0.0   \n",
       "280                   False          0.2732               0.0   \n",
       "\n",
       "       title_neutrality  title_positivity  description_compound  \\\n",
       "45298             1.000             0.000                0.9042   \n",
       "15387             1.000             0.000                0.7569   \n",
       "27145             1.000             0.000                0.9684   \n",
       "4932              1.000             0.000                0.8658   \n",
       "280               0.769             0.231                0.9634   \n",
       "\n",
       "       description_negativity  description_neutrality  description_positivity  \n",
       "45298                     0.0                   0.865                   0.135  \n",
       "15387                     0.0                   0.919                   0.081  \n",
       "27145                     0.0                   0.622                   0.378  \n",
       "4932                      0.0                   0.863                   0.137  \n",
       "280                       0.0                   0.738                   0.262  \n",
       "\n",
       "[5 rows x 206 columns]"
      ],
      "text/html": [
       "<div>\n",
       "<style scoped>\n",
       "    .dataframe tbody tr th:only-of-type {\n",
       "        vertical-align: middle;\n",
       "    }\n",
       "\n",
       "    .dataframe tbody tr th {\n",
       "        vertical-align: top;\n",
       "    }\n",
       "\n",
       "    .dataframe thead th {\n",
       "        text-align: right;\n",
       "    }\n",
       "</style>\n",
       "<table border=\"1\" class=\"dataframe\">\n",
       "  <thead>\n",
       "    <tr style=\"text-align: right;\">\n",
       "      <th></th>\n",
       "      <th>host_response_rate</th>\n",
       "      <th>host_acceptance_rate</th>\n",
       "      <th>host_is_superhost</th>\n",
       "      <th>host_has_profile_pic</th>\n",
       "      <th>host_identity_verified</th>\n",
       "      <th>latitude</th>\n",
       "      <th>longitude</th>\n",
       "      <th>accommodates</th>\n",
       "      <th>bathrooms</th>\n",
       "      <th>bedrooms</th>\n",
       "      <th>...</th>\n",
       "      <th>grill_amenity</th>\n",
       "      <th>Mosquito net_amenity</th>\n",
       "      <th>title_compound</th>\n",
       "      <th>title_negativity</th>\n",
       "      <th>title_neutrality</th>\n",
       "      <th>title_positivity</th>\n",
       "      <th>description_compound</th>\n",
       "      <th>description_negativity</th>\n",
       "      <th>description_neutrality</th>\n",
       "      <th>description_positivity</th>\n",
       "    </tr>\n",
       "  </thead>\n",
       "  <tbody>\n",
       "    <tr>\n",
       "      <th>45298</th>\n",
       "      <td>100.0</td>\n",
       "      <td>100.0</td>\n",
       "      <td>False</td>\n",
       "      <td>True</td>\n",
       "      <td>True</td>\n",
       "      <td>48.564880</td>\n",
       "      <td>-123.452100</td>\n",
       "      <td>2</td>\n",
       "      <td>1.0</td>\n",
       "      <td>1.0</td>\n",
       "      <td>...</td>\n",
       "      <td>False</td>\n",
       "      <td>False</td>\n",
       "      <td>0.0000</td>\n",
       "      <td>0.0</td>\n",
       "      <td>1.000</td>\n",
       "      <td>0.000</td>\n",
       "      <td>0.9042</td>\n",
       "      <td>0.0</td>\n",
       "      <td>0.865</td>\n",
       "      <td>0.135</td>\n",
       "    </tr>\n",
       "    <tr>\n",
       "      <th>15387</th>\n",
       "      <td>100.0</td>\n",
       "      <td>98.0</td>\n",
       "      <td>False</td>\n",
       "      <td>True</td>\n",
       "      <td>True</td>\n",
       "      <td>46.816720</td>\n",
       "      <td>-71.220840</td>\n",
       "      <td>4</td>\n",
       "      <td>1.0</td>\n",
       "      <td>2.0</td>\n",
       "      <td>...</td>\n",
       "      <td>False</td>\n",
       "      <td>False</td>\n",
       "      <td>0.0000</td>\n",
       "      <td>0.0</td>\n",
       "      <td>1.000</td>\n",
       "      <td>0.000</td>\n",
       "      <td>0.7569</td>\n",
       "      <td>0.0</td>\n",
       "      <td>0.919</td>\n",
       "      <td>0.081</td>\n",
       "    </tr>\n",
       "    <tr>\n",
       "      <th>27145</th>\n",
       "      <td>100.0</td>\n",
       "      <td>100.0</td>\n",
       "      <td>False</td>\n",
       "      <td>True</td>\n",
       "      <td>True</td>\n",
       "      <td>43.815680</td>\n",
       "      <td>-79.311180</td>\n",
       "      <td>2</td>\n",
       "      <td>1.5</td>\n",
       "      <td>1.0</td>\n",
       "      <td>...</td>\n",
       "      <td>False</td>\n",
       "      <td>False</td>\n",
       "      <td>0.0000</td>\n",
       "      <td>0.0</td>\n",
       "      <td>1.000</td>\n",
       "      <td>0.000</td>\n",
       "      <td>0.9684</td>\n",
       "      <td>0.0</td>\n",
       "      <td>0.622</td>\n",
       "      <td>0.378</td>\n",
       "    </tr>\n",
       "    <tr>\n",
       "      <th>4932</th>\n",
       "      <td>100.0</td>\n",
       "      <td>100.0</td>\n",
       "      <td>True</td>\n",
       "      <td>True</td>\n",
       "      <td>True</td>\n",
       "      <td>45.534105</td>\n",
       "      <td>-73.595753</td>\n",
       "      <td>6</td>\n",
       "      <td>1.0</td>\n",
       "      <td>3.0</td>\n",
       "      <td>...</td>\n",
       "      <td>False</td>\n",
       "      <td>False</td>\n",
       "      <td>0.0000</td>\n",
       "      <td>0.0</td>\n",
       "      <td>1.000</td>\n",
       "      <td>0.000</td>\n",
       "      <td>0.8658</td>\n",
       "      <td>0.0</td>\n",
       "      <td>0.863</td>\n",
       "      <td>0.137</td>\n",
       "    </tr>\n",
       "    <tr>\n",
       "      <th>280</th>\n",
       "      <td>100.0</td>\n",
       "      <td>96.0</td>\n",
       "      <td>True</td>\n",
       "      <td>True</td>\n",
       "      <td>True</td>\n",
       "      <td>45.555629</td>\n",
       "      <td>-73.588936</td>\n",
       "      <td>6</td>\n",
       "      <td>1.0</td>\n",
       "      <td>2.0</td>\n",
       "      <td>...</td>\n",
       "      <td>False</td>\n",
       "      <td>False</td>\n",
       "      <td>0.2732</td>\n",
       "      <td>0.0</td>\n",
       "      <td>0.769</td>\n",
       "      <td>0.231</td>\n",
       "      <td>0.9634</td>\n",
       "      <td>0.0</td>\n",
       "      <td>0.738</td>\n",
       "      <td>0.262</td>\n",
       "    </tr>\n",
       "  </tbody>\n",
       "</table>\n",
       "<p>5 rows × 206 columns</p>\n",
       "</div>"
      ]
     },
     "execution_count": 57,
     "metadata": {},
     "output_type": "execute_result"
    }
   ],
   "execution_count": 57
  },
  {
   "metadata": {},
   "cell_type": "markdown",
   "source": "Drop additional useless features",
   "id": "fef422b5b8dfe755"
  },
  {
   "metadata": {},
   "cell_type": "markdown",
   "source": "iter 3",
   "id": "ad65a7c3a667c0a8"
  },
  {
   "metadata": {
    "ExecuteTime": {
     "end_time": "2024-08-02T22:46:20.472559Z",
     "start_time": "2024-08-02T22:46:20.467731Z"
    }
   },
   "cell_type": "code",
   "source": [
    "useless_features = [\n",
    "    'latitude', 'longitude', 'maximum_nights', 'availability_60', 'availability_60', 'availability_90', 'availability_365', 'description_positivity', 'description_neutrality', 'description_negativity', 'title_positivity', 'title_neutrality', 'title_negativity'\n",
    "]"
   ],
   "id": "306aceea0a68753",
   "outputs": [],
   "execution_count": 63
  },
  {
   "metadata": {
    "ExecuteTime": {
     "end_time": "2024-08-02T22:46:21.398723Z",
     "start_time": "2024-08-02T22:46:21.386487Z"
    }
   },
   "cell_type": "code",
   "source": [
    "# Drop features with 0 importance from X_train and X_valid\n",
    "X_train_reduced = X_train.drop(columns=useless_features)\n",
    "X_test_reduced = X_test.drop(columns=useless_features)"
   ],
   "id": "61b0e1de4a3e9383",
   "outputs": [],
   "execution_count": 64
  },
  {
   "metadata": {
    "ExecuteTime": {
     "end_time": "2024-08-02T22:46:23.200270Z",
     "start_time": "2024-08-02T22:46:23.196673Z"
    }
   },
   "cell_type": "code",
   "source": "X_train_reduced.shape, X_test_reduced.shape",
   "id": "b07f10fbbcef6b6f",
   "outputs": [
    {
     "data": {
      "text/plain": [
       "((33288, 194), (8284, 194))"
      ]
     },
     "execution_count": 65,
     "metadata": {},
     "output_type": "execute_result"
    }
   ],
   "execution_count": 65
  },
  {
   "metadata": {
    "ExecuteTime": {
     "end_time": "2024-08-02T22:46:24.782294Z",
     "start_time": "2024-08-02T22:46:24.769772Z"
    }
   },
   "cell_type": "code",
   "source": "X_train.head()",
   "id": "5daedf387cf1d5a0",
   "outputs": [
    {
     "data": {
      "text/plain": [
       "       host_response_rate  host_acceptance_rate  host_is_superhost  \\\n",
       "45298               100.0                 100.0              False   \n",
       "15387               100.0                  98.0              False   \n",
       "27145               100.0                 100.0              False   \n",
       "4932                100.0                 100.0               True   \n",
       "280                 100.0                  96.0               True   \n",
       "\n",
       "       host_has_profile_pic  host_identity_verified   latitude   longitude  \\\n",
       "45298                  True                    True  48.564880 -123.452100   \n",
       "15387                  True                    True  46.816720  -71.220840   \n",
       "27145                  True                    True  43.815680  -79.311180   \n",
       "4932                   True                    True  45.534105  -73.595753   \n",
       "280                    True                    True  45.555629  -73.588936   \n",
       "\n",
       "       accommodates  bathrooms  bedrooms  ...  grill_amenity  \\\n",
       "45298             2        1.0       1.0  ...          False   \n",
       "15387             4        1.0       2.0  ...          False   \n",
       "27145             2        1.5       1.0  ...          False   \n",
       "4932              6        1.0       3.0  ...          False   \n",
       "280               6        1.0       2.0  ...          False   \n",
       "\n",
       "       Mosquito net_amenity  title_compound  title_negativity  \\\n",
       "45298                 False          0.0000               0.0   \n",
       "15387                 False          0.0000               0.0   \n",
       "27145                 False          0.0000               0.0   \n",
       "4932                  False          0.0000               0.0   \n",
       "280                   False          0.2732               0.0   \n",
       "\n",
       "       title_neutrality  title_positivity  description_compound  \\\n",
       "45298             1.000             0.000                0.9042   \n",
       "15387             1.000             0.000                0.7569   \n",
       "27145             1.000             0.000                0.9684   \n",
       "4932              1.000             0.000                0.8658   \n",
       "280               0.769             0.231                0.9634   \n",
       "\n",
       "       description_negativity  description_neutrality  description_positivity  \n",
       "45298                     0.0                   0.865                   0.135  \n",
       "15387                     0.0                   0.919                   0.081  \n",
       "27145                     0.0                   0.622                   0.378  \n",
       "4932                      0.0                   0.863                   0.137  \n",
       "280                       0.0                   0.738                   0.262  \n",
       "\n",
       "[5 rows x 206 columns]"
      ],
      "text/html": [
       "<div>\n",
       "<style scoped>\n",
       "    .dataframe tbody tr th:only-of-type {\n",
       "        vertical-align: middle;\n",
       "    }\n",
       "\n",
       "    .dataframe tbody tr th {\n",
       "        vertical-align: top;\n",
       "    }\n",
       "\n",
       "    .dataframe thead th {\n",
       "        text-align: right;\n",
       "    }\n",
       "</style>\n",
       "<table border=\"1\" class=\"dataframe\">\n",
       "  <thead>\n",
       "    <tr style=\"text-align: right;\">\n",
       "      <th></th>\n",
       "      <th>host_response_rate</th>\n",
       "      <th>host_acceptance_rate</th>\n",
       "      <th>host_is_superhost</th>\n",
       "      <th>host_has_profile_pic</th>\n",
       "      <th>host_identity_verified</th>\n",
       "      <th>latitude</th>\n",
       "      <th>longitude</th>\n",
       "      <th>accommodates</th>\n",
       "      <th>bathrooms</th>\n",
       "      <th>bedrooms</th>\n",
       "      <th>...</th>\n",
       "      <th>grill_amenity</th>\n",
       "      <th>Mosquito net_amenity</th>\n",
       "      <th>title_compound</th>\n",
       "      <th>title_negativity</th>\n",
       "      <th>title_neutrality</th>\n",
       "      <th>title_positivity</th>\n",
       "      <th>description_compound</th>\n",
       "      <th>description_negativity</th>\n",
       "      <th>description_neutrality</th>\n",
       "      <th>description_positivity</th>\n",
       "    </tr>\n",
       "  </thead>\n",
       "  <tbody>\n",
       "    <tr>\n",
       "      <th>45298</th>\n",
       "      <td>100.0</td>\n",
       "      <td>100.0</td>\n",
       "      <td>False</td>\n",
       "      <td>True</td>\n",
       "      <td>True</td>\n",
       "      <td>48.564880</td>\n",
       "      <td>-123.452100</td>\n",
       "      <td>2</td>\n",
       "      <td>1.0</td>\n",
       "      <td>1.0</td>\n",
       "      <td>...</td>\n",
       "      <td>False</td>\n",
       "      <td>False</td>\n",
       "      <td>0.0000</td>\n",
       "      <td>0.0</td>\n",
       "      <td>1.000</td>\n",
       "      <td>0.000</td>\n",
       "      <td>0.9042</td>\n",
       "      <td>0.0</td>\n",
       "      <td>0.865</td>\n",
       "      <td>0.135</td>\n",
       "    </tr>\n",
       "    <tr>\n",
       "      <th>15387</th>\n",
       "      <td>100.0</td>\n",
       "      <td>98.0</td>\n",
       "      <td>False</td>\n",
       "      <td>True</td>\n",
       "      <td>True</td>\n",
       "      <td>46.816720</td>\n",
       "      <td>-71.220840</td>\n",
       "      <td>4</td>\n",
       "      <td>1.0</td>\n",
       "      <td>2.0</td>\n",
       "      <td>...</td>\n",
       "      <td>False</td>\n",
       "      <td>False</td>\n",
       "      <td>0.0000</td>\n",
       "      <td>0.0</td>\n",
       "      <td>1.000</td>\n",
       "      <td>0.000</td>\n",
       "      <td>0.7569</td>\n",
       "      <td>0.0</td>\n",
       "      <td>0.919</td>\n",
       "      <td>0.081</td>\n",
       "    </tr>\n",
       "    <tr>\n",
       "      <th>27145</th>\n",
       "      <td>100.0</td>\n",
       "      <td>100.0</td>\n",
       "      <td>False</td>\n",
       "      <td>True</td>\n",
       "      <td>True</td>\n",
       "      <td>43.815680</td>\n",
       "      <td>-79.311180</td>\n",
       "      <td>2</td>\n",
       "      <td>1.5</td>\n",
       "      <td>1.0</td>\n",
       "      <td>...</td>\n",
       "      <td>False</td>\n",
       "      <td>False</td>\n",
       "      <td>0.0000</td>\n",
       "      <td>0.0</td>\n",
       "      <td>1.000</td>\n",
       "      <td>0.000</td>\n",
       "      <td>0.9684</td>\n",
       "      <td>0.0</td>\n",
       "      <td>0.622</td>\n",
       "      <td>0.378</td>\n",
       "    </tr>\n",
       "    <tr>\n",
       "      <th>4932</th>\n",
       "      <td>100.0</td>\n",
       "      <td>100.0</td>\n",
       "      <td>True</td>\n",
       "      <td>True</td>\n",
       "      <td>True</td>\n",
       "      <td>45.534105</td>\n",
       "      <td>-73.595753</td>\n",
       "      <td>6</td>\n",
       "      <td>1.0</td>\n",
       "      <td>3.0</td>\n",
       "      <td>...</td>\n",
       "      <td>False</td>\n",
       "      <td>False</td>\n",
       "      <td>0.0000</td>\n",
       "      <td>0.0</td>\n",
       "      <td>1.000</td>\n",
       "      <td>0.000</td>\n",
       "      <td>0.8658</td>\n",
       "      <td>0.0</td>\n",
       "      <td>0.863</td>\n",
       "      <td>0.137</td>\n",
       "    </tr>\n",
       "    <tr>\n",
       "      <th>280</th>\n",
       "      <td>100.0</td>\n",
       "      <td>96.0</td>\n",
       "      <td>True</td>\n",
       "      <td>True</td>\n",
       "      <td>True</td>\n",
       "      <td>45.555629</td>\n",
       "      <td>-73.588936</td>\n",
       "      <td>6</td>\n",
       "      <td>1.0</td>\n",
       "      <td>2.0</td>\n",
       "      <td>...</td>\n",
       "      <td>False</td>\n",
       "      <td>False</td>\n",
       "      <td>0.2732</td>\n",
       "      <td>0.0</td>\n",
       "      <td>0.769</td>\n",
       "      <td>0.231</td>\n",
       "      <td>0.9634</td>\n",
       "      <td>0.0</td>\n",
       "      <td>0.738</td>\n",
       "      <td>0.262</td>\n",
       "    </tr>\n",
       "  </tbody>\n",
       "</table>\n",
       "<p>5 rows × 206 columns</p>\n",
       "</div>"
      ]
     },
     "execution_count": 66,
     "metadata": {},
     "output_type": "execute_result"
    }
   ],
   "execution_count": 66
  },
  {
   "metadata": {
    "ExecuteTime": {
     "end_time": "2024-08-02T22:47:39.812906Z",
     "start_time": "2024-08-02T22:46:25.993613Z"
    }
   },
   "cell_type": "code",
   "source": [
    "final_model_lgbm.fit(X_train_reduced, y_train)\n",
    "y_pred_gbm = final_model_lgbm.predict(X_test_reduced)\n",
    "ytrai_gbm = final_model_lgbm.predict(X_train_reduced)\n",
    "\n",
    "# Evaluate Light GBM\n",
    "lgbmr2 = r2_score(y_test, y_pred_gbm)\n",
    "lgbmmse = mean_squared_error(y_test, y_pred_gbm)\n",
    "\n",
    "# Evaluate Light GBM\n",
    "lgbmr2t = r2_score(y_train, ytrai_gbm)\n",
    "lgbmmset = mean_squared_error(y_train, ytrai_gbm)\n",
    "\n",
    "# Calculating and printing the evaluation metrices values\n",
    "print(f'Light GBM Fitting:')\n",
    "print(f'R2 Score: {lgbmr2}')\n",
    "print(f'MSE: {lgbmmse}')\n",
    "\n",
    "print (lgbmr2t)\n",
    "print (lgbmmset)"
   ],
   "id": "d6d85b98fca8d72a",
   "outputs": [
    {
     "name": "stdout",
     "output_type": "stream",
     "text": [
      "[LightGBM] [Warning] Found whitespace in feature_names, replace with underlines\n",
      "Light GBM Fitting:\n",
      "R2 Score: 0.7529242506960783\n",
      "MSE: 0.1224306072811495\n",
      "0.9697781642787171\n",
      "0.014979189212979973\n"
     ]
    }
   ],
   "execution_count": 67
  },
  {
   "metadata": {},
   "cell_type": "code",
   "source": [
    "# # Reduce overfitting\n",
    "# model_lgbm = lgb.LGBMRegressor(learning_rate=0.01, n_estimators=3000, num_leaves=100, min_data_in_leaf=1000, verbose=0, max_depth=10, random_state=42)\n",
    "# \n",
    "# model_lgbm.fit(X_train_scaled, y_train)\n",
    "# y_pred_gbm2 = model_lgbm.predict(X_test_scaled)\n",
    "# ytrai_gbm2 = model_lgbm.predict(X_train_scaled)\n",
    "# \n",
    "# # Evaluate Light GBM\n",
    "# lgbm2r2 = r2_score(y_test, y_pred_gbm2)\n",
    "# lgbm2mse = mean_squared_error(y_test, y_pred_gbm2)\n",
    "# \n",
    "# # Evaluate Light GBM\n",
    "# lgbm2r2t = r2_score(y_train, ytrai_gbm2)\n",
    "# lgbm2mset = mean_squared_error(y_train, ytrai_gbm2)\n",
    "# \n",
    "# # Calculating and printing the evaluation metrices values\n",
    "# print(f'Light GBM Test Fitting:')\n",
    "# print(f'R2 Score: {lgbm2r2}')\n",
    "# print(f'MSE: {lgbm2mse}')\n",
    "# \n",
    "# print(f'Light GBM Traing Fitting:')\n",
    "# print(f'R2 Score: {lgbm2r2t}')\n",
    "# print(f'MSE: {lgbm2mset}')"
   ],
   "id": "883da0cbeb309e44",
   "outputs": [],
   "execution_count": null
  }
 ],
 "metadata": {
  "kernelspec": {
   "display_name": "Python 3",
   "language": "python",
   "name": "python3"
  },
  "language_info": {
   "codemirror_mode": {
    "name": "ipython",
    "version": 2
   },
   "file_extension": ".py",
   "mimetype": "text/x-python",
   "name": "python",
   "nbconvert_exporter": "python",
   "pygments_lexer": "ipython2",
   "version": "2.7.6"
  }
 },
 "nbformat": 4,
 "nbformat_minor": 5
}
